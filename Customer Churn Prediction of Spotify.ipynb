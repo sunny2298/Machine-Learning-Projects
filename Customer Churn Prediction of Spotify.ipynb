{
  "cells": [
    {
      "cell_type": "markdown",
      "source": [
        "#Data Exploration and Visualisation"
      ],
      "metadata": {
        "id": "wdQ7wy47B7Ih"
      }
    },
    {
      "cell_type": "markdown",
      "metadata": {
        "id": "4AnMUeLNVStK"
      },
      "source": [
        "Load the data as a dataframe\n"
      ]
    },
    {
      "cell_type": "code",
      "execution_count": 3,
      "metadata": {
        "id": "ptsTQDQlL7tB"
      },
      "outputs": [],
      "source": [
        "import numpy as np\n",
        "import pandas as pd\n",
        "import matplotlib.pyplot as plt\n",
        "%matplotlib inline\n",
        "import seaborn as sns"
      ]
    },
    {
      "cell_type": "code",
      "execution_count": 4,
      "metadata": {
        "colab": {
          "base_uri": "https://localhost:8080/",
          "height": 386
        },
        "id": "qk6sisfQUUaj",
        "outputId": "ae89eda5-5118-415a-f4f1-7b54203dad97"
      },
      "outputs": [
        {
          "output_type": "execute_result",
          "data": {
            "text/plain": [
              "   customerID  gender  SeniorCitizen Partner Dependents  tenure PhoneService  \\\n",
              "0  7590-VHVEG  Female              0     Yes         No       1           No   \n",
              "1  5575-GNVDE    Male              0      No         No      34          Yes   \n",
              "2  3668-QPYBK    Male              0      No         No       2          Yes   \n",
              "3  7795-CFOCW    Male              0      No         No      45           No   \n",
              "4  9237-HQITU  Female              0      No         No       2          Yes   \n",
              "\n",
              "      MultipleLines InternetService OnlineSecurity  ... DeviceProtection  \\\n",
              "0  No phone service             DSL             No  ...               No   \n",
              "1                No             DSL            Yes  ...              Yes   \n",
              "2                No             DSL            Yes  ...               No   \n",
              "3  No phone service             DSL            Yes  ...              Yes   \n",
              "4                No     Fiber optic             No  ...               No   \n",
              "\n",
              "  TechSupport StreamingTV StreamingMovies        Contract PaperlessBilling  \\\n",
              "0          No          No              No  Month-to-month              Yes   \n",
              "1          No          No              No        One year               No   \n",
              "2          No          No              No  Month-to-month              Yes   \n",
              "3         Yes          No              No        One year               No   \n",
              "4          No          No              No  Month-to-month              Yes   \n",
              "\n",
              "               PaymentMethod MonthlyCharges  TotalCharges Churn  \n",
              "0           Electronic check          29.85         29.85    No  \n",
              "1               Mailed check          56.95        1889.5    No  \n",
              "2               Mailed check          53.85        108.15   Yes  \n",
              "3  Bank transfer (automatic)          42.30       1840.75    No  \n",
              "4           Electronic check          70.70        151.65   Yes  \n",
              "\n",
              "[5 rows x 21 columns]"
            ],
            "text/html": [
              "\n",
              "  <div id=\"df-7efea414-56de-478e-8900-a1b11ed39852\">\n",
              "    <div class=\"colab-df-container\">\n",
              "      <div>\n",
              "<style scoped>\n",
              "    .dataframe tbody tr th:only-of-type {\n",
              "        vertical-align: middle;\n",
              "    }\n",
              "\n",
              "    .dataframe tbody tr th {\n",
              "        vertical-align: top;\n",
              "    }\n",
              "\n",
              "    .dataframe thead th {\n",
              "        text-align: right;\n",
              "    }\n",
              "</style>\n",
              "<table border=\"1\" class=\"dataframe\">\n",
              "  <thead>\n",
              "    <tr style=\"text-align: right;\">\n",
              "      <th></th>\n",
              "      <th>customerID</th>\n",
              "      <th>gender</th>\n",
              "      <th>SeniorCitizen</th>\n",
              "      <th>Partner</th>\n",
              "      <th>Dependents</th>\n",
              "      <th>tenure</th>\n",
              "      <th>PhoneService</th>\n",
              "      <th>MultipleLines</th>\n",
              "      <th>InternetService</th>\n",
              "      <th>OnlineSecurity</th>\n",
              "      <th>...</th>\n",
              "      <th>DeviceProtection</th>\n",
              "      <th>TechSupport</th>\n",
              "      <th>StreamingTV</th>\n",
              "      <th>StreamingMovies</th>\n",
              "      <th>Contract</th>\n",
              "      <th>PaperlessBilling</th>\n",
              "      <th>PaymentMethod</th>\n",
              "      <th>MonthlyCharges</th>\n",
              "      <th>TotalCharges</th>\n",
              "      <th>Churn</th>\n",
              "    </tr>\n",
              "  </thead>\n",
              "  <tbody>\n",
              "    <tr>\n",
              "      <th>0</th>\n",
              "      <td>7590-VHVEG</td>\n",
              "      <td>Female</td>\n",
              "      <td>0</td>\n",
              "      <td>Yes</td>\n",
              "      <td>No</td>\n",
              "      <td>1</td>\n",
              "      <td>No</td>\n",
              "      <td>No phone service</td>\n",
              "      <td>DSL</td>\n",
              "      <td>No</td>\n",
              "      <td>...</td>\n",
              "      <td>No</td>\n",
              "      <td>No</td>\n",
              "      <td>No</td>\n",
              "      <td>No</td>\n",
              "      <td>Month-to-month</td>\n",
              "      <td>Yes</td>\n",
              "      <td>Electronic check</td>\n",
              "      <td>29.85</td>\n",
              "      <td>29.85</td>\n",
              "      <td>No</td>\n",
              "    </tr>\n",
              "    <tr>\n",
              "      <th>1</th>\n",
              "      <td>5575-GNVDE</td>\n",
              "      <td>Male</td>\n",
              "      <td>0</td>\n",
              "      <td>No</td>\n",
              "      <td>No</td>\n",
              "      <td>34</td>\n",
              "      <td>Yes</td>\n",
              "      <td>No</td>\n",
              "      <td>DSL</td>\n",
              "      <td>Yes</td>\n",
              "      <td>...</td>\n",
              "      <td>Yes</td>\n",
              "      <td>No</td>\n",
              "      <td>No</td>\n",
              "      <td>No</td>\n",
              "      <td>One year</td>\n",
              "      <td>No</td>\n",
              "      <td>Mailed check</td>\n",
              "      <td>56.95</td>\n",
              "      <td>1889.5</td>\n",
              "      <td>No</td>\n",
              "    </tr>\n",
              "    <tr>\n",
              "      <th>2</th>\n",
              "      <td>3668-QPYBK</td>\n",
              "      <td>Male</td>\n",
              "      <td>0</td>\n",
              "      <td>No</td>\n",
              "      <td>No</td>\n",
              "      <td>2</td>\n",
              "      <td>Yes</td>\n",
              "      <td>No</td>\n",
              "      <td>DSL</td>\n",
              "      <td>Yes</td>\n",
              "      <td>...</td>\n",
              "      <td>No</td>\n",
              "      <td>No</td>\n",
              "      <td>No</td>\n",
              "      <td>No</td>\n",
              "      <td>Month-to-month</td>\n",
              "      <td>Yes</td>\n",
              "      <td>Mailed check</td>\n",
              "      <td>53.85</td>\n",
              "      <td>108.15</td>\n",
              "      <td>Yes</td>\n",
              "    </tr>\n",
              "    <tr>\n",
              "      <th>3</th>\n",
              "      <td>7795-CFOCW</td>\n",
              "      <td>Male</td>\n",
              "      <td>0</td>\n",
              "      <td>No</td>\n",
              "      <td>No</td>\n",
              "      <td>45</td>\n",
              "      <td>No</td>\n",
              "      <td>No phone service</td>\n",
              "      <td>DSL</td>\n",
              "      <td>Yes</td>\n",
              "      <td>...</td>\n",
              "      <td>Yes</td>\n",
              "      <td>Yes</td>\n",
              "      <td>No</td>\n",
              "      <td>No</td>\n",
              "      <td>One year</td>\n",
              "      <td>No</td>\n",
              "      <td>Bank transfer (automatic)</td>\n",
              "      <td>42.30</td>\n",
              "      <td>1840.75</td>\n",
              "      <td>No</td>\n",
              "    </tr>\n",
              "    <tr>\n",
              "      <th>4</th>\n",
              "      <td>9237-HQITU</td>\n",
              "      <td>Female</td>\n",
              "      <td>0</td>\n",
              "      <td>No</td>\n",
              "      <td>No</td>\n",
              "      <td>2</td>\n",
              "      <td>Yes</td>\n",
              "      <td>No</td>\n",
              "      <td>Fiber optic</td>\n",
              "      <td>No</td>\n",
              "      <td>...</td>\n",
              "      <td>No</td>\n",
              "      <td>No</td>\n",
              "      <td>No</td>\n",
              "      <td>No</td>\n",
              "      <td>Month-to-month</td>\n",
              "      <td>Yes</td>\n",
              "      <td>Electronic check</td>\n",
              "      <td>70.70</td>\n",
              "      <td>151.65</td>\n",
              "      <td>Yes</td>\n",
              "    </tr>\n",
              "  </tbody>\n",
              "</table>\n",
              "<p>5 rows × 21 columns</p>\n",
              "</div>\n",
              "      <button class=\"colab-df-convert\" onclick=\"convertToInteractive('df-7efea414-56de-478e-8900-a1b11ed39852')\"\n",
              "              title=\"Convert this dataframe to an interactive table.\"\n",
              "              style=\"display:none;\">\n",
              "        \n",
              "  <svg xmlns=\"http://www.w3.org/2000/svg\" height=\"24px\"viewBox=\"0 0 24 24\"\n",
              "       width=\"24px\">\n",
              "    <path d=\"M0 0h24v24H0V0z\" fill=\"none\"/>\n",
              "    <path d=\"M18.56 5.44l.94 2.06.94-2.06 2.06-.94-2.06-.94-.94-2.06-.94 2.06-2.06.94zm-11 1L8.5 8.5l.94-2.06 2.06-.94-2.06-.94L8.5 2.5l-.94 2.06-2.06.94zm10 10l.94 2.06.94-2.06 2.06-.94-2.06-.94-.94-2.06-.94 2.06-2.06.94z\"/><path d=\"M17.41 7.96l-1.37-1.37c-.4-.4-.92-.59-1.43-.59-.52 0-1.04.2-1.43.59L10.3 9.45l-7.72 7.72c-.78.78-.78 2.05 0 2.83L4 21.41c.39.39.9.59 1.41.59.51 0 1.02-.2 1.41-.59l7.78-7.78 2.81-2.81c.8-.78.8-2.07 0-2.86zM5.41 20L4 18.59l7.72-7.72 1.47 1.35L5.41 20z\"/>\n",
              "  </svg>\n",
              "      </button>\n",
              "      \n",
              "  <style>\n",
              "    .colab-df-container {\n",
              "      display:flex;\n",
              "      flex-wrap:wrap;\n",
              "      gap: 12px;\n",
              "    }\n",
              "\n",
              "    .colab-df-convert {\n",
              "      background-color: #E8F0FE;\n",
              "      border: none;\n",
              "      border-radius: 50%;\n",
              "      cursor: pointer;\n",
              "      display: none;\n",
              "      fill: #1967D2;\n",
              "      height: 32px;\n",
              "      padding: 0 0 0 0;\n",
              "      width: 32px;\n",
              "    }\n",
              "\n",
              "    .colab-df-convert:hover {\n",
              "      background-color: #E2EBFA;\n",
              "      box-shadow: 0px 1px 2px rgba(60, 64, 67, 0.3), 0px 1px 3px 1px rgba(60, 64, 67, 0.15);\n",
              "      fill: #174EA6;\n",
              "    }\n",
              "\n",
              "    [theme=dark] .colab-df-convert {\n",
              "      background-color: #3B4455;\n",
              "      fill: #D2E3FC;\n",
              "    }\n",
              "\n",
              "    [theme=dark] .colab-df-convert:hover {\n",
              "      background-color: #434B5C;\n",
              "      box-shadow: 0px 1px 3px 1px rgba(0, 0, 0, 0.15);\n",
              "      filter: drop-shadow(0px 1px 2px rgba(0, 0, 0, 0.3));\n",
              "      fill: #FFFFFF;\n",
              "    }\n",
              "  </style>\n",
              "\n",
              "      <script>\n",
              "        const buttonEl =\n",
              "          document.querySelector('#df-7efea414-56de-478e-8900-a1b11ed39852 button.colab-df-convert');\n",
              "        buttonEl.style.display =\n",
              "          google.colab.kernel.accessAllowed ? 'block' : 'none';\n",
              "\n",
              "        async function convertToInteractive(key) {\n",
              "          const element = document.querySelector('#df-7efea414-56de-478e-8900-a1b11ed39852');\n",
              "          const dataTable =\n",
              "            await google.colab.kernel.invokeFunction('convertToInteractive',\n",
              "                                                     [key], {});\n",
              "          if (!dataTable) return;\n",
              "\n",
              "          const docLinkHtml = 'Like what you see? Visit the ' +\n",
              "            '<a target=\"_blank\" href=https://colab.research.google.com/notebooks/data_table.ipynb>data table notebook</a>'\n",
              "            + ' to learn more about interactive tables.';\n",
              "          element.innerHTML = '';\n",
              "          dataTable['output_type'] = 'display_data';\n",
              "          await google.colab.output.renderOutput(dataTable, element);\n",
              "          const docLink = document.createElement('div');\n",
              "          docLink.innerHTML = docLinkHtml;\n",
              "          element.appendChild(docLink);\n",
              "        }\n",
              "      </script>\n",
              "    </div>\n",
              "  </div>\n",
              "  "
            ]
          },
          "metadata": {},
          "execution_count": 4
        }
      ],
      "source": [
        "import pandas as pd\n",
        "df = pd.read_csv('data.csv')\n",
        "df.head()"
      ]
    },
    {
      "cell_type": "markdown",
      "metadata": {
        "id": "5j4hW5vmVeol"
      },
      "source": [
        "Shape of the dataset \n"
      ]
    },
    {
      "cell_type": "code",
      "execution_count": 5,
      "metadata": {
        "colab": {
          "base_uri": "https://localhost:8080/"
        },
        "id": "xbA36C3RUZeK",
        "outputId": "dec24ecf-e408-4b9a-8d28-e03033a01eca"
      },
      "outputs": [
        {
          "output_type": "stream",
          "name": "stdout",
          "text": [
            "shape of the data (7043, 21)\n"
          ]
        }
      ],
      "source": [
        "#Shape of the dataset\n",
        "print(\"shape of the data\",df.shape)\n",
        "#The dataset has 7043 instances with 20 features each and an output(churn) column"
      ]
    },
    {
      "cell_type": "markdown",
      "metadata": {
        "id": "3-8p_DI1VvBv"
      },
      "source": [
        "Type of the dataset attributes and null values\n",
        "\n"
      ]
    },
    {
      "cell_type": "code",
      "execution_count": 6,
      "metadata": {
        "colab": {
          "base_uri": "https://localhost:8080/"
        },
        "id": "HCTPoDBqVy9o",
        "outputId": "348e7710-66f3-4dc4-d6af-6a3f96e28d37"
      },
      "outputs": [
        {
          "output_type": "stream",
          "name": "stdout",
          "text": [
            "<class 'pandas.core.frame.DataFrame'>\n",
            "RangeIndex: 7043 entries, 0 to 7042\n",
            "Data columns (total 21 columns):\n",
            " #   Column            Non-Null Count  Dtype  \n",
            "---  ------            --------------  -----  \n",
            " 0   customerID        7043 non-null   object \n",
            " 1   gender            7043 non-null   object \n",
            " 2   SeniorCitizen     7043 non-null   int64  \n",
            " 3   Partner           7043 non-null   object \n",
            " 4   Dependents        7043 non-null   object \n",
            " 5   tenure            7043 non-null   int64  \n",
            " 6   PhoneService      7043 non-null   object \n",
            " 7   MultipleLines     7043 non-null   object \n",
            " 8   InternetService   7043 non-null   object \n",
            " 9   OnlineSecurity    7043 non-null   object \n",
            " 10  OnlineBackup      7043 non-null   object \n",
            " 11  DeviceProtection  7043 non-null   object \n",
            " 12  TechSupport       7043 non-null   object \n",
            " 13  StreamingTV       7043 non-null   object \n",
            " 14  StreamingMovies   7043 non-null   object \n",
            " 15  Contract          7043 non-null   object \n",
            " 16  PaperlessBilling  7043 non-null   object \n",
            " 17  PaymentMethod     7043 non-null   object \n",
            " 18  MonthlyCharges    7043 non-null   float64\n",
            " 19  TotalCharges      7043 non-null   object \n",
            " 20  Churn             7043 non-null   object \n",
            "dtypes: float64(1), int64(2), object(18)\n",
            "memory usage: 1.1+ MB\n",
            "None\n"
          ]
        }
      ],
      "source": [
        "print(df.info()) # 20 features in the dataset"
      ]
    },
    {
      "cell_type": "markdown",
      "metadata": {
        "id": "_FYSi00uWkh7"
      },
      "source": [
        "Summary of descriptive statistics"
      ]
    },
    {
      "cell_type": "code",
      "execution_count": 7,
      "metadata": {
        "colab": {
          "base_uri": "https://localhost:8080/",
          "height": 300
        },
        "id": "Uriyhi5tWf1K",
        "outputId": "e35ca9c9-f1de-4a3d-8b45-f95e90651117"
      },
      "outputs": [
        {
          "output_type": "execute_result",
          "data": {
            "text/plain": [
              "       SeniorCitizen       tenure  MonthlyCharges\n",
              "count    7043.000000  7043.000000     7043.000000\n",
              "mean        0.162147    32.371149       64.761692\n",
              "std         0.368612    24.559481       30.090047\n",
              "min         0.000000     0.000000       18.250000\n",
              "25%         0.000000     9.000000       35.500000\n",
              "50%         0.000000    29.000000       70.350000\n",
              "75%         0.000000    55.000000       89.850000\n",
              "max         1.000000    72.000000      118.750000"
            ],
            "text/html": [
              "\n",
              "  <div id=\"df-68b26109-3f8b-42fb-83cd-28a307c427ab\">\n",
              "    <div class=\"colab-df-container\">\n",
              "      <div>\n",
              "<style scoped>\n",
              "    .dataframe tbody tr th:only-of-type {\n",
              "        vertical-align: middle;\n",
              "    }\n",
              "\n",
              "    .dataframe tbody tr th {\n",
              "        vertical-align: top;\n",
              "    }\n",
              "\n",
              "    .dataframe thead th {\n",
              "        text-align: right;\n",
              "    }\n",
              "</style>\n",
              "<table border=\"1\" class=\"dataframe\">\n",
              "  <thead>\n",
              "    <tr style=\"text-align: right;\">\n",
              "      <th></th>\n",
              "      <th>SeniorCitizen</th>\n",
              "      <th>tenure</th>\n",
              "      <th>MonthlyCharges</th>\n",
              "    </tr>\n",
              "  </thead>\n",
              "  <tbody>\n",
              "    <tr>\n",
              "      <th>count</th>\n",
              "      <td>7043.000000</td>\n",
              "      <td>7043.000000</td>\n",
              "      <td>7043.000000</td>\n",
              "    </tr>\n",
              "    <tr>\n",
              "      <th>mean</th>\n",
              "      <td>0.162147</td>\n",
              "      <td>32.371149</td>\n",
              "      <td>64.761692</td>\n",
              "    </tr>\n",
              "    <tr>\n",
              "      <th>std</th>\n",
              "      <td>0.368612</td>\n",
              "      <td>24.559481</td>\n",
              "      <td>30.090047</td>\n",
              "    </tr>\n",
              "    <tr>\n",
              "      <th>min</th>\n",
              "      <td>0.000000</td>\n",
              "      <td>0.000000</td>\n",
              "      <td>18.250000</td>\n",
              "    </tr>\n",
              "    <tr>\n",
              "      <th>25%</th>\n",
              "      <td>0.000000</td>\n",
              "      <td>9.000000</td>\n",
              "      <td>35.500000</td>\n",
              "    </tr>\n",
              "    <tr>\n",
              "      <th>50%</th>\n",
              "      <td>0.000000</td>\n",
              "      <td>29.000000</td>\n",
              "      <td>70.350000</td>\n",
              "    </tr>\n",
              "    <tr>\n",
              "      <th>75%</th>\n",
              "      <td>0.000000</td>\n",
              "      <td>55.000000</td>\n",
              "      <td>89.850000</td>\n",
              "    </tr>\n",
              "    <tr>\n",
              "      <th>max</th>\n",
              "      <td>1.000000</td>\n",
              "      <td>72.000000</td>\n",
              "      <td>118.750000</td>\n",
              "    </tr>\n",
              "  </tbody>\n",
              "</table>\n",
              "</div>\n",
              "      <button class=\"colab-df-convert\" onclick=\"convertToInteractive('df-68b26109-3f8b-42fb-83cd-28a307c427ab')\"\n",
              "              title=\"Convert this dataframe to an interactive table.\"\n",
              "              style=\"display:none;\">\n",
              "        \n",
              "  <svg xmlns=\"http://www.w3.org/2000/svg\" height=\"24px\"viewBox=\"0 0 24 24\"\n",
              "       width=\"24px\">\n",
              "    <path d=\"M0 0h24v24H0V0z\" fill=\"none\"/>\n",
              "    <path d=\"M18.56 5.44l.94 2.06.94-2.06 2.06-.94-2.06-.94-.94-2.06-.94 2.06-2.06.94zm-11 1L8.5 8.5l.94-2.06 2.06-.94-2.06-.94L8.5 2.5l-.94 2.06-2.06.94zm10 10l.94 2.06.94-2.06 2.06-.94-2.06-.94-.94-2.06-.94 2.06-2.06.94z\"/><path d=\"M17.41 7.96l-1.37-1.37c-.4-.4-.92-.59-1.43-.59-.52 0-1.04.2-1.43.59L10.3 9.45l-7.72 7.72c-.78.78-.78 2.05 0 2.83L4 21.41c.39.39.9.59 1.41.59.51 0 1.02-.2 1.41-.59l7.78-7.78 2.81-2.81c.8-.78.8-2.07 0-2.86zM5.41 20L4 18.59l7.72-7.72 1.47 1.35L5.41 20z\"/>\n",
              "  </svg>\n",
              "      </button>\n",
              "      \n",
              "  <style>\n",
              "    .colab-df-container {\n",
              "      display:flex;\n",
              "      flex-wrap:wrap;\n",
              "      gap: 12px;\n",
              "    }\n",
              "\n",
              "    .colab-df-convert {\n",
              "      background-color: #E8F0FE;\n",
              "      border: none;\n",
              "      border-radius: 50%;\n",
              "      cursor: pointer;\n",
              "      display: none;\n",
              "      fill: #1967D2;\n",
              "      height: 32px;\n",
              "      padding: 0 0 0 0;\n",
              "      width: 32px;\n",
              "    }\n",
              "\n",
              "    .colab-df-convert:hover {\n",
              "      background-color: #E2EBFA;\n",
              "      box-shadow: 0px 1px 2px rgba(60, 64, 67, 0.3), 0px 1px 3px 1px rgba(60, 64, 67, 0.15);\n",
              "      fill: #174EA6;\n",
              "    }\n",
              "\n",
              "    [theme=dark] .colab-df-convert {\n",
              "      background-color: #3B4455;\n",
              "      fill: #D2E3FC;\n",
              "    }\n",
              "\n",
              "    [theme=dark] .colab-df-convert:hover {\n",
              "      background-color: #434B5C;\n",
              "      box-shadow: 0px 1px 3px 1px rgba(0, 0, 0, 0.15);\n",
              "      filter: drop-shadow(0px 1px 2px rgba(0, 0, 0, 0.3));\n",
              "      fill: #FFFFFF;\n",
              "    }\n",
              "  </style>\n",
              "\n",
              "      <script>\n",
              "        const buttonEl =\n",
              "          document.querySelector('#df-68b26109-3f8b-42fb-83cd-28a307c427ab button.colab-df-convert');\n",
              "        buttonEl.style.display =\n",
              "          google.colab.kernel.accessAllowed ? 'block' : 'none';\n",
              "\n",
              "        async function convertToInteractive(key) {\n",
              "          const element = document.querySelector('#df-68b26109-3f8b-42fb-83cd-28a307c427ab');\n",
              "          const dataTable =\n",
              "            await google.colab.kernel.invokeFunction('convertToInteractive',\n",
              "                                                     [key], {});\n",
              "          if (!dataTable) return;\n",
              "\n",
              "          const docLinkHtml = 'Like what you see? Visit the ' +\n",
              "            '<a target=\"_blank\" href=https://colab.research.google.com/notebooks/data_table.ipynb>data table notebook</a>'\n",
              "            + ' to learn more about interactive tables.';\n",
              "          element.innerHTML = '';\n",
              "          dataTable['output_type'] = 'display_data';\n",
              "          await google.colab.output.renderOutput(dataTable, element);\n",
              "          const docLink = document.createElement('div');\n",
              "          docLink.innerHTML = docLinkHtml;\n",
              "          element.appendChild(docLink);\n",
              "        }\n",
              "      </script>\n",
              "    </div>\n",
              "  </div>\n",
              "  "
            ]
          },
          "metadata": {},
          "execution_count": 7
        }
      ],
      "source": [
        "df.describe()"
      ]
    },
    {
      "cell_type": "markdown",
      "metadata": {
        "id": "rKnNmO2NOq2x"
      },
      "source": [
        "Step 2: Data Cleaning and Analysing using Visualization"
      ]
    },
    {
      "cell_type": "code",
      "execution_count": 8,
      "metadata": {
        "colab": {
          "base_uri": "https://localhost:8080/"
        },
        "id": "kmyxXBjYOSPc",
        "outputId": "e806bf59-47c8-443b-abdd-39f61d5842e8"
      },
      "outputs": [
        {
          "output_type": "execute_result",
          "data": {
            "text/plain": [
              "customerID          False\n",
              "gender              False\n",
              "SeniorCitizen       False\n",
              "Partner             False\n",
              "Dependents          False\n",
              "tenure              False\n",
              "PhoneService        False\n",
              "MultipleLines       False\n",
              "InternetService     False\n",
              "OnlineSecurity      False\n",
              "OnlineBackup        False\n",
              "DeviceProtection    False\n",
              "TechSupport         False\n",
              "StreamingTV         False\n",
              "StreamingMovies     False\n",
              "Contract            False\n",
              "PaperlessBilling    False\n",
              "PaymentMethod       False\n",
              "MonthlyCharges      False\n",
              "TotalCharges        False\n",
              "Churn               False\n",
              "dtype: bool"
            ]
          },
          "metadata": {},
          "execution_count": 8
        }
      ],
      "source": [
        "df.isna().any()"
      ]
    },
    {
      "cell_type": "code",
      "execution_count": 9,
      "metadata": {
        "colab": {
          "base_uri": "https://localhost:8080/"
        },
        "id": "uAH5JGeHOxSC",
        "outputId": "599916d3-39fa-4ed7-be58-305a74776c55"
      },
      "outputs": [
        {
          "output_type": "stream",
          "name": "stdout",
          "text": [
            "<class 'pandas.core.frame.DataFrame'>\n",
            "RangeIndex: 7043 entries, 0 to 7042\n",
            "Data columns (total 21 columns):\n",
            " #   Column            Non-Null Count  Dtype   \n",
            "---  ------            --------------  -----   \n",
            " 0   customerID        7043 non-null   category\n",
            " 1   gender            7043 non-null   category\n",
            " 2   SeniorCitizen     7043 non-null   int64   \n",
            " 3   Partner           7043 non-null   category\n",
            " 4   Dependents        7043 non-null   category\n",
            " 5   tenure            7043 non-null   int64   \n",
            " 6   PhoneService      7043 non-null   category\n",
            " 7   MultipleLines     7043 non-null   category\n",
            " 8   InternetService   7043 non-null   category\n",
            " 9   OnlineSecurity    7043 non-null   category\n",
            " 10  OnlineBackup      7043 non-null   category\n",
            " 11  DeviceProtection  7043 non-null   category\n",
            " 12  TechSupport       7043 non-null   category\n",
            " 13  StreamingTV       7043 non-null   category\n",
            " 14  StreamingMovies   7043 non-null   category\n",
            " 15  Contract          7043 non-null   category\n",
            " 16  PaperlessBilling  7043 non-null   category\n",
            " 17  PaymentMethod     7043 non-null   category\n",
            " 18  MonthlyCharges    7043 non-null   float64 \n",
            " 19  TotalCharges      7043 non-null   category\n",
            " 20  Churn             7043 non-null   category\n",
            "dtypes: category(18), float64(1), int64(2)\n",
            "memory usage: 927.0 KB\n"
          ]
        }
      ],
      "source": [
        "# Replacing objects with categorical data\n",
        "for feature in df.columns: # Loop through all columns in the dataframe\n",
        "    if df[feature].dtype == 'object': # Only apply for columns with categorical strings\n",
        "        df[feature] = pd.Categorical(df[feature])# Replace strings with an integer\n",
        "df.info()"
      ]
    },
    {
      "cell_type": "code",
      "execution_count": 10,
      "metadata": {
        "id": "ZbHnuXuUPAwC"
      },
      "outputs": [],
      "source": [
        "def hist_value(feature):\n",
        "    pd.value_counts(feature).plot.bar()\n",
        "    plt.title(feature.name +  ' class histogram')\n",
        "    plt.xlabel('Class')\n",
        "    plt.ylabel('Frequency')\n",
        "    print(feature.value_counts())"
      ]
    },
    {
      "cell_type": "code",
      "execution_count": 11,
      "metadata": {
        "colab": {
          "base_uri": "https://localhost:8080/",
          "height": 373
        },
        "id": "MB9JkcNcefmS",
        "outputId": "beb2fe3d-e738-46dc-d400-995f847b2100"
      },
      "outputs": [
        {
          "output_type": "stream",
          "name": "stdout",
          "text": [
            "Male      3555\n",
            "Female    3488\n",
            "Name: gender, dtype: int64\n"
          ]
        },
        {
          "output_type": "display_data",
          "data": {
            "text/plain": [
              "<Figure size 432x288 with 1 Axes>"
            ],
            "image/png": "[encoded data removed]"
          },
          "metadata": {
            "needs_background": "light"
          }
        }
      ],
      "source": [
        "hist_value(df['gender'])"
      ]
    },
    {
      "cell_type": "code",
      "execution_count": 12,
      "metadata": {
        "colab": {
          "base_uri": "https://localhost:8080/",
          "height": 344
        },
        "id": "wBkNfR_Seqde",
        "outputId": "48db10aa-ab27-42e6-f7b4-4d13a2fa6dae"
      },
      "outputs": [
        {
          "output_type": "stream",
          "name": "stdout",
          "text": [
            "0    5901\n",
            "1    1142\n",
            "Name: SeniorCitizen, dtype: int64\n"
          ]
        },
        {
          "output_type": "display_data",
          "data": {
            "text/plain": [
              "<Figure size 432x288 with 1 Axes>"
            ],
            "image/png": "[encoded data removed]"
          },
          "metadata": {
            "needs_background": "light"
          }
        }
      ],
      "source": [
        "hist_value(df['SeniorCitizen'])"
      ]
    },
    {
      "cell_type": "code",
      "execution_count": 13,
      "metadata": {
        "colab": {
          "base_uri": "https://localhost:8080/",
          "height": 353
        },
        "id": "vxpezYa1WqjV",
        "outputId": "113b87c1-7a87-4a1c-908e-bb4ce9767fe4"
      },
      "outputs": [
        {
          "output_type": "stream",
          "name": "stdout",
          "text": [
            "No     3641\n",
            "Yes    3402\n",
            "Name: Partner, dtype: int64\n"
          ]
        },
        {
          "output_type": "display_data",
          "data": {
            "text/plain": [
              "<Figure size 432x288 with 1 Axes>"
            ],
            "image/png": "[encoded data removed]"
          },
          "metadata": {
            "needs_background": "light"
          }
        }
      ],
      "source": [
        "hist_value(df['Partner'])"
      ]
    },
    {
      "cell_type": "code",
      "execution_count": 14,
      "metadata": {
        "colab": {
          "base_uri": "https://localhost:8080/",
          "height": 353
        },
        "id": "qdz06AUWZo1A",
        "outputId": "9ac97828-75db-4d36-a23a-55d584958a22"
      },
      "outputs": [
        {
          "output_type": "stream",
          "name": "stdout",
          "text": [
            "No     4933\n",
            "Yes    2110\n",
            "Name: Dependents, dtype: int64\n"
          ]
        },
        {
          "output_type": "display_data",
          "data": {
            "text/plain": [
              "<Figure size 432x288 with 1 Axes>"
            ],
            "image/png": "[encoded data removed]"
          },
          "metadata": {
            "needs_background": "light"
          }
        }
      ],
      "source": [
        "hist_value(df['Dependents'])"
      ]
    },
    {
      "cell_type": "code",
      "execution_count": 15,
      "metadata": {
        "colab": {
          "base_uri": "https://localhost:8080/",
          "height": 353
        },
        "id": "SUkLHYymZwKY",
        "outputId": "3885e596-eed8-4d34-f171-b08051277ff3"
      },
      "outputs": [
        {
          "output_type": "stream",
          "name": "stdout",
          "text": [
            "Yes    6361\n",
            "No      682\n",
            "Name: PhoneService, dtype: int64\n"
          ]
        },
        {
          "output_type": "display_data",
          "data": {
            "text/plain": [
              "<Figure size 432x288 with 1 Axes>"
            ],
            "image/png": "[encoded data removed]"
          },
          "metadata": {
            "needs_background": "light"
          }
        }
      ],
      "source": [
        "hist_value(df['PhoneService'])"
      ]
    },
    {
      "cell_type": "code",
      "execution_count": 16,
      "metadata": {
        "colab": {
          "base_uri": "https://localhost:8080/",
          "height": 441
        },
        "id": "--193GObZ4DW",
        "outputId": "cd8a9b85-2799-47da-bd4a-1bbdc24246c3"
      },
      "outputs": [
        {
          "output_type": "stream",
          "name": "stdout",
          "text": [
            "No                  3390\n",
            "Yes                 2971\n",
            "No phone service     682\n",
            "Name: MultipleLines, dtype: int64\n"
          ]
        },
        {
          "output_type": "display_data",
          "data": {
            "text/plain": [
              "<Figure size 432x288 with 1 Axes>"
            ],
            "image/png": "[encoded data removed]"
          },
          "metadata": {
            "needs_background": "light"
          }
        }
      ],
      "source": [
        "hist_value(df['MultipleLines'])"
      ]
    },
    {
      "cell_type": "code",
      "execution_count": 17,
      "metadata": {
        "colab": {
          "base_uri": "https://localhost:8080/",
          "height": 407
        },
        "id": "imSqe1r1Z_eX",
        "outputId": "63f07dde-c0ef-4a81-9e8a-0765f588ef6a"
      },
      "outputs": [
        {
          "output_type": "stream",
          "name": "stdout",
          "text": [
            "Fiber optic    3096\n",
            "DSL            2421\n",
            "No             1526\n",
            "Name: InternetService, dtype: int64\n"
          ]
        },
        {
          "output_type": "display_data",
          "data": {
            "text/plain": [
              "<Figure size 432x288 with 1 Axes>"
            ],
            "image/png": "[encoded data removed]"
          },
          "metadata": {
            "needs_background": "light"
          }
        }
      ],
      "source": [
        "hist_value(df['InternetService'])"
      ]
    },
    {
      "cell_type": "code",
      "execution_count": 18,
      "metadata": {
        "colab": {
          "base_uri": "https://localhost:8080/",
          "height": 451
        },
        "id": "nz8us4u1aD3c",
        "outputId": "af2bf3de-2aa3-4dc5-ab78-fec1dc03acf5"
      },
      "outputs": [
        {
          "output_type": "stream",
          "name": "stdout",
          "text": [
            "No                     3498\n",
            "Yes                    2019\n",
            "No internet service    1526\n",
            "Name: OnlineSecurity, dtype: int64\n"
          ]
        },
        {
          "output_type": "display_data",
          "data": {
            "text/plain": [
              "<Figure size 432x288 with 1 Axes>"
            ],
            "image/png": "[encoded data removed]"
          },
          "metadata": {
            "needs_background": "light"
          }
        }
      ],
      "source": [
        "hist_value(df['OnlineSecurity'])"
      ]
    },
    {
      "cell_type": "code",
      "execution_count": 19,
      "metadata": {
        "colab": {
          "base_uri": "https://localhost:8080/",
          "height": 451
        },
        "id": "Cw0YaKZxaIfC",
        "outputId": "f976e427-31ee-4d66-bd47-f33d91c75e96"
      },
      "outputs": [
        {
          "output_type": "stream",
          "name": "stdout",
          "text": [
            "No                     3095\n",
            "Yes                    2422\n",
            "No internet service    1526\n",
            "Name: DeviceProtection, dtype: int64\n"
          ]
        },
        {
          "output_type": "display_data",
          "data": {
            "text/plain": [
              "<Figure size 432x288 with 1 Axes>"
            ],
            "image/png": "[encoded data removed]"
          },
          "metadata": {
            "needs_background": "light"
          }
        }
      ],
      "source": [
        "hist_value(df['DeviceProtection'])"
      ]
    },
    {
      "cell_type": "code",
      "execution_count": 20,
      "metadata": {
        "colab": {
          "base_uri": "https://localhost:8080/",
          "height": 451
        },
        "id": "JidQXrDnaOt-",
        "outputId": "04ccb8d3-ed33-49c2-d58e-9d8c03ad4244"
      },
      "outputs": [
        {
          "output_type": "stream",
          "name": "stdout",
          "text": [
            "No                     3473\n",
            "Yes                    2044\n",
            "No internet service    1526\n",
            "Name: TechSupport, dtype: int64\n"
          ]
        },
        {
          "output_type": "display_data",
          "data": {
            "text/plain": [
              "<Figure size 432x288 with 1 Axes>"
            ],
            "image/png": "[encoded data removed]"
          },
          "metadata": {
            "needs_background": "light"
          }
        }
      ],
      "source": [
        "hist_value(df['TechSupport'])"
      ]
    },
    {
      "cell_type": "code",
      "execution_count": 21,
      "metadata": {
        "colab": {
          "base_uri": "https://localhost:8080/",
          "height": 451
        },
        "id": "D8WwtgjsaS-w",
        "outputId": "8e33d02e-b230-49c1-f2cf-8685e7a015d1"
      },
      "outputs": [
        {
          "output_type": "stream",
          "name": "stdout",
          "text": [
            "No                     2810\n",
            "Yes                    2707\n",
            "No internet service    1526\n",
            "Name: StreamingTV, dtype: int64\n"
          ]
        },
        {
          "output_type": "display_data",
          "data": {
            "text/plain": [
              "<Figure size 432x288 with 1 Axes>"
            ],
            "image/png": "[encoded data removed]"
          },
          "metadata": {
            "needs_background": "light"
          }
        }
      ],
      "source": [
        "hist_value(df['StreamingTV'])"
      ]
    },
    {
      "cell_type": "code",
      "execution_count": 22,
      "metadata": {
        "colab": {
          "base_uri": "https://localhost:8080/",
          "height": 451
        },
        "id": "JEQ5rfd7aYaO",
        "outputId": "ee56d9e7-f4fe-4302-fec6-e50fd7be6529"
      },
      "outputs": [
        {
          "output_type": "stream",
          "name": "stdout",
          "text": [
            "No                     2785\n",
            "Yes                    2732\n",
            "No internet service    1526\n",
            "Name: StreamingMovies, dtype: int64\n"
          ]
        },
        {
          "output_type": "display_data",
          "data": {
            "text/plain": [
              "<Figure size 432x288 with 1 Axes>"
            ],
            "image/png": "[encoded data removed]"
          },
          "metadata": {
            "needs_background": "light"
          }
        }
      ],
      "source": [
        "hist_value(df['StreamingMovies'])"
      ]
    },
    {
      "cell_type": "code",
      "execution_count": 23,
      "metadata": {
        "colab": {
          "base_uri": "https://localhost:8080/",
          "height": 435
        },
        "id": "0S4T2SFKaoZC",
        "outputId": "dd489860-7d93-44b7-dc01-24da123317b3"
      },
      "outputs": [
        {
          "output_type": "stream",
          "name": "stdout",
          "text": [
            "Month-to-month    3875\n",
            "Two year          1695\n",
            "One year          1473\n",
            "Name: Contract, dtype: int64\n"
          ]
        },
        {
          "output_type": "display_data",
          "data": {
            "text/plain": [
              "<Figure size 432x288 with 1 Axes>"
            ],
            "image/png": "[encoded data removed]"
          },
          "metadata": {
            "needs_background": "light"
          }
        }
      ],
      "source": [
        "hist_value(df['Contract'])"
      ]
    },
    {
      "cell_type": "code",
      "execution_count": 24,
      "metadata": {
        "colab": {
          "base_uri": "https://localhost:8080/",
          "height": 353
        },
        "id": "oN6YnpSeaw_7",
        "outputId": "fe78f3e8-0a25-4012-8378-4bd067ae16b9"
      },
      "outputs": [
        {
          "output_type": "stream",
          "name": "stdout",
          "text": [
            "Yes    4171\n",
            "No     2872\n",
            "Name: PaperlessBilling, dtype: int64\n"
          ]
        },
        {
          "output_type": "display_data",
          "data": {
            "text/plain": [
              "<Figure size 432x288 with 1 Axes>"
            ],
            "image/png": "[encoded data removed]"
          },
          "metadata": {
            "needs_background": "light"
          }
        }
      ],
      "source": [
        "hist_value(df['PaperlessBilling'])"
      ]
    },
    {
      "cell_type": "code",
      "execution_count": 25,
      "metadata": {
        "colab": {
          "base_uri": "https://localhost:8080/",
          "height": 501
        },
        "id": "pnOa7cdfa3JT",
        "outputId": "1fe19e1a-6235-4db3-8b34-e404638546c2"
      },
      "outputs": [
        {
          "output_type": "stream",
          "name": "stdout",
          "text": [
            "Electronic check             2365\n",
            "Mailed check                 1612\n",
            "Bank transfer (automatic)    1544\n",
            "Credit card (automatic)      1522\n",
            "Name: PaymentMethod, dtype: int64\n"
          ]
        },
        {
          "output_type": "display_data",
          "data": {
            "text/plain": [
              "<Figure size 432x288 with 1 Axes>"
            ],
            "image/png": "[encoded data removed]"
          },
          "metadata": {
            "needs_background": "light"
          }
        }
      ],
      "source": [
        "hist_value(df['PaymentMethod'])"
      ]
    },
    {
      "cell_type": "code",
      "execution_count": 26,
      "metadata": {
        "colab": {
          "base_uri": "https://localhost:8080/",
          "height": 353
        },
        "id": "33My5y9ja5Cr",
        "outputId": "e3af59d1-cd07-4d1e-847f-077745894ee9"
      },
      "outputs": [
        {
          "output_type": "stream",
          "name": "stdout",
          "text": [
            "No     5174\n",
            "Yes    1869\n",
            "Name: Churn, dtype: int64\n"
          ]
        },
        {
          "output_type": "display_data",
          "data": {
            "text/plain": [
              "<Figure size 432x288 with 1 Axes>"
            ],
            "image/png": "[encoded data removed]"
          },
          "metadata": {
            "needs_background": "light"
          }
        }
      ],
      "source": [
        "hist_value(df['Churn'])"
      ]
    },
    {
      "cell_type": "markdown",
      "metadata": {
        "id": "WCygCg8FbDXN"
      },
      "source": [
        "Group Based Analysis"
      ]
    },
    {
      "cell_type": "code",
      "execution_count": 27,
      "metadata": {
        "colab": {
          "base_uri": "https://localhost:8080/"
        },
        "id": "Pv3JQS9ebA19",
        "outputId": "433599c9-d4e9-47c0-99f5-3da1a7b93715"
      },
      "outputs": [
        {
          "output_type": "stream",
          "name": "stdout",
          "text": [
            "Male who Churned and Not Churned\n",
            "No     2625\n",
            "Yes     930\n",
            "Name: Churn, dtype: int64\n",
            "\n",
            "\n",
            "Female who Churned and Not Churned\n",
            "No     2549\n",
            "Yes     939\n",
            "Name: Churn, dtype: int64\n"
          ]
        }
      ],
      "source": [
        "print('Male who Churned and Not Churned')\n",
        "print(df.groupby(['gender']).get_group('Male').Churn.value_counts())\n",
        "print('\\n')\n",
        "print('Female who Churned and Not Churned')\n",
        "print(df.groupby(['gender']).get_group('Female').Churn.value_counts())\n",
        "\n",
        "# Conclusion : Female churn slightly more than Male"
      ]
    },
    {
      "cell_type": "code",
      "execution_count": 28,
      "metadata": {
        "colab": {
          "base_uri": "https://localhost:8080/"
        },
        "id": "rD5XuWKMbPmn",
        "outputId": "946bd171-eddf-4962-e49d-50c0a2f8917c"
      },
      "outputs": [
        {
          "output_type": "stream",
          "name": "stdout",
          "text": [
            "Non-Senior Citizens who Churned and Not Churned\n",
            "No     4508\n",
            "Yes    1393\n",
            "Name: Churn, dtype: int64\n",
            "\n",
            "\n",
            "Senior Citizens who Churned and Not Churned\n",
            "No     666\n",
            "Yes    476\n",
            "Name: Churn, dtype: int64\n"
          ]
        }
      ],
      "source": [
        "print('Non-Senior Citizens who Churned and Not Churned')\n",
        "print(df.groupby(['SeniorCitizen']).get_group(0).Churn.value_counts())\n",
        "print('\\n')\n",
        "print('Senior Citizens who Churned and Not Churned')\n",
        "print(df.groupby(['SeniorCitizen']).get_group(1).Churn.value_counts())\n",
        "\n",
        "# Conclusion : Senior Citizens churn slightly more than Non-Senior Citizens\n"
      ]
    },
    {
      "cell_type": "code",
      "execution_count": 29,
      "metadata": {
        "colab": {
          "base_uri": "https://localhost:8080/"
        },
        "id": "6ZOCdfZBbU6m",
        "outputId": "a5a03d5d-072a-4ff1-fbc5-241371f9c848"
      },
      "outputs": [
        {
          "output_type": "stream",
          "name": "stdout",
          "text": [
            "Partner who Churned and Not Churned\n",
            "No     2733\n",
            "Yes     669\n",
            "Name: Churn, dtype: int64\n",
            "\n",
            "\n",
            "Non-Partner who Churned and Not Churned\n",
            "No     2441\n",
            "Yes    1200\n",
            "Name: Churn, dtype: int64\n"
          ]
        }
      ],
      "source": [
        "print('Partner who Churned and Not Churned')\n",
        "print(df.groupby(['Partner']).get_group('Yes').Churn.value_counts())\n",
        "print('\\n')\n",
        "print('Non-Partner who Churned and Not Churned')\n",
        "print(df.groupby(['Partner']).get_group('No').Churn.value_counts())\n",
        "\n",
        "# Conclusion : Non-Partner Customers churn slightly more than Partenered CustomersDependent "
      ]
    },
    {
      "cell_type": "code",
      "execution_count": 30,
      "metadata": {
        "colab": {
          "base_uri": "https://localhost:8080/"
        },
        "id": "YdXcB4fAbZyn",
        "outputId": "6843a816-ee3b-46ef-ea94-719edb6e6366"
      },
      "outputs": [
        {
          "output_type": "stream",
          "name": "stdout",
          "text": [
            "Dependents who Churned and Not Churned\n",
            "No     1784\n",
            "Yes     326\n",
            "Name: Churn, dtype: int64\n",
            "\n",
            "\n",
            "Non-Dependents who Churned and Not Churned\n",
            "No     3390\n",
            "Yes    1543\n",
            "Name: Churn, dtype: int64\n"
          ]
        }
      ],
      "source": [
        "print('Dependents who Churned and Not Churned')\n",
        "print(df.groupby(['Dependents']).get_group('Yes').Churn.value_counts())\n",
        "print('\\n')\n",
        "print('Non-Dependents who Churned and Not Churned')\n",
        "print(df.groupby(['Dependents']).get_group('No').Churn.value_counts())\n",
        "\n",
        "# Conclusion : Non-Dependent Customers churn more than Dependent Customers"
      ]
    },
    {
      "cell_type": "code",
      "execution_count": 31,
      "metadata": {
        "colab": {
          "base_uri": "https://localhost:8080/"
        },
        "id": "gMZJHx_5beyF",
        "outputId": "3d7ea4a8-dc05-42da-88f9-51cb7c274b46"
      },
      "outputs": [
        {
          "output_type": "stream",
          "name": "stdout",
          "text": [
            "Customer with PhoneService who Churned and Not Churned\n",
            "No     4662\n",
            "Yes    1699\n",
            "Name: Churn, dtype: int64\n",
            "\n",
            "\n",
            "Customer with No PhoneService who Churned and Not Churned\n",
            "No     512\n",
            "Yes    170\n",
            "Name: Churn, dtype: int64\n"
          ]
        }
      ],
      "source": [
        "print('Customer with PhoneService who Churned and Not Churned')\n",
        "print(df.groupby(['PhoneService']).get_group('Yes').Churn.value_counts())\n",
        "print('\\n')\n",
        "print('Customer with No PhoneService who Churned and Not Churned')\n",
        "print(df.groupby(['PhoneService']).get_group('No').Churn.value_counts())\n",
        "\n",
        "# Conclusion : Almost similar ratio !"
      ]
    },
    {
      "cell_type": "code",
      "execution_count": 32,
      "metadata": {
        "colab": {
          "base_uri": "https://localhost:8080/"
        },
        "id": "qbgz6Mylbjq6",
        "outputId": "c1fc8095-1103-4b6d-d0f5-9b59020bc9eb"
      },
      "outputs": [
        {
          "output_type": "stream",
          "name": "stdout",
          "text": [
            "Customer with MultipleLines who Churned and Not Churned\n",
            "No     2121\n",
            "Yes     850\n",
            "Name: Churn, dtype: int64\n",
            "\n",
            "\n",
            "Customer with No MultipleLines who Churned and Not Churned\n",
            "No     2541\n",
            "Yes     849\n",
            "Name: Churn, dtype: int64\n",
            "\n",
            "\n",
            "Customer with No PhoneService who Churned and Not Churned\n",
            "No     512\n",
            "Yes    170\n",
            "Name: Churn, dtype: int64\n"
          ]
        }
      ],
      "source": [
        "print('Customer with MultipleLines who Churned and Not Churned')\n",
        "print(df.groupby(['MultipleLines']).get_group('Yes').Churn.value_counts())\n",
        "print('\\n')\n",
        "print('Customer with No MultipleLines who Churned and Not Churned')\n",
        "print(df.groupby(['MultipleLines']).get_group('No').Churn.value_counts())\n",
        "print('\\n')\n",
        "print('Customer with No PhoneService who Churned and Not Churned')\n",
        "print(df.groupby(['MultipleLines']).get_group('No phone service').Churn.value_counts())\n",
        "\n",
        "# Conclusion : Almost similar ratio !"
      ]
    },
    {
      "cell_type": "code",
      "execution_count": 33,
      "metadata": {
        "colab": {
          "base_uri": "https://localhost:8080/"
        },
        "id": "_x9IkJEFbpJr",
        "outputId": "75d7d63e-b1f4-4e0e-c137-36ec2ab65cf2"
      },
      "outputs": [
        {
          "output_type": "stream",
          "name": "stdout",
          "text": [
            "Customer with DSL InternetService who Churned and Not Churned\n",
            "No     1962\n",
            "Yes     459\n",
            "Name: Churn, dtype: int64\n",
            "\n",
            "\n",
            "Customer with Fiber optic InternetService who Churned and Not Churned\n",
            "No     1799\n",
            "Yes    1297\n",
            "Name: Churn, dtype: int64\n",
            "\n",
            "\n",
            "Customer with No InternetService who Churned and Not Churned\n",
            "No     1413\n",
            "Yes     113\n",
            "Name: Churn, dtype: int64\n"
          ]
        }
      ],
      "source": [
        "print('Customer with DSL InternetService who Churned and Not Churned')\n",
        "print(df.groupby(['InternetService']).get_group('DSL').Churn.value_counts())\n",
        "print('\\n')\n",
        "print('Customer with Fiber optic InternetService who Churned and Not Churned')\n",
        "print(df.groupby(['InternetService']).get_group('Fiber optic').Churn.value_counts())\n",
        "print('\\n')\n",
        "print('Customer with No InternetService who Churned and Not Churned')\n",
        "print(df.groupby(['InternetService']).get_group('No').Churn.value_counts())\n",
        "\n",
        "# Conclusion : This shows customers with Fiber optic InternetService churn highest as \n",
        "# compared to DSL and no InternetService customers !!"
      ]
    },
    {
      "cell_type": "code",
      "execution_count": 34,
      "metadata": {
        "colab": {
          "base_uri": "https://localhost:8080/"
        },
        "id": "knDLQTcNbvu_",
        "outputId": "66a713fa-8ad1-4698-c637-2c439000f976"
      },
      "outputs": [
        {
          "output_type": "stream",
          "name": "stdout",
          "text": [
            "Customer with OnlineSecurity who Churned and Not Churned\n",
            "No     1724\n",
            "Yes     295\n",
            "Name: Churn, dtype: int64\n",
            "\n",
            "\n",
            "Customer with No OnlineSecurity who Churned and Not Churned\n",
            "No     2037\n",
            "Yes    1461\n",
            "Name: Churn, dtype: int64\n"
          ]
        }
      ],
      "source": [
        "print('Customer with OnlineSecurity who Churned and Not Churned')\n",
        "print(df.groupby(['OnlineSecurity']).get_group('Yes').Churn.value_counts())\n",
        "print('\\n')\n",
        "print('Customer with No OnlineSecurity who Churned and Not Churned')\n",
        "print(df.groupby(['OnlineSecurity']).get_group('No').Churn.value_counts())\n",
        "\n",
        "# Conclusion : Customers with No OnlineSecurity Churn way more !"
      ]
    },
    {
      "cell_type": "code",
      "execution_count": 35,
      "metadata": {
        "colab": {
          "base_uri": "https://localhost:8080/"
        },
        "id": "M0BiC63Db4Vi",
        "outputId": "f3302669-46be-4056-fa37-fe6bfb1f00e0"
      },
      "outputs": [
        {
          "output_type": "stream",
          "name": "stdout",
          "text": [
            "Customer with DeviceProtection who Churned and Not Churned\n",
            "No     1877\n",
            "Yes     545\n",
            "Name: Churn, dtype: int64\n",
            "\n",
            "\n",
            "Customer with No DeviceProtection who Churned and Not Churned\n",
            "No     1884\n",
            "Yes    1211\n",
            "Name: Churn, dtype: int64\n"
          ]
        }
      ],
      "source": [
        "print('Customer with DeviceProtection who Churned and Not Churned')\n",
        "print(df.groupby(['DeviceProtection']).get_group('Yes').Churn.value_counts())\n",
        "print('\\n')\n",
        "print('Customer with No DeviceProtection who Churned and Not Churned')\n",
        "print(df.groupby(['DeviceProtection']).get_group('No').Churn.value_counts())\n",
        "\n",
        "# Conclusion : Customers with No DeviceProtection Churn way more !"
      ]
    },
    {
      "cell_type": "code",
      "execution_count": 36,
      "metadata": {
        "colab": {
          "base_uri": "https://localhost:8080/"
        },
        "id": "PA88YDqpb9nV",
        "outputId": "74df6784-a4bd-4585-d985-ba1382babeda"
      },
      "outputs": [
        {
          "output_type": "stream",
          "name": "stdout",
          "text": [
            "Customer with TechSupport who Churned and Not Churned\n",
            "No     1734\n",
            "Yes     310\n",
            "Name: Churn, dtype: int64\n",
            "\n",
            "\n",
            "Customer with No TechSupport who Churned and Not Churned\n",
            "No     2027\n",
            "Yes    1446\n",
            "Name: Churn, dtype: int64\n"
          ]
        }
      ],
      "source": [
        "print('Customer with TechSupport who Churned and Not Churned')\n",
        "print(df.groupby(['TechSupport']).get_group('Yes').Churn.value_counts())\n",
        "print('\\n')\n",
        "print('Customer with No TechSupport who Churned and Not Churned')\n",
        "print(df.groupby(['TechSupport']).get_group('No').Churn.value_counts())\n",
        "\n",
        "# Conclusion : Customers with No TechSupport Churn way more !"
      ]
    },
    {
      "cell_type": "code",
      "execution_count": 37,
      "metadata": {
        "colab": {
          "base_uri": "https://localhost:8080/"
        },
        "id": "TjNP8CY7cE4H",
        "outputId": "2b59898b-21bb-470b-b13f-0d22ef0daab4"
      },
      "outputs": [
        {
          "output_type": "stream",
          "name": "stdout",
          "text": [
            "Customer with StreamingTV Service who Churned and Not Churned\n",
            "No     1893\n",
            "Yes     814\n",
            "Name: Churn, dtype: int64\n",
            "\n",
            "\n",
            "Customer with No StreamingTV Service who Churned and Not Churned\n",
            "No     1868\n",
            "Yes     942\n",
            "Name: Churn, dtype: int64\n"
          ]
        }
      ],
      "source": [
        "print('Customer with StreamingTV Service who Churned and Not Churned')\n",
        "print(df.groupby(['StreamingTV']).get_group('Yes').Churn.value_counts())\n",
        "print('\\n')\n",
        "print('Customer with No StreamingTV Service who Churned and Not Churned')\n",
        "print(df.groupby(['StreamingTV']).get_group('No').Churn.value_counts())\n",
        "\n",
        "# Conclusion : Customers with No StreamingTV Service Churn Slightly more !"
      ]
    },
    {
      "cell_type": "code",
      "execution_count": 38,
      "metadata": {
        "colab": {
          "base_uri": "https://localhost:8080/"
        },
        "id": "xRNM4Bs5cKhQ",
        "outputId": "6142710b-c036-4c06-ea2c-be5ce87014c2"
      },
      "outputs": [
        {
          "output_type": "stream",
          "name": "stdout",
          "text": [
            "Customer with StreamingMovies Service who Churned and Not Churned\n",
            "No     1914\n",
            "Yes     818\n",
            "Name: Churn, dtype: int64\n",
            "\n",
            "\n",
            "Customer with No StreamingMovies who Churned and Not Churned\n",
            "No     1847\n",
            "Yes     938\n",
            "Name: Churn, dtype: int64\n"
          ]
        }
      ],
      "source": [
        "print('Customer with StreamingMovies Service who Churned and Not Churned')\n",
        "print(df.groupby(['StreamingMovies']).get_group('Yes').Churn.value_counts())\n",
        "print('\\n')\n",
        "print('Customer with No StreamingMovies who Churned and Not Churned')\n",
        "print(df.groupby(['StreamingMovies']).get_group('No').Churn.value_counts())\n",
        "\n",
        "# Conclusion : Customers with No StreamingMovies Service Churn way more !"
      ]
    },
    {
      "cell_type": "code",
      "execution_count": 39,
      "metadata": {
        "colab": {
          "base_uri": "https://localhost:8080/"
        },
        "id": "rq89JxaScPsc",
        "outputId": "5073d571-35a9-4ea0-ce1c-177c32acd848"
      },
      "outputs": [
        {
          "output_type": "stream",
          "name": "stdout",
          "text": [
            "Customer with Contract on Month-to-month basis who Churned and Not Churned\n",
            "No     2220\n",
            "Yes    1655\n",
            "Name: Churn, dtype: int64\n",
            "\n",
            "\n",
            "Customer with Contract of One year who Churned and Not Churned\n",
            "No     1307\n",
            "Yes     166\n",
            "Name: Churn, dtype: int64\n",
            "\n",
            "\n",
            "Customer with Contract of Two year who Churned and Not Churned\n",
            "No     1647\n",
            "Yes      48\n",
            "Name: Churn, dtype: int64\n"
          ]
        }
      ],
      "source": [
        "print('Customer with Contract on Month-to-month basis who Churned and Not Churned')\n",
        "print(df.groupby(['Contract']).get_group('Month-to-month').Churn.value_counts())\n",
        "print('\\n')\n",
        "print('Customer with Contract of One year who Churned and Not Churned')\n",
        "print(df.groupby(['Contract']).get_group('One year').Churn.value_counts())\n",
        "print('\\n')\n",
        "print('Customer with Contract of Two year who Churned and Not Churned')\n",
        "print(df.groupby(['Contract']).get_group('Two year').Churn.value_counts())\n",
        "\n",
        "# Conclusion : This is great ! People with a month to month contract are biggest churners"
      ]
    },
    {
      "cell_type": "markdown",
      "metadata": {
        "id": "hQTJZOGYa_xL"
      },
      "source": [
        "<p style=\"color:DodgerBlue; \"><b> Observations from above plots :  </b><br> <br> \n",
        "    <b>1: gender:- </b> Has almost equal ratios of Male and Female    <br> \n",
        "    <b>2: SeniorCitizen:-</b>  Number of Senior Citizens are way less than normal citizens    <br>\n",
        "    <b>3: Partner:-</b>  Has almost equal ratios of Partners and Non-Partners    <br> \n",
        "    <b>4: Dependents:-</b>  Number of Dependent users are way less than Non-Dependent Users    <br>\n",
        "    <b>5: PhoneService:-</b>  People who don't have Phone service are very few.    <br> \n",
        "    <b>6: MultipleLines:-</b>  MultipleLines are fewer than normal lines and customers who do not have PhoneService do not belong to this category.     <br>\n",
        "    <b>7: InternetService:-</b>  Fiber optic cable is most common interner service. There is large population which doesn't have internet service     <br> \n",
        "    <b>8: OnlineSecurity:- </b>  OnlineSecurity is not opted by maximum customers and customers who do not have InternetService do not belong to any category.    <br>\n",
        "    <b>9: DeviceProtection:- </b> DeviceProtection is not opted by maximum customers and customers who do not have InternetService do not belong to any category.   <br>\n",
        "   <b>10: TechSupport:- </b> TechSupport is not taken by maximum customers and customers who do not have InternetService do not belong to any category.     <br> \n",
        "    <b>11: StreamingTV:- </b> StreamingTV is equiprobable between customers who have InternetService and customers who do not have InternetService do not belong to any category.   <br>\n",
        "    <b>12: StreamingMovies:-</b>   StreamingMovies is equiprobable between customers who have InternetService and customers who do not have InternetService do not belong to any category.   <br> \n",
        "    <b>13: Contract:- </b>  Month t0 month contract is more likely opted by customers   <br>\n",
        "    <b>14: PaperlessBilling:-</b>  Most customers have opted for PaperlessBilling   <br> \n",
        "    <b>15: PaymentMethod:- </b> Electronic cheques is more preferred method of payment    <br>\n",
        "    <b>16: Churn:- </b> This is our target variable with majority class being a Non-Churner. We would require to balance these before moving to model building !!    <br> <br><br> <br>\n",
        "    \n",
        "          \n",
        "          "
      ]
    },
    {
      "cell_type": "markdown",
      "metadata": {
        "id": "IH3nUGDgcWei"
      },
      "source": [
        "# Feature Selection\n",
        "\n",
        "One Hot Encoding of our Categorical Variables as models cannot interpret categorical data and we convert them into non-categorical data\n",
        "\n",
        "We are only replacing all the features with One Hot Encoded Vectors. Only churn variable has been kept as Binary variable.\n",
        "\n"
      ]
    },
    {
      "cell_type": "code",
      "execution_count": 40,
      "metadata": {
        "colab": {
          "base_uri": "https://localhost:8080/",
          "height": 421
        },
        "id": "jz339Q31cWNL",
        "outputId": "5b155ace-d4a0-4af6-fe2e-70f3bd25efec"
      },
      "outputs": [
        {
          "output_type": "execute_result",
          "data": {
            "text/plain": [
              "   customerID  tenure  MonthlyCharges TotalCharges  Churn  gender_Female  \\\n",
              "0  7590-VHVEG       1           29.85        29.85      0              1   \n",
              "1  5575-GNVDE      34           56.95       1889.5      0              0   \n",
              "2  3668-QPYBK       2           53.85       108.15      1              0   \n",
              "3  7795-CFOCW      45           42.30      1840.75      0              0   \n",
              "4  9237-HQITU       2           70.70       151.65      1              1   \n",
              "\n",
              "   gender_Male  SeniorCitizen_0  SeniorCitizen_1  Partner_No  ...  \\\n",
              "0            0                1                0           0  ...   \n",
              "1            1                1                0           1  ...   \n",
              "2            1                1                0           1  ...   \n",
              "3            1                1                0           1  ...   \n",
              "4            0                1                0           1  ...   \n",
              "\n",
              "   StreamingMovies_Yes  Contract_Month-to-month  Contract_One year  \\\n",
              "0                    0                        1                  0   \n",
              "1                    0                        0                  1   \n",
              "2                    0                        1                  0   \n",
              "3                    0                        0                  1   \n",
              "4                    0                        1                  0   \n",
              "\n",
              "   Contract_Two year  PaperlessBilling_No  PaperlessBilling_Yes  \\\n",
              "0                  0                    0                     1   \n",
              "1                  0                    1                     0   \n",
              "2                  0                    0                     1   \n",
              "3                  0                    1                     0   \n",
              "4                  0                    0                     1   \n",
              "\n",
              "   PaymentMethod_Bank transfer (automatic)  \\\n",
              "0                                        0   \n",
              "1                                        0   \n",
              "2                                        0   \n",
              "3                                        1   \n",
              "4                                        0   \n",
              "\n",
              "   PaymentMethod_Credit card (automatic)  PaymentMethod_Electronic check  \\\n",
              "0                                      0                               1   \n",
              "1                                      0                               0   \n",
              "2                                      0                               0   \n",
              "3                                      0                               0   \n",
              "4                                      0                               1   \n",
              "\n",
              "   PaymentMethod_Mailed check  \n",
              "0                           0  \n",
              "1                           1  \n",
              "2                           1  \n",
              "3                           0  \n",
              "4                           0  \n",
              "\n",
              "[5 rows x 48 columns]"
            ],
            "text/html": [
              "\n",
              "  <div id=\"df-8035c4b0-aee9-4149-9118-934896ea30fa\">\n",
              "    <div class=\"colab-df-container\">\n",
              "      <div>\n",
              "<style scoped>\n",
              "    .dataframe tbody tr th:only-of-type {\n",
              "        vertical-align: middle;\n",
              "    }\n",
              "\n",
              "    .dataframe tbody tr th {\n",
              "        vertical-align: top;\n",
              "    }\n",
              "\n",
              "    .dataframe thead th {\n",
              "        text-align: right;\n",
              "    }\n",
              "</style>\n",
              "<table border=\"1\" class=\"dataframe\">\n",
              "  <thead>\n",
              "    <tr style=\"text-align: right;\">\n",
              "      <th></th>\n",
              "      <th>customerID</th>\n",
              "      <th>tenure</th>\n",
              "      <th>MonthlyCharges</th>\n",
              "      <th>TotalCharges</th>\n",
              "      <th>Churn</th>\n",
              "      <th>gender_Female</th>\n",
              "      <th>gender_Male</th>\n",
              "      <th>SeniorCitizen_0</th>\n",
              "      <th>SeniorCitizen_1</th>\n",
              "      <th>Partner_No</th>\n",
              "      <th>...</th>\n",
              "      <th>StreamingMovies_Yes</th>\n",
              "      <th>Contract_Month-to-month</th>\n",
              "      <th>Contract_One year</th>\n",
              "      <th>Contract_Two year</th>\n",
              "      <th>PaperlessBilling_No</th>\n",
              "      <th>PaperlessBilling_Yes</th>\n",
              "      <th>PaymentMethod_Bank transfer (automatic)</th>\n",
              "      <th>PaymentMethod_Credit card (automatic)</th>\n",
              "      <th>PaymentMethod_Electronic check</th>\n",
              "      <th>PaymentMethod_Mailed check</th>\n",
              "    </tr>\n",
              "  </thead>\n",
              "  <tbody>\n",
              "    <tr>\n",
              "      <th>0</th>\n",
              "      <td>7590-VHVEG</td>\n",
              "      <td>1</td>\n",
              "      <td>29.85</td>\n",
              "      <td>29.85</td>\n",
              "      <td>0</td>\n",
              "      <td>1</td>\n",
              "      <td>0</td>\n",
              "      <td>1</td>\n",
              "      <td>0</td>\n",
              "      <td>0</td>\n",
              "      <td>...</td>\n",
              "      <td>0</td>\n",
              "      <td>1</td>\n",
              "      <td>0</td>\n",
              "      <td>0</td>\n",
              "      <td>0</td>\n",
              "      <td>1</td>\n",
              "      <td>0</td>\n",
              "      <td>0</td>\n",
              "      <td>1</td>\n",
              "      <td>0</td>\n",
              "    </tr>\n",
              "    <tr>\n",
              "      <th>1</th>\n",
              "      <td>5575-GNVDE</td>\n",
              "      <td>34</td>\n",
              "      <td>56.95</td>\n",
              "      <td>1889.5</td>\n",
              "      <td>0</td>\n",
              "      <td>0</td>\n",
              "      <td>1</td>\n",
              "      <td>1</td>\n",
              "      <td>0</td>\n",
              "      <td>1</td>\n",
              "      <td>...</td>\n",
              "      <td>0</td>\n",
              "      <td>0</td>\n",
              "      <td>1</td>\n",
              "      <td>0</td>\n",
              "      <td>1</td>\n",
              "      <td>0</td>\n",
              "      <td>0</td>\n",
              "      <td>0</td>\n",
              "      <td>0</td>\n",
              "      <td>1</td>\n",
              "    </tr>\n",
              "    <tr>\n",
              "      <th>2</th>\n",
              "      <td>3668-QPYBK</td>\n",
              "      <td>2</td>\n",
              "      <td>53.85</td>\n",
              "      <td>108.15</td>\n",
              "      <td>1</td>\n",
              "      <td>0</td>\n",
              "      <td>1</td>\n",
              "      <td>1</td>\n",
              "      <td>0</td>\n",
              "      <td>1</td>\n",
              "      <td>...</td>\n",
              "      <td>0</td>\n",
              "      <td>1</td>\n",
              "      <td>0</td>\n",
              "      <td>0</td>\n",
              "      <td>0</td>\n",
              "      <td>1</td>\n",
              "      <td>0</td>\n",
              "      <td>0</td>\n",
              "      <td>0</td>\n",
              "      <td>1</td>\n",
              "    </tr>\n",
              "    <tr>\n",
              "      <th>3</th>\n",
              "      <td>7795-CFOCW</td>\n",
              "      <td>45</td>\n",
              "      <td>42.30</td>\n",
              "      <td>1840.75</td>\n",
              "      <td>0</td>\n",
              "      <td>0</td>\n",
              "      <td>1</td>\n",
              "      <td>1</td>\n",
              "      <td>0</td>\n",
              "      <td>1</td>\n",
              "      <td>...</td>\n",
              "      <td>0</td>\n",
              "      <td>0</td>\n",
              "      <td>1</td>\n",
              "      <td>0</td>\n",
              "      <td>1</td>\n",
              "      <td>0</td>\n",
              "      <td>1</td>\n",
              "      <td>0</td>\n",
              "      <td>0</td>\n",
              "      <td>0</td>\n",
              "    </tr>\n",
              "    <tr>\n",
              "      <th>4</th>\n",
              "      <td>9237-HQITU</td>\n",
              "      <td>2</td>\n",
              "      <td>70.70</td>\n",
              "      <td>151.65</td>\n",
              "      <td>1</td>\n",
              "      <td>1</td>\n",
              "      <td>0</td>\n",
              "      <td>1</td>\n",
              "      <td>0</td>\n",
              "      <td>1</td>\n",
              "      <td>...</td>\n",
              "      <td>0</td>\n",
              "      <td>1</td>\n",
              "      <td>0</td>\n",
              "      <td>0</td>\n",
              "      <td>0</td>\n",
              "      <td>1</td>\n",
              "      <td>0</td>\n",
              "      <td>0</td>\n",
              "      <td>1</td>\n",
              "      <td>0</td>\n",
              "    </tr>\n",
              "  </tbody>\n",
              "</table>\n",
              "<p>5 rows × 48 columns</p>\n",
              "</div>\n",
              "      <button class=\"colab-df-convert\" onclick=\"convertToInteractive('df-8035c4b0-aee9-4149-9118-934896ea30fa')\"\n",
              "              title=\"Convert this dataframe to an interactive table.\"\n",
              "              style=\"display:none;\">\n",
              "        \n",
              "  <svg xmlns=\"http://www.w3.org/2000/svg\" height=\"24px\"viewBox=\"0 0 24 24\"\n",
              "       width=\"24px\">\n",
              "    <path d=\"M0 0h24v24H0V0z\" fill=\"none\"/>\n",
              "    <path d=\"M18.56 5.44l.94 2.06.94-2.06 2.06-.94-2.06-.94-.94-2.06-.94 2.06-2.06.94zm-11 1L8.5 8.5l.94-2.06 2.06-.94-2.06-.94L8.5 2.5l-.94 2.06-2.06.94zm10 10l.94 2.06.94-2.06 2.06-.94-2.06-.94-.94-2.06-.94 2.06-2.06.94z\"/><path d=\"M17.41 7.96l-1.37-1.37c-.4-.4-.92-.59-1.43-.59-.52 0-1.04.2-1.43.59L10.3 9.45l-7.72 7.72c-.78.78-.78 2.05 0 2.83L4 21.41c.39.39.9.59 1.41.59.51 0 1.02-.2 1.41-.59l7.78-7.78 2.81-2.81c.8-.78.8-2.07 0-2.86zM5.41 20L4 18.59l7.72-7.72 1.47 1.35L5.41 20z\"/>\n",
              "  </svg>\n",
              "      </button>\n",
              "      \n",
              "  <style>\n",
              "    .colab-df-container {\n",
              "      display:flex;\n",
              "      flex-wrap:wrap;\n",
              "      gap: 12px;\n",
              "    }\n",
              "\n",
              "    .colab-df-convert {\n",
              "      background-color: #E8F0FE;\n",
              "      border: none;\n",
              "      border-radius: 50%;\n",
              "      cursor: pointer;\n",
              "      display: none;\n",
              "      fill: #1967D2;\n",
              "      height: 32px;\n",
              "      padding: 0 0 0 0;\n",
              "      width: 32px;\n",
              "    }\n",
              "\n",
              "    .colab-df-convert:hover {\n",
              "      background-color: #E2EBFA;\n",
              "      box-shadow: 0px 1px 2px rgba(60, 64, 67, 0.3), 0px 1px 3px 1px rgba(60, 64, 67, 0.15);\n",
              "      fill: #174EA6;\n",
              "    }\n",
              "\n",
              "    [theme=dark] .colab-df-convert {\n",
              "      background-color: #3B4455;\n",
              "      fill: #D2E3FC;\n",
              "    }\n",
              "\n",
              "    [theme=dark] .colab-df-convert:hover {\n",
              "      background-color: #434B5C;\n",
              "      box-shadow: 0px 1px 3px 1px rgba(0, 0, 0, 0.15);\n",
              "      filter: drop-shadow(0px 1px 2px rgba(0, 0, 0, 0.3));\n",
              "      fill: #FFFFFF;\n",
              "    }\n",
              "  </style>\n",
              "\n",
              "      <script>\n",
              "        const buttonEl =\n",
              "          document.querySelector('#df-8035c4b0-aee9-4149-9118-934896ea30fa button.colab-df-convert');\n",
              "        buttonEl.style.display =\n",
              "          google.colab.kernel.accessAllowed ? 'block' : 'none';\n",
              "\n",
              "        async function convertToInteractive(key) {\n",
              "          const element = document.querySelector('#df-8035c4b0-aee9-4149-9118-934896ea30fa');\n",
              "          const dataTable =\n",
              "            await google.colab.kernel.invokeFunction('convertToInteractive',\n",
              "                                                     [key], {});\n",
              "          if (!dataTable) return;\n",
              "\n",
              "          const docLinkHtml = 'Like what you see? Visit the ' +\n",
              "            '<a target=\"_blank\" href=https://colab.research.google.com/notebooks/data_table.ipynb>data table notebook</a>'\n",
              "            + ' to learn more about interactive tables.';\n",
              "          element.innerHTML = '';\n",
              "          dataTable['output_type'] = 'display_data';\n",
              "          await google.colab.output.renderOutput(dataTable, element);\n",
              "          const docLink = document.createElement('div');\n",
              "          docLink.innerHTML = docLinkHtml;\n",
              "          element.appendChild(docLink);\n",
              "        }\n",
              "      </script>\n",
              "    </div>\n",
              "  </div>\n",
              "  "
            ]
          },
          "metadata": {},
          "execution_count": 40
        }
      ],
      "source": [
        "replaceStruct = {\"Churn\":     {\"No\": 0, \"Yes\": 1 }  }\n",
        "oneHotCols = [\"gender\",\"SeniorCitizen\",\"Partner\",\"Dependents\",\"PhoneService\",\"MultipleLines\"\n",
        "            ,\"InternetService\",\"OnlineSecurity\",\"OnlineBackup\",\n",
        "            \"DeviceProtection\",\"TechSupport\",\"StreamingTV\",\"StreamingMovies\",\n",
        "            \"Contract\",\"PaperlessBilling\",\"PaymentMethod\"]\n",
        "\n",
        "replaced_data=df.replace(replaceStruct, inplace=True)\n",
        "replaced_data=pd.get_dummies(df, columns=oneHotCols)\n",
        "replaced_data.head()"
      ]
    },
    {
      "cell_type": "code",
      "execution_count": 41,
      "metadata": {
        "colab": {
          "base_uri": "https://localhost:8080/"
        },
        "id": "2XS_kF-XcjXX",
        "outputId": "0de41ea2-62ea-4f8b-e7fe-b03c82184443"
      },
      "outputs": [
        {
          "output_type": "execute_result",
          "data": {
            "text/plain": [
              "Index(['customerID', 'tenure', 'MonthlyCharges', 'TotalCharges', 'Churn',\n",
              "       'gender_Female', 'gender_Male', 'SeniorCitizen_0', 'SeniorCitizen_1',\n",
              "       'Partner_No', 'Partner_Yes', 'Dependents_No', 'Dependents_Yes',\n",
              "       'PhoneService_No', 'PhoneService_Yes', 'MultipleLines_No',\n",
              "       'MultipleLines_No phone service', 'MultipleLines_Yes',\n",
              "       'InternetService_DSL', 'InternetService_Fiber optic',\n",
              "       'InternetService_No', 'OnlineSecurity_No',\n",
              "       'OnlineSecurity_No internet service', 'OnlineSecurity_Yes',\n",
              "       'OnlineBackup_No', 'OnlineBackup_No internet service',\n",
              "       'OnlineBackup_Yes', 'DeviceProtection_No',\n",
              "       'DeviceProtection_No internet service', 'DeviceProtection_Yes',\n",
              "       'TechSupport_No', 'TechSupport_No internet service', 'TechSupport_Yes',\n",
              "       'StreamingTV_No', 'StreamingTV_No internet service', 'StreamingTV_Yes',\n",
              "       'StreamingMovies_No', 'StreamingMovies_No internet service',\n",
              "       'StreamingMovies_Yes', 'Contract_Month-to-month', 'Contract_One year',\n",
              "       'Contract_Two year', 'PaperlessBilling_No', 'PaperlessBilling_Yes',\n",
              "       'PaymentMethod_Bank transfer (automatic)',\n",
              "       'PaymentMethod_Credit card (automatic)',\n",
              "       'PaymentMethod_Electronic check', 'PaymentMethod_Mailed check'],\n",
              "      dtype='object')"
            ]
          },
          "metadata": {},
          "execution_count": 41
        }
      ],
      "source": [
        "replaced_data.columns"
      ]
    },
    {
      "cell_type": "code",
      "execution_count": 42,
      "metadata": {
        "colab": {
          "base_uri": "https://localhost:8080/"
        },
        "id": "rQjG-Yiicqs6",
        "outputId": "d6020199-fb0c-40bd-99c2-910073947129"
      },
      "outputs": [
        {
          "output_type": "execute_result",
          "data": {
            "text/plain": [
              "(7043, 48)"
            ]
          },
          "metadata": {},
          "execution_count": 42
        }
      ],
      "source": [
        "replaced_data.shape\n",
        "# We see that we have 48 features now which were initially 21."
      ]
    },
    {
      "cell_type": "code",
      "execution_count": 43,
      "metadata": {
        "colab": {
          "base_uri": "https://localhost:8080/"
        },
        "id": "ln8biuiWcuz9",
        "outputId": "ad528e83-6104-4ac2-f970-a3ae1a7a4451"
      },
      "outputs": [
        {
          "output_type": "stream",
          "name": "stdout",
          "text": [
            "['TotalCharges']\n"
          ]
        }
      ],
      "source": [
        "feature_with_blank = []\n",
        "for feature in replaced_data.columns: # Loop through all columns in the dataframe\n",
        "    if any(replaced_data[feature] == ' '): \n",
        "        # Look foreplaced_data[feature] == ' 'r blanks in each series\n",
        "        feature_with_blank.append(feature)\n",
        "print(feature_with_blank)\n",
        "# Only TotalCharges has blank spaces, rest are fine"
      ]
    },
    {
      "cell_type": "code",
      "execution_count": 44,
      "metadata": {
        "colab": {
          "base_uri": "https://localhost:8080/"
        },
        "id": "CrkDwQE_cyO2",
        "outputId": "2603e401-2921-440a-8b9a-bf7773e7b815"
      },
      "outputs": [
        {
          "output_type": "execute_result",
          "data": {
            "text/plain": [
              "Int64Index([488, 753, 936, 1082, 1340, 3331, 3826, 4380, 5218, 6670, 6754], dtype='int64')"
            ]
          },
          "metadata": {},
          "execution_count": 44
        }
      ],
      "source": [
        "# Here we see that TotalCharges has ' ' as missing data at below indices\n",
        "replaced_data[replaced_data.TotalCharges == ' '].index\n",
        "# We need to impute these before moving forward"
      ]
    },
    {
      "cell_type": "markdown",
      "metadata": {
        "id": "Ep0DybwMc28h"
      },
      "source": [
        "We see that we have blank values for TotalCharges at above indices. We first replace it with Nan values and then proceed."
      ]
    },
    {
      "cell_type": "code",
      "execution_count": 45,
      "metadata": {
        "colab": {
          "base_uri": "https://localhost:8080/"
        },
        "id": "krTXNarwc3gm",
        "outputId": "d1ac6c0c-096f-4330-cdc9-34fb29237680"
      },
      "outputs": [
        {
          "output_type": "stream",
          "name": "stdout",
          "text": [
            "Int64Index([], dtype='int64')\n",
            "False    7032\n",
            "True       11\n",
            "Name: TotalCharges, dtype: int64\n"
          ]
        }
      ],
      "source": [
        "replaced_data.replace(' ', np.nan, inplace=True)\n",
        "print(replaced_data[replaced_data.TotalCharges == ' '].index)\n",
        "print(replaced_data.TotalCharges.isna().value_counts())\n",
        "# We have 11 Missing values in our data"
      ]
    },
    {
      "cell_type": "code",
      "execution_count": 46,
      "metadata": {
        "colab": {
          "base_uri": "https://localhost:8080/"
        },
        "id": "vucH1ZW5c948",
        "outputId": "d70273b4-9dc3-4ba6-b3c3-32552a0a35b5"
      },
      "outputs": [
        {
          "output_type": "execute_result",
          "data": {
            "text/plain": [
              "dtype('float64')"
            ]
          },
          "metadata": {},
          "execution_count": 46
        }
      ],
      "source": [
        "# Changing datatype to numeric now \n",
        "replaced_data.TotalCharges = pd.to_numeric(replaced_data.TotalCharges) \n",
        "replaced_data.TotalCharges.dtype"
      ]
    },
    {
      "cell_type": "code",
      "execution_count": 47,
      "metadata": {
        "colab": {
          "base_uri": "https://localhost:8080/",
          "height": 399
        },
        "id": "NcdLXfEedB3f",
        "outputId": "9e55e38d-7325-49d9-cc26-7a1ddcd9545f"
      },
      "outputs": [
        {
          "output_type": "stream",
          "name": "stderr",
          "text": [
            "/usr/local/lib/python3.7/dist-packages/seaborn/distributions.py:2619: FutureWarning: `distplot` is a deprecated function and will be removed in a future version. Please adapt your code to use either `displot` (a figure-level function with similar flexibility) or `histplot` (an axes-level function for histograms).\n",
            "  warnings.warn(msg, FutureWarning)\n",
            "/usr/local/lib/python3.7/dist-packages/seaborn/distributions.py:2619: FutureWarning: `distplot` is a deprecated function and will be removed in a future version. Please adapt your code to use either `displot` (a figure-level function with similar flexibility) or `histplot` (an axes-level function for histograms).\n",
            "  warnings.warn(msg, FutureWarning)\n"
          ]
        },
        {
          "output_type": "execute_result",
          "data": {
            "text/plain": [
              "<matplotlib.legend.Legend at 0x7f5309708590>"
            ]
          },
          "metadata": {},
          "execution_count": 47
        },
        {
          "output_type": "display_data",
          "data": {
            "text/plain": [
              "<Figure size 432x288 with 1 Axes>"
            ],
            "image/png": "[encoded data removed]"
          },
          "metadata": {
            "needs_background": "light"
          }
        }
      ],
      "source": [
        "plt2=sns.distplot(replaced_data[replaced_data.Churn==0][replaced_data.TotalCharges.name],color='green',label='Non-Churner')\n",
        "sns.distplot(replaced_data[replaced_data.Churn==1][replaced_data.TotalCharges.name],color='red',label='Churner')\n",
        "plt2.set_title('Distribution of '+ replaced_data.TotalCharges.name,fontdict={'fontsize':10})\n",
        "plt2.set_xlabel(replaced_data.TotalCharges.name,fontdict={'fontsize':9})\n",
        "plt2.set_ylabel('Count/Dist.',fontdict={'fontsize':9})\n",
        "plt2.axes.legend(loc=0)\n",
        "\n",
        "# We can see that few values are very large so mean will be impacted a lot. We will use median based imputation"
      ]
    },
    {
      "cell_type": "code",
      "execution_count": 48,
      "metadata": {
        "colab": {
          "base_uri": "https://localhost:8080/"
        },
        "id": "4Uiia6zDdJWy",
        "outputId": "86ee3490-4ea3-427b-bb69-07f51e18caf1"
      },
      "outputs": [
        {
          "output_type": "execute_result",
          "data": {
            "text/plain": [
              "Churn\n",
              "0    1683.60\n",
              "1     703.55\n",
              "Name: TotalCharges, dtype: float64"
            ]
          },
          "metadata": {},
          "execution_count": 48
        }
      ],
      "source": [
        "median_df=replaced_data.groupby('Churn')['TotalCharges'].median()\n",
        "median_df"
      ]
    },
    {
      "cell_type": "markdown",
      "metadata": {
        "id": "oCR5TSU5dMf6"
      },
      "source": [
        "We see that for customers who do not churn have TotalCharges median value as 1683.60 which is way higher than people who churn. So we will update all missing values accordingly."
      ]
    },
    {
      "cell_type": "code",
      "execution_count": 49,
      "metadata": {
        "colab": {
          "base_uri": "https://localhost:8080/"
        },
        "id": "QlzKoHKudOSs",
        "outputId": "35984d4a-a4fe-4c26-8a1e-a09d616182f5"
      },
      "outputs": [
        {
          "output_type": "stream",
          "name": "stdout",
          "text": [
            "False    7043\n",
            "Name: TotalCharges, dtype: int64\n"
          ]
        }
      ],
      "source": [
        "var_0=median_df.iloc[0]\n",
        "var_1=median_df.iloc[1]\n",
        "replaced_data.loc[(replaced_data['Churn'] == 0) & (replaced_data['TotalCharges'].isnull()), 'TotalCharges'] = var_0\n",
        "replaced_data.loc[(replaced_data['Churn'] == 1) & (replaced_data['TotalCharges'].isnull()), 'TotalCharges'] = var_1\n",
        "print(replaced_data.TotalCharges.isna().value_counts())\n",
        "\n",
        "# We have successfully replaced the values"
      ]
    },
    {
      "cell_type": "markdown",
      "metadata": {
        "id": "U8ac82sOdUDF"
      },
      "source": [
        "\n",
        "\n",
        "Here we'll be balancing our data for Churn Label first using SMOTE, then standardize our data and finally move to model building part."
      ]
    },
    {
      "cell_type": "code",
      "execution_count": 50,
      "metadata": {
        "colab": {
          "base_uri": "https://localhost:8080/",
          "height": 334
        },
        "id": "us3u4P-BdOeB",
        "outputId": "b2ce32c5-4314-43ea-f550-3566786a1640"
      },
      "outputs": [
        {
          "output_type": "execute_result",
          "data": {
            "text/plain": [
              "   tenure  MonthlyCharges  TotalCharges  Churn  gender_Female  gender_Male  \\\n",
              "0       1           29.85         29.85      0              1            0   \n",
              "1      34           56.95       1889.50      0              0            1   \n",
              "2       2           53.85        108.15      1              0            1   \n",
              "3      45           42.30       1840.75      0              0            1   \n",
              "4       2           70.70        151.65      1              1            0   \n",
              "\n",
              "   SeniorCitizen_0  SeniorCitizen_1  Partner_No  Partner_Yes  ...  \\\n",
              "0                1                0           0            1  ...   \n",
              "1                1                0           1            0  ...   \n",
              "2                1                0           1            0  ...   \n",
              "3                1                0           1            0  ...   \n",
              "4                1                0           1            0  ...   \n",
              "\n",
              "   StreamingMovies_Yes  Contract_Month-to-month  Contract_One year  \\\n",
              "0                    0                        1                  0   \n",
              "1                    0                        0                  1   \n",
              "2                    0                        1                  0   \n",
              "3                    0                        0                  1   \n",
              "4                    0                        1                  0   \n",
              "\n",
              "   Contract_Two year  PaperlessBilling_No  PaperlessBilling_Yes  \\\n",
              "0                  0                    0                     1   \n",
              "1                  0                    1                     0   \n",
              "2                  0                    0                     1   \n",
              "3                  0                    1                     0   \n",
              "4                  0                    0                     1   \n",
              "\n",
              "   PaymentMethod_Bank transfer (automatic)  \\\n",
              "0                                        0   \n",
              "1                                        0   \n",
              "2                                        0   \n",
              "3                                        1   \n",
              "4                                        0   \n",
              "\n",
              "   PaymentMethod_Credit card (automatic)  PaymentMethod_Electronic check  \\\n",
              "0                                      0                               1   \n",
              "1                                      0                               0   \n",
              "2                                      0                               0   \n",
              "3                                      0                               0   \n",
              "4                                      0                               1   \n",
              "\n",
              "   PaymentMethod_Mailed check  \n",
              "0                           0  \n",
              "1                           1  \n",
              "2                           1  \n",
              "3                           0  \n",
              "4                           0  \n",
              "\n",
              "[5 rows x 47 columns]"
            ],
            "text/html": [
              "\n",
              "  <div id=\"df-0aadb16b-ce73-4bff-af02-34e88ddd6926\">\n",
              "    <div class=\"colab-df-container\">\n",
              "      <div>\n",
              "<style scoped>\n",
              "    .dataframe tbody tr th:only-of-type {\n",
              "        vertical-align: middle;\n",
              "    }\n",
              "\n",
              "    .dataframe tbody tr th {\n",
              "        vertical-align: top;\n",
              "    }\n",
              "\n",
              "    .dataframe thead th {\n",
              "        text-align: right;\n",
              "    }\n",
              "</style>\n",
              "<table border=\"1\" class=\"dataframe\">\n",
              "  <thead>\n",
              "    <tr style=\"text-align: right;\">\n",
              "      <th></th>\n",
              "      <th>tenure</th>\n",
              "      <th>MonthlyCharges</th>\n",
              "      <th>TotalCharges</th>\n",
              "      <th>Churn</th>\n",
              "      <th>gender_Female</th>\n",
              "      <th>gender_Male</th>\n",
              "      <th>SeniorCitizen_0</th>\n",
              "      <th>SeniorCitizen_1</th>\n",
              "      <th>Partner_No</th>\n",
              "      <th>Partner_Yes</th>\n",
              "      <th>...</th>\n",
              "      <th>StreamingMovies_Yes</th>\n",
              "      <th>Contract_Month-to-month</th>\n",
              "      <th>Contract_One year</th>\n",
              "      <th>Contract_Two year</th>\n",
              "      <th>PaperlessBilling_No</th>\n",
              "      <th>PaperlessBilling_Yes</th>\n",
              "      <th>PaymentMethod_Bank transfer (automatic)</th>\n",
              "      <th>PaymentMethod_Credit card (automatic)</th>\n",
              "      <th>PaymentMethod_Electronic check</th>\n",
              "      <th>PaymentMethod_Mailed check</th>\n",
              "    </tr>\n",
              "  </thead>\n",
              "  <tbody>\n",
              "    <tr>\n",
              "      <th>0</th>\n",
              "      <td>1</td>\n",
              "      <td>29.85</td>\n",
              "      <td>29.85</td>\n",
              "      <td>0</td>\n",
              "      <td>1</td>\n",
              "      <td>0</td>\n",
              "      <td>1</td>\n",
              "      <td>0</td>\n",
              "      <td>0</td>\n",
              "      <td>1</td>\n",
              "      <td>...</td>\n",
              "      <td>0</td>\n",
              "      <td>1</td>\n",
              "      <td>0</td>\n",
              "      <td>0</td>\n",
              "      <td>0</td>\n",
              "      <td>1</td>\n",
              "      <td>0</td>\n",
              "      <td>0</td>\n",
              "      <td>1</td>\n",
              "      <td>0</td>\n",
              "    </tr>\n",
              "    <tr>\n",
              "      <th>1</th>\n",
              "      <td>34</td>\n",
              "      <td>56.95</td>\n",
              "      <td>1889.50</td>\n",
              "      <td>0</td>\n",
              "      <td>0</td>\n",
              "      <td>1</td>\n",
              "      <td>1</td>\n",
              "      <td>0</td>\n",
              "      <td>1</td>\n",
              "      <td>0</td>\n",
              "      <td>...</td>\n",
              "      <td>0</td>\n",
              "      <td>0</td>\n",
              "      <td>1</td>\n",
              "      <td>0</td>\n",
              "      <td>1</td>\n",
              "      <td>0</td>\n",
              "      <td>0</td>\n",
              "      <td>0</td>\n",
              "      <td>0</td>\n",
              "      <td>1</td>\n",
              "    </tr>\n",
              "    <tr>\n",
              "      <th>2</th>\n",
              "      <td>2</td>\n",
              "      <td>53.85</td>\n",
              "      <td>108.15</td>\n",
              "      <td>1</td>\n",
              "      <td>0</td>\n",
              "      <td>1</td>\n",
              "      <td>1</td>\n",
              "      <td>0</td>\n",
              "      <td>1</td>\n",
              "      <td>0</td>\n",
              "      <td>...</td>\n",
              "      <td>0</td>\n",
              "      <td>1</td>\n",
              "      <td>0</td>\n",
              "      <td>0</td>\n",
              "      <td>0</td>\n",
              "      <td>1</td>\n",
              "      <td>0</td>\n",
              "      <td>0</td>\n",
              "      <td>0</td>\n",
              "      <td>1</td>\n",
              "    </tr>\n",
              "    <tr>\n",
              "      <th>3</th>\n",
              "      <td>45</td>\n",
              "      <td>42.30</td>\n",
              "      <td>1840.75</td>\n",
              "      <td>0</td>\n",
              "      <td>0</td>\n",
              "      <td>1</td>\n",
              "      <td>1</td>\n",
              "      <td>0</td>\n",
              "      <td>1</td>\n",
              "      <td>0</td>\n",
              "      <td>...</td>\n",
              "      <td>0</td>\n",
              "      <td>0</td>\n",
              "      <td>1</td>\n",
              "      <td>0</td>\n",
              "      <td>1</td>\n",
              "      <td>0</td>\n",
              "      <td>1</td>\n",
              "      <td>0</td>\n",
              "      <td>0</td>\n",
              "      <td>0</td>\n",
              "    </tr>\n",
              "    <tr>\n",
              "      <th>4</th>\n",
              "      <td>2</td>\n",
              "      <td>70.70</td>\n",
              "      <td>151.65</td>\n",
              "      <td>1</td>\n",
              "      <td>1</td>\n",
              "      <td>0</td>\n",
              "      <td>1</td>\n",
              "      <td>0</td>\n",
              "      <td>1</td>\n",
              "      <td>0</td>\n",
              "      <td>...</td>\n",
              "      <td>0</td>\n",
              "      <td>1</td>\n",
              "      <td>0</td>\n",
              "      <td>0</td>\n",
              "      <td>0</td>\n",
              "      <td>1</td>\n",
              "      <td>0</td>\n",
              "      <td>0</td>\n",
              "      <td>1</td>\n",
              "      <td>0</td>\n",
              "    </tr>\n",
              "  </tbody>\n",
              "</table>\n",
              "<p>5 rows × 47 columns</p>\n",
              "</div>\n",
              "      <button class=\"colab-df-convert\" onclick=\"convertToInteractive('df-0aadb16b-ce73-4bff-af02-34e88ddd6926')\"\n",
              "              title=\"Convert this dataframe to an interactive table.\"\n",
              "              style=\"display:none;\">\n",
              "        \n",
              "  <svg xmlns=\"http://www.w3.org/2000/svg\" height=\"24px\"viewBox=\"0 0 24 24\"\n",
              "       width=\"24px\">\n",
              "    <path d=\"M0 0h24v24H0V0z\" fill=\"none\"/>\n",
              "    <path d=\"M18.56 5.44l.94 2.06.94-2.06 2.06-.94-2.06-.94-.94-2.06-.94 2.06-2.06.94zm-11 1L8.5 8.5l.94-2.06 2.06-.94-2.06-.94L8.5 2.5l-.94 2.06-2.06.94zm10 10l.94 2.06.94-2.06 2.06-.94-2.06-.94-.94-2.06-.94 2.06-2.06.94z\"/><path d=\"M17.41 7.96l-1.37-1.37c-.4-.4-.92-.59-1.43-.59-.52 0-1.04.2-1.43.59L10.3 9.45l-7.72 7.72c-.78.78-.78 2.05 0 2.83L4 21.41c.39.39.9.59 1.41.59.51 0 1.02-.2 1.41-.59l7.78-7.78 2.81-2.81c.8-.78.8-2.07 0-2.86zM5.41 20L4 18.59l7.72-7.72 1.47 1.35L5.41 20z\"/>\n",
              "  </svg>\n",
              "      </button>\n",
              "      \n",
              "  <style>\n",
              "    .colab-df-container {\n",
              "      display:flex;\n",
              "      flex-wrap:wrap;\n",
              "      gap: 12px;\n",
              "    }\n",
              "\n",
              "    .colab-df-convert {\n",
              "      background-color: #E8F0FE;\n",
              "      border: none;\n",
              "      border-radius: 50%;\n",
              "      cursor: pointer;\n",
              "      display: none;\n",
              "      fill: #1967D2;\n",
              "      height: 32px;\n",
              "      padding: 0 0 0 0;\n",
              "      width: 32px;\n",
              "    }\n",
              "\n",
              "    .colab-df-convert:hover {\n",
              "      background-color: #E2EBFA;\n",
              "      box-shadow: 0px 1px 2px rgba(60, 64, 67, 0.3), 0px 1px 3px 1px rgba(60, 64, 67, 0.15);\n",
              "      fill: #174EA6;\n",
              "    }\n",
              "\n",
              "    [theme=dark] .colab-df-convert {\n",
              "      background-color: #3B4455;\n",
              "      fill: #D2E3FC;\n",
              "    }\n",
              "\n",
              "    [theme=dark] .colab-df-convert:hover {\n",
              "      background-color: #434B5C;\n",
              "      box-shadow: 0px 1px 3px 1px rgba(0, 0, 0, 0.15);\n",
              "      filter: drop-shadow(0px 1px 2px rgba(0, 0, 0, 0.3));\n",
              "      fill: #FFFFFF;\n",
              "    }\n",
              "  </style>\n",
              "\n",
              "      <script>\n",
              "        const buttonEl =\n",
              "          document.querySelector('#df-0aadb16b-ce73-4bff-af02-34e88ddd6926 button.colab-df-convert');\n",
              "        buttonEl.style.display =\n",
              "          google.colab.kernel.accessAllowed ? 'block' : 'none';\n",
              "\n",
              "        async function convertToInteractive(key) {\n",
              "          const element = document.querySelector('#df-0aadb16b-ce73-4bff-af02-34e88ddd6926');\n",
              "          const dataTable =\n",
              "            await google.colab.kernel.invokeFunction('convertToInteractive',\n",
              "                                                     [key], {});\n",
              "          if (!dataTable) return;\n",
              "\n",
              "          const docLinkHtml = 'Like what you see? Visit the ' +\n",
              "            '<a target=\"_blank\" href=https://colab.research.google.com/notebooks/data_table.ipynb>data table notebook</a>'\n",
              "            + ' to learn more about interactive tables.';\n",
              "          element.innerHTML = '';\n",
              "          dataTable['output_type'] = 'display_data';\n",
              "          await google.colab.output.renderOutput(dataTable, element);\n",
              "          const docLink = document.createElement('div');\n",
              "          docLink.innerHTML = docLinkHtml;\n",
              "          element.appendChild(docLink);\n",
              "        }\n",
              "      </script>\n",
              "    </div>\n",
              "  </div>\n",
              "  "
            ]
          },
          "metadata": {},
          "execution_count": 50
        }
      ],
      "source": [
        "# Dropping customerID\n",
        "replaced_data=replaced_data.drop('customerID',axis=1)\n",
        "replaced_data.head()"
      ]
    },
    {
      "cell_type": "code",
      "execution_count": 51,
      "metadata": {
        "id": "DVBXpw9VddwB"
      },
      "outputs": [],
      "source": [
        "# Seperating Churn \n",
        "churn=replaced_data['Churn']\n",
        "x=replaced_data.drop('Churn',axis=1)"
      ]
    },
    {
      "cell_type": "code",
      "execution_count": 52,
      "metadata": {
        "colab": {
          "base_uri": "https://localhost:8080/",
          "height": 344
        },
        "id": "V4H-i7dEdgug",
        "outputId": "e6817ee4-a65d-4686-dd4b-0434d1091534"
      },
      "outputs": [
        {
          "output_type": "execute_result",
          "data": {
            "text/plain": [
              "0    5174\n",
              "1    1869\n",
              "Name: Churn, dtype: int64"
            ]
          },
          "metadata": {},
          "execution_count": 52
        },
        {
          "output_type": "display_data",
          "data": {
            "text/plain": [
              "<Figure size 432x288 with 1 Axes>"
            ],
            "image/png": "[encoded data removed]"
          },
          "metadata": {
            "needs_background": "light"
          }
        }
      ],
      "source": [
        "# scatter plot of examples by class label\n",
        "pd.value_counts(replaced_data['Churn']).plot.bar()\n",
        "plt.title('Churn class histogram')\n",
        "plt.xlabel('Churn')\n",
        "plt.ylabel('Frequency')\n",
        "replaced_data['Churn'].value_counts()\n",
        "\n",
        "# Clearly data-set has imbalanced class label for Churn !!"
      ]
    },
    {
      "cell_type": "code",
      "execution_count": 53,
      "metadata": {
        "colab": {
          "base_uri": "https://localhost:8080/"
        },
        "id": "vphp9aL0dkGU",
        "outputId": "bdc2449d-42ca-4fba-d73e-49390c827d22"
      },
      "outputs": [
        {
          "output_type": "stream",
          "name": "stdout",
          "text": [
            "Number Observations in X_train dataset:  (5634, 46)\n",
            "Number Observations in y_train dataset:  (5634,)\n",
            "Number Observations in X_test dataset:  (1409, 46)\n",
            "Number Observations in y_test dataset:  (1409,)\n"
          ]
        }
      ],
      "source": [
        "# Train and test splits\n",
        "from sklearn.model_selection import train_test_split\n",
        "from imblearn.over_sampling import SMOTE\n",
        "X_train, X_test, y_train, y_test = train_test_split(x, churn, test_size=0.2, random_state=0)\n",
        "\n",
        "print(\"Number Observations in X_train dataset: \", X_train.shape)\n",
        "print(\"Number Observations in y_train dataset: \", y_train.shape)\n",
        "print(\"Number Observations in X_test dataset: \", X_test.shape)\n",
        "print(\"Number Observations in y_test dataset: \", y_test.shape)"
      ]
    },
    {
      "cell_type": "code",
      "execution_count": 54,
      "metadata": {
        "colab": {
          "base_uri": "https://localhost:8080/"
        },
        "id": "7NVl0DKkdm6D",
        "outputId": "ed681d82-ac1b-4c40-8ee8-819bf3b6dfa0"
      },
      "outputs": [
        {
          "output_type": "stream",
          "name": "stdout",
          "text": [
            "Before OverSampling, counts of label '0': 4133 \n",
            "\n",
            "After OverSampling, the shape of train_X: (8266, 46)\n",
            "After OverSampling, the shape of train_y: (8266,) \n",
            "\n",
            "After OverSampling, counts of label '1': 4133\n",
            "After OverSampling, counts of label '0': 4133\n"
          ]
        }
      ],
      "source": [
        "print(\"Before OverSampling, counts of label '0': {} \\n\".format(sum(y_train==0)))\n",
        "from imblearn.over_sampling import SMOTE\n",
        "\n",
        "sm = SMOTE(random_state=2)\n",
        "X_train_res, y_train_res = sm.fit_resample(X_train, y_train.ravel())\n",
        "\n",
        "print('After OverSampling, the shape of train_X: {}'.format(X_train_res.shape))\n",
        "print('After OverSampling, the shape of train_y: {} \\n'.format(y_train_res.shape))\n",
        "\n",
        "print(\"After OverSampling, counts of label '1': {}\".format(sum(y_train_res==1)))\n",
        "print(\"After OverSampling, counts of label '0': {}\".format(sum(y_train_res==0)))"
      ]
    },
    {
      "cell_type": "markdown",
      "metadata": {
        "id": "95ai8OlyeJpb"
      },
      "source": [
        "Note: Here we are just oversampling our train data and test data is still the same."
      ]
    },
    {
      "cell_type": "code",
      "execution_count": 55,
      "metadata": {
        "colab": {
          "base_uri": "https://localhost:8080/",
          "height": 309
        },
        "id": "5YZX_gFneKJF",
        "outputId": "e932d673-6545-45b6-a593-0c125bcc978f"
      },
      "outputs": [
        {
          "output_type": "execute_result",
          "data": {
            "text/plain": [
              "Text(0, 0.5, 'Frequency')"
            ]
          },
          "metadata": {},
          "execution_count": 55
        },
        {
          "output_type": "display_data",
          "data": {
            "text/plain": [
              "<Figure size 432x288 with 1 Axes>"
            ],
            "image/png": "[encoded data removed]"
          },
          "metadata": {
            "needs_background": "light"
          }
        }
      ],
      "source": [
        "# Resampled data after SMOTE\n",
        "pd.value_counts(y_train_res).plot.bar()\n",
        "plt.title('Churn class histogram after SMOTE in train data')\n",
        "plt.xlabel('Churn')\n",
        "plt.ylabel('Frequency')"
      ]
    },
    {
      "cell_type": "code",
      "execution_count": 56,
      "metadata": {
        "colab": {
          "base_uri": "https://localhost:8080/",
          "height": 309
        },
        "id": "CiJIA1LBePBL",
        "outputId": "8060d2a1-3177-48ee-a717-701506b86e90"
      },
      "outputs": [
        {
          "output_type": "execute_result",
          "data": {
            "text/plain": [
              "Text(0, 0.5, 'Frequency')"
            ]
          },
          "metadata": {},
          "execution_count": 56
        },
        {
          "output_type": "display_data",
          "data": {
            "text/plain": [
              "<Figure size 432x288 with 1 Axes>"
            ],
            "image/png": "[encoded data removed]"
          },
          "metadata": {
            "needs_background": "light"
          }
        }
      ],
      "source": [
        "pd.value_counts(y_test).plot.bar()\n",
        "plt.title('Churn class histogram for test data')\n",
        "plt.xlabel('Churn')\n",
        "plt.ylabel('Frequency')\n",
        "\n",
        "# Here we can see, data is still the same !!"
      ]
    },
    {
      "cell_type": "code",
      "execution_count": 57,
      "metadata": {
        "id": "Jj_7tH7XeStV"
      },
      "outputs": [],
      "source": [
        "from sklearn.preprocessing import StandardScaler\n",
        "scaled_train = StandardScaler().fit_transform(X_train_res)\n",
        "scaled_test = StandardScaler().fit_transform(X_test)\n",
        "from sklearn.preprocessing import MinMaxScaler\n",
        "scaler = MinMaxScaler(feature_range = (0,1))\n",
        "scaler.fit(X_train_res)\n",
        "scaled_train = pd.DataFrame(scaler.transform(X_train_res))\n",
        "\n",
        "scaler.fit(X_test)\n",
        "scaled_test = pd.DataFrame(scaler.transform(X_test))"
      ]
    },
    {
      "cell_type": "markdown",
      "metadata": {
        "id": "C4qp-jyMeZxH"
      },
      "source": [
        "In this section we have successfully scaled our data and now we can proceed to data modeling part."
      ]
    },
    {
      "cell_type": "markdown",
      "metadata": {
        "id": "h9BNdtQmecTC"
      },
      "source": [
        "\n",
        "\n",
        "\n",
        "\n",
        "\n",
        "\n",
        "\n",
        "\n",
        "#Model Building and evaluation"
      ]
    },
    {
      "cell_type": "markdown",
      "metadata": {
        "id": "qXblNdn4enHO"
      },
      "source": [
        "Decision Trees"
      ]
    },
    {
      "cell_type": "code",
      "execution_count": 58,
      "metadata": {
        "colab": {
          "base_uri": "https://localhost:8080/",
          "height": 1000
        },
        "id": "FC6c6WsSeaR7",
        "outputId": "27d52539-1239-47b4-fab6-aade0a13fb2d"
      },
      "outputs": [
        {
          "output_type": "execute_result",
          "data": {
            "text/plain": [
              "[Text(0.4375301950118121, 0.9821428571428571, 'X[37] <= 0.5\\ngini = 0.5\\nsamples = 8266\\nvalue = [4133, 4133]'),\n",
              " Text(0.11509525074678309, 0.9464285714285714, 'X[39] <= 0.5\\ngini = 0.323\\nsamples = 2962\\nvalue = [2361, 601]'),\n",
              " Text(0.06773645737591912, 0.9107142857142857, 'X[38] <= 0.5\\ngini = 0.448\\nsamples = 1608\\nvalue = [1063, 545]'),\n",
              " Text(0.0668173397288603, 0.875, 'gini = 0.0\\nsamples = 390\\nvalue = [0, 390]'),\n",
              " Text(0.06865557502297794, 0.875, 'X[1] <= 0.634\\ngini = 0.222\\nsamples = 1218\\nvalue = [1063, 155]'),\n",
              " Text(0.029871323529411766, 0.8392857142857143, 'X[36] <= 0.5\\ngini = 0.106\\nsamples = 767\\nvalue = [724, 43]'),\n",
              " Text(0.01401654411764706, 0.8035714285714286, 'X[41] <= 0.5\\ngini = 0.067\\nsamples = 576\\nvalue = [556, 20]'),\n",
              " Text(0.004825367647058824, 0.7678571428571429, 'X[2] <= 0.002\\ngini = 0.034\\nsamples = 352\\nvalue = [346, 6]'),\n",
              " Text(0.001838235294117647, 0.7321428571428571, 'X[2] <= 0.002\\ngini = 0.245\\nsamples = 7\\nvalue = [6, 1]'),\n",
              " Text(0.0009191176470588235, 0.6964285714285714, 'gini = 0.0\\nsamples = 6\\nvalue = [6, 0]'),\n",
              " Text(0.0027573529411764708, 0.6964285714285714, 'gini = 0.0\\nsamples = 1\\nvalue = [0, 1]'),\n",
              " Text(0.0078125, 0.7321428571428571, 'X[42] <= 0.5\\ngini = 0.029\\nsamples = 345\\nvalue = [340, 5]'),\n",
              " Text(0.004595588235294118, 0.6964285714285714, 'X[1] <= 0.556\\ngini = 0.015\\nsamples = 258\\nvalue = [256, 2]'),\n",
              " Text(0.0027573529411764708, 0.6607142857142857, 'X[19] <= 0.5\\ngini = 0.008\\nsamples = 246\\nvalue = [245, 1]'),\n",
              " Text(0.001838235294117647, 0.625, 'gini = 0.0\\nsamples = 226\\nvalue = [226, 0]'),\n",
              " Text(0.003676470588235294, 0.625, 'X[1] <= 0.153\\ngini = 0.095\\nsamples = 20\\nvalue = [19, 1]'),\n",
              " Text(0.0027573529411764708, 0.5892857142857143, 'X[1] <= 0.136\\ngini = 0.375\\nsamples = 4\\nvalue = [3, 1]'),\n",
              " Text(0.001838235294117647, 0.5535714285714286, 'gini = 0.0\\nsamples = 3\\nvalue = [3, 0]'),\n",
              " Text(0.003676470588235294, 0.5535714285714286, 'gini = 0.0\\nsamples = 1\\nvalue = [0, 1]'),\n",
              " Text(0.004595588235294118, 0.5892857142857143, 'gini = 0.0\\nsamples = 16\\nvalue = [16, 0]'),\n",
              " Text(0.006433823529411764, 0.6607142857142857, 'X[1] <= 0.559\\ngini = 0.153\\nsamples = 12\\nvalue = [11, 1]'),\n",
              " Text(0.0055147058823529415, 0.625, 'gini = 0.0\\nsamples = 1\\nvalue = [0, 1]'),\n",
              " Text(0.007352941176470588, 0.625, 'gini = 0.0\\nsamples = 11\\nvalue = [11, 0]'),\n",
              " Text(0.011029411764705883, 0.6964285714285714, 'X[2] <= 0.122\\ngini = 0.067\\nsamples = 87\\nvalue = [84, 3]'),\n",
              " Text(0.01011029411764706, 0.6607142857142857, 'X[2] <= 0.115\\ngini = 0.122\\nsamples = 46\\nvalue = [43, 3]'),\n",
              " Text(0.009191176470588236, 0.625, 'X[15] <= 0.5\\ngini = 0.085\\nsamples = 45\\nvalue = [43, 2]'),\n",
              " Text(0.007352941176470588, 0.5892857142857143, 'X[2] <= 0.043\\ngini = 0.05\\nsamples = 39\\nvalue = [38, 1]'),\n",
              " Text(0.006433823529411764, 0.5535714285714286, 'X[2] <= 0.042\\ngini = 0.18\\nsamples = 10\\nvalue = [9, 1]'),\n",
              " Text(0.0055147058823529415, 0.5178571428571429, 'gini = 0.0\\nsamples = 9\\nvalue = [9, 0]'),\n",
              " Text(0.007352941176470588, 0.5178571428571429, 'gini = 0.0\\nsamples = 1\\nvalue = [0, 1]'),\n",
              " Text(0.008272058823529412, 0.5535714285714286, 'gini = 0.0\\nsamples = 29\\nvalue = [29, 0]'),\n",
              " Text(0.011029411764705883, 0.5892857142857143, 'X[0] <= 0.34\\ngini = 0.278\\nsamples = 6\\nvalue = [5, 1]'),\n",
              " Text(0.01011029411764706, 0.5535714285714286, 'gini = 0.0\\nsamples = 3\\nvalue = [3, 0]'),\n",
              " Text(0.011948529411764705, 0.5535714285714286, 'X[1] <= 0.071\\ngini = 0.444\\nsamples = 3\\nvalue = [2, 1]'),\n",
              " Text(0.011029411764705883, 0.5178571428571429, 'gini = 0.0\\nsamples = 1\\nvalue = [0, 1]'),\n",
              " Text(0.012867647058823529, 0.5178571428571429, 'gini = 0.0\\nsamples = 2\\nvalue = [2, 0]'),\n",
              " Text(0.011029411764705883, 0.625, 'gini = 0.0\\nsamples = 1\\nvalue = [0, 1]'),\n",
              " Text(0.011948529411764705, 0.6607142857142857, 'gini = 0.0\\nsamples = 41\\nvalue = [41, 0]'),\n",
              " Text(0.023207720588235295, 0.7678571428571429, 'X[0] <= 0.632\\ngini = 0.117\\nsamples = 224\\nvalue = [210, 14]'),\n",
              " Text(0.01884191176470588, 0.7321428571428571, 'X[1] <= 0.231\\ngini = 0.18\\nsamples = 130\\nvalue = [117, 13]'),\n",
              " Text(0.016544117647058824, 0.6964285714285714, 'X[0] <= 0.618\\ngini = 0.055\\nsamples = 71\\nvalue = [69, 2]'),\n",
              " Text(0.014705882352941176, 0.6607142857142857, 'X[2] <= 0.015\\ngini = 0.029\\nsamples = 69\\nvalue = [68, 1]'),\n",
              " Text(0.013786764705882353, 0.625, 'X[2] <= 0.014\\ngini = 0.278\\nsamples = 6\\nvalue = [5, 1]'),\n",
              " Text(0.012867647058823529, 0.5892857142857143, 'gini = 0.0\\nsamples = 5\\nvalue = [5, 0]'),\n",
              " Text(0.014705882352941176, 0.5892857142857143, 'gini = 0.0\\nsamples = 1\\nvalue = [0, 1]'),\n",
              " Text(0.015625, 0.625, 'gini = 0.0\\nsamples = 63\\nvalue = [63, 0]'),\n",
              " Text(0.01838235294117647, 0.6607142857142857, 'X[10] <= 0.5\\ngini = 0.5\\nsamples = 2\\nvalue = [1, 1]'),\n",
              " Text(0.017463235294117647, 0.625, 'gini = 0.0\\nsamples = 1\\nvalue = [0, 1]'),\n",
              " Text(0.019301470588235295, 0.625, 'gini = 0.0\\nsamples = 1\\nvalue = [1, 0]'),\n",
              " Text(0.021139705882352942, 0.6964285714285714, 'X[1] <= 0.302\\ngini = 0.303\\nsamples = 59\\nvalue = [48, 11]'),\n",
              " Text(0.02022058823529412, 0.6607142857142857, 'gini = 0.0\\nsamples = 2\\nvalue = [0, 2]'),\n",
              " Text(0.022058823529411766, 0.6607142857142857, 'X[0] <= 0.111\\ngini = 0.266\\nsamples = 57\\nvalue = [48, 9]'),\n",
              " Text(0.021139705882352942, 0.625, 'gini = 0.0\\nsamples = 1\\nvalue = [0, 1]'),\n",
              " Text(0.02297794117647059, 0.625, 'X[34] <= 0.5\\ngini = 0.245\\nsamples = 56\\nvalue = [48, 8]'),\n",
              " Text(0.022058823529411766, 0.5892857142857143, 'gini = 0.0\\nsamples = 1\\nvalue = [0, 1]'),\n",
              " Text(0.02389705882352941, 0.5892857142857143, 'X[8] <= 0.5\\ngini = 0.222\\nsamples = 55\\nvalue = [48, 7]'),\n",
              " Text(0.02068014705882353, 0.5535714285714286, 'X[4] <= 0.5\\ngini = 0.34\\nsamples = 23\\nvalue = [18, 5]'),\n",
              " Text(0.01884191176470588, 0.5178571428571429, 'X[13] <= 0.5\\ngini = 0.208\\nsamples = 17\\nvalue = [15, 2]'),\n",
              " Text(0.017922794117647058, 0.48214285714285715, 'X[43] <= 0.5\\ngini = 0.408\\nsamples = 7\\nvalue = [5, 2]'),\n",
              " Text(0.017003676470588234, 0.44642857142857145, 'X[2] <= 0.097\\ngini = 0.444\\nsamples = 3\\nvalue = [1, 2]'),\n",
              " Text(0.01608455882352941, 0.4107142857142857, 'gini = 0.0\\nsamples = 1\\nvalue = [1, 0]'),\n",
              " Text(0.017922794117647058, 0.4107142857142857, 'gini = 0.0\\nsamples = 2\\nvalue = [0, 2]'),\n",
              " Text(0.01884191176470588, 0.44642857142857145, 'gini = 0.0\\nsamples = 4\\nvalue = [4, 0]'),\n",
              " Text(0.019761029411764705, 0.48214285714285715, 'gini = 0.0\\nsamples = 10\\nvalue = [10, 0]'),\n",
              " Text(0.022518382352941176, 0.5178571428571429, 'X[1] <= 0.408\\ngini = 0.5\\nsamples = 6\\nvalue = [3, 3]'),\n",
              " Text(0.021599264705882353, 0.48214285714285715, 'gini = 0.0\\nsamples = 2\\nvalue = [2, 0]'),\n",
              " Text(0.0234375, 0.48214285714285715, 'X[0] <= 0.16\\ngini = 0.375\\nsamples = 4\\nvalue = [1, 3]'),\n",
              " Text(0.022518382352941176, 0.44642857142857145, 'gini = 0.0\\nsamples = 1\\nvalue = [1, 0]'),\n",
              " Text(0.024356617647058824, 0.44642857142857145, 'gini = 0.0\\nsamples = 3\\nvalue = [0, 3]'),\n",
              " Text(0.027113970588235295, 0.5535714285714286, 'X[0] <= 0.618\\ngini = 0.117\\nsamples = 32\\nvalue = [30, 2]'),\n",
              " Text(0.02619485294117647, 0.5178571428571429, 'X[1] <= 0.484\\ngini = 0.062\\nsamples = 31\\nvalue = [30, 1]'),\n",
              " Text(0.025275735294117647, 0.48214285714285715, 'gini = 0.0\\nsamples = 25\\nvalue = [25, 0]'),\n",
              " Text(0.027113970588235295, 0.48214285714285715, 'X[0] <= 0.347\\ngini = 0.278\\nsamples = 6\\nvalue = [5, 1]'),\n",
              " Text(0.02619485294117647, 0.44642857142857145, 'gini = 0.0\\nsamples = 1\\nvalue = [0, 1]'),\n",
              " Text(0.02803308823529412, 0.44642857142857145, 'gini = 0.0\\nsamples = 5\\nvalue = [5, 0]'),\n",
              " Text(0.02803308823529412, 0.5178571428571429, 'gini = 0.0\\nsamples = 1\\nvalue = [0, 1]'),\n",
              " Text(0.027573529411764705, 0.7321428571428571, 'X[5] <= 0.5\\ngini = 0.021\\nsamples = 94\\nvalue = [93, 1]'),\n",
              " Text(0.02665441176470588, 0.6964285714285714, 'X[0] <= 0.757\\ngini = 0.142\\nsamples = 13\\nvalue = [12, 1]'),\n",
              " Text(0.025735294117647058, 0.6607142857142857, 'X[42] <= 0.5\\ngini = 0.5\\nsamples = 2\\nvalue = [1, 1]'),\n",
              " Text(0.024816176470588234, 0.625, 'gini = 0.0\\nsamples = 1\\nvalue = [0, 1]'),\n",
              " Text(0.02665441176470588, 0.625, 'gini = 0.0\\nsamples = 1\\nvalue = [1, 0]'),\n",
              " Text(0.027573529411764705, 0.6607142857142857, 'gini = 0.0\\nsamples = 11\\nvalue = [11, 0]'),\n",
              " Text(0.02849264705882353, 0.6964285714285714, 'gini = 0.0\\nsamples = 81\\nvalue = [81, 0]'),\n",
              " Text(0.04572610294117647, 0.8035714285714286, 'X[2] <= 0.605\\ngini = 0.212\\nsamples = 191\\nvalue = [168, 23]'),\n",
              " Text(0.042279411764705885, 0.7678571428571429, 'X[1] <= 0.555\\ngini = 0.192\\nsamples = 186\\nvalue = [166, 20]'),\n",
              " Text(0.0390625, 0.7321428571428571, 'X[1] <= 0.552\\ngini = 0.255\\nsamples = 120\\nvalue = [102, 18]'),\n",
              " Text(0.03814338235294118, 0.6964285714285714, 'X[31] <= 0.5\\ngini = 0.234\\nsamples = 118\\nvalue = [102, 16]'),\n",
              " Text(0.035386029411764705, 0.6607142857142857, 'X[1] <= 0.515\\ngini = 0.35\\nsamples = 53\\nvalue = [41, 12]'),\n",
              " Text(0.03262867647058824, 0.625, 'X[22] <= 0.5\\ngini = 0.263\\nsamples = 45\\nvalue = [38, 7]'),\n",
              " Text(0.029871323529411766, 0.5892857142857143, 'X[1] <= 0.363\\ngini = 0.415\\nsamples = 17\\nvalue = [12, 5]'),\n",
              " Text(0.028952205882352942, 0.5535714285714286, 'gini = 0.0\\nsamples = 2\\nvalue = [0, 2]'),\n",
              " Text(0.03079044117647059, 0.5535714285714286, 'X[0] <= 0.743\\ngini = 0.32\\nsamples = 15\\nvalue = [12, 3]'),\n",
              " Text(0.029871323529411766, 0.5178571428571429, 'X[2] <= 0.321\\ngini = 0.444\\nsamples = 9\\nvalue = [6, 3]'),\n",
              " Text(0.028952205882352942, 0.48214285714285715, 'gini = 0.0\\nsamples = 6\\nvalue = [6, 0]'),\n",
              " Text(0.03079044117647059, 0.48214285714285715, 'gini = 0.0\\nsamples = 3\\nvalue = [0, 3]'),\n",
              " Text(0.03170955882352941, 0.5178571428571429, 'gini = 0.0\\nsamples = 6\\nvalue = [6, 0]'),\n",
              " Text(0.035386029411764705, 0.5892857142857143, 'X[0] <= 0.958\\ngini = 0.133\\nsamples = 28\\nvalue = [26, 2]'),\n",
              " Text(0.034466911764705885, 0.5535714285714286, 'X[0] <= 0.299\\ngini = 0.071\\nsamples = 27\\nvalue = [26, 1]'),\n",
              " Text(0.03354779411764706, 0.5178571428571429, 'X[0] <= 0.264\\ngini = 0.32\\nsamples = 5\\nvalue = [4, 1]'),\n",
              " Text(0.03262867647058824, 0.48214285714285715, 'gini = 0.0\\nsamples = 4\\nvalue = [4, 0]'),\n",
              " Text(0.034466911764705885, 0.48214285714285715, 'gini = 0.0\\nsamples = 1\\nvalue = [0, 1]'),\n",
              " Text(0.035386029411764705, 0.5178571428571429, 'gini = 0.0\\nsamples = 22\\nvalue = [22, 0]'),\n",
              " Text(0.03630514705882353, 0.5535714285714286, 'gini = 0.0\\nsamples = 1\\nvalue = [0, 1]'),\n",
              " Text(0.03814338235294118, 0.625, 'X[30] <= 0.5\\ngini = 0.469\\nsamples = 8\\nvalue = [3, 5]'),\n",
              " Text(0.03722426470588235, 0.5892857142857143, 'gini = 0.0\\nsamples = 5\\nvalue = [0, 5]'),\n",
              " Text(0.0390625, 0.5892857142857143, 'gini = 0.0\\nsamples = 3\\nvalue = [3, 0]'),\n",
              " Text(0.04090073529411765, 0.6607142857142857, 'X[13] <= 0.5\\ngini = 0.116\\nsamples = 65\\nvalue = [61, 4]'),\n",
              " Text(0.03998161764705882, 0.625, 'gini = 0.0\\nsamples = 32\\nvalue = [32, 0]'),\n",
              " Text(0.04181985294117647, 0.625, 'X[1] <= 0.362\\ngini = 0.213\\nsamples = 33\\nvalue = [29, 4]'),\n",
              " Text(0.04090073529411765, 0.5892857142857143, 'gini = 0.0\\nsamples = 1\\nvalue = [0, 1]'),\n",
              " Text(0.042738970588235295, 0.5892857142857143, 'X[2] <= 0.274\\ngini = 0.17\\nsamples = 32\\nvalue = [29, 3]'),\n",
              " Text(0.04181985294117647, 0.5535714285714286, 'gini = 0.0\\nsamples = 15\\nvalue = [15, 0]'),\n",
              " Text(0.043658088235294115, 0.5535714285714286, 'X[0] <= 0.632\\ngini = 0.291\\nsamples = 17\\nvalue = [14, 3]'),\n",
              " Text(0.042738970588235295, 0.5178571428571429, 'X[2] <= 0.325\\ngini = 0.375\\nsamples = 4\\nvalue = [1, 3]'),\n",
              " Text(0.04181985294117647, 0.48214285714285715, 'gini = 0.0\\nsamples = 3\\nvalue = [0, 3]'),\n",
              " Text(0.043658088235294115, 0.48214285714285715, 'gini = 0.0\\nsamples = 1\\nvalue = [1, 0]'),\n",
              " Text(0.04457720588235294, 0.5178571428571429, 'gini = 0.0\\nsamples = 13\\nvalue = [13, 0]'),\n",
              " Text(0.03998161764705882, 0.6964285714285714, 'gini = 0.0\\nsamples = 2\\nvalue = [0, 2]'),\n",
              " Text(0.04549632352941176, 0.7321428571428571, 'X[0] <= 0.208\\ngini = 0.059\\nsamples = 66\\nvalue = [64, 2]'),\n",
              " Text(0.043658088235294115, 0.6964285714285714, 'X[0] <= 0.174\\ngini = 0.375\\nsamples = 4\\nvalue = [3, 1]'),\n",
              " Text(0.042738970588235295, 0.6607142857142857, 'gini = 0.0\\nsamples = 3\\nvalue = [3, 0]'),\n",
              " Text(0.04457720588235294, 0.6607142857142857, 'gini = 0.0\\nsamples = 1\\nvalue = [0, 1]'),\n",
              " Text(0.04733455882352941, 0.6964285714285714, 'X[1] <= 0.614\\ngini = 0.032\\nsamples = 62\\nvalue = [61, 1]'),\n",
              " Text(0.04641544117647059, 0.6607142857142857, 'gini = 0.0\\nsamples = 47\\nvalue = [47, 0]'),\n",
              " Text(0.04825367647058824, 0.6607142857142857, 'X[1] <= 0.615\\ngini = 0.124\\nsamples = 15\\nvalue = [14, 1]'),\n",
              " Text(0.04733455882352941, 0.625, 'X[13] <= 0.5\\ngini = 0.5\\nsamples = 2\\nvalue = [1, 1]'),\n",
              " Text(0.04641544117647059, 0.5892857142857143, 'gini = 0.0\\nsamples = 1\\nvalue = [1, 0]'),\n",
              " Text(0.04825367647058824, 0.5892857142857143, 'gini = 0.0\\nsamples = 1\\nvalue = [0, 1]'),\n",
              " Text(0.04917279411764706, 0.625, 'gini = 0.0\\nsamples = 13\\nvalue = [13, 0]'),\n",
              " Text(0.04917279411764706, 0.7678571428571429, 'X[1] <= 0.596\\ngini = 0.48\\nsamples = 5\\nvalue = [2, 3]'),\n",
              " Text(0.04825367647058824, 0.7321428571428571, 'gini = 0.0\\nsamples = 2\\nvalue = [0, 2]'),\n",
              " Text(0.050091911764705885, 0.7321428571428571, 'X[9] <= 0.5\\ngini = 0.444\\nsamples = 3\\nvalue = [2, 1]'),\n",
              " Text(0.04917279411764706, 0.6964285714285714, 'gini = 0.0\\nsamples = 2\\nvalue = [2, 0]'),\n",
              " Text(0.051011029411764705, 0.6964285714285714, 'gini = 0.0\\nsamples = 1\\nvalue = [0, 1]'),\n",
              " Text(0.10743982651654412, 0.8392857142857143, 'X[34] <= 0.5\\ngini = 0.373\\nsamples = 451\\nvalue = [339, 112]'),\n",
              " Text(0.09815171185661764, 0.8035714285714286, 'X[36] <= 0.5\\ngini = 0.407\\nsamples = 373\\nvalue = [267, 106]'),\n",
              " Text(0.09723259420955882, 0.7678571428571429, 'gini = 0.0\\nsamples = 5\\nvalue = [0, 5]'),\n",
              " Text(0.09907082950367647, 0.7678571428571429, 'X[31] <= 0.5\\ngini = 0.398\\nsamples = 368\\nvalue = [267, 101]'),\n",
              " Text(0.08968577665441177, 0.7321428571428571, 'X[0] <= 0.979\\ngini = 0.418\\nsamples = 319\\nvalue = [224, 95]'),\n",
              " Text(0.07964728860294118, 0.6964285714285714, 'X[13] <= 0.5\\ngini = 0.43\\nsamples = 300\\nvalue = [206, 94]'),\n",
              " Text(0.06232766544117647, 0.6607142857142857, 'X[15] <= 0.5\\ngini = 0.457\\nsamples = 215\\nvalue = [139, 76]'),\n",
              " Text(0.06140854779411765, 0.625, 'gini = 0.0\\nsamples = 8\\nvalue = [0, 8]'),\n",
              " Text(0.0632467830882353, 0.625, 'X[2] <= 0.633\\ngini = 0.441\\nsamples = 207\\nvalue = [139, 68]'),\n",
              " Text(0.051011029411764705, 0.5892857142857143, 'X[9] <= 0.5\\ngini = 0.335\\nsamples = 80\\nvalue = [63, 17]'),\n",
              " Text(0.04733455882352941, 0.5535714285714286, 'X[1] <= 0.816\\ngini = 0.453\\nsamples = 26\\nvalue = [17, 9]'),\n",
              " Text(0.04641544117647059, 0.5178571428571429, 'gini = 0.0\\nsamples = 9\\nvalue = [9, 0]'),\n",
              " Text(0.04825367647058824, 0.5178571428571429, 'X[1] <= 0.851\\ngini = 0.498\\nsamples = 17\\nvalue = [8, 9]'),\n",
              " Text(0.04641544117647059, 0.48214285714285715, 'X[0] <= 0.722\\ngini = 0.219\\nsamples = 8\\nvalue = [1, 7]'),\n",
              " Text(0.04549632352941176, 0.44642857142857145, 'gini = 0.0\\nsamples = 7\\nvalue = [0, 7]'),\n",
              " Text(0.04733455882352941, 0.44642857142857145, 'gini = 0.0\\nsamples = 1\\nvalue = [1, 0]'),\n",
              " Text(0.050091911764705885, 0.48214285714285715, 'X[40] <= 0.5\\ngini = 0.346\\nsamples = 9\\nvalue = [7, 2]'),\n",
              " Text(0.04917279411764706, 0.44642857142857145, 'X[6] <= 0.5\\ngini = 0.219\\nsamples = 8\\nvalue = [7, 1]'),\n",
              " Text(0.04825367647058824, 0.4107142857142857, 'gini = 0.0\\nsamples = 7\\nvalue = [7, 0]'),\n",
              " Text(0.050091911764705885, 0.4107142857142857, 'gini = 0.0\\nsamples = 1\\nvalue = [0, 1]'),\n",
              " Text(0.051011029411764705, 0.44642857142857145, 'gini = 0.0\\nsamples = 1\\nvalue = [0, 1]'),\n",
              " Text(0.0546875, 0.5535714285714286, 'X[1] <= 0.644\\ngini = 0.252\\nsamples = 54\\nvalue = [46, 8]'),\n",
              " Text(0.05376838235294118, 0.5178571428571429, 'gini = 0.0\\nsamples = 2\\nvalue = [0, 2]'),\n",
              " Text(0.05560661764705882, 0.5178571428571429, 'X[1] <= 0.885\\ngini = 0.204\\nsamples = 52\\nvalue = [46, 6]'),\n",
              " Text(0.05376838235294118, 0.48214285714285715, 'X[1] <= 0.694\\ngini = 0.097\\nsamples = 39\\nvalue = [37, 2]'),\n",
              " Text(0.05284926470588235, 0.44642857142857145, 'X[24] <= 0.5\\ngini = 0.444\\nsamples = 6\\nvalue = [4, 2]'),\n",
              " Text(0.05193014705882353, 0.4107142857142857, 'gini = 0.0\\nsamples = 2\\nvalue = [0, 2]'),\n",
              " Text(0.05376838235294118, 0.4107142857142857, 'gini = 0.0\\nsamples = 4\\nvalue = [4, 0]'),\n",
              " Text(0.0546875, 0.44642857142857145, 'gini = 0.0\\nsamples = 33\\nvalue = [33, 0]'),\n",
              " Text(0.05744485294117647, 0.48214285714285715, 'X[0] <= 0.59\\ngini = 0.426\\nsamples = 13\\nvalue = [9, 4]'),\n",
              " Text(0.05652573529411765, 0.44642857142857145, 'gini = 0.0\\nsamples = 8\\nvalue = [8, 0]'),\n",
              " Text(0.058363970588235295, 0.44642857142857145, 'X[1] <= 0.934\\ngini = 0.32\\nsamples = 5\\nvalue = [1, 4]'),\n",
              " Text(0.05744485294117647, 0.4107142857142857, 'gini = 0.0\\nsamples = 4\\nvalue = [0, 4]'),\n",
              " Text(0.059283088235294115, 0.4107142857142857, 'gini = 0.0\\nsamples = 1\\nvalue = [1, 0]'),\n",
              " Text(0.07548253676470588, 0.5892857142857143, 'X[10] <= 0.5\\ngini = 0.481\\nsamples = 127\\nvalue = [76, 51]'),\n",
              " Text(0.06870404411764706, 0.5535714285714286, 'X[2] <= 0.746\\ngini = 0.499\\nsamples = 94\\nvalue = [49, 45]'),\n",
              " Text(0.06479779411764706, 0.5178571428571429, 'X[1] <= 0.927\\ngini = 0.475\\nsamples = 49\\nvalue = [19, 30]'),\n",
              " Text(0.06387867647058823, 0.48214285714285715, 'X[0] <= 0.771\\ngini = 0.444\\nsamples = 45\\nvalue = [15, 30]'),\n",
              " Text(0.06204044117647059, 0.44642857142857145, 'X[0] <= 0.715\\ngini = 0.165\\nsamples = 11\\nvalue = [1, 10]'),\n",
              " Text(0.06112132352941176, 0.4107142857142857, 'X[28] <= 0.5\\ngini = 0.444\\nsamples = 3\\nvalue = [1, 2]'),\n",
              " Text(0.06020220588235294, 0.375, 'gini = 0.0\\nsamples = 2\\nvalue = [0, 2]'),\n",
              " Text(0.06204044117647059, 0.375, 'gini = 0.0\\nsamples = 1\\nvalue = [1, 0]'),\n",
              " Text(0.06295955882352941, 0.4107142857142857, 'gini = 0.0\\nsamples = 8\\nvalue = [0, 8]'),\n",
              " Text(0.06571691176470588, 0.44642857142857145, 'X[2] <= 0.736\\ngini = 0.484\\nsamples = 34\\nvalue = [14, 20]'),\n",
              " Text(0.06479779411764706, 0.4107142857142857, 'X[0] <= 0.854\\ngini = 0.5\\nsamples = 28\\nvalue = [14, 14]'),\n",
              " Text(0.06387867647058823, 0.375, 'X[2] <= 0.634\\ngini = 0.476\\nsamples = 23\\nvalue = [14, 9]'),\n",
              " Text(0.06295955882352941, 0.3392857142857143, 'gini = 0.0\\nsamples = 3\\nvalue = [0, 3]'),\n",
              " Text(0.06479779411764706, 0.3392857142857143, 'X[3] <= 0.5\\ngini = 0.42\\nsamples = 20\\nvalue = [14, 6]'),\n",
              " Text(0.06387867647058823, 0.30357142857142855, 'X[8] <= 0.5\\ngini = 0.496\\nsamples = 11\\nvalue = [5, 6]'),\n",
              " Text(0.06295955882352941, 0.26785714285714285, 'gini = 0.0\\nsamples = 3\\nvalue = [0, 3]'),\n",
              " Text(0.06479779411764706, 0.26785714285714285, 'X[0] <= 0.826\\ngini = 0.469\\nsamples = 8\\nvalue = [5, 3]'),\n",
              " Text(0.06387867647058823, 0.23214285714285715, 'X[1] <= 0.818\\ngini = 0.48\\nsamples = 5\\nvalue = [2, 3]'),\n",
              " Text(0.06295955882352941, 0.19642857142857142, 'gini = 0.0\\nsamples = 2\\nvalue = [0, 2]'),\n",
              " Text(0.06479779411764706, 0.19642857142857142, 'X[6] <= 0.5\\ngini = 0.444\\nsamples = 3\\nvalue = [2, 1]'),\n",
              " Text(0.06387867647058823, 0.16071428571428573, 'gini = 0.0\\nsamples = 2\\nvalue = [2, 0]'),\n",
              " Text(0.06571691176470588, 0.16071428571428573, 'gini = 0.0\\nsamples = 1\\nvalue = [0, 1]'),\n",
              " Text(0.06571691176470588, 0.23214285714285715, 'gini = 0.0\\nsamples = 3\\nvalue = [3, 0]'),\n",
              " Text(0.06571691176470588, 0.30357142857142855, 'gini = 0.0\\nsamples = 9\\nvalue = [9, 0]'),\n",
              " Text(0.06571691176470588, 0.375, 'gini = 0.0\\nsamples = 5\\nvalue = [0, 5]'),\n",
              " Text(0.0666360294117647, 0.4107142857142857, 'gini = 0.0\\nsamples = 6\\nvalue = [0, 6]'),\n",
              " Text(0.06571691176470588, 0.48214285714285715, 'gini = 0.0\\nsamples = 4\\nvalue = [4, 0]'),\n",
              " Text(0.07261029411764706, 0.5178571428571429, 'X[2] <= 0.853\\ngini = 0.444\\nsamples = 45\\nvalue = [30, 15]'),\n",
              " Text(0.06939338235294118, 0.48214285714285715, 'X[19] <= 0.5\\ngini = 0.305\\nsamples = 32\\nvalue = [26, 6]'),\n",
              " Text(0.06847426470588236, 0.44642857142857145, 'gini = 0.0\\nsamples = 11\\nvalue = [11, 0]'),\n",
              " Text(0.0703125, 0.44642857142857145, 'X[1] <= 0.869\\ngini = 0.408\\nsamples = 21\\nvalue = [15, 6]'),\n",
              " Text(0.06847426470588236, 0.4107142857142857, 'X[25] <= 0.5\\ngini = 0.153\\nsamples = 12\\nvalue = [11, 1]'),\n",
              " Text(0.06755514705882353, 0.375, 'gini = 0.0\\nsamples = 8\\nvalue = [8, 0]'),\n",
              " Text(0.06939338235294118, 0.375, 'X[42] <= 0.5\\ngini = 0.375\\nsamples = 4\\nvalue = [3, 1]'),\n",
              " Text(0.06847426470588236, 0.3392857142857143, 'gini = 0.0\\nsamples = 1\\nvalue = [0, 1]'),\n",
              " Text(0.0703125, 0.3392857142857143, 'gini = 0.0\\nsamples = 3\\nvalue = [3, 0]'),\n",
              " Text(0.07215073529411764, 0.4107142857142857, 'X[2] <= 0.807\\ngini = 0.494\\nsamples = 9\\nvalue = [4, 5]'),\n",
              " Text(0.07123161764705882, 0.375, 'gini = 0.0\\nsamples = 4\\nvalue = [0, 4]'),\n",
              " Text(0.07306985294117647, 0.375, 'X[5] <= 0.5\\ngini = 0.32\\nsamples = 5\\nvalue = [4, 1]'),\n",
              " Text(0.07215073529411764, 0.3392857142857143, 'gini = 0.0\\nsamples = 4\\nvalue = [4, 0]'),\n",
              " Text(0.0739889705882353, 0.3392857142857143, 'gini = 0.0\\nsamples = 1\\nvalue = [0, 1]'),\n",
              " Text(0.07582720588235294, 0.48214285714285715, 'X[22] <= 0.5\\ngini = 0.426\\nsamples = 13\\nvalue = [4, 9]'),\n",
              " Text(0.07490808823529412, 0.44642857142857145, 'X[1] <= 0.97\\ngini = 0.298\\nsamples = 11\\nvalue = [2, 9]'),\n",
              " Text(0.0739889705882353, 0.4107142857142857, 'gini = 0.0\\nsamples = 7\\nvalue = [0, 7]'),\n",
              " Text(0.07582720588235294, 0.4107142857142857, 'X[7] <= 0.5\\ngini = 0.5\\nsamples = 4\\nvalue = [2, 2]'),\n",
              " Text(0.07490808823529412, 0.375, 'gini = 0.0\\nsamples = 1\\nvalue = [1, 0]'),\n",
              " Text(0.07674632352941177, 0.375, 'X[2] <= 0.921\\ngini = 0.444\\nsamples = 3\\nvalue = [1, 2]'),\n",
              " Text(0.07582720588235294, 0.3392857142857143, 'gini = 0.0\\nsamples = 2\\nvalue = [0, 2]'),\n",
              " Text(0.07766544117647059, 0.3392857142857143, 'gini = 0.0\\nsamples = 1\\nvalue = [1, 0]'),\n",
              " Text(0.07674632352941177, 0.44642857142857145, 'gini = 0.0\\nsamples = 2\\nvalue = [2, 0]'),\n",
              " Text(0.0822610294117647, 0.5535714285714286, 'X[30] <= 0.5\\ngini = 0.298\\nsamples = 33\\nvalue = [27, 6]'),\n",
              " Text(0.08134191176470588, 0.5178571428571429, 'X[19] <= 0.5\\ngini = 0.457\\nsamples = 17\\nvalue = [11, 6]'),\n",
              " Text(0.07950367647058823, 0.48214285714285715, 'X[3] <= 0.5\\ngini = 0.444\\nsamples = 6\\nvalue = [2, 4]'),\n",
              " Text(0.07858455882352941, 0.44642857142857145, 'gini = 0.0\\nsamples = 4\\nvalue = [0, 4]'),\n",
              " Text(0.08042279411764706, 0.44642857142857145, 'gini = 0.0\\nsamples = 2\\nvalue = [2, 0]'),\n",
              " Text(0.08318014705882353, 0.48214285714285715, 'X[7] <= 0.5\\ngini = 0.298\\nsamples = 11\\nvalue = [9, 2]'),\n",
              " Text(0.0822610294117647, 0.44642857142857145, 'X[44] <= 0.5\\ngini = 0.18\\nsamples = 10\\nvalue = [9, 1]'),\n",
              " Text(0.08134191176470588, 0.4107142857142857, 'X[0] <= 0.861\\ngini = 0.444\\nsamples = 3\\nvalue = [2, 1]'),\n",
              " Text(0.08042279411764706, 0.375, 'gini = 0.0\\nsamples = 2\\nvalue = [2, 0]'),\n",
              " Text(0.0822610294117647, 0.375, 'gini = 0.0\\nsamples = 1\\nvalue = [0, 1]'),\n",
              " Text(0.08318014705882353, 0.4107142857142857, 'gini = 0.0\\nsamples = 7\\nvalue = [7, 0]'),\n",
              " Text(0.08409926470588236, 0.44642857142857145, 'gini = 0.0\\nsamples = 1\\nvalue = [0, 1]'),\n",
              " Text(0.08318014705882353, 0.5178571428571429, 'gini = 0.0\\nsamples = 16\\nvalue = [16, 0]'),\n",
              " Text(0.09696691176470588, 0.6607142857142857, 'X[0] <= 0.562\\ngini = 0.334\\nsamples = 85\\nvalue = [67, 18]'),\n",
              " Text(0.09237132352941177, 0.625, 'X[1] <= 0.835\\ngini = 0.48\\nsamples = 30\\nvalue = [18, 12]'),\n",
              " Text(0.09053308823529412, 0.5892857142857143, 'X[1] <= 0.806\\ngini = 0.413\\nsamples = 24\\nvalue = [17, 7]'),\n",
              " Text(0.0896139705882353, 0.5535714285714286, 'X[10] <= 0.5\\ngini = 0.484\\nsamples = 17\\nvalue = [10, 7]'),\n",
              " Text(0.08869485294117647, 0.5178571428571429, 'X[30] <= 0.5\\ngini = 0.355\\nsamples = 13\\nvalue = [10, 3]'),\n",
              " Text(0.08685661764705882, 0.48214285714285715, 'X[2] <= 0.347\\ngini = 0.18\\nsamples = 10\\nvalue = [9, 1]'),\n",
              " Text(0.0859375, 0.44642857142857145, 'gini = 0.0\\nsamples = 7\\nvalue = [7, 0]'),\n",
              " Text(0.08777573529411764, 0.44642857142857145, 'X[2] <= 0.366\\ngini = 0.444\\nsamples = 3\\nvalue = [2, 1]'),\n",
              " Text(0.08685661764705882, 0.4107142857142857, 'gini = 0.0\\nsamples = 1\\nvalue = [0, 1]'),\n",
              " Text(0.08869485294117647, 0.4107142857142857, 'gini = 0.0\\nsamples = 2\\nvalue = [2, 0]'),\n",
              " Text(0.09053308823529412, 0.48214285714285715, 'X[2] <= 0.317\\ngini = 0.444\\nsamples = 3\\nvalue = [1, 2]'),\n",
              " Text(0.0896139705882353, 0.44642857142857145, 'gini = 0.0\\nsamples = 1\\nvalue = [0, 1]'),\n",
              " Text(0.09145220588235294, 0.44642857142857145, 'X[41] <= 0.5\\ngini = 0.5\\nsamples = 2\\nvalue = [1, 1]'),\n",
              " Text(0.09053308823529412, 0.4107142857142857, 'gini = 0.0\\nsamples = 1\\nvalue = [1, 0]'),\n",
              " Text(0.09237132352941177, 0.4107142857142857, 'gini = 0.0\\nsamples = 1\\nvalue = [0, 1]'),\n",
              " Text(0.09053308823529412, 0.5178571428571429, 'gini = 0.0\\nsamples = 4\\nvalue = [0, 4]'),\n",
              " Text(0.09145220588235294, 0.5535714285714286, 'gini = 0.0\\nsamples = 7\\nvalue = [7, 0]'),\n",
              " Text(0.09420955882352941, 0.5892857142857143, 'X[45] <= 0.5\\ngini = 0.278\\nsamples = 6\\nvalue = [1, 5]'),\n",
              " Text(0.09329044117647059, 0.5535714285714286, 'gini = 0.0\\nsamples = 4\\nvalue = [0, 4]'),\n",
              " Text(0.09512867647058823, 0.5535714285714286, 'X[40] <= 0.5\\ngini = 0.5\\nsamples = 2\\nvalue = [1, 1]'),\n",
              " Text(0.09420955882352941, 0.5178571428571429, 'gini = 0.0\\nsamples = 1\\nvalue = [1, 0]'),\n",
              " Text(0.09604779411764706, 0.5178571428571429, 'gini = 0.0\\nsamples = 1\\nvalue = [0, 1]'),\n",
              " Text(0.1015625, 0.625, 'X[42] <= 0.5\\ngini = 0.194\\nsamples = 55\\nvalue = [49, 6]'),\n",
              " Text(0.0978860294117647, 0.5892857142857143, 'X[4] <= 0.5\\ngini = 0.097\\nsamples = 39\\nvalue = [37, 2]'),\n",
              " Text(0.09696691176470588, 0.5535714285714286, 'gini = 0.0\\nsamples = 23\\nvalue = [23, 0]'),\n",
              " Text(0.09880514705882353, 0.5535714285714286, 'X[1] <= 0.76\\ngini = 0.219\\nsamples = 16\\nvalue = [14, 2]'),\n",
              " Text(0.0978860294117647, 0.5178571428571429, 'gini = 0.0\\nsamples = 1\\nvalue = [0, 1]'),\n",
              " Text(0.09972426470588236, 0.5178571428571429, 'X[0] <= 0.757\\ngini = 0.124\\nsamples = 15\\nvalue = [14, 1]'),\n",
              " Text(0.09880514705882353, 0.48214285714285715, 'X[44] <= 0.5\\ngini = 0.375\\nsamples = 4\\nvalue = [3, 1]'),\n",
              " Text(0.0978860294117647, 0.44642857142857145, 'X[7] <= 0.5\\ngini = 0.5\\nsamples = 2\\nvalue = [1, 1]'),\n",
              " Text(0.09696691176470588, 0.4107142857142857, 'gini = 0.0\\nsamples = 1\\nvalue = [1, 0]'),\n",
              " Text(0.09880514705882353, 0.4107142857142857, 'gini = 0.0\\nsamples = 1\\nvalue = [0, 1]'),\n",
              " Text(0.09972426470588236, 0.44642857142857145, 'gini = 0.0\\nsamples = 2\\nvalue = [2, 0]'),\n",
              " Text(0.10064338235294118, 0.48214285714285715, 'gini = 0.0\\nsamples = 11\\nvalue = [11, 0]'),\n",
              " Text(0.1052389705882353, 0.5892857142857143, 'X[0] <= 0.938\\ngini = 0.375\\nsamples = 16\\nvalue = [12, 4]'),\n",
              " Text(0.10431985294117647, 0.5535714285714286, 'X[1] <= 0.86\\ngini = 0.32\\nsamples = 15\\nvalue = [12, 3]'),\n",
              " Text(0.10340073529411764, 0.5178571428571429, 'X[1] <= 0.786\\ngini = 0.245\\nsamples = 14\\nvalue = [12, 2]'),\n",
              " Text(0.10248161764705882, 0.48214285714285715, 'X[1] <= 0.755\\ngini = 0.444\\nsamples = 6\\nvalue = [4, 2]'),\n",
              " Text(0.1015625, 0.44642857142857145, 'gini = 0.0\\nsamples = 4\\nvalue = [4, 0]'),\n",
              " Text(0.10340073529411764, 0.44642857142857145, 'gini = 0.0\\nsamples = 2\\nvalue = [0, 2]'),\n",
              " Text(0.10431985294117647, 0.48214285714285715, 'gini = 0.0\\nsamples = 8\\nvalue = [8, 0]'),\n",
              " Text(0.1052389705882353, 0.5178571428571429, 'gini = 0.0\\nsamples = 1\\nvalue = [0, 1]'),\n",
              " Text(0.10615808823529412, 0.5535714285714286, 'gini = 0.0\\nsamples = 1\\nvalue = [0, 1]'),\n",
              " Text(0.09972426470588236, 0.6964285714285714, 'X[2] <= 0.978\\ngini = 0.1\\nsamples = 19\\nvalue = [18, 1]'),\n",
              " Text(0.09880514705882353, 0.6607142857142857, 'gini = 0.0\\nsamples = 18\\nvalue = [18, 0]'),\n",
              " Text(0.10064338235294118, 0.6607142857142857, 'gini = 0.0\\nsamples = 1\\nvalue = [0, 1]'),\n",
              " Text(0.10845588235294118, 0.7321428571428571, 'X[1] <= 0.674\\ngini = 0.215\\nsamples = 49\\nvalue = [43, 6]'),\n",
              " Text(0.10615808823529412, 0.6964285714285714, 'X[13] <= 0.5\\ngini = 0.444\\nsamples = 3\\nvalue = [1, 2]'),\n",
              " Text(0.1052389705882353, 0.6607142857142857, 'gini = 0.0\\nsamples = 2\\nvalue = [0, 2]'),\n",
              " Text(0.10707720588235294, 0.6607142857142857, 'gini = 0.0\\nsamples = 1\\nvalue = [1, 0]'),\n",
              " Text(0.11075367647058823, 0.6964285714285714, 'X[2] <= 0.719\\ngini = 0.159\\nsamples = 46\\nvalue = [42, 4]'),\n",
              " Text(0.10891544117647059, 0.6607142857142857, 'X[2] <= 0.45\\ngini = 0.097\\nsamples = 39\\nvalue = [37, 2]'),\n",
              " Text(0.10799632352941177, 0.625, 'X[2] <= 0.395\\ngini = 0.298\\nsamples = 11\\nvalue = [9, 2]'),\n",
              " Text(0.10707720588235294, 0.5892857142857143, 'gini = 0.0\\nsamples = 9\\nvalue = [9, 0]'),\n",
              " Text(0.10891544117647059, 0.5892857142857143, 'gini = 0.0\\nsamples = 2\\nvalue = [0, 2]'),\n",
              " Text(0.10983455882352941, 0.625, 'gini = 0.0\\nsamples = 28\\nvalue = [28, 0]'),\n",
              " Text(0.11259191176470588, 0.6607142857142857, 'X[1] <= 0.781\\ngini = 0.408\\nsamples = 7\\nvalue = [5, 2]'),\n",
              " Text(0.11167279411764706, 0.625, 'gini = 0.0\\nsamples = 2\\nvalue = [0, 2]'),\n",
              " Text(0.1135110294117647, 0.625, 'gini = 0.0\\nsamples = 5\\nvalue = [5, 0]'),\n",
              " Text(0.11672794117647059, 0.8035714285714286, 'X[44] <= 0.5\\ngini = 0.142\\nsamples = 78\\nvalue = [72, 6]'),\n",
              " Text(0.11580882352941177, 0.7678571428571429, 'gini = 0.0\\nsamples = 52\\nvalue = [52, 0]'),\n",
              " Text(0.11764705882352941, 0.7678571428571429, 'X[10] <= 0.5\\ngini = 0.355\\nsamples = 26\\nvalue = [20, 6]'),\n",
              " Text(0.11443014705882353, 0.7321428571428571, 'X[1] <= 0.758\\ngini = 0.208\\nsamples = 17\\nvalue = [15, 2]'),\n",
              " Text(0.1135110294117647, 0.6964285714285714, 'gini = 0.0\\nsamples = 13\\nvalue = [13, 0]'),\n",
              " Text(0.11534926470588236, 0.6964285714285714, 'X[2] <= 0.593\\ngini = 0.5\\nsamples = 4\\nvalue = [2, 2]'),\n",
              " Text(0.11443014705882353, 0.6607142857142857, 'gini = 0.0\\nsamples = 2\\nvalue = [0, 2]'),\n",
              " Text(0.11626838235294118, 0.6607142857142857, 'gini = 0.0\\nsamples = 2\\nvalue = [2, 0]'),\n",
              " Text(0.1208639705882353, 0.7321428571428571, 'X[1] <= 0.699\\ngini = 0.494\\nsamples = 9\\nvalue = [5, 4]'),\n",
              " Text(0.11902573529411764, 0.6964285714285714, 'X[1] <= 0.665\\ngini = 0.375\\nsamples = 4\\nvalue = [1, 3]'),\n",
              " Text(0.11810661764705882, 0.6607142857142857, 'X[4] <= 0.5\\ngini = 0.5\\nsamples = 2\\nvalue = [1, 1]'),\n",
              " Text(0.1171875, 0.625, 'gini = 0.0\\nsamples = 1\\nvalue = [0, 1]'),\n",
              " Text(0.11902573529411764, 0.625, 'gini = 0.0\\nsamples = 1\\nvalue = [1, 0]'),\n",
              " Text(0.11994485294117647, 0.6607142857142857, 'gini = 0.0\\nsamples = 2\\nvalue = [0, 2]'),\n",
              " Text(0.12270220588235294, 0.6964285714285714, 'X[40] <= 0.5\\ngini = 0.32\\nsamples = 5\\nvalue = [4, 1]'),\n",
              " Text(0.12178308823529412, 0.6607142857142857, 'gini = 0.0\\nsamples = 3\\nvalue = [3, 0]'),\n",
              " Text(0.12362132352941177, 0.6607142857142857, 'X[13] <= 0.5\\ngini = 0.5\\nsamples = 2\\nvalue = [1, 1]'),\n",
              " Text(0.12270220588235294, 0.625, 'gini = 0.0\\nsamples = 1\\nvalue = [1, 0]'),\n",
              " Text(0.12454044117647059, 0.625, 'gini = 0.0\\nsamples = 1\\nvalue = [0, 1]'),\n",
              " Text(0.16245404411764705, 0.9107142857142857, 'X[1] <= 0.738\\ngini = 0.079\\nsamples = 1354\\nvalue = [1298, 56]'),\n",
              " Text(0.1455078125, 0.875, 'X[44] <= 0.5\\ngini = 0.036\\nsamples = 1030\\nvalue = [1011, 19]'),\n",
              " Text(0.134765625, 0.8392857142857143, 'X[5] <= 0.5\\ngini = 0.028\\nsamples = 972\\nvalue = [958, 14]'),\n",
              " Text(0.1254595588235294, 0.8035714285714286, 'X[6] <= 0.5\\ngini = 0.148\\nsamples = 62\\nvalue = [57, 5]'),\n",
              " Text(0.12454044117647059, 0.7678571428571429, 'gini = 0.0\\nsamples = 3\\nvalue = [0, 3]'),\n",
              " Text(0.12637867647058823, 0.7678571428571429, 'X[1] <= 0.607\\ngini = 0.065\\nsamples = 59\\nvalue = [57, 2]'),\n",
              " Text(0.1254595588235294, 0.7321428571428571, 'gini = 0.0\\nsamples = 41\\nvalue = [41, 0]'),\n",
              " Text(0.12729779411764705, 0.7321428571428571, 'X[1] <= 0.621\\ngini = 0.198\\nsamples = 18\\nvalue = [16, 2]'),\n",
              " Text(0.12637867647058823, 0.6964285714285714, 'X[8] <= 0.5\\ngini = 0.444\\nsamples = 3\\nvalue = [1, 2]'),\n",
              " Text(0.1254595588235294, 0.6607142857142857, 'gini = 0.0\\nsamples = 1\\nvalue = [1, 0]'),\n",
              " Text(0.12729779411764705, 0.6607142857142857, 'gini = 0.0\\nsamples = 2\\nvalue = [0, 2]'),\n",
              " Text(0.12821691176470587, 0.6964285714285714, 'gini = 0.0\\nsamples = 15\\nvalue = [15, 0]'),\n",
              " Text(0.1440716911764706, 0.8035714285714286, 'X[0] <= 0.91\\ngini = 0.02\\nsamples = 910\\nvalue = [901, 9]'),\n",
              " Text(0.140625, 0.7678571428571429, 'X[2] <= 0.547\\ngini = 0.029\\nsamples = 546\\nvalue = [538, 8]'),\n",
              " Text(0.13648897058823528, 0.7321428571428571, 'X[15] <= 0.5\\ngini = 0.019\\nsamples = 516\\nvalue = [511, 5]'),\n",
              " Text(0.13097426470588236, 0.6964285714285714, 'X[1] <= 0.011\\ngini = 0.011\\nsamples = 377\\nvalue = [375, 2]'),\n",
              " Text(0.12913602941176472, 0.6607142857142857, 'X[0] <= 0.812\\ngini = 0.067\\nsamples = 29\\nvalue = [28, 1]'),\n",
              " Text(0.12821691176470587, 0.625, 'gini = 0.0\\nsamples = 23\\nvalue = [23, 0]'),\n",
              " Text(0.13005514705882354, 0.625, 'X[0] <= 0.826\\ngini = 0.278\\nsamples = 6\\nvalue = [5, 1]'),\n",
              " Text(0.12913602941176472, 0.5892857142857143, 'gini = 0.0\\nsamples = 1\\nvalue = [0, 1]'),\n",
              " Text(0.13097426470588236, 0.5892857142857143, 'gini = 0.0\\nsamples = 5\\nvalue = [5, 0]'),\n",
              " Text(0.1328125, 0.6607142857142857, 'X[25] <= 0.5\\ngini = 0.006\\nsamples = 348\\nvalue = [347, 1]'),\n",
              " Text(0.13189338235294118, 0.625, 'gini = 0.0\\nsamples = 300\\nvalue = [300, 0]'),\n",
              " Text(0.13373161764705882, 0.625, 'X[0] <= 0.757\\ngini = 0.041\\nsamples = 48\\nvalue = [47, 1]'),\n",
              " Text(0.1328125, 0.5892857142857143, 'gini = 0.0\\nsamples = 34\\nvalue = [34, 0]'),\n",
              " Text(0.13465073529411764, 0.5892857142857143, 'X[0] <= 0.792\\ngini = 0.133\\nsamples = 14\\nvalue = [13, 1]'),\n",
              " Text(0.13373161764705882, 0.5535714285714286, 'X[4] <= 0.5\\ngini = 0.444\\nsamples = 3\\nvalue = [2, 1]'),\n",
              " Text(0.1328125, 0.5178571428571429, 'gini = 0.0\\nsamples = 2\\nvalue = [2, 0]'),\n",
              " Text(0.13465073529411764, 0.5178571428571429, 'gini = 0.0\\nsamples = 1\\nvalue = [0, 1]'),\n",
              " Text(0.13556985294117646, 0.5535714285714286, 'gini = 0.0\\nsamples = 11\\nvalue = [11, 0]'),\n",
              " Text(0.14200367647058823, 0.6964285714285714, 'X[1] <= 0.069\\ngini = 0.042\\nsamples = 139\\nvalue = [136, 3]'),\n",
              " Text(0.1410845588235294, 0.6607142857142857, 'X[1] <= 0.068\\ngini = 0.107\\nsamples = 53\\nvalue = [50, 3]'),\n",
              " Text(0.13924632352941177, 0.625, 'X[2] <= 0.086\\ngini = 0.077\\nsamples = 50\\nvalue = [48, 2]'),\n",
              " Text(0.13832720588235295, 0.5892857142857143, 'X[2] <= 0.074\\ngini = 0.278\\nsamples = 12\\nvalue = [10, 2]'),\n",
              " Text(0.13740808823529413, 0.5535714285714286, 'gini = 0.0\\nsamples = 10\\nvalue = [10, 0]'),\n",
              " Text(0.13924632352941177, 0.5535714285714286, 'gini = 0.0\\nsamples = 2\\nvalue = [0, 2]'),\n",
              " Text(0.1401654411764706, 0.5892857142857143, 'gini = 0.0\\nsamples = 38\\nvalue = [38, 0]'),\n",
              " Text(0.14292279411764705, 0.625, 'X[2] <= 0.106\\ngini = 0.444\\nsamples = 3\\nvalue = [2, 1]'),\n",
              " Text(0.14200367647058823, 0.5892857142857143, 'gini = 0.0\\nsamples = 2\\nvalue = [2, 0]'),\n",
              " Text(0.14384191176470587, 0.5892857142857143, 'gini = 0.0\\nsamples = 1\\nvalue = [0, 1]'),\n",
              " Text(0.14292279411764705, 0.6607142857142857, 'gini = 0.0\\nsamples = 86\\nvalue = [86, 0]'),\n",
              " Text(0.14476102941176472, 0.7321428571428571, 'X[2] <= 0.554\\ngini = 0.18\\nsamples = 30\\nvalue = [27, 3]'),\n",
              " Text(0.14384191176470587, 0.6964285714285714, 'gini = 0.0\\nsamples = 3\\nvalue = [0, 3]'),\n",
              " Text(0.14568014705882354, 0.6964285714285714, 'gini = 0.0\\nsamples = 27\\nvalue = [27, 0]'),\n",
              " Text(0.14751838235294118, 0.7678571428571429, 'X[22] <= 0.5\\ngini = 0.005\\nsamples = 364\\nvalue = [363, 1]'),\n",
              " Text(0.14659926470588236, 0.7321428571428571, 'gini = 0.0\\nsamples = 305\\nvalue = [305, 0]'),\n",
              " Text(0.1484375, 0.7321428571428571, 'X[1] <= 0.469\\ngini = 0.033\\nsamples = 59\\nvalue = [58, 1]'),\n",
              " Text(0.14751838235294118, 0.6964285714285714, 'X[2] <= 0.516\\ngini = 0.095\\nsamples = 20\\nvalue = [19, 1]'),\n",
              " Text(0.14659926470588236, 0.6607142857142857, 'gini = 0.0\\nsamples = 19\\nvalue = [19, 0]'),\n",
              " Text(0.1484375, 0.6607142857142857, 'gini = 0.0\\nsamples = 1\\nvalue = [0, 1]'),\n",
              " Text(0.14935661764705882, 0.6964285714285714, 'gini = 0.0\\nsamples = 39\\nvalue = [39, 0]'),\n",
              " Text(0.15625, 0.8392857142857143, 'X[14] <= 0.5\\ngini = 0.158\\nsamples = 58\\nvalue = [53, 5]'),\n",
              " Text(0.15303308823529413, 0.8035714285714286, 'X[17] <= 0.5\\ngini = 0.089\\nsamples = 43\\nvalue = [41, 2]'),\n",
              " Text(0.15119485294117646, 0.7678571428571429, 'X[28] <= 0.5\\ngini = 0.049\\nsamples = 40\\nvalue = [39, 1]'),\n",
              " Text(0.15027573529411764, 0.7321428571428571, 'gini = 0.0\\nsamples = 30\\nvalue = [30, 0]'),\n",
              " Text(0.15211397058823528, 0.7321428571428571, 'X[9] <= 0.5\\ngini = 0.18\\nsamples = 10\\nvalue = [9, 1]'),\n",
              " Text(0.15119485294117646, 0.6964285714285714, 'X[2] <= 0.605\\ngini = 0.444\\nsamples = 3\\nvalue = [2, 1]'),\n",
              " Text(0.15027573529411764, 0.6607142857142857, 'gini = 0.0\\nsamples = 2\\nvalue = [2, 0]'),\n",
              " Text(0.15211397058823528, 0.6607142857142857, 'gini = 0.0\\nsamples = 1\\nvalue = [0, 1]'),\n",
              " Text(0.15303308823529413, 0.6964285714285714, 'gini = 0.0\\nsamples = 7\\nvalue = [7, 0]'),\n",
              " Text(0.15487132352941177, 0.7678571428571429, 'X[3] <= 0.5\\ngini = 0.444\\nsamples = 3\\nvalue = [2, 1]'),\n",
              " Text(0.15395220588235295, 0.7321428571428571, 'gini = 0.0\\nsamples = 2\\nvalue = [2, 0]'),\n",
              " Text(0.1557904411764706, 0.7321428571428571, 'gini = 0.0\\nsamples = 1\\nvalue = [0, 1]'),\n",
              " Text(0.15946691176470587, 0.8035714285714286, 'X[10] <= 0.5\\ngini = 0.32\\nsamples = 15\\nvalue = [12, 3]'),\n",
              " Text(0.15854779411764705, 0.7678571428571429, 'X[1] <= 0.291\\ngini = 0.469\\nsamples = 8\\nvalue = [5, 3]'),\n",
              " Text(0.15762867647058823, 0.7321428571428571, 'gini = 0.0\\nsamples = 3\\nvalue = [3, 0]'),\n",
              " Text(0.15946691176470587, 0.7321428571428571, 'X[21] <= 0.5\\ngini = 0.48\\nsamples = 5\\nvalue = [2, 3]'),\n",
              " Text(0.15854779411764705, 0.6964285714285714, 'gini = 0.0\\nsamples = 2\\nvalue = [0, 2]'),\n",
              " Text(0.16038602941176472, 0.6964285714285714, 'X[1] <= 0.301\\ngini = 0.444\\nsamples = 3\\nvalue = [2, 1]'),\n",
              " Text(0.15946691176470587, 0.6607142857142857, 'gini = 0.0\\nsamples = 1\\nvalue = [0, 1]'),\n",
              " Text(0.16130514705882354, 0.6607142857142857, 'gini = 0.0\\nsamples = 2\\nvalue = [2, 0]'),\n",
              " Text(0.16038602941176472, 0.7678571428571429, 'gini = 0.0\\nsamples = 7\\nvalue = [7, 0]'),\n",
              " Text(0.17940027573529413, 0.875, 'X[21] <= 0.5\\ngini = 0.202\\nsamples = 324\\nvalue = [287, 37]'),\n",
              " Text(0.1684283088235294, 0.8392857142857143, 'X[19] <= 0.5\\ngini = 0.322\\nsamples = 129\\nvalue = [103, 26]'),\n",
              " Text(0.1675091911764706, 0.8035714285714286, 'gini = 0.0\\nsamples = 5\\nvalue = [0, 5]'),\n",
              " Text(0.16934742647058823, 0.8035714285714286, 'X[30] <= 0.5\\ngini = 0.281\\nsamples = 124\\nvalue = [103, 21]'),\n",
              " Text(0.16544117647058823, 0.7678571428571429, 'X[2] <= 0.879\\ngini = 0.45\\nsamples = 41\\nvalue = [27, 14]'),\n",
              " Text(0.1645220588235294, 0.7321428571428571, 'X[28] <= 0.5\\ngini = 0.298\\nsamples = 33\\nvalue = [27, 6]'),\n",
              " Text(0.1636029411764706, 0.6964285714285714, 'gini = 0.0\\nsamples = 2\\nvalue = [0, 2]'),\n",
              " Text(0.16544117647058823, 0.6964285714285714, 'X[1] <= 0.769\\ngini = 0.225\\nsamples = 31\\nvalue = [27, 4]'),\n",
              " Text(0.16314338235294118, 0.6607142857142857, 'X[4] <= 0.5\\ngini = 0.5\\nsamples = 4\\nvalue = [2, 2]'),\n",
              " Text(0.16222426470588236, 0.625, 'gini = 0.0\\nsamples = 2\\nvalue = [0, 2]'),\n",
              " Text(0.1640625, 0.625, 'gini = 0.0\\nsamples = 2\\nvalue = [2, 0]'),\n",
              " Text(0.16773897058823528, 0.6607142857142857, 'X[2] <= 0.565\\ngini = 0.137\\nsamples = 27\\nvalue = [25, 2]'),\n",
              " Text(0.16590073529411764, 0.625, 'X[5] <= 0.5\\ngini = 0.5\\nsamples = 2\\nvalue = [1, 1]'),\n",
              " Text(0.16498161764705882, 0.5892857142857143, 'gini = 0.0\\nsamples = 1\\nvalue = [1, 0]'),\n",
              " Text(0.16681985294117646, 0.5892857142857143, 'gini = 0.0\\nsamples = 1\\nvalue = [0, 1]'),\n",
              " Text(0.16957720588235295, 0.625, 'X[10] <= 0.5\\ngini = 0.077\\nsamples = 25\\nvalue = [24, 1]'),\n",
              " Text(0.16865808823529413, 0.5892857142857143, 'gini = 0.0\\nsamples = 20\\nvalue = [20, 0]'),\n",
              " Text(0.17049632352941177, 0.5892857142857143, 'X[2] <= 0.844\\ngini = 0.32\\nsamples = 5\\nvalue = [4, 1]'),\n",
              " Text(0.16957720588235295, 0.5535714285714286, 'gini = 0.0\\nsamples = 4\\nvalue = [4, 0]'),\n",
              " Text(0.1714154411764706, 0.5535714285714286, 'gini = 0.0\\nsamples = 1\\nvalue = [0, 1]'),\n",
              " Text(0.16636029411764705, 0.7321428571428571, 'gini = 0.0\\nsamples = 8\\nvalue = [0, 8]'),\n",
              " Text(0.17325367647058823, 0.7678571428571429, 'X[36] <= 0.5\\ngini = 0.154\\nsamples = 83\\nvalue = [76, 7]'),\n",
              " Text(0.1714154411764706, 0.7321428571428571, 'X[2] <= 0.652\\ngini = 0.408\\nsamples = 7\\nvalue = [5, 2]'),\n",
              " Text(0.17049632352941177, 0.6964285714285714, 'X[2] <= 0.473\\ngini = 0.444\\nsamples = 3\\nvalue = [1, 2]'),\n",
              " Text(0.16957720588235295, 0.6607142857142857, 'gini = 0.0\\nsamples = 1\\nvalue = [1, 0]'),\n",
              " Text(0.1714154411764706, 0.6607142857142857, 'gini = 0.0\\nsamples = 2\\nvalue = [0, 2]'),\n",
              " Text(0.1723345588235294, 0.6964285714285714, 'gini = 0.0\\nsamples = 4\\nvalue = [4, 0]'),\n",
              " Text(0.17509191176470587, 0.7321428571428571, 'X[1] <= 0.875\\ngini = 0.123\\nsamples = 76\\nvalue = [71, 5]'),\n",
              " Text(0.17417279411764705, 0.6964285714285714, 'gini = 0.0\\nsamples = 37\\nvalue = [37, 0]'),\n",
              " Text(0.17601102941176472, 0.6964285714285714, 'X[1] <= 0.88\\ngini = 0.224\\nsamples = 39\\nvalue = [34, 5]'),\n",
              " Text(0.17509191176470587, 0.6607142857142857, 'gini = 0.0\\nsamples = 1\\nvalue = [0, 1]'),\n",
              " Text(0.17693014705882354, 0.6607142857142857, 'X[1] <= 0.899\\ngini = 0.188\\nsamples = 38\\nvalue = [34, 4]'),\n",
              " Text(0.17509191176470587, 0.625, 'X[1] <= 0.896\\ngini = 0.397\\nsamples = 11\\nvalue = [8, 3]'),\n",
              " Text(0.17417279411764705, 0.5892857142857143, 'X[9] <= 0.5\\ngini = 0.198\\nsamples = 9\\nvalue = [8, 1]'),\n",
              " Text(0.17325367647058823, 0.5535714285714286, 'gini = 0.0\\nsamples = 1\\nvalue = [0, 1]'),\n",
              " Text(0.17509191176470587, 0.5535714285714286, 'gini = 0.0\\nsamples = 8\\nvalue = [8, 0]'),\n",
              " Text(0.17601102941176472, 0.5892857142857143, 'gini = 0.0\\nsamples = 2\\nvalue = [0, 2]'),\n",
              " Text(0.17876838235294118, 0.625, 'X[0] <= 0.951\\ngini = 0.071\\nsamples = 27\\nvalue = [26, 1]'),\n",
              " Text(0.17784926470588236, 0.5892857142857143, 'X[0] <= 0.938\\ngini = 0.18\\nsamples = 10\\nvalue = [9, 1]'),\n",
              " Text(0.17693014705882354, 0.5535714285714286, 'gini = 0.0\\nsamples = 9\\nvalue = [9, 0]'),\n",
              " Text(0.17876838235294118, 0.5535714285714286, 'gini = 0.0\\nsamples = 1\\nvalue = [0, 1]'),\n",
              " Text(0.1796875, 0.5892857142857143, 'gini = 0.0\\nsamples = 17\\nvalue = [17, 0]'),\n",
              " Text(0.19037224264705882, 0.8392857142857143, 'X[1] <= 0.739\\ngini = 0.106\\nsamples = 195\\nvalue = [184, 11]'),\n",
              " Text(0.1875, 0.8035714285714286, 'X[15] <= 0.5\\ngini = 0.5\\nsamples = 2\\nvalue = [1, 1]'),\n",
              " Text(0.18658088235294118, 0.7678571428571429, 'gini = 0.0\\nsamples = 1\\nvalue = [1, 0]'),\n",
              " Text(0.18841911764705882, 0.7678571428571429, 'gini = 0.0\\nsamples = 1\\nvalue = [0, 1]'),\n",
              " Text(0.19324448529411764, 0.8035714285714286, 'X[0] <= 0.951\\ngini = 0.098\\nsamples = 193\\nvalue = [183, 10]'),\n",
              " Text(0.19025735294117646, 0.7678571428571429, 'X[1] <= 0.87\\ngini = 0.205\\nsamples = 69\\nvalue = [61, 8]'),\n",
              " Text(0.18933823529411764, 0.7321428571428571, 'gini = 0.0\\nsamples = 26\\nvalue = [26, 0]'),\n",
              " Text(0.19117647058823528, 0.7321428571428571, 'X[28] <= 0.5\\ngini = 0.303\\nsamples = 43\\nvalue = [35, 8]'),\n",
              " Text(0.1879595588235294, 0.6964285714285714, 'X[0] <= 0.917\\ngini = 0.234\\nsamples = 37\\nvalue = [32, 5]'),\n",
              " Text(0.18428308823529413, 0.6607142857142857, 'X[8] <= 0.5\\ngini = 0.133\\nsamples = 28\\nvalue = [26, 2]'),\n",
              " Text(0.18336397058823528, 0.625, 'X[27] <= 0.5\\ngini = 0.298\\nsamples = 11\\nvalue = [9, 2]'),\n",
              " Text(0.18152573529411764, 0.5892857142857143, 'X[0] <= 0.722\\ngini = 0.5\\nsamples = 2\\nvalue = [1, 1]'),\n",
              " Text(0.18060661764705882, 0.5535714285714286, 'gini = 0.0\\nsamples = 1\\nvalue = [0, 1]'),\n",
              " Text(0.18244485294117646, 0.5535714285714286, 'gini = 0.0\\nsamples = 1\\nvalue = [1, 0]'),\n",
              " Text(0.18520220588235295, 0.5892857142857143, 'X[43] <= 0.5\\ngini = 0.198\\nsamples = 9\\nvalue = [8, 1]'),\n",
              " Text(0.18428308823529413, 0.5535714285714286, 'gini = 0.0\\nsamples = 6\\nvalue = [6, 0]'),\n",
              " Text(0.18612132352941177, 0.5535714285714286, 'X[41] <= 0.5\\ngini = 0.444\\nsamples = 3\\nvalue = [2, 1]'),\n",
              " Text(0.18520220588235295, 0.5178571428571429, 'gini = 0.0\\nsamples = 2\\nvalue = [2, 0]'),\n",
              " Text(0.1870404411764706, 0.5178571428571429, 'gini = 0.0\\nsamples = 1\\nvalue = [0, 1]'),\n",
              " Text(0.18520220588235295, 0.625, 'gini = 0.0\\nsamples = 17\\nvalue = [17, 0]'),\n",
              " Text(0.19163602941176472, 0.6607142857142857, 'X[42] <= 0.5\\ngini = 0.444\\nsamples = 9\\nvalue = [6, 3]'),\n",
              " Text(0.19071691176470587, 0.625, 'X[9] <= 0.5\\ngini = 0.49\\nsamples = 7\\nvalue = [4, 3]'),\n",
              " Text(0.18887867647058823, 0.5892857142857143, 'X[40] <= 0.5\\ngini = 0.444\\nsamples = 3\\nvalue = [1, 2]'),\n",
              " Text(0.1879595588235294, 0.5535714285714286, 'gini = 0.0\\nsamples = 2\\nvalue = [0, 2]'),\n",
              " Text(0.18979779411764705, 0.5535714285714286, 'gini = 0.0\\nsamples = 1\\nvalue = [1, 0]'),\n",
              " Text(0.19255514705882354, 0.5892857142857143, 'X[8] <= 0.5\\ngini = 0.375\\nsamples = 4\\nvalue = [3, 1]'),\n",
              " Text(0.19163602941176472, 0.5535714285714286, 'X[1] <= 0.974\\ngini = 0.5\\nsamples = 2\\nvalue = [1, 1]'),\n",
              " Text(0.19071691176470587, 0.5178571428571429, 'gini = 0.0\\nsamples = 1\\nvalue = [1, 0]'),\n",
              " Text(0.19255514705882354, 0.5178571428571429, 'gini = 0.0\\nsamples = 1\\nvalue = [0, 1]'),\n",
              " Text(0.19347426470588236, 0.5535714285714286, 'gini = 0.0\\nsamples = 2\\nvalue = [2, 0]'),\n",
              " Text(0.19255514705882354, 0.625, 'gini = 0.0\\nsamples = 2\\nvalue = [2, 0]'),\n",
              " Text(0.19439338235294118, 0.6964285714285714, 'X[2] <= 0.804\\ngini = 0.5\\nsamples = 6\\nvalue = [3, 3]'),\n",
              " Text(0.19347426470588236, 0.6607142857142857, 'gini = 0.0\\nsamples = 3\\nvalue = [0, 3]'),\n",
              " Text(0.1953125, 0.6607142857142857, 'gini = 0.0\\nsamples = 3\\nvalue = [3, 0]'),\n",
              " Text(0.19623161764705882, 0.7678571428571429, 'X[2] <= 0.763\\ngini = 0.032\\nsamples = 124\\nvalue = [122, 2]'),\n",
              " Text(0.1953125, 0.7321428571428571, 'gini = 0.0\\nsamples = 1\\nvalue = [0, 1]'),\n",
              " Text(0.19715073529411764, 0.7321428571428571, 'X[22] <= 0.5\\ngini = 0.016\\nsamples = 123\\nvalue = [122, 1]'),\n",
              " Text(0.19623161764705882, 0.6964285714285714, 'gini = 0.0\\nsamples = 105\\nvalue = [105, 0]'),\n",
              " Text(0.19806985294117646, 0.6964285714285714, 'X[7] <= 0.5\\ngini = 0.105\\nsamples = 18\\nvalue = [17, 1]'),\n",
              " Text(0.19715073529411764, 0.6607142857142857, 'gini = 0.0\\nsamples = 15\\nvalue = [15, 0]'),\n",
              " Text(0.19898897058823528, 0.6607142857142857, 'X[2] <= 0.863\\ngini = 0.444\\nsamples = 3\\nvalue = [2, 1]'),\n",
              " Text(0.19806985294117646, 0.625, 'gini = 0.0\\nsamples = 2\\nvalue = [2, 0]'),\n",
              " Text(0.19990808823529413, 0.625, 'gini = 0.0\\nsamples = 1\\nvalue = [0, 1]'),\n",
              " Text(0.7599651392768411, 0.9464285714285714, 'X[40] <= 0.5\\ngini = 0.445\\nsamples = 5304\\nvalue = [1772, 3532]'),\n",
              " Text(0.6449787476483513, 0.9107142857142857, 'X[30] <= 0.5\\ngini = 0.39\\nsamples = 4039\\nvalue = [1072, 2967]'),\n",
              " Text(0.5620522218592027, 0.875, 'X[41] <= 0.5\\ngini = 0.352\\nsamples = 3659\\nvalue = [833, 2826]'),\n",
              " Text(0.5611331042121438, 0.8392857142857143, 'gini = 0.0\\nsamples = 634\\nvalue = [0, 634]'),\n",
              " Text(0.5629713395062614, 0.8392857142857143, 'X[21] <= 0.5\\ngini = 0.399\\nsamples = 3025\\nvalue = [833, 2192]'),\n",
              " Text(0.47959114523494945, 0.8035714285714286, 'X[20] <= 0.5\\ngini = 0.366\\nsamples = 2719\\nvalue = [655, 2064]'),\n",
              " Text(0.38122962502872243, 0.7678571428571429, 'X[0] <= 0.188\\ngini = 0.338\\nsamples = 2531\\nvalue = [545, 1986]'),\n",
              " Text(0.30623581830193014, 0.7321428571428571, 'X[16] <= 0.5\\ngini = 0.24\\nsamples = 1546\\nvalue = [216, 1330]'),\n",
              " Text(0.24477072323069854, 0.6964285714285714, 'X[13] <= 0.5\\ngini = 0.185\\nsamples = 1174\\nvalue = [121, 1053]'),\n",
              " Text(0.21444163602941177, 0.6607142857142857, 'X[15] <= 0.5\\ngini = 0.113\\nsamples = 681\\nvalue = [41, 640]'),\n",
              " Text(0.21352251838235295, 0.625, 'gini = 0.0\\nsamples = 265\\nvalue = [0, 265]'),\n",
              " Text(0.2153607536764706, 0.625, 'X[1] <= 0.655\\ngini = 0.178\\nsamples = 416\\nvalue = [41, 375]'),\n",
              " Text(0.20427389705882354, 0.5892857142857143, 'X[1] <= 0.655\\ngini = 0.267\\nsamples = 183\\nvalue = [29, 154]'),\n",
              " Text(0.20335477941176472, 0.5535714285714286, 'X[0] <= 0.076\\ngini = 0.247\\nsamples = 180\\nvalue = [26, 154]'),\n",
              " Text(0.19439338235294118, 0.5178571428571429, 'X[2] <= 0.006\\ngini = 0.132\\nsamples = 113\\nvalue = [8, 105]'),\n",
              " Text(0.19347426470588236, 0.48214285714285715, 'gini = 0.0\\nsamples = 1\\nvalue = [1, 0]'),\n",
              " Text(0.1953125, 0.48214285714285715, 'X[45] <= 0.5\\ngini = 0.117\\nsamples = 112\\nvalue = [7, 105]'),\n",
              " Text(0.19163602941176472, 0.44642857142857145, 'X[33] <= 0.5\\ngini = 0.077\\nsamples = 100\\nvalue = [4, 96]'),\n",
              " Text(0.18979779411764705, 0.4107142857142857, 'X[1] <= 0.564\\ngini = 0.059\\nsamples = 98\\nvalue = [3, 95]'),\n",
              " Text(0.18887867647058823, 0.375, 'gini = 0.0\\nsamples = 38\\nvalue = [0, 38]'),\n",
              " Text(0.19071691176470587, 0.375, 'X[1] <= 0.564\\ngini = 0.095\\nsamples = 60\\nvalue = [3, 57]'),\n",
              " Text(0.18887867647058823, 0.3392857142857143, 'X[2] <= 0.014\\ngini = 0.5\\nsamples = 2\\nvalue = [1, 1]'),\n",
              " Text(0.1879595588235294, 0.30357142857142855, 'gini = 0.0\\nsamples = 1\\nvalue = [0, 1]'),\n",
              " Text(0.18979779411764705, 0.30357142857142855, 'gini = 0.0\\nsamples = 1\\nvalue = [1, 0]'),\n",
              " Text(0.19255514705882354, 0.3392857142857143, 'X[2] <= 0.015\\ngini = 0.067\\nsamples = 58\\nvalue = [2, 56]'),\n",
              " Text(0.19163602941176472, 0.30357142857142855, 'X[2] <= 0.014\\ngini = 0.147\\nsamples = 25\\nvalue = [2, 23]'),\n",
              " Text(0.19071691176470587, 0.26785714285714285, 'X[1] <= 0.566\\ngini = 0.08\\nsamples = 24\\nvalue = [1, 23]'),\n",
              " Text(0.18979779411764705, 0.23214285714285715, 'X[4] <= 0.5\\ngini = 0.219\\nsamples = 8\\nvalue = [1, 7]'),\n",
              " Text(0.18887867647058823, 0.19642857142857142, 'gini = 0.0\\nsamples = 6\\nvalue = [0, 6]'),\n",
              " Text(0.19071691176470587, 0.19642857142857142, 'X[2] <= 0.006\\ngini = 0.5\\nsamples = 2\\nvalue = [1, 1]'),\n",
              " Text(0.18979779411764705, 0.16071428571428573, 'gini = 0.0\\nsamples = 1\\nvalue = [0, 1]'),\n",
              " Text(0.19163602941176472, 0.16071428571428573, 'gini = 0.0\\nsamples = 1\\nvalue = [1, 0]'),\n",
              " Text(0.19163602941176472, 0.23214285714285715, 'gini = 0.0\\nsamples = 16\\nvalue = [0, 16]'),\n",
              " Text(0.19255514705882354, 0.26785714285714285, 'gini = 0.0\\nsamples = 1\\nvalue = [1, 0]'),\n",
              " Text(0.19347426470588236, 0.30357142857142855, 'gini = 0.0\\nsamples = 33\\nvalue = [0, 33]'),\n",
              " Text(0.19347426470588236, 0.4107142857142857, 'X[2] <= 0.041\\ngini = 0.5\\nsamples = 2\\nvalue = [1, 1]'),\n",
              " Text(0.19255514705882354, 0.375, 'gini = 0.0\\nsamples = 1\\nvalue = [1, 0]'),\n",
              " Text(0.19439338235294118, 0.375, 'gini = 0.0\\nsamples = 1\\nvalue = [0, 1]'),\n",
              " Text(0.19898897058823528, 0.44642857142857145, 'X[22] <= 0.5\\ngini = 0.375\\nsamples = 12\\nvalue = [3, 9]'),\n",
              " Text(0.19715073529411764, 0.4107142857142857, 'X[0] <= 0.035\\ngini = 0.444\\nsamples = 3\\nvalue = [2, 1]'),\n",
              " Text(0.19623161764705882, 0.375, 'X[1] <= 0.611\\ngini = 0.5\\nsamples = 2\\nvalue = [1, 1]'),\n",
              " Text(0.1953125, 0.3392857142857143, 'gini = 0.0\\nsamples = 1\\nvalue = [1, 0]'),\n",
              " Text(0.19715073529411764, 0.3392857142857143, 'gini = 0.0\\nsamples = 1\\nvalue = [0, 1]'),\n",
              " Text(0.19806985294117646, 0.375, 'gini = 0.0\\nsamples = 1\\nvalue = [1, 0]'),\n",
              " Text(0.20082720588235295, 0.4107142857142857, 'X[2] <= 0.01\\ngini = 0.198\\nsamples = 9\\nvalue = [1, 8]'),\n",
              " Text(0.19990808823529413, 0.375, 'gini = 0.0\\nsamples = 5\\nvalue = [0, 5]'),\n",
              " Text(0.20174632352941177, 0.375, 'X[2] <= 0.015\\ngini = 0.375\\nsamples = 4\\nvalue = [1, 3]'),\n",
              " Text(0.20082720588235295, 0.3392857142857143, 'gini = 0.0\\nsamples = 1\\nvalue = [1, 0]'),\n",
              " Text(0.2026654411764706, 0.3392857142857143, 'gini = 0.0\\nsamples = 3\\nvalue = [0, 3]'),\n",
              " Text(0.21231617647058823, 0.5178571428571429, 'X[1] <= 0.604\\ngini = 0.393\\nsamples = 67\\nvalue = [18, 49]'),\n",
              " Text(0.2104779411764706, 0.48214285714285715, 'X[1] <= 0.592\\ngini = 0.47\\nsamples = 45\\nvalue = [17, 28]'),\n",
              " Text(0.20955882352941177, 0.44642857142857145, 'X[2] <= 0.089\\ngini = 0.444\\nsamples = 42\\nvalue = [14, 28]'),\n",
              " Text(0.20726102941176472, 0.4107142857142857, 'X[2] <= 0.07\\ngini = 0.499\\nsamples = 25\\nvalue = [12, 13]'),\n",
              " Text(0.20542279411764705, 0.375, 'X[1] <= 0.569\\ngini = 0.444\\nsamples = 18\\nvalue = [6, 12]'),\n",
              " Text(0.20450367647058823, 0.3392857142857143, 'X[1] <= 0.566\\ngini = 0.497\\nsamples = 13\\nvalue = [6, 7]'),\n",
              " Text(0.2035845588235294, 0.30357142857142855, 'X[2] <= 0.055\\ngini = 0.42\\nsamples = 10\\nvalue = [3, 7]'),\n",
              " Text(0.2026654411764706, 0.26785714285714285, 'gini = 0.0\\nsamples = 2\\nvalue = [2, 0]'),\n",
              " Text(0.20450367647058823, 0.26785714285714285, 'X[43] <= 0.5\\ngini = 0.219\\nsamples = 8\\nvalue = [1, 7]'),\n",
              " Text(0.2035845588235294, 0.23214285714285715, 'gini = 0.0\\nsamples = 7\\nvalue = [0, 7]'),\n",
              " Text(0.20542279411764705, 0.23214285714285715, 'gini = 0.0\\nsamples = 1\\nvalue = [1, 0]'),\n",
              " Text(0.20542279411764705, 0.30357142857142855, 'gini = 0.0\\nsamples = 3\\nvalue = [3, 0]'),\n",
              " Text(0.20634191176470587, 0.3392857142857143, 'gini = 0.0\\nsamples = 5\\nvalue = [0, 5]'),\n",
              " Text(0.20909926470588236, 0.375, 'X[1] <= 0.564\\ngini = 0.245\\nsamples = 7\\nvalue = [6, 1]'),\n",
              " Text(0.20818014705882354, 0.3392857142857143, 'X[2] <= 0.078\\ngini = 0.444\\nsamples = 3\\nvalue = [2, 1]'),\n",
              " Text(0.20726102941176472, 0.30357142857142855, 'gini = 0.0\\nsamples = 2\\nvalue = [2, 0]'),\n",
              " Text(0.20909926470588236, 0.30357142857142855, 'gini = 0.0\\nsamples = 1\\nvalue = [0, 1]'),\n",
              " Text(0.21001838235294118, 0.3392857142857143, 'gini = 0.0\\nsamples = 4\\nvalue = [4, 0]'),\n",
              " Text(0.21185661764705882, 0.4107142857142857, 'X[5] <= 0.5\\ngini = 0.208\\nsamples = 17\\nvalue = [2, 15]'),\n",
              " Text(0.2109375, 0.375, 'gini = 0.0\\nsamples = 1\\nvalue = [1, 0]'),\n",
              " Text(0.21277573529411764, 0.375, 'X[1] <= 0.58\\ngini = 0.117\\nsamples = 16\\nvalue = [1, 15]'),\n",
              " Text(0.21185661764705882, 0.3392857142857143, 'gini = 0.0\\nsamples = 13\\nvalue = [0, 13]'),\n",
              " Text(0.21369485294117646, 0.3392857142857143, 'X[9] <= 0.5\\ngini = 0.444\\nsamples = 3\\nvalue = [1, 2]'),\n",
              " Text(0.21277573529411764, 0.30357142857142855, 'gini = 0.0\\nsamples = 1\\nvalue = [1, 0]'),\n",
              " Text(0.21461397058823528, 0.30357142857142855, 'gini = 0.0\\nsamples = 2\\nvalue = [0, 2]'),\n",
              " Text(0.2113970588235294, 0.44642857142857145, 'gini = 0.0\\nsamples = 3\\nvalue = [3, 0]'),\n",
              " Text(0.21415441176470587, 0.48214285714285715, 'X[2] <= 0.051\\ngini = 0.087\\nsamples = 22\\nvalue = [1, 21]'),\n",
              " Text(0.21323529411764705, 0.44642857142857145, 'gini = 0.0\\nsamples = 1\\nvalue = [1, 0]'),\n",
              " Text(0.21507352941176472, 0.44642857142857145, 'gini = 0.0\\nsamples = 21\\nvalue = [0, 21]'),\n",
              " Text(0.20519301470588236, 0.5535714285714286, 'gini = 0.0\\nsamples = 3\\nvalue = [3, 0]'),\n",
              " Text(0.22644761029411764, 0.5892857142857143, 'X[2] <= 0.008\\ngini = 0.098\\nsamples = 233\\nvalue = [12, 221]'),\n",
              " Text(0.22552849264705882, 0.5535714285714286, 'gini = 0.0\\nsamples = 1\\nvalue = [1, 0]'),\n",
              " Text(0.22736672794117646, 0.5535714285714286, 'X[43] <= 0.5\\ngini = 0.09\\nsamples = 232\\nvalue = [11, 221]'),\n",
              " Text(0.22127757352941177, 0.5178571428571429, 'X[5] <= 0.5\\ngini = 0.077\\nsamples = 225\\nvalue = [9, 216]'),\n",
              " Text(0.21783088235294118, 0.48214285714285715, 'X[0] <= 0.049\\ngini = 0.018\\nsamples = 113\\nvalue = [1, 112]'),\n",
              " Text(0.21691176470588236, 0.44642857142857145, 'X[2] <= 0.037\\ngini = 0.057\\nsamples = 34\\nvalue = [1, 33]'),\n",
              " Text(0.21599264705882354, 0.4107142857142857, 'gini = 0.0\\nsamples = 33\\nvalue = [0, 33]'),\n",
              " Text(0.21783088235294118, 0.4107142857142857, 'gini = 0.0\\nsamples = 1\\nvalue = [1, 0]'),\n",
              " Text(0.21875, 0.44642857142857145, 'gini = 0.0\\nsamples = 79\\nvalue = [0, 79]'),\n",
              " Text(0.22472426470588236, 0.48214285714285715, 'X[2] <= 0.143\\ngini = 0.133\\nsamples = 112\\nvalue = [8, 104]'),\n",
              " Text(0.22380514705882354, 0.44642857142857145, 'X[4] <= 0.5\\ngini = 0.118\\nsamples = 111\\nvalue = [7, 104]'),\n",
              " Text(0.21966911764705882, 0.4107142857142857, 'X[31] <= 0.5\\ngini = 0.052\\nsamples = 75\\nvalue = [2, 73]'),\n",
              " Text(0.21875, 0.375, 'gini = 0.0\\nsamples = 61\\nvalue = [0, 61]'),\n",
              " Text(0.22058823529411764, 0.375, 'X[1] <= 0.68\\ngini = 0.245\\nsamples = 14\\nvalue = [2, 12]'),\n",
              " Text(0.21966911764705882, 0.3392857142857143, 'gini = 0.0\\nsamples = 11\\nvalue = [0, 11]'),\n",
              " Text(0.22150735294117646, 0.3392857142857143, 'X[1] <= 0.742\\ngini = 0.444\\nsamples = 3\\nvalue = [2, 1]'),\n",
              " Text(0.22058823529411764, 0.30357142857142855, 'gini = 0.0\\nsamples = 2\\nvalue = [2, 0]'),\n",
              " Text(0.22242647058823528, 0.30357142857142855, 'gini = 0.0\\nsamples = 1\\nvalue = [0, 1]'),\n",
              " Text(0.22794117647058823, 0.4107142857142857, 'X[2] <= 0.073\\ngini = 0.239\\nsamples = 36\\nvalue = [5, 31]'),\n",
              " Text(0.2261029411764706, 0.375, 'X[7] <= 0.5\\ngini = 0.083\\nsamples = 23\\nvalue = [1, 22]'),\n",
              " Text(0.22518382352941177, 0.3392857142857143, 'X[22] <= 0.5\\ngini = 0.444\\nsamples = 3\\nvalue = [1, 2]'),\n",
              " Text(0.22426470588235295, 0.30357142857142855, 'gini = 0.0\\nsamples = 2\\nvalue = [0, 2]'),\n",
              " Text(0.2261029411764706, 0.30357142857142855, 'gini = 0.0\\nsamples = 1\\nvalue = [1, 0]'),\n",
              " Text(0.2270220588235294, 0.3392857142857143, 'gini = 0.0\\nsamples = 20\\nvalue = [0, 20]'),\n",
              " Text(0.22977941176470587, 0.375, 'X[1] <= 0.77\\ngini = 0.426\\nsamples = 13\\nvalue = [4, 9]'),\n",
              " Text(0.22886029411764705, 0.3392857142857143, 'X[1] <= 0.668\\ngini = 0.494\\nsamples = 9\\nvalue = [4, 5]'),\n",
              " Text(0.22794117647058823, 0.30357142857142855, 'gini = 0.0\\nsamples = 3\\nvalue = [0, 3]'),\n",
              " Text(0.22977941176470587, 0.30357142857142855, 'X[36] <= 0.5\\ngini = 0.444\\nsamples = 6\\nvalue = [4, 2]'),\n",
              " Text(0.22886029411764705, 0.26785714285714285, 'X[1] <= 0.67\\ngini = 0.444\\nsamples = 3\\nvalue = [1, 2]'),\n",
              " Text(0.22794117647058823, 0.23214285714285715, 'gini = 0.0\\nsamples = 1\\nvalue = [1, 0]'),\n",
              " Text(0.22977941176470587, 0.23214285714285715, 'gini = 0.0\\nsamples = 2\\nvalue = [0, 2]'),\n",
              " Text(0.23069852941176472, 0.26785714285714285, 'gini = 0.0\\nsamples = 3\\nvalue = [3, 0]'),\n",
              " Text(0.23069852941176472, 0.3392857142857143, 'gini = 0.0\\nsamples = 4\\nvalue = [0, 4]'),\n",
              " Text(0.22564338235294118, 0.44642857142857145, 'gini = 0.0\\nsamples = 1\\nvalue = [1, 0]'),\n",
              " Text(0.23345588235294118, 0.5178571428571429, 'X[1] <= 0.837\\ngini = 0.408\\nsamples = 7\\nvalue = [2, 5]'),\n",
              " Text(0.23253676470588236, 0.48214285714285715, 'X[3] <= 0.5\\ngini = 0.278\\nsamples = 6\\nvalue = [1, 5]'),\n",
              " Text(0.23161764705882354, 0.44642857142857145, 'X[0] <= 0.069\\ngini = 0.444\\nsamples = 3\\nvalue = [1, 2]'),\n",
              " Text(0.23069852941176472, 0.4107142857142857, 'gini = 0.0\\nsamples = 1\\nvalue = [0, 1]'),\n",
              " Text(0.23253676470588236, 0.4107142857142857, 'X[2] <= 0.104\\ngini = 0.5\\nsamples = 2\\nvalue = [1, 1]'),\n",
              " Text(0.23161764705882354, 0.375, 'gini = 0.0\\nsamples = 1\\nvalue = [1, 0]'),\n",
              " Text(0.23345588235294118, 0.375, 'gini = 0.0\\nsamples = 1\\nvalue = [0, 1]'),\n",
              " Text(0.23345588235294118, 0.44642857142857145, 'gini = 0.0\\nsamples = 3\\nvalue = [0, 3]'),\n",
              " Text(0.234375, 0.48214285714285715, 'gini = 0.0\\nsamples = 1\\nvalue = [1, 0]'),\n",
              " Text(0.2750998104319853, 0.6607142857142857, 'X[2] <= 0.011\\ngini = 0.272\\nsamples = 493\\nvalue = [80, 413]'),\n",
              " Text(0.25011488970588236, 0.625, 'X[43] <= 0.5\\ngini = 0.108\\nsamples = 227\\nvalue = [13, 214]'),\n",
              " Text(0.24609375, 0.5892857142857143, 'X[36] <= 0.5\\ngini = 0.101\\nsamples = 225\\nvalue = [12, 213]'),\n",
              " Text(0.24080882352941177, 0.5535714285714286, 'X[1] <= 0.514\\ngini = 0.07\\nsamples = 192\\nvalue = [7, 185]'),\n",
              " Text(0.23988970588235295, 0.5178571428571429, 'gini = 0.0\\nsamples = 69\\nvalue = [0, 69]'),\n",
              " Text(0.2417279411764706, 0.5178571428571429, 'X[1] <= 0.528\\ngini = 0.107\\nsamples = 123\\nvalue = [7, 116]'),\n",
              " Text(0.24080882352941177, 0.48214285714285715, 'X[1] <= 0.527\\ngini = 0.169\\nsamples = 75\\nvalue = [7, 68]'),\n",
              " Text(0.23988970588235295, 0.44642857142857145, 'X[4] <= 0.5\\ngini = 0.149\\nsamples = 74\\nvalue = [6, 68]'),\n",
              " Text(0.23621323529411764, 0.4107142857142857, 'X[1] <= 0.517\\ngini = 0.078\\nsamples = 49\\nvalue = [2, 47]'),\n",
              " Text(0.23529411764705882, 0.375, 'gini = 0.0\\nsamples = 26\\nvalue = [0, 26]'),\n",
              " Text(0.23713235294117646, 0.375, 'X[2] <= 0.006\\ngini = 0.159\\nsamples = 23\\nvalue = [2, 21]'),\n",
              " Text(0.23621323529411764, 0.3392857142857143, 'gini = 0.5\\nsamples = 2\\nvalue = [1, 1]'),\n",
              " Text(0.23805147058823528, 0.3392857142857143, 'X[45] <= 0.5\\ngini = 0.091\\nsamples = 21\\nvalue = [1, 20]'),\n",
              " Text(0.23713235294117646, 0.30357142857142855, 'gini = 0.0\\nsamples = 19\\nvalue = [0, 19]'),\n",
              " Text(0.23897058823529413, 0.30357142857142855, 'X[7] <= 0.5\\ngini = 0.5\\nsamples = 2\\nvalue = [1, 1]'),\n",
              " Text(0.23805147058823528, 0.26785714285714285, 'gini = 0.0\\nsamples = 1\\nvalue = [0, 1]'),\n",
              " Text(0.23988970588235295, 0.26785714285714285, 'gini = 0.0\\nsamples = 1\\nvalue = [1, 0]'),\n",
              " Text(0.24356617647058823, 0.4107142857142857, 'X[9] <= 0.5\\ngini = 0.269\\nsamples = 25\\nvalue = [4, 21]'),\n",
              " Text(0.2426470588235294, 0.375, 'gini = 0.0\\nsamples = 14\\nvalue = [0, 14]'),\n",
              " Text(0.24448529411764705, 0.375, 'X[1] <= 0.518\\ngini = 0.463\\nsamples = 11\\nvalue = [4, 7]'),\n",
              " Text(0.24356617647058823, 0.3392857142857143, 'X[1] <= 0.516\\ngini = 0.346\\nsamples = 9\\nvalue = [2, 7]'),\n",
              " Text(0.2426470588235294, 0.30357142857142855, 'X[6] <= 0.5\\ngini = 0.444\\nsamples = 6\\nvalue = [2, 4]'),\n",
              " Text(0.2417279411764706, 0.26785714285714285, 'X[2] <= 0.006\\ngini = 0.32\\nsamples = 5\\nvalue = [1, 4]'),\n",
              " Text(0.24080882352941177, 0.23214285714285715, 'gini = 0.5\\nsamples = 2\\nvalue = [1, 1]'),\n",
              " Text(0.2426470588235294, 0.23214285714285715, 'gini = 0.0\\nsamples = 3\\nvalue = [0, 3]'),\n",
              " Text(0.24356617647058823, 0.26785714285714285, 'gini = 0.0\\nsamples = 1\\nvalue = [1, 0]'),\n",
              " Text(0.24448529411764705, 0.30357142857142855, 'gini = 0.0\\nsamples = 3\\nvalue = [0, 3]'),\n",
              " Text(0.24540441176470587, 0.3392857142857143, 'gini = 0.0\\nsamples = 2\\nvalue = [2, 0]'),\n",
              " Text(0.2417279411764706, 0.44642857142857145, 'gini = 0.0\\nsamples = 1\\nvalue = [1, 0]'),\n",
              " Text(0.2426470588235294, 0.48214285714285715, 'gini = 0.0\\nsamples = 48\\nvalue = [0, 48]'),\n",
              " Text(0.25137867647058826, 0.5535714285714286, 'X[10] <= 0.5\\ngini = 0.257\\nsamples = 33\\nvalue = [5, 28]'),\n",
              " Text(0.24908088235294118, 0.5178571428571429, 'X[24] <= 0.5\\ngini = 0.128\\nsamples = 29\\nvalue = [2, 27]'),\n",
              " Text(0.24724264705882354, 0.48214285714285715, 'X[1] <= 0.707\\ngini = 0.071\\nsamples = 27\\nvalue = [1, 26]'),\n",
              " Text(0.24632352941176472, 0.44642857142857145, 'X[2] <= 0.008\\ngini = 0.18\\nsamples = 10\\nvalue = [1, 9]'),\n",
              " Text(0.24540441176470587, 0.4107142857142857, 'gini = 0.0\\nsamples = 9\\nvalue = [0, 9]'),\n",
              " Text(0.24724264705882354, 0.4107142857142857, 'gini = 0.0\\nsamples = 1\\nvalue = [1, 0]'),\n",
              " Text(0.24816176470588236, 0.44642857142857145, 'gini = 0.0\\nsamples = 17\\nvalue = [0, 17]'),\n",
              " Text(0.2509191176470588, 0.48214285714285715, 'X[4] <= 0.5\\ngini = 0.5\\nsamples = 2\\nvalue = [1, 1]'),\n",
              " Text(0.25, 0.44642857142857145, 'gini = 0.0\\nsamples = 1\\nvalue = [0, 1]'),\n",
              " Text(0.25183823529411764, 0.44642857142857145, 'gini = 0.0\\nsamples = 1\\nvalue = [1, 0]'),\n",
              " Text(0.2536764705882353, 0.5178571428571429, 'X[1] <= 0.719\\ngini = 0.375\\nsamples = 4\\nvalue = [3, 1]'),\n",
              " Text(0.25275735294117646, 0.48214285714285715, 'gini = 0.0\\nsamples = 3\\nvalue = [3, 0]'),\n",
              " Text(0.2545955882352941, 0.48214285714285715, 'gini = 0.0\\nsamples = 1\\nvalue = [0, 1]'),\n",
              " Text(0.2541360294117647, 0.5892857142857143, 'X[27] <= 0.5\\ngini = 0.5\\nsamples = 2\\nvalue = [1, 1]'),\n",
              " Text(0.2532169117647059, 0.5535714285714286, 'gini = 0.0\\nsamples = 1\\nvalue = [1, 0]'),\n",
              " Text(0.25505514705882354, 0.5535714285714286, 'gini = 0.0\\nsamples = 1\\nvalue = [0, 1]'),\n",
              " Text(0.30008473115808826, 0.625, 'X[45] <= 0.5\\ngini = 0.377\\nsamples = 266\\nvalue = [67, 199]'),\n",
              " Text(0.2812356387867647, 0.5892857142857143, 'X[1] <= 0.52\\ngini = 0.349\\nsamples = 244\\nvalue = [55, 189]'),\n",
              " Text(0.2588465073529412, 0.5535714285714286, 'X[17] <= 0.5\\ngini = 0.478\\nsamples = 48\\nvalue = [19, 29]'),\n",
              " Text(0.25792738970588236, 0.5178571428571429, 'gini = 0.0\\nsamples = 8\\nvalue = [0, 8]'),\n",
              " Text(0.259765625, 0.5178571428571429, 'X[5] <= 0.5\\ngini = 0.499\\nsamples = 40\\nvalue = [19, 21]'),\n",
              " Text(0.25643382352941174, 0.48214285714285715, 'X[4] <= 0.5\\ngini = 0.355\\nsamples = 13\\nvalue = [3, 10]'),\n",
              " Text(0.2555147058823529, 0.44642857142857145, 'gini = 0.0\\nsamples = 10\\nvalue = [0, 10]'),\n",
              " Text(0.25735294117647056, 0.44642857142857145, 'gini = 0.0\\nsamples = 3\\nvalue = [3, 0]'),\n",
              " Text(0.26309742647058826, 0.48214285714285715, 'X[2] <= 0.021\\ngini = 0.483\\nsamples = 27\\nvalue = [16, 11]'),\n",
              " Text(0.25919117647058826, 0.44642857142857145, 'X[4] <= 0.5\\ngini = 0.198\\nsamples = 9\\nvalue = [8, 1]'),\n",
              " Text(0.25827205882352944, 0.4107142857142857, 'gini = 0.0\\nsamples = 7\\nvalue = [7, 0]'),\n",
              " Text(0.2601102941176471, 0.4107142857142857, 'X[2] <= 0.014\\ngini = 0.5\\nsamples = 2\\nvalue = [1, 1]'),\n",
              " Text(0.25919117647058826, 0.375, 'gini = 0.0\\nsamples = 1\\nvalue = [0, 1]'),\n",
              " Text(0.2610294117647059, 0.375, 'gini = 0.0\\nsamples = 1\\nvalue = [1, 0]'),\n",
              " Text(0.26700367647058826, 0.44642857142857145, 'X[2] <= 0.037\\ngini = 0.494\\nsamples = 18\\nvalue = [8, 10]'),\n",
              " Text(0.26378676470588236, 0.4107142857142857, 'X[1] <= 0.516\\ngini = 0.278\\nsamples = 6\\nvalue = [1, 5]'),\n",
              " Text(0.26286764705882354, 0.375, 'gini = 0.0\\nsamples = 4\\nvalue = [0, 4]'),\n",
              " Text(0.2647058823529412, 0.375, 'X[3] <= 0.5\\ngini = 0.5\\nsamples = 2\\nvalue = [1, 1]'),\n",
              " Text(0.26378676470588236, 0.3392857142857143, 'gini = 0.0\\nsamples = 1\\nvalue = [0, 1]'),\n",
              " Text(0.265625, 0.3392857142857143, 'gini = 0.0\\nsamples = 1\\nvalue = [1, 0]'),\n",
              " Text(0.2702205882352941, 0.4107142857142857, 'X[7] <= 0.5\\ngini = 0.486\\nsamples = 12\\nvalue = [7, 5]'),\n",
              " Text(0.26838235294117646, 0.375, 'X[2] <= 0.046\\ngini = 0.444\\nsamples = 6\\nvalue = [2, 4]'),\n",
              " Text(0.26746323529411764, 0.3392857142857143, 'gini = 0.0\\nsamples = 2\\nvalue = [2, 0]'),\n",
              " Text(0.2693014705882353, 0.3392857142857143, 'gini = 0.0\\nsamples = 4\\nvalue = [0, 4]'),\n",
              " Text(0.27205882352941174, 0.375, 'X[2] <= 0.075\\ngini = 0.278\\nsamples = 6\\nvalue = [5, 1]'),\n",
              " Text(0.2711397058823529, 0.3392857142857143, 'gini = 0.0\\nsamples = 4\\nvalue = [4, 0]'),\n",
              " Text(0.27297794117647056, 0.3392857142857143, 'X[1] <= 0.516\\ngini = 0.5\\nsamples = 2\\nvalue = [1, 1]'),\n",
              " Text(0.27205882352941174, 0.30357142857142855, 'gini = 0.0\\nsamples = 1\\nvalue = [0, 1]'),\n",
              " Text(0.27389705882352944, 0.30357142857142855, 'gini = 0.0\\nsamples = 1\\nvalue = [1, 0]'),\n",
              " Text(0.30362477022058826, 0.5535714285714286, 'X[6] <= 0.5\\ngini = 0.3\\nsamples = 196\\nvalue = [36, 160]'),\n",
              " Text(0.2952090992647059, 0.5178571428571429, 'X[2] <= 0.084\\ngini = 0.236\\nsamples = 161\\nvalue = [22, 139]'),\n",
              " Text(0.28894761029411764, 0.48214285714285715, 'X[10] <= 0.5\\ngini = 0.175\\nsamples = 134\\nvalue = [13, 121]'),\n",
              " Text(0.28561580882352944, 0.44642857142857145, 'X[27] <= 0.5\\ngini = 0.136\\nsamples = 123\\nvalue = [9, 114]'),\n",
              " Text(0.28170955882352944, 0.4107142857142857, 'X[4] <= 0.5\\ngini = 0.092\\nsamples = 103\\nvalue = [5, 98]'),\n",
              " Text(0.27849264705882354, 0.375, 'X[42] <= 0.5\\ngini = 0.049\\nsamples = 79\\nvalue = [2, 77]'),\n",
              " Text(0.2766544117647059, 0.3392857142857143, 'X[2] <= 0.025\\ngini = 0.027\\nsamples = 73\\nvalue = [1, 72]'),\n",
              " Text(0.2757352941176471, 0.30357142857142855, 'X[0] <= 0.035\\ngini = 0.095\\nsamples = 20\\nvalue = [1, 19]'),\n",
              " Text(0.27481617647058826, 0.26785714285714285, 'gini = 0.0\\nsamples = 19\\nvalue = [0, 19]'),\n",
              " Text(0.2766544117647059, 0.26785714285714285, 'gini = 0.0\\nsamples = 1\\nvalue = [1, 0]'),\n",
              " Text(0.2775735294117647, 0.30357142857142855, 'gini = 0.0\\nsamples = 53\\nvalue = [0, 53]'),\n",
              " Text(0.2803308823529412, 0.3392857142857143, 'X[0] <= 0.097\\ngini = 0.278\\nsamples = 6\\nvalue = [1, 5]'),\n",
              " Text(0.27941176470588236, 0.30357142857142855, 'gini = 0.0\\nsamples = 3\\nvalue = [0, 3]'),\n",
              " Text(0.28125, 0.30357142857142855, 'X[2] <= 0.073\\ngini = 0.444\\nsamples = 3\\nvalue = [1, 2]'),\n",
              " Text(0.2803308823529412, 0.26785714285714285, 'gini = 0.0\\nsamples = 1\\nvalue = [1, 0]'),\n",
              " Text(0.2821691176470588, 0.26785714285714285, 'gini = 0.0\\nsamples = 2\\nvalue = [0, 2]'),\n",
              " Text(0.2849264705882353, 0.375, 'X[1] <= 0.571\\ngini = 0.219\\nsamples = 24\\nvalue = [3, 21]'),\n",
              " Text(0.28400735294117646, 0.3392857142857143, 'gini = 0.0\\nsamples = 1\\nvalue = [1, 0]'),\n",
              " Text(0.2858455882352941, 0.3392857142857143, 'X[2] <= 0.031\\ngini = 0.159\\nsamples = 23\\nvalue = [2, 21]'),\n",
              " Text(0.2849264705882353, 0.30357142857142855, 'X[2] <= 0.026\\ngini = 0.444\\nsamples = 6\\nvalue = [2, 4]'),\n",
              " Text(0.28400735294117646, 0.26785714285714285, 'gini = 0.0\\nsamples = 4\\nvalue = [0, 4]'),\n",
              " Text(0.2858455882352941, 0.26785714285714285, 'gini = 0.0\\nsamples = 2\\nvalue = [2, 0]'),\n",
              " Text(0.2867647058823529, 0.30357142857142855, 'gini = 0.0\\nsamples = 17\\nvalue = [0, 17]'),\n",
              " Text(0.28952205882352944, 0.4107142857142857, 'X[1] <= 0.658\\ngini = 0.32\\nsamples = 20\\nvalue = [4, 16]'),\n",
              " Text(0.28860294117647056, 0.375, 'X[7] <= 0.5\\ngini = 0.494\\nsamples = 9\\nvalue = [4, 5]'),\n",
              " Text(0.28768382352941174, 0.3392857142857143, 'gini = 0.0\\nsamples = 3\\nvalue = [0, 3]'),\n",
              " Text(0.28952205882352944, 0.3392857142857143, 'X[1] <= 0.563\\ngini = 0.444\\nsamples = 6\\nvalue = [4, 2]'),\n",
              " Text(0.28860294117647056, 0.30357142857142855, 'X[2] <= 0.057\\ngini = 0.444\\nsamples = 3\\nvalue = [1, 2]'),\n",
              " Text(0.28768382352941174, 0.26785714285714285, 'gini = 0.0\\nsamples = 2\\nvalue = [0, 2]'),\n",
              " Text(0.28952205882352944, 0.26785714285714285, 'gini = 0.0\\nsamples = 1\\nvalue = [1, 0]'),\n",
              " Text(0.29044117647058826, 0.30357142857142855, 'gini = 0.0\\nsamples = 3\\nvalue = [3, 0]'),\n",
              " Text(0.29044117647058826, 0.375, 'gini = 0.0\\nsamples = 11\\nvalue = [0, 11]'),\n",
              " Text(0.2922794117647059, 0.44642857142857145, 'X[1] <= 0.541\\ngini = 0.463\\nsamples = 11\\nvalue = [4, 7]'),\n",
              " Text(0.2913602941176471, 0.4107142857142857, 'gini = 0.0\\nsamples = 2\\nvalue = [2, 0]'),\n",
              " Text(0.2931985294117647, 0.4107142857142857, 'X[33] <= 0.5\\ngini = 0.346\\nsamples = 9\\nvalue = [2, 7]'),\n",
              " Text(0.2922794117647059, 0.375, 'gini = 0.0\\nsamples = 5\\nvalue = [0, 5]'),\n",
              " Text(0.29411764705882354, 0.375, 'X[1] <= 0.636\\ngini = 0.5\\nsamples = 4\\nvalue = [2, 2]'),\n",
              " Text(0.2931985294117647, 0.3392857142857143, 'gini = 0.0\\nsamples = 2\\nvalue = [2, 0]'),\n",
              " Text(0.29503676470588236, 0.3392857142857143, 'gini = 0.0\\nsamples = 2\\nvalue = [0, 2]'),\n",
              " Text(0.3014705882352941, 0.48214285714285715, 'X[2] <= 0.119\\ngini = 0.444\\nsamples = 27\\nvalue = [9, 18]'),\n",
              " Text(0.3005514705882353, 0.44642857142857145, 'X[2] <= 0.114\\ngini = 0.499\\nsamples = 19\\nvalue = [9, 10]'),\n",
              " Text(0.29963235294117646, 0.4107142857142857, 'X[2] <= 0.092\\ngini = 0.444\\nsamples = 15\\nvalue = [5, 10]'),\n",
              " Text(0.2977941176470588, 0.375, 'X[42] <= 0.5\\ngini = 0.444\\nsamples = 6\\nvalue = [4, 2]'),\n",
              " Text(0.296875, 0.3392857142857143, 'X[0] <= 0.118\\ngini = 0.32\\nsamples = 5\\nvalue = [4, 1]'),\n",
              " Text(0.2959558823529412, 0.30357142857142855, 'X[1] <= 0.758\\ngini = 0.5\\nsamples = 2\\nvalue = [1, 1]'),\n",
              " Text(0.29503676470588236, 0.26785714285714285, 'gini = 0.0\\nsamples = 1\\nvalue = [0, 1]'),\n",
              " Text(0.296875, 0.26785714285714285, 'gini = 0.0\\nsamples = 1\\nvalue = [1, 0]'),\n",
              " Text(0.2977941176470588, 0.30357142857142855, 'gini = 0.0\\nsamples = 3\\nvalue = [3, 0]'),\n",
              " Text(0.29871323529411764, 0.3392857142857143, 'gini = 0.0\\nsamples = 1\\nvalue = [0, 1]'),\n",
              " Text(0.3014705882352941, 0.375, 'X[1] <= 0.627\\ngini = 0.198\\nsamples = 9\\nvalue = [1, 8]'),\n",
              " Text(0.3005514705882353, 0.3392857142857143, 'gini = 0.0\\nsamples = 8\\nvalue = [0, 8]'),\n",
              " Text(0.3023897058823529, 0.3392857142857143, 'gini = 0.0\\nsamples = 1\\nvalue = [1, 0]'),\n",
              " Text(0.3014705882352941, 0.4107142857142857, 'gini = 0.0\\nsamples = 4\\nvalue = [4, 0]'),\n",
              " Text(0.3023897058823529, 0.44642857142857145, 'gini = 0.0\\nsamples = 8\\nvalue = [0, 8]'),\n",
              " Text(0.31204044117647056, 0.5178571428571429, 'X[2] <= 0.081\\ngini = 0.48\\nsamples = 35\\nvalue = [14, 21]'),\n",
              " Text(0.3088235294117647, 0.48214285714285715, 'X[2] <= 0.061\\ngini = 0.499\\nsamples = 23\\nvalue = [11, 12]'),\n",
              " Text(0.3069852941176471, 0.44642857142857145, 'X[2] <= 0.048\\ngini = 0.426\\nsamples = 13\\nvalue = [4, 9]'),\n",
              " Text(0.30606617647058826, 0.4107142857142857, 'X[4] <= 0.5\\ngini = 0.494\\nsamples = 9\\nvalue = [4, 5]'),\n",
              " Text(0.30514705882352944, 0.375, 'X[24] <= 0.5\\ngini = 0.278\\nsamples = 6\\nvalue = [1, 5]'),\n",
              " Text(0.30422794117647056, 0.3392857142857143, 'gini = 0.0\\nsamples = 5\\nvalue = [0, 5]'),\n",
              " Text(0.30606617647058826, 0.3392857142857143, 'gini = 0.0\\nsamples = 1\\nvalue = [1, 0]'),\n",
              " Text(0.3069852941176471, 0.375, 'gini = 0.0\\nsamples = 3\\nvalue = [3, 0]'),\n",
              " Text(0.3079044117647059, 0.4107142857142857, 'gini = 0.0\\nsamples = 4\\nvalue = [0, 4]'),\n",
              " Text(0.31066176470588236, 0.44642857142857145, 'X[3] <= 0.5\\ngini = 0.42\\nsamples = 10\\nvalue = [7, 3]'),\n",
              " Text(0.30974264705882354, 0.4107142857142857, 'X[34] <= 0.5\\ngini = 0.48\\nsamples = 5\\nvalue = [2, 3]'),\n",
              " Text(0.3088235294117647, 0.375, 'X[1] <= 0.706\\ngini = 0.444\\nsamples = 3\\nvalue = [2, 1]'),\n",
              " Text(0.3079044117647059, 0.3392857142857143, 'gini = 0.0\\nsamples = 2\\nvalue = [2, 0]'),\n",
              " Text(0.30974264705882354, 0.3392857142857143, 'gini = 0.0\\nsamples = 1\\nvalue = [0, 1]'),\n",
              " Text(0.31066176470588236, 0.375, 'gini = 0.0\\nsamples = 2\\nvalue = [0, 2]'),\n",
              " Text(0.3115808823529412, 0.4107142857142857, 'gini = 0.0\\nsamples = 5\\nvalue = [5, 0]'),\n",
              " Text(0.31525735294117646, 0.48214285714285715, 'X[1] <= 0.773\\ngini = 0.375\\nsamples = 12\\nvalue = [3, 9]'),\n",
              " Text(0.31433823529411764, 0.44642857142857145, 'X[1] <= 0.606\\ngini = 0.298\\nsamples = 11\\nvalue = [2, 9]'),\n",
              " Text(0.3134191176470588, 0.4107142857142857, 'X[2] <= 0.103\\ngini = 0.5\\nsamples = 4\\nvalue = [2, 2]'),\n",
              " Text(0.3125, 0.375, 'gini = 0.0\\nsamples = 2\\nvalue = [2, 0]'),\n",
              " Text(0.31433823529411764, 0.375, 'gini = 0.0\\nsamples = 2\\nvalue = [0, 2]'),\n",
              " Text(0.31525735294117646, 0.4107142857142857, 'gini = 0.0\\nsamples = 7\\nvalue = [0, 7]'),\n",
              " Text(0.3161764705882353, 0.44642857142857145, 'gini = 0.0\\nsamples = 1\\nvalue = [1, 0]'),\n",
              " Text(0.31893382352941174, 0.5892857142857143, 'X[6] <= 0.5\\ngini = 0.496\\nsamples = 22\\nvalue = [12, 10]'),\n",
              " Text(0.3170955882352941, 0.5535714285714286, 'X[0] <= 0.035\\ngini = 0.457\\nsamples = 17\\nvalue = [11, 6]'),\n",
              " Text(0.3161764705882353, 0.5178571428571429, 'gini = 0.0\\nsamples = 2\\nvalue = [0, 2]'),\n",
              " Text(0.3180147058823529, 0.5178571428571429, 'X[0] <= 0.076\\ngini = 0.391\\nsamples = 15\\nvalue = [11, 4]'),\n",
              " Text(0.3170955882352941, 0.48214285714285715, 'gini = 0.0\\nsamples = 6\\nvalue = [6, 0]'),\n",
              " Text(0.31893382352941174, 0.48214285714285715, 'X[22] <= 0.5\\ngini = 0.494\\nsamples = 9\\nvalue = [5, 4]'),\n",
              " Text(0.3180147058823529, 0.44642857142857145, 'gini = 0.0\\nsamples = 2\\nvalue = [2, 0]'),\n",
              " Text(0.31985294117647056, 0.44642857142857145, 'X[4] <= 0.5\\ngini = 0.49\\nsamples = 7\\nvalue = [3, 4]'),\n",
              " Text(0.31893382352941174, 0.4107142857142857, 'X[0] <= 0.111\\ngini = 0.48\\nsamples = 5\\nvalue = [3, 2]'),\n",
              " Text(0.3180147058823529, 0.375, 'X[31] <= 0.5\\ngini = 0.444\\nsamples = 3\\nvalue = [1, 2]'),\n",
              " Text(0.3170955882352941, 0.3392857142857143, 'gini = 0.0\\nsamples = 1\\nvalue = [0, 1]'),\n",
              " Text(0.31893382352941174, 0.3392857142857143, 'X[1] <= 0.511\\ngini = 0.5\\nsamples = 2\\nvalue = [1, 1]'),\n",
              " Text(0.3180147058823529, 0.30357142857142855, 'gini = 0.0\\nsamples = 1\\nvalue = [0, 1]'),\n",
              " Text(0.31985294117647056, 0.30357142857142855, 'gini = 0.0\\nsamples = 1\\nvalue = [1, 0]'),\n",
              " Text(0.31985294117647056, 0.375, 'gini = 0.0\\nsamples = 2\\nvalue = [2, 0]'),\n",
              " Text(0.32077205882352944, 0.4107142857142857, 'gini = 0.0\\nsamples = 2\\nvalue = [0, 2]'),\n",
              " Text(0.32077205882352944, 0.5535714285714286, 'X[1] <= 0.523\\ngini = 0.32\\nsamples = 5\\nvalue = [1, 4]'),\n",
              " Text(0.31985294117647056, 0.5178571428571429, 'gini = 0.0\\nsamples = 3\\nvalue = [0, 3]'),\n",
              " Text(0.32169117647058826, 0.5178571428571429, 'X[25] <= 0.5\\ngini = 0.5\\nsamples = 2\\nvalue = [1, 1]'),\n",
              " Text(0.32077205882352944, 0.48214285714285715, 'gini = 0.0\\nsamples = 1\\nvalue = [0, 1]'),\n",
              " Text(0.3226102941176471, 0.48214285714285715, 'gini = 0.0\\nsamples = 1\\nvalue = [1, 0]'),\n",
              " Text(0.36770091337316174, 0.6964285714285714, 'X[2] <= 0.034\\ngini = 0.38\\nsamples = 372\\nvalue = [95, 277]'),\n",
              " Text(0.35649557674632354, 0.6607142857142857, 'X[24] <= 0.5\\ngini = 0.297\\nsamples = 314\\nvalue = [57, 257]'),\n",
              " Text(0.34856100643382354, 0.625, 'X[43] <= 0.5\\ngini = 0.258\\nsamples = 282\\nvalue = [43, 239]'),\n",
              " Text(0.3434914981617647, 0.5892857142857143, 'X[1] <= 0.379\\ngini = 0.233\\nsamples = 268\\nvalue = [36, 232]'),\n",
              " Text(0.3416532628676471, 0.5535714285714286, 'X[22] <= 0.5\\ngini = 0.224\\nsamples = 265\\nvalue = [34, 231]'),\n",
              " Text(0.34073414522058826, 0.5178571428571429, 'gini = 0.0\\nsamples = 37\\nvalue = [0, 37]'),\n",
              " Text(0.3425723805147059, 0.5178571428571429, 'X[2] <= 0.006\\ngini = 0.254\\nsamples = 228\\nvalue = [34, 194]'),\n",
              " Text(0.3342715992647059, 0.48214285714285715, 'X[4] <= 0.5\\ngini = 0.192\\nsamples = 167\\nvalue = [18, 149]'),\n",
              " Text(0.3265165441176471, 0.44642857142857145, 'X[1] <= 0.369\\ngini = 0.115\\nsamples = 98\\nvalue = [6, 92]'),\n",
              " Text(0.3239889705882353, 0.4107142857142857, 'X[2] <= 0.001\\ngini = 0.083\\nsamples = 92\\nvalue = [4, 88]'),\n",
              " Text(0.32169117647058826, 0.375, 'X[45] <= 0.5\\ngini = 0.444\\nsamples = 6\\nvalue = [2, 4]'),\n",
              " Text(0.32077205882352944, 0.3392857142857143, 'gini = 0.0\\nsamples = 4\\nvalue = [0, 4]'),\n",
              " Text(0.3226102941176471, 0.3392857142857143, 'gini = 0.0\\nsamples = 2\\nvalue = [2, 0]'),\n",
              " Text(0.32628676470588236, 0.375, 'X[33] <= 0.5\\ngini = 0.045\\nsamples = 86\\nvalue = [2, 84]'),\n",
              " Text(0.3244485294117647, 0.3392857142857143, 'X[45] <= 0.5\\ngini = 0.026\\nsamples = 75\\nvalue = [1, 74]'),\n",
              " Text(0.3235294117647059, 0.30357142857142855, 'gini = 0.0\\nsamples = 52\\nvalue = [0, 52]'),\n",
              " Text(0.32536764705882354, 0.30357142857142855, 'X[2] <= 0.003\\ngini = 0.083\\nsamples = 23\\nvalue = [1, 22]'),\n",
              " Text(0.3244485294117647, 0.26785714285714285, 'X[2] <= 0.003\\ngini = 0.18\\nsamples = 10\\nvalue = [1, 9]'),\n",
              " Text(0.3235294117647059, 0.23214285714285715, 'gini = 0.0\\nsamples = 8\\nvalue = [0, 8]'),\n",
              " Text(0.32536764705882354, 0.23214285714285715, 'gini = 0.5\\nsamples = 2\\nvalue = [1, 1]'),\n",
              " Text(0.32628676470588236, 0.26785714285714285, 'gini = 0.0\\nsamples = 13\\nvalue = [0, 13]'),\n",
              " Text(0.328125, 0.3392857142857143, 'X[2] <= 0.004\\ngini = 0.165\\nsamples = 11\\nvalue = [1, 10]'),\n",
              " Text(0.3272058823529412, 0.30357142857142855, 'gini = 0.0\\nsamples = 9\\nvalue = [0, 9]'),\n",
              " Text(0.3290441176470588, 0.30357142857142855, 'X[44] <= 0.5\\ngini = 0.5\\nsamples = 2\\nvalue = [1, 1]'),\n",
              " Text(0.328125, 0.26785714285714285, 'gini = 0.0\\nsamples = 1\\nvalue = [0, 1]'),\n",
              " Text(0.32996323529411764, 0.26785714285714285, 'gini = 0.0\\nsamples = 1\\nvalue = [1, 0]'),\n",
              " Text(0.3290441176470588, 0.4107142857142857, 'X[1] <= 0.37\\ngini = 0.444\\nsamples = 6\\nvalue = [2, 4]'),\n",
              " Text(0.328125, 0.375, 'gini = 0.0\\nsamples = 2\\nvalue = [2, 0]'),\n",
              " Text(0.32996323529411764, 0.375, 'gini = 0.0\\nsamples = 4\\nvalue = [0, 4]'),\n",
              " Text(0.3420266544117647, 0.44642857142857145, 'X[15] <= 0.5\\ngini = 0.287\\nsamples = 69\\nvalue = [12, 57]'),\n",
              " Text(0.33938419117647056, 0.4107142857142857, 'X[2] <= 0.003\\ngini = 0.257\\nsamples = 66\\nvalue = [10, 56]'),\n",
              " Text(0.3368566176470588, 0.375, 'X[1] <= 0.25\\ngini = 0.382\\nsamples = 35\\nvalue = [9, 26]'),\n",
              " Text(0.33455882352941174, 0.3392857142857143, 'X[10] <= 0.5\\ngini = 0.142\\nsamples = 26\\nvalue = [2, 24]'),\n",
              " Text(0.3327205882352941, 0.30357142857142855, 'X[2] <= 0.001\\ngini = 0.08\\nsamples = 24\\nvalue = [1, 23]'),\n",
              " Text(0.3318014705882353, 0.26785714285714285, 'X[2] <= 0.001\\ngini = 0.375\\nsamples = 4\\nvalue = [1, 3]'),\n",
              " Text(0.33088235294117646, 0.23214285714285715, 'gini = 0.0\\nsamples = 3\\nvalue = [0, 3]'),\n",
              " Text(0.3327205882352941, 0.23214285714285715, 'gini = 0.0\\nsamples = 1\\nvalue = [1, 0]'),\n",
              " Text(0.3336397058823529, 0.26785714285714285, 'gini = 0.0\\nsamples = 20\\nvalue = [0, 20]'),\n",
              " Text(0.33639705882352944, 0.30357142857142855, 'X[2] <= 0.001\\ngini = 0.5\\nsamples = 2\\nvalue = [1, 1]'),\n",
              " Text(0.33547794117647056, 0.26785714285714285, 'gini = 0.0\\nsamples = 1\\nvalue = [1, 0]'),\n",
              " Text(0.33731617647058826, 0.26785714285714285, 'gini = 0.0\\nsamples = 1\\nvalue = [0, 1]'),\n",
              " Text(0.3391544117647059, 0.3392857142857143, 'X[9] <= 0.5\\ngini = 0.346\\nsamples = 9\\nvalue = [7, 2]'),\n",
              " Text(0.3382352941176471, 0.30357142857142855, 'gini = 0.0\\nsamples = 2\\nvalue = [0, 2]'),\n",
              " Text(0.3400735294117647, 0.30357142857142855, 'gini = 0.0\\nsamples = 7\\nvalue = [7, 0]'),\n",
              " Text(0.34191176470588236, 0.375, 'X[6] <= 0.5\\ngini = 0.062\\nsamples = 31\\nvalue = [1, 30]'),\n",
              " Text(0.34099264705882354, 0.3392857142857143, 'gini = 0.0\\nsamples = 28\\nvalue = [0, 28]'),\n",
              " Text(0.3428308823529412, 0.3392857142857143, 'X[2] <= 0.003\\ngini = 0.444\\nsamples = 3\\nvalue = [1, 2]'),\n",
              " Text(0.34191176470588236, 0.30357142857142855, 'gini = 0.0\\nsamples = 1\\nvalue = [1, 0]'),\n",
              " Text(0.34375, 0.30357142857142855, 'gini = 0.0\\nsamples = 2\\nvalue = [0, 2]'),\n",
              " Text(0.3446691176470588, 0.4107142857142857, 'X[1] <= 0.319\\ngini = 0.444\\nsamples = 3\\nvalue = [2, 1]'),\n",
              " Text(0.34375, 0.375, 'gini = 0.0\\nsamples = 2\\nvalue = [2, 0]'),\n",
              " Text(0.34558823529411764, 0.375, 'gini = 0.0\\nsamples = 1\\nvalue = [0, 1]'),\n",
              " Text(0.3508731617647059, 0.48214285714285715, 'X[2] <= 0.008\\ngini = 0.387\\nsamples = 61\\nvalue = [16, 45]'),\n",
              " Text(0.3474264705882353, 0.44642857142857145, 'X[11] <= 0.5\\ngini = 0.375\\nsamples = 8\\nvalue = [6, 2]'),\n",
              " Text(0.34650735294117646, 0.4107142857142857, 'gini = 0.0\\nsamples = 6\\nvalue = [6, 0]'),\n",
              " Text(0.3483455882352941, 0.4107142857142857, 'gini = 0.0\\nsamples = 2\\nvalue = [0, 2]'),\n",
              " Text(0.35431985294117646, 0.44642857142857145, 'X[1] <= 0.069\\ngini = 0.306\\nsamples = 53\\nvalue = [10, 43]'),\n",
              " Text(0.35018382352941174, 0.4107142857142857, 'X[0] <= 0.153\\ngini = 0.48\\nsamples = 5\\nvalue = [3, 2]'),\n",
              " Text(0.3492647058823529, 0.375, 'X[7] <= 0.5\\ngini = 0.375\\nsamples = 4\\nvalue = [3, 1]'),\n",
              " Text(0.3483455882352941, 0.3392857142857143, 'X[3] <= 0.5\\ngini = 0.5\\nsamples = 2\\nvalue = [1, 1]'),\n",
              " Text(0.3474264705882353, 0.30357142857142855, 'gini = 0.0\\nsamples = 1\\nvalue = [0, 1]'),\n",
              " Text(0.3492647058823529, 0.30357142857142855, 'gini = 0.0\\nsamples = 1\\nvalue = [1, 0]'),\n",
              " Text(0.35018382352941174, 0.3392857142857143, 'gini = 0.0\\nsamples = 2\\nvalue = [2, 0]'),\n",
              " Text(0.35110294117647056, 0.375, 'gini = 0.0\\nsamples = 1\\nvalue = [0, 1]'),\n",
              " Text(0.3584558823529412, 0.4107142857142857, 'X[1] <= 0.341\\ngini = 0.249\\nsamples = 48\\nvalue = [7, 41]'),\n",
              " Text(0.3547794117647059, 0.375, 'X[3] <= 0.5\\ngini = 0.198\\nsamples = 45\\nvalue = [5, 40]'),\n",
              " Text(0.35202205882352944, 0.3392857142857143, 'X[0] <= 0.049\\ngini = 0.105\\nsamples = 36\\nvalue = [2, 34]'),\n",
              " Text(0.35110294117647056, 0.30357142857142855, 'gini = 0.0\\nsamples = 22\\nvalue = [0, 22]'),\n",
              " Text(0.35294117647058826, 0.30357142857142855, 'X[13] <= 0.5\\ngini = 0.245\\nsamples = 14\\nvalue = [2, 12]'),\n",
              " Text(0.35202205882352944, 0.26785714285714285, 'X[27] <= 0.5\\ngini = 0.142\\nsamples = 13\\nvalue = [1, 12]'),\n",
              " Text(0.35110294117647056, 0.23214285714285715, 'gini = 0.0\\nsamples = 11\\nvalue = [0, 11]'),\n",
              " Text(0.35294117647058826, 0.23214285714285715, 'X[2] <= 0.017\\ngini = 0.5\\nsamples = 2\\nvalue = [1, 1]'),\n",
              " Text(0.35202205882352944, 0.19642857142857142, 'gini = 0.0\\nsamples = 1\\nvalue = [1, 0]'),\n",
              " Text(0.3538602941176471, 0.19642857142857142, 'gini = 0.0\\nsamples = 1\\nvalue = [0, 1]'),\n",
              " Text(0.3538602941176471, 0.26785714285714285, 'gini = 0.0\\nsamples = 1\\nvalue = [1, 0]'),\n",
              " Text(0.35753676470588236, 0.3392857142857143, 'X[6] <= 0.5\\ngini = 0.444\\nsamples = 9\\nvalue = [3, 6]'),\n",
              " Text(0.35661764705882354, 0.30357142857142855, 'X[0] <= 0.049\\ngini = 0.375\\nsamples = 8\\nvalue = [2, 6]'),\n",
              " Text(0.3556985294117647, 0.26785714285714285, 'X[13] <= 0.5\\ngini = 0.444\\nsamples = 3\\nvalue = [2, 1]'),\n",
              " Text(0.3547794117647059, 0.23214285714285715, 'gini = 0.0\\nsamples = 1\\nvalue = [0, 1]'),\n",
              " Text(0.35661764705882354, 0.23214285714285715, 'gini = 0.0\\nsamples = 2\\nvalue = [2, 0]'),\n",
              " Text(0.35753676470588236, 0.26785714285714285, 'gini = 0.0\\nsamples = 5\\nvalue = [0, 5]'),\n",
              " Text(0.3584558823529412, 0.30357142857142855, 'gini = 0.0\\nsamples = 1\\nvalue = [1, 0]'),\n",
              " Text(0.36213235294117646, 0.375, 'X[0] <= 0.049\\ngini = 0.444\\nsamples = 3\\nvalue = [2, 1]'),\n",
              " Text(0.36121323529411764, 0.3392857142857143, 'X[31] <= 0.5\\ngini = 0.5\\nsamples = 2\\nvalue = [1, 1]'),\n",
              " Text(0.3602941176470588, 0.30357142857142855, 'gini = 0.0\\nsamples = 1\\nvalue = [1, 0]'),\n",
              " Text(0.36213235294117646, 0.30357142857142855, 'gini = 0.0\\nsamples = 1\\nvalue = [0, 1]'),\n",
              " Text(0.3630514705882353, 0.3392857142857143, 'gini = 0.0\\nsamples = 1\\nvalue = [1, 0]'),\n",
              " Text(0.34532973345588236, 0.5535714285714286, 'X[2] <= 0.011\\ngini = 0.444\\nsamples = 3\\nvalue = [2, 1]'),\n",
              " Text(0.34441061580882354, 0.5178571428571429, 'gini = 0.0\\nsamples = 1\\nvalue = [0, 1]'),\n",
              " Text(0.3462488511029412, 0.5178571428571429, 'gini = 0.0\\nsamples = 2\\nvalue = [2, 0]'),\n",
              " Text(0.35363051470588236, 0.5892857142857143, 'X[31] <= 0.5\\ngini = 0.5\\nsamples = 14\\nvalue = [7, 7]'),\n",
              " Text(0.35271139705882354, 0.5535714285714286, 'gini = 0.0\\nsamples = 4\\nvalue = [0, 4]'),\n",
              " Text(0.3545496323529412, 0.5535714285714286, 'X[0] <= 0.042\\ngini = 0.42\\nsamples = 10\\nvalue = [7, 3]'),\n",
              " Text(0.35363051470588236, 0.5178571428571429, 'X[2] <= 0.005\\ngini = 0.5\\nsamples = 6\\nvalue = [3, 3]'),\n",
              " Text(0.35271139705882354, 0.48214285714285715, 'gini = 0.0\\nsamples = 3\\nvalue = [3, 0]'),\n",
              " Text(0.3545496323529412, 0.48214285714285715, 'gini = 0.0\\nsamples = 3\\nvalue = [0, 3]'),\n",
              " Text(0.35546875, 0.5178571428571429, 'gini = 0.0\\nsamples = 4\\nvalue = [4, 0]'),\n",
              " Text(0.36443014705882354, 0.625, 'X[3] <= 0.5\\ngini = 0.492\\nsamples = 32\\nvalue = [14, 18]'),\n",
              " Text(0.36121323529411764, 0.5892857142857143, 'X[2] <= 0.004\\ngini = 0.346\\nsamples = 18\\nvalue = [4, 14]'),\n",
              " Text(0.3602941176470588, 0.5535714285714286, 'gini = 0.0\\nsamples = 2\\nvalue = [2, 0]'),\n",
              " Text(0.36213235294117646, 0.5535714285714286, 'X[13] <= 0.5\\ngini = 0.219\\nsamples = 16\\nvalue = [2, 14]'),\n",
              " Text(0.36121323529411764, 0.5178571428571429, 'gini = 0.0\\nsamples = 9\\nvalue = [0, 9]'),\n",
              " Text(0.3630514705882353, 0.5178571428571429, 'X[0] <= 0.056\\ngini = 0.408\\nsamples = 7\\nvalue = [2, 5]'),\n",
              " Text(0.36213235294117646, 0.48214285714285715, 'X[2] <= 0.009\\ngini = 0.278\\nsamples = 6\\nvalue = [1, 5]'),\n",
              " Text(0.36121323529411764, 0.44642857142857145, 'X[0] <= 0.021\\ngini = 0.5\\nsamples = 2\\nvalue = [1, 1]'),\n",
              " Text(0.3602941176470588, 0.4107142857142857, 'gini = 0.0\\nsamples = 1\\nvalue = [0, 1]'),\n",
              " Text(0.36213235294117646, 0.4107142857142857, 'gini = 0.0\\nsamples = 1\\nvalue = [1, 0]'),\n",
              " Text(0.3630514705882353, 0.44642857142857145, 'gini = 0.0\\nsamples = 4\\nvalue = [0, 4]'),\n",
              " Text(0.3639705882352941, 0.48214285714285715, 'gini = 0.0\\nsamples = 1\\nvalue = [1, 0]'),\n",
              " Text(0.36764705882352944, 0.5892857142857143, 'X[36] <= 0.5\\ngini = 0.408\\nsamples = 14\\nvalue = [10, 4]'),\n",
              " Text(0.36580882352941174, 0.5535714285714286, 'X[43] <= 0.5\\ngini = 0.18\\nsamples = 10\\nvalue = [9, 1]'),\n",
              " Text(0.3648897058823529, 0.5178571428571429, 'gini = 0.0\\nsamples = 8\\nvalue = [8, 0]'),\n",
              " Text(0.36672794117647056, 0.5178571428571429, 'X[33] <= 0.5\\ngini = 0.5\\nsamples = 2\\nvalue = [1, 1]'),\n",
              " Text(0.36580882352941174, 0.48214285714285715, 'gini = 0.0\\nsamples = 1\\nvalue = [0, 1]'),\n",
              " Text(0.36764705882352944, 0.48214285714285715, 'gini = 0.0\\nsamples = 1\\nvalue = [1, 0]'),\n",
              " Text(0.3694852941176471, 0.5535714285714286, 'X[43] <= 0.5\\ngini = 0.375\\nsamples = 4\\nvalue = [1, 3]'),\n",
              " Text(0.36856617647058826, 0.5178571428571429, 'gini = 0.0\\nsamples = 2\\nvalue = [0, 2]'),\n",
              " Text(0.3704044117647059, 0.5178571428571429, 'X[0] <= 0.083\\ngini = 0.5\\nsamples = 2\\nvalue = [1, 1]'),\n",
              " Text(0.3694852941176471, 0.48214285714285715, 'gini = 0.0\\nsamples = 1\\nvalue = [1, 0]'),\n",
              " Text(0.3713235294117647, 0.48214285714285715, 'gini = 0.0\\nsamples = 1\\nvalue = [0, 1]'),\n",
              " Text(0.37890625, 0.6607142857142857, 'X[1] <= 0.305\\ngini = 0.452\\nsamples = 58\\nvalue = [38, 20]'),\n",
              " Text(0.37545955882352944, 0.625, 'X[2] <= 0.044\\ngini = 0.495\\nsamples = 31\\nvalue = [14, 17]'),\n",
              " Text(0.37224264705882354, 0.5892857142857143, 'X[44] <= 0.5\\ngini = 0.298\\nsamples = 11\\nvalue = [9, 2]'),\n",
              " Text(0.3713235294117647, 0.5535714285714286, 'gini = 0.0\\nsamples = 8\\nvalue = [8, 0]'),\n",
              " Text(0.37316176470588236, 0.5535714285714286, 'X[2] <= 0.04\\ngini = 0.444\\nsamples = 3\\nvalue = [1, 2]'),\n",
              " Text(0.37224264705882354, 0.5178571428571429, 'gini = 0.0\\nsamples = 2\\nvalue = [0, 2]'),\n",
              " Text(0.3740808823529412, 0.5178571428571429, 'gini = 0.0\\nsamples = 1\\nvalue = [1, 0]'),\n",
              " Text(0.3786764705882353, 0.5892857142857143, 'X[2] <= 0.058\\ngini = 0.375\\nsamples = 20\\nvalue = [5, 15]'),\n",
              " Text(0.37683823529411764, 0.5535714285714286, 'X[3] <= 0.5\\ngini = 0.219\\nsamples = 16\\nvalue = [2, 14]'),\n",
              " Text(0.3759191176470588, 0.5178571428571429, 'gini = 0.0\\nsamples = 10\\nvalue = [0, 10]'),\n",
              " Text(0.37775735294117646, 0.5178571428571429, 'X[1] <= 0.262\\ngini = 0.444\\nsamples = 6\\nvalue = [2, 4]'),\n",
              " Text(0.37683823529411764, 0.48214285714285715, 'gini = 0.0\\nsamples = 3\\nvalue = [0, 3]'),\n",
              " Text(0.3786764705882353, 0.48214285714285715, 'X[14] <= 0.5\\ngini = 0.444\\nsamples = 3\\nvalue = [2, 1]'),\n",
              " Text(0.37775735294117646, 0.44642857142857145, 'gini = 0.0\\nsamples = 2\\nvalue = [2, 0]'),\n",
              " Text(0.3795955882352941, 0.44642857142857145, 'gini = 0.0\\nsamples = 1\\nvalue = [0, 1]'),\n",
              " Text(0.3805147058823529, 0.5535714285714286, 'X[0] <= 0.174\\ngini = 0.375\\nsamples = 4\\nvalue = [3, 1]'),\n",
              " Text(0.3795955882352941, 0.5178571428571429, 'gini = 0.0\\nsamples = 3\\nvalue = [3, 0]'),\n",
              " Text(0.38143382352941174, 0.5178571428571429, 'gini = 0.0\\nsamples = 1\\nvalue = [0, 1]'),\n",
              " Text(0.38235294117647056, 0.625, 'X[19] <= 0.5\\ngini = 0.198\\nsamples = 27\\nvalue = [24, 3]'),\n",
              " Text(0.38143382352941174, 0.5892857142857143, 'gini = 0.0\\nsamples = 1\\nvalue = [0, 1]'),\n",
              " Text(0.38327205882352944, 0.5892857142857143, 'X[2] <= 0.038\\ngini = 0.142\\nsamples = 26\\nvalue = [24, 2]'),\n",
              " Text(0.38235294117647056, 0.5535714285714286, 'gini = 0.0\\nsamples = 1\\nvalue = [0, 1]'),\n",
              " Text(0.38419117647058826, 0.5535714285714286, 'X[2] <= 0.046\\ngini = 0.077\\nsamples = 25\\nvalue = [24, 1]'),\n",
              " Text(0.38327205882352944, 0.5178571428571429, 'X[27] <= 0.5\\ngini = 0.444\\nsamples = 3\\nvalue = [2, 1]'),\n",
              " Text(0.38235294117647056, 0.48214285714285715, 'gini = 0.0\\nsamples = 2\\nvalue = [2, 0]'),\n",
              " Text(0.38419117647058826, 0.48214285714285715, 'gini = 0.0\\nsamples = 1\\nvalue = [0, 1]'),\n",
              " Text(0.3851102941176471, 0.5178571428571429, 'gini = 0.0\\nsamples = 22\\nvalue = [22, 0]'),\n",
              " Text(0.4562234317555147, 0.7321428571428571, 'X[19] <= 0.5\\ngini = 0.445\\nsamples = 985\\nvalue = [329, 656]'),\n",
              " Text(0.4553043141084559, 0.6964285714285714, 'gini = 0.0\\nsamples = 129\\nvalue = [0, 129]'),\n",
              " Text(0.45714254940257354, 0.6964285714285714, 'X[28] <= 0.5\\ngini = 0.473\\nsamples = 856\\nvalue = [329, 527]'),\n",
              " Text(0.4562234317555147, 0.6607142857142857, 'gini = 0.0\\nsamples = 76\\nvalue = [0, 76]'),\n",
              " Text(0.45806166704963236, 0.6607142857142857, 'X[5] <= 0.5\\ngini = 0.488\\nsamples = 780\\nvalue = [329, 451]'),\n",
              " Text(0.423095703125, 0.625, 'X[6] <= 0.5\\ngini = 0.412\\nsamples = 344\\nvalue = [100, 244]'),\n",
              " Text(0.4221765854779412, 0.5892857142857143, 'gini = 0.0\\nsamples = 85\\nvalue = [0, 85]'),\n",
              " Text(0.4240148207720588, 0.5892857142857143, 'X[13] <= 0.5\\ngini = 0.474\\nsamples = 259\\nvalue = [100, 159]'),\n",
              " Text(0.4109892003676471, 0.5535714285714286, 'X[0] <= 0.812\\ngini = 0.451\\nsamples = 218\\nvalue = [75, 143]'),\n",
              " Text(0.3964269301470588, 0.5178571428571429, 'X[1] <= 0.191\\ngini = 0.423\\nsamples = 194\\nvalue = [59, 135]'),\n",
              " Text(0.3860294117647059, 0.48214285714285715, 'X[44] <= 0.5\\ngini = 0.245\\nsamples = 7\\nvalue = [6, 1]'),\n",
              " Text(0.3851102941176471, 0.44642857142857145, 'gini = 0.0\\nsamples = 4\\nvalue = [4, 0]'),\n",
              " Text(0.3869485294117647, 0.44642857142857145, 'X[0] <= 0.569\\ngini = 0.444\\nsamples = 3\\nvalue = [2, 1]'),\n",
              " Text(0.3860294117647059, 0.4107142857142857, 'gini = 0.0\\nsamples = 2\\nvalue = [2, 0]'),\n",
              " Text(0.38786764705882354, 0.4107142857142857, 'gini = 0.0\\nsamples = 1\\nvalue = [0, 1]'),\n",
              " Text(0.40682444852941174, 0.48214285714285715, 'X[33] <= 0.5\\ngini = 0.406\\nsamples = 187\\nvalue = [53, 134]'),\n",
              " Text(0.3952205882352941, 0.44642857142857145, 'X[4] <= 0.5\\ngini = 0.32\\nsamples = 85\\nvalue = [17, 68]'),\n",
              " Text(0.3897058823529412, 0.4107142857142857, 'X[42] <= 0.5\\ngini = 0.168\\nsamples = 54\\nvalue = [5, 49]'),\n",
              " Text(0.38786764705882354, 0.375, 'X[22] <= 0.5\\ngini = 0.113\\nsamples = 50\\nvalue = [3, 47]'),\n",
              " Text(0.3869485294117647, 0.3392857142857143, 'gini = 0.0\\nsamples = 30\\nvalue = [0, 30]'),\n",
              " Text(0.38878676470588236, 0.3392857142857143, 'X[1] <= 0.601\\ngini = 0.255\\nsamples = 20\\nvalue = [3, 17]'),\n",
              " Text(0.38786764705882354, 0.30357142857142855, 'gini = 0.0\\nsamples = 14\\nvalue = [0, 14]'),\n",
              " Text(0.3897058823529412, 0.30357142857142855, 'X[1] <= 0.665\\ngini = 0.5\\nsamples = 6\\nvalue = [3, 3]'),\n",
              " Text(0.38878676470588236, 0.26785714285714285, 'gini = 0.0\\nsamples = 3\\nvalue = [3, 0]'),\n",
              " Text(0.390625, 0.26785714285714285, 'gini = 0.0\\nsamples = 3\\nvalue = [0, 3]'),\n",
              " Text(0.3915441176470588, 0.375, 'X[27] <= 0.5\\ngini = 0.5\\nsamples = 4\\nvalue = [2, 2]'),\n",
              " Text(0.390625, 0.3392857142857143, 'gini = 0.0\\nsamples = 2\\nvalue = [0, 2]'),\n",
              " Text(0.39246323529411764, 0.3392857142857143, 'gini = 0.0\\nsamples = 2\\nvalue = [2, 0]'),\n",
              " Text(0.4007352941176471, 0.4107142857142857, 'X[1] <= 0.627\\ngini = 0.475\\nsamples = 31\\nvalue = [12, 19]'),\n",
              " Text(0.3961397058823529, 0.375, 'X[44] <= 0.5\\ngini = 0.49\\nsamples = 14\\nvalue = [8, 6]'),\n",
              " Text(0.3943014705882353, 0.3392857142857143, 'X[0] <= 0.215\\ngini = 0.278\\nsamples = 6\\nvalue = [5, 1]'),\n",
              " Text(0.39338235294117646, 0.30357142857142855, 'gini = 0.0\\nsamples = 1\\nvalue = [0, 1]'),\n",
              " Text(0.3952205882352941, 0.30357142857142855, 'gini = 0.0\\nsamples = 5\\nvalue = [5, 0]'),\n",
              " Text(0.39797794117647056, 0.3392857142857143, 'X[1] <= 0.565\\ngini = 0.469\\nsamples = 8\\nvalue = [3, 5]'),\n",
              " Text(0.39705882352941174, 0.30357142857142855, 'gini = 0.0\\nsamples = 3\\nvalue = [0, 3]'),\n",
              " Text(0.39889705882352944, 0.30357142857142855, 'X[1] <= 0.573\\ngini = 0.48\\nsamples = 5\\nvalue = [3, 2]'),\n",
              " Text(0.39797794117647056, 0.26785714285714285, 'gini = 0.0\\nsamples = 2\\nvalue = [2, 0]'),\n",
              " Text(0.39981617647058826, 0.26785714285714285, 'X[2] <= 0.217\\ngini = 0.444\\nsamples = 3\\nvalue = [1, 2]'),\n",
              " Text(0.39889705882352944, 0.23214285714285715, 'gini = 0.0\\nsamples = 2\\nvalue = [0, 2]'),\n",
              " Text(0.4007352941176471, 0.23214285714285715, 'gini = 0.0\\nsamples = 1\\nvalue = [1, 0]'),\n",
              " Text(0.4053308823529412, 0.375, 'X[1] <= 0.705\\ngini = 0.36\\nsamples = 17\\nvalue = [4, 13]'),\n",
              " Text(0.40349264705882354, 0.3392857142857143, 'X[2] <= 0.286\\ngini = 0.153\\nsamples = 12\\nvalue = [1, 11]'),\n",
              " Text(0.4025735294117647, 0.30357142857142855, 'X[2] <= 0.256\\ngini = 0.444\\nsamples = 3\\nvalue = [1, 2]'),\n",
              " Text(0.4016544117647059, 0.26785714285714285, 'gini = 0.0\\nsamples = 2\\nvalue = [0, 2]'),\n",
              " Text(0.40349264705882354, 0.26785714285714285, 'gini = 0.0\\nsamples = 1\\nvalue = [1, 0]'),\n",
              " Text(0.40441176470588236, 0.30357142857142855, 'gini = 0.0\\nsamples = 9\\nvalue = [0, 9]'),\n",
              " Text(0.4071691176470588, 0.3392857142857143, 'X[1] <= 0.757\\ngini = 0.48\\nsamples = 5\\nvalue = [3, 2]'),\n",
              " Text(0.40625, 0.30357142857142855, 'gini = 0.0\\nsamples = 3\\nvalue = [3, 0]'),\n",
              " Text(0.40808823529411764, 0.30357142857142855, 'gini = 0.0\\nsamples = 2\\nvalue = [0, 2]'),\n",
              " Text(0.41842830882352944, 0.44642857142857145, 'X[1] <= 0.77\\ngini = 0.457\\nsamples = 102\\nvalue = [36, 66]'),\n",
              " Text(0.4149816176470588, 0.4107142857142857, 'X[0] <= 0.674\\ngini = 0.498\\nsamples = 49\\nvalue = [23, 26]'),\n",
              " Text(0.4131433823529412, 0.375, 'X[2] <= 0.418\\ngini = 0.499\\nsamples = 42\\nvalue = [22, 20]'),\n",
              " Text(0.41222426470588236, 0.3392857142857143, 'X[2] <= 0.334\\ngini = 0.494\\nsamples = 36\\nvalue = [16, 20]'),\n",
              " Text(0.4099264705882353, 0.30357142857142855, 'X[0] <= 0.41\\ngini = 0.497\\nsamples = 28\\nvalue = [15, 13]'),\n",
              " Text(0.40808823529411764, 0.26785714285714285, 'X[22] <= 0.5\\ngini = 0.49\\nsamples = 21\\nvalue = [9, 12]'),\n",
              " Text(0.4071691176470588, 0.23214285714285715, 'gini = 0.0\\nsamples = 4\\nvalue = [0, 4]'),\n",
              " Text(0.40900735294117646, 0.23214285714285715, 'X[0] <= 0.243\\ngini = 0.498\\nsamples = 17\\nvalue = [9, 8]'),\n",
              " Text(0.4071691176470588, 0.19642857142857142, 'X[36] <= 0.5\\ngini = 0.375\\nsamples = 8\\nvalue = [6, 2]'),\n",
              " Text(0.40625, 0.16071428571428573, 'X[44] <= 0.5\\ngini = 0.444\\nsamples = 3\\nvalue = [1, 2]'),\n",
              " Text(0.4053308823529412, 0.125, 'gini = 0.0\\nsamples = 1\\nvalue = [1, 0]'),\n",
              " Text(0.4071691176470588, 0.125, 'gini = 0.0\\nsamples = 2\\nvalue = [0, 2]'),\n",
              " Text(0.40808823529411764, 0.16071428571428573, 'gini = 0.0\\nsamples = 5\\nvalue = [5, 0]'),\n",
              " Text(0.4108455882352941, 0.19642857142857142, 'X[42] <= 0.5\\ngini = 0.444\\nsamples = 9\\nvalue = [3, 6]'),\n",
              " Text(0.4099264705882353, 0.16071428571428573, 'X[1] <= 0.75\\ngini = 0.375\\nsamples = 8\\nvalue = [2, 6]'),\n",
              " Text(0.40900735294117646, 0.125, 'gini = 0.0\\nsamples = 2\\nvalue = [0, 2]'),\n",
              " Text(0.4108455882352941, 0.125, 'X[1] <= 0.753\\ngini = 0.444\\nsamples = 6\\nvalue = [2, 4]'),\n",
              " Text(0.4099264705882353, 0.08928571428571429, 'gini = 0.0\\nsamples = 1\\nvalue = [1, 0]'),\n",
              " Text(0.4117647058823529, 0.08928571428571429, 'X[3] <= 0.5\\ngini = 0.32\\nsamples = 5\\nvalue = [1, 4]'),\n",
              " Text(0.4108455882352941, 0.05357142857142857, 'gini = 0.0\\nsamples = 3\\nvalue = [0, 3]'),\n",
              " Text(0.41268382352941174, 0.05357142857142857, 'X[8] <= 0.5\\ngini = 0.5\\nsamples = 2\\nvalue = [1, 1]'),\n",
              " Text(0.4117647058823529, 0.017857142857142856, 'gini = 0.0\\nsamples = 1\\nvalue = [0, 1]'),\n",
              " Text(0.41360294117647056, 0.017857142857142856, 'gini = 0.0\\nsamples = 1\\nvalue = [1, 0]'),\n",
              " Text(0.4117647058823529, 0.16071428571428573, 'gini = 0.0\\nsamples = 1\\nvalue = [1, 0]'),\n",
              " Text(0.4117647058823529, 0.26785714285714285, 'X[1] <= 0.212\\ngini = 0.245\\nsamples = 7\\nvalue = [6, 1]'),\n",
              " Text(0.4108455882352941, 0.23214285714285715, 'gini = 0.0\\nsamples = 1\\nvalue = [0, 1]'),\n",
              " Text(0.41268382352941174, 0.23214285714285715, 'gini = 0.0\\nsamples = 6\\nvalue = [6, 0]'),\n",
              " Text(0.41452205882352944, 0.30357142857142855, 'X[22] <= 0.5\\ngini = 0.219\\nsamples = 8\\nvalue = [1, 7]'),\n",
              " Text(0.41360294117647056, 0.26785714285714285, 'gini = 0.0\\nsamples = 1\\nvalue = [1, 0]'),\n",
              " Text(0.41544117647058826, 0.26785714285714285, 'gini = 0.0\\nsamples = 7\\nvalue = [0, 7]'),\n",
              " Text(0.4140625, 0.3392857142857143, 'gini = 0.0\\nsamples = 6\\nvalue = [6, 0]'),\n",
              " Text(0.41681985294117646, 0.375, 'X[0] <= 0.785\\ngini = 0.245\\nsamples = 7\\nvalue = [1, 6]'),\n",
              " Text(0.41590073529411764, 0.3392857142857143, 'gini = 0.0\\nsamples = 5\\nvalue = [0, 5]'),\n",
              " Text(0.4177389705882353, 0.3392857142857143, 'X[22] <= 0.5\\ngini = 0.5\\nsamples = 2\\nvalue = [1, 1]'),\n",
              " Text(0.41681985294117646, 0.30357142857142855, 'gini = 0.0\\nsamples = 1\\nvalue = [1, 0]'),\n",
              " Text(0.4186580882352941, 0.30357142857142855, 'gini = 0.0\\nsamples = 1\\nvalue = [0, 1]'),\n",
              " Text(0.421875, 0.4107142857142857, 'X[1] <= 0.801\\ngini = 0.37\\nsamples = 53\\nvalue = [13, 40]'),\n",
              " Text(0.4209558823529412, 0.375, 'gini = 0.0\\nsamples = 17\\nvalue = [0, 17]'),\n",
              " Text(0.4227941176470588, 0.375, 'X[1] <= 0.803\\ngini = 0.461\\nsamples = 36\\nvalue = [13, 23]'),\n",
              " Text(0.421875, 0.3392857142857143, 'gini = 0.0\\nsamples = 2\\nvalue = [2, 0]'),\n",
              " Text(0.42371323529411764, 0.3392857142857143, 'X[2] <= 0.482\\ngini = 0.438\\nsamples = 34\\nvalue = [11, 23]'),\n",
              " Text(0.42049632352941174, 0.30357142857142855, 'X[2] <= 0.367\\ngini = 0.495\\nsamples = 20\\nvalue = [9, 11]'),\n",
              " Text(0.4186580882352941, 0.26785714285714285, 'X[1] <= 0.849\\ngini = 0.355\\nsamples = 13\\nvalue = [3, 10]'),\n",
              " ...]"
            ]
          },
          "metadata": {},
          "execution_count": 58
        },
        {
          "output_type": "display_data",
          "data": {
            "text/plain": [
              "<Figure size 1080x720 with 1 Axes>"
            ],
            "image/png": "[encoded data removed]"
          },
          "metadata": {
            "needs_background": "light"
          }
        }
      ],
      "source": [
        "from sklearn import tree\n",
        "clf_dt = tree.DecisionTreeClassifier(random_state=9)\n",
        "clf_dt = clf_dt.fit(scaled_train, y_train_res)\n",
        "plt.figure(figsize = (15,10))\n",
        "tree.plot_tree(clf_dt, filled = True)\n",
        "\n",
        "# below you can scroll and see a truly overfitted Decision Tree\n"
      ]
    },
    {
      "cell_type": "code",
      "execution_count": 59,
      "metadata": {
        "colab": {
          "base_uri": "https://localhost:8080/",
          "height": 175
        },
        "id": "HAVgD2mee5wu",
        "outputId": "ed51cd4d-5768-4453-ec15-fd5a1ed82430"
      },
      "outputs": [
        {
          "output_type": "execute_result",
          "data": {
            "text/plain": [
              "Predicted     0     1   All\n",
              "True                       \n",
              "0          4132     1  4133\n",
              "1            13  4120  4133\n",
              "All        4145  4121  8266"
            ],
            "text/html": [
              "\n",
              "  <div id=\"df-c8f6a33f-67f1-455b-b514-5e61ae6e57ef\">\n",
              "    <div class=\"colab-df-container\">\n",
              "      <div>\n",
              "<style scoped>\n",
              "    .dataframe tbody tr th:only-of-type {\n",
              "        vertical-align: middle;\n",
              "    }\n",
              "\n",
              "    .dataframe tbody tr th {\n",
              "        vertical-align: top;\n",
              "    }\n",
              "\n",
              "    .dataframe thead th {\n",
              "        text-align: right;\n",
              "    }\n",
              "</style>\n",
              "<table border=\"1\" class=\"dataframe\">\n",
              "  <thead>\n",
              "    <tr style=\"text-align: right;\">\n",
              "      <th>Predicted</th>\n",
              "      <th>0</th>\n",
              "      <th>1</th>\n",
              "      <th>All</th>\n",
              "    </tr>\n",
              "    <tr>\n",
              "      <th>True</th>\n",
              "      <th></th>\n",
              "      <th></th>\n",
              "      <th></th>\n",
              "    </tr>\n",
              "  </thead>\n",
              "  <tbody>\n",
              "    <tr>\n",
              "      <th>0</th>\n",
              "      <td>4132</td>\n",
              "      <td>1</td>\n",
              "      <td>4133</td>\n",
              "    </tr>\n",
              "    <tr>\n",
              "      <th>1</th>\n",
              "      <td>13</td>\n",
              "      <td>4120</td>\n",
              "      <td>4133</td>\n",
              "    </tr>\n",
              "    <tr>\n",
              "      <th>All</th>\n",
              "      <td>4145</td>\n",
              "      <td>4121</td>\n",
              "      <td>8266</td>\n",
              "    </tr>\n",
              "  </tbody>\n",
              "</table>\n",
              "</div>\n",
              "      <button class=\"colab-df-convert\" onclick=\"convertToInteractive('df-c8f6a33f-67f1-455b-b514-5e61ae6e57ef')\"\n",
              "              title=\"Convert this dataframe to an interactive table.\"\n",
              "              style=\"display:none;\">\n",
              "        \n",
              "  <svg xmlns=\"http://www.w3.org/2000/svg\" height=\"24px\"viewBox=\"0 0 24 24\"\n",
              "       width=\"24px\">\n",
              "    <path d=\"M0 0h24v24H0V0z\" fill=\"none\"/>\n",
              "    <path d=\"M18.56 5.44l.94 2.06.94-2.06 2.06-.94-2.06-.94-.94-2.06-.94 2.06-2.06.94zm-11 1L8.5 8.5l.94-2.06 2.06-.94-2.06-.94L8.5 2.5l-.94 2.06-2.06.94zm10 10l.94 2.06.94-2.06 2.06-.94-2.06-.94-.94-2.06-.94 2.06-2.06.94z\"/><path d=\"M17.41 7.96l-1.37-1.37c-.4-.4-.92-.59-1.43-.59-.52 0-1.04.2-1.43.59L10.3 9.45l-7.72 7.72c-.78.78-.78 2.05 0 2.83L4 21.41c.39.39.9.59 1.41.59.51 0 1.02-.2 1.41-.59l7.78-7.78 2.81-2.81c.8-.78.8-2.07 0-2.86zM5.41 20L4 18.59l7.72-7.72 1.47 1.35L5.41 20z\"/>\n",
              "  </svg>\n",
              "      </button>\n",
              "      \n",
              "  <style>\n",
              "    .colab-df-container {\n",
              "      display:flex;\n",
              "      flex-wrap:wrap;\n",
              "      gap: 12px;\n",
              "    }\n",
              "\n",
              "    .colab-df-convert {\n",
              "      background-color: #E8F0FE;\n",
              "      border: none;\n",
              "      border-radius: 50%;\n",
              "      cursor: pointer;\n",
              "      display: none;\n",
              "      fill: #1967D2;\n",
              "      height: 32px;\n",
              "      padding: 0 0 0 0;\n",
              "      width: 32px;\n",
              "    }\n",
              "\n",
              "    .colab-df-convert:hover {\n",
              "      background-color: #E2EBFA;\n",
              "      box-shadow: 0px 1px 2px rgba(60, 64, 67, 0.3), 0px 1px 3px 1px rgba(60, 64, 67, 0.15);\n",
              "      fill: #174EA6;\n",
              "    }\n",
              "\n",
              "    [theme=dark] .colab-df-convert {\n",
              "      background-color: #3B4455;\n",
              "      fill: #D2E3FC;\n",
              "    }\n",
              "\n",
              "    [theme=dark] .colab-df-convert:hover {\n",
              "      background-color: #434B5C;\n",
              "      box-shadow: 0px 1px 3px 1px rgba(0, 0, 0, 0.15);\n",
              "      filter: drop-shadow(0px 1px 2px rgba(0, 0, 0, 0.3));\n",
              "      fill: #FFFFFF;\n",
              "    }\n",
              "  </style>\n",
              "\n",
              "      <script>\n",
              "        const buttonEl =\n",
              "          document.querySelector('#df-c8f6a33f-67f1-455b-b514-5e61ae6e57ef button.colab-df-convert');\n",
              "        buttonEl.style.display =\n",
              "          google.colab.kernel.accessAllowed ? 'block' : 'none';\n",
              "\n",
              "        async function convertToInteractive(key) {\n",
              "          const element = document.querySelector('#df-c8f6a33f-67f1-455b-b514-5e61ae6e57ef');\n",
              "          const dataTable =\n",
              "            await google.colab.kernel.invokeFunction('convertToInteractive',\n",
              "                                                     [key], {});\n",
              "          if (!dataTable) return;\n",
              "\n",
              "          const docLinkHtml = 'Like what you see? Visit the ' +\n",
              "            '<a target=\"_blank\" href=https://colab.research.google.com/notebooks/data_table.ipynb>data table notebook</a>'\n",
              "            + ' to learn more about interactive tables.';\n",
              "          element.innerHTML = '';\n",
              "          dataTable['output_type'] = 'display_data';\n",
              "          await google.colab.output.renderOutput(dataTable, element);\n",
              "          const docLink = document.createElement('div');\n",
              "          docLink.innerHTML = docLinkHtml;\n",
              "          element.appendChild(docLink);\n",
              "        }\n",
              "      </script>\n",
              "    </div>\n",
              "  </div>\n",
              "  "
            ]
          },
          "metadata": {},
          "execution_count": 59
        }
      ],
      "source": [
        "from sklearn.metrics import confusion_matrix\n",
        "pred_dt_1=clf_dt.predict(scaled_train)\n",
        "confusion_matrix(y_train_res,pred_dt_1)\n",
        "pd.crosstab(y_train_res, pred_dt_1, rownames=['True'], colnames=['Predicted'], margins=True)"
      ]
    },
    {
      "cell_type": "code",
      "execution_count": 60,
      "metadata": {
        "colab": {
          "base_uri": "https://localhost:8080/",
          "height": 175
        },
        "id": "HwJvTVC-e9NC",
        "outputId": "75db18a0-5adf-4c69-dc1c-8dbe7f5535fa"
      },
      "outputs": [
        {
          "output_type": "execute_result",
          "data": {
            "text/plain": [
              "Predicted     0    1   All\n",
              "True                      \n",
              "0           826  215  1041\n",
              "1           179  189   368\n",
              "All        1005  404  1409"
            ],
            "text/html": [
              "\n",
              "  <div id=\"df-dc243433-a8cc-4381-b3b9-30ef56fd8cd9\">\n",
              "    <div class=\"colab-df-container\">\n",
              "      <div>\n",
              "<style scoped>\n",
              "    .dataframe tbody tr th:only-of-type {\n",
              "        vertical-align: middle;\n",
              "    }\n",
              "\n",
              "    .dataframe tbody tr th {\n",
              "        vertical-align: top;\n",
              "    }\n",
              "\n",
              "    .dataframe thead th {\n",
              "        text-align: right;\n",
              "    }\n",
              "</style>\n",
              "<table border=\"1\" class=\"dataframe\">\n",
              "  <thead>\n",
              "    <tr style=\"text-align: right;\">\n",
              "      <th>Predicted</th>\n",
              "      <th>0</th>\n",
              "      <th>1</th>\n",
              "      <th>All</th>\n",
              "    </tr>\n",
              "    <tr>\n",
              "      <th>True</th>\n",
              "      <th></th>\n",
              "      <th></th>\n",
              "      <th></th>\n",
              "    </tr>\n",
              "  </thead>\n",
              "  <tbody>\n",
              "    <tr>\n",
              "      <th>0</th>\n",
              "      <td>826</td>\n",
              "      <td>215</td>\n",
              "      <td>1041</td>\n",
              "    </tr>\n",
              "    <tr>\n",
              "      <th>1</th>\n",
              "      <td>179</td>\n",
              "      <td>189</td>\n",
              "      <td>368</td>\n",
              "    </tr>\n",
              "    <tr>\n",
              "      <th>All</th>\n",
              "      <td>1005</td>\n",
              "      <td>404</td>\n",
              "      <td>1409</td>\n",
              "    </tr>\n",
              "  </tbody>\n",
              "</table>\n",
              "</div>\n",
              "      <button class=\"colab-df-convert\" onclick=\"convertToInteractive('df-dc243433-a8cc-4381-b3b9-30ef56fd8cd9')\"\n",
              "              title=\"Convert this dataframe to an interactive table.\"\n",
              "              style=\"display:none;\">\n",
              "        \n",
              "  <svg xmlns=\"http://www.w3.org/2000/svg\" height=\"24px\"viewBox=\"0 0 24 24\"\n",
              "       width=\"24px\">\n",
              "    <path d=\"M0 0h24v24H0V0z\" fill=\"none\"/>\n",
              "    <path d=\"M18.56 5.44l.94 2.06.94-2.06 2.06-.94-2.06-.94-.94-2.06-.94 2.06-2.06.94zm-11 1L8.5 8.5l.94-2.06 2.06-.94-2.06-.94L8.5 2.5l-.94 2.06-2.06.94zm10 10l.94 2.06.94-2.06 2.06-.94-2.06-.94-.94-2.06-.94 2.06-2.06.94z\"/><path d=\"M17.41 7.96l-1.37-1.37c-.4-.4-.92-.59-1.43-.59-.52 0-1.04.2-1.43.59L10.3 9.45l-7.72 7.72c-.78.78-.78 2.05 0 2.83L4 21.41c.39.39.9.59 1.41.59.51 0 1.02-.2 1.41-.59l7.78-7.78 2.81-2.81c.8-.78.8-2.07 0-2.86zM5.41 20L4 18.59l7.72-7.72 1.47 1.35L5.41 20z\"/>\n",
              "  </svg>\n",
              "      </button>\n",
              "      \n",
              "  <style>\n",
              "    .colab-df-container {\n",
              "      display:flex;\n",
              "      flex-wrap:wrap;\n",
              "      gap: 12px;\n",
              "    }\n",
              "\n",
              "    .colab-df-convert {\n",
              "      background-color: #E8F0FE;\n",
              "      border: none;\n",
              "      border-radius: 50%;\n",
              "      cursor: pointer;\n",
              "      display: none;\n",
              "      fill: #1967D2;\n",
              "      height: 32px;\n",
              "      padding: 0 0 0 0;\n",
              "      width: 32px;\n",
              "    }\n",
              "\n",
              "    .colab-df-convert:hover {\n",
              "      background-color: #E2EBFA;\n",
              "      box-shadow: 0px 1px 2px rgba(60, 64, 67, 0.3), 0px 1px 3px 1px rgba(60, 64, 67, 0.15);\n",
              "      fill: #174EA6;\n",
              "    }\n",
              "\n",
              "    [theme=dark] .colab-df-convert {\n",
              "      background-color: #3B4455;\n",
              "      fill: #D2E3FC;\n",
              "    }\n",
              "\n",
              "    [theme=dark] .colab-df-convert:hover {\n",
              "      background-color: #434B5C;\n",
              "      box-shadow: 0px 1px 3px 1px rgba(0, 0, 0, 0.15);\n",
              "      filter: drop-shadow(0px 1px 2px rgba(0, 0, 0, 0.3));\n",
              "      fill: #FFFFFF;\n",
              "    }\n",
              "  </style>\n",
              "\n",
              "      <script>\n",
              "        const buttonEl =\n",
              "          document.querySelector('#df-dc243433-a8cc-4381-b3b9-30ef56fd8cd9 button.colab-df-convert');\n",
              "        buttonEl.style.display =\n",
              "          google.colab.kernel.accessAllowed ? 'block' : 'none';\n",
              "\n",
              "        async function convertToInteractive(key) {\n",
              "          const element = document.querySelector('#df-dc243433-a8cc-4381-b3b9-30ef56fd8cd9');\n",
              "          const dataTable =\n",
              "            await google.colab.kernel.invokeFunction('convertToInteractive',\n",
              "                                                     [key], {});\n",
              "          if (!dataTable) return;\n",
              "\n",
              "          const docLinkHtml = 'Like what you see? Visit the ' +\n",
              "            '<a target=\"_blank\" href=https://colab.research.google.com/notebooks/data_table.ipynb>data table notebook</a>'\n",
              "            + ' to learn more about interactive tables.';\n",
              "          element.innerHTML = '';\n",
              "          dataTable['output_type'] = 'display_data';\n",
              "          await google.colab.output.renderOutput(dataTable, element);\n",
              "          const docLink = document.createElement('div');\n",
              "          docLink.innerHTML = docLinkHtml;\n",
              "          element.appendChild(docLink);\n",
              "        }\n",
              "      </script>\n",
              "    </div>\n",
              "  </div>\n",
              "  "
            ]
          },
          "metadata": {},
          "execution_count": 60
        }
      ],
      "source": [
        "pred_dt_2=clf_dt.predict(scaled_test)\n",
        "confusion_matrix(y_test,pred_dt_2)\n",
        "pd.crosstab(y_test, pred_dt_2, rownames=['True'], colnames=['Predicted'], margins=True)"
      ]
    },
    {
      "cell_type": "markdown",
      "metadata": {
        "id": "cw9ioKBWfBpJ"
      },
      "source": [
        "This is a clear example of overfitting where we are just getting 14 mis-classified points for train data and for testing we have 394 mis-classified points"
      ]
    },
    {
      "cell_type": "code",
      "execution_count": 61,
      "metadata": {
        "colab": {
          "base_uri": "https://localhost:8080/",
          "height": 1000
        },
        "id": "nP1uSnTyfFuD",
        "outputId": "302e43ee-f32e-4fd1-b8f7-af51507f627b"
      },
      "outputs": [
        {
          "output_type": "execute_result",
          "data": {
            "text/plain": [
              "[Text(0.45689655172413796, 0.9, 'X[37] <= 0.5\\ngini = 0.5\\nsamples = 8266\\nvalue = [4133, 4133]'),\n",
              " Text(0.1896551724137931, 0.7, 'X[39] <= 0.5\\ngini = 0.323\\nsamples = 2962\\nvalue = [2361, 601]'),\n",
              " Text(0.06896551724137931, 0.5, 'X[38] <= 0.5\\ngini = 0.448\\nsamples = 1608\\nvalue = [1063, 545]'),\n",
              " Text(0.034482758620689655, 0.3, 'gini = 0.0\\nsamples = 390\\nvalue = [0, 390]'),\n",
              " Text(0.10344827586206896, 0.3, 'X[1] <= 0.634\\ngini = 0.222\\nsamples = 1218\\nvalue = [1063, 155]'),\n",
              " Text(0.06896551724137931, 0.1, 'gini = 0.106\\nsamples = 767\\nvalue = [724, 43]'),\n",
              " Text(0.13793103448275862, 0.1, 'gini = 0.373\\nsamples = 451\\nvalue = [339, 112]'),\n",
              " Text(0.3103448275862069, 0.5, 'X[1] <= 0.738\\ngini = 0.079\\nsamples = 1354\\nvalue = [1298, 56]'),\n",
              " Text(0.2413793103448276, 0.3, 'X[44] <= 0.5\\ngini = 0.036\\nsamples = 1030\\nvalue = [1011, 19]'),\n",
              " Text(0.20689655172413793, 0.1, 'gini = 0.028\\nsamples = 972\\nvalue = [958, 14]'),\n",
              " Text(0.27586206896551724, 0.1, 'gini = 0.158\\nsamples = 58\\nvalue = [53, 5]'),\n",
              " Text(0.3793103448275862, 0.3, 'X[21] <= 0.5\\ngini = 0.202\\nsamples = 324\\nvalue = [287, 37]'),\n",
              " Text(0.3448275862068966, 0.1, 'gini = 0.322\\nsamples = 129\\nvalue = [103, 26]'),\n",
              " Text(0.41379310344827586, 0.1, 'gini = 0.106\\nsamples = 195\\nvalue = [184, 11]'),\n",
              " Text(0.7241379310344828, 0.7, 'X[40] <= 0.5\\ngini = 0.445\\nsamples = 5304\\nvalue = [1772, 3532]'),\n",
              " Text(0.5862068965517241, 0.5, 'X[30] <= 0.5\\ngini = 0.39\\nsamples = 4039\\nvalue = [1072, 2967]'),\n",
              " Text(0.5172413793103449, 0.3, 'X[41] <= 0.5\\ngini = 0.352\\nsamples = 3659\\nvalue = [833, 2826]'),\n",
              " Text(0.4827586206896552, 0.1, 'gini = 0.0\\nsamples = 634\\nvalue = [0, 634]'),\n",
              " Text(0.5517241379310345, 0.1, 'gini = 0.399\\nsamples = 3025\\nvalue = [833, 2192]'),\n",
              " Text(0.6551724137931034, 0.3, 'X[41] <= 0.5\\ngini = 0.467\\nsamples = 380\\nvalue = [239, 141]'),\n",
              " Text(0.6206896551724138, 0.1, 'gini = 0.0\\nsamples = 11\\nvalue = [0, 11]'),\n",
              " Text(0.6896551724137931, 0.1, 'gini = 0.456\\nsamples = 369\\nvalue = [239, 130]'),\n",
              " Text(0.8620689655172413, 0.5, 'X[0] <= 0.063\\ngini = 0.494\\nsamples = 1265\\nvalue = [700, 565]'),\n",
              " Text(0.7931034482758621, 0.3, 'X[19] <= 0.5\\ngini = 0.467\\nsamples = 563\\nvalue = [209, 354]'),\n",
              " Text(0.7586206896551724, 0.1, 'gini = 0.499\\nsamples = 246\\nvalue = [129, 117]'),\n",
              " Text(0.8275862068965517, 0.1, 'gini = 0.377\\nsamples = 317\\nvalue = [80, 237]'),\n",
              " Text(0.9310344827586207, 0.3, 'X[1] <= 0.523\\ngini = 0.42\\nsamples = 702\\nvalue = [491, 211]'),\n",
              " Text(0.896551724137931, 0.1, 'gini = 0.333\\nsamples = 417\\nvalue = [329, 88]'),\n",
              " Text(0.9655172413793104, 0.1, 'gini = 0.491\\nsamples = 285\\nvalue = [162, 123]')]"
            ]
          },
          "metadata": {},
          "execution_count": 61
        },
        {
          "output_type": "display_data",
          "data": {
            "text/plain": [
              "<Figure size 1080x720 with 1 Axes>"
            ],
            "image/png": "[encoded data removed]"
          },
          "metadata": {
            "needs_background": "light"
          }
        }
      ],
      "source": [
        "clf_dt = tree.DecisionTreeClassifier(random_state=9, max_depth=4)\n",
        "clf_dt = clf_dt.fit(scaled_train, y_train_res)\n",
        "\n",
        "plt.figure(figsize = (15,10))\n",
        "tree.plot_tree(clf_dt, filled = True)"
      ]
    },
    {
      "cell_type": "code",
      "execution_count": 62,
      "metadata": {
        "colab": {
          "base_uri": "https://localhost:8080/",
          "height": 175
        },
        "id": "_1-_aJ7BfRn0",
        "outputId": "c38e6803-3cb0-47f6-a421-3620d2bca946"
      },
      "outputs": [
        {
          "output_type": "execute_result",
          "data": {
            "text/plain": [
              "Predicted     0     1   All\n",
              "True                       \n",
              "0          3220   913  4133\n",
              "1           669  3464  4133\n",
              "All        3889  4377  8266"
            ],
            "text/html": [
              "\n",
              "  <div id=\"df-3d8fa830-0ff9-477f-9101-8a5dbb5a6203\">\n",
              "    <div class=\"colab-df-container\">\n",
              "      <div>\n",
              "<style scoped>\n",
              "    .dataframe tbody tr th:only-of-type {\n",
              "        vertical-align: middle;\n",
              "    }\n",
              "\n",
              "    .dataframe tbody tr th {\n",
              "        vertical-align: top;\n",
              "    }\n",
              "\n",
              "    .dataframe thead th {\n",
              "        text-align: right;\n",
              "    }\n",
              "</style>\n",
              "<table border=\"1\" class=\"dataframe\">\n",
              "  <thead>\n",
              "    <tr style=\"text-align: right;\">\n",
              "      <th>Predicted</th>\n",
              "      <th>0</th>\n",
              "      <th>1</th>\n",
              "      <th>All</th>\n",
              "    </tr>\n",
              "    <tr>\n",
              "      <th>True</th>\n",
              "      <th></th>\n",
              "      <th></th>\n",
              "      <th></th>\n",
              "    </tr>\n",
              "  </thead>\n",
              "  <tbody>\n",
              "    <tr>\n",
              "      <th>0</th>\n",
              "      <td>3220</td>\n",
              "      <td>913</td>\n",
              "      <td>4133</td>\n",
              "    </tr>\n",
              "    <tr>\n",
              "      <th>1</th>\n",
              "      <td>669</td>\n",
              "      <td>3464</td>\n",
              "      <td>4133</td>\n",
              "    </tr>\n",
              "    <tr>\n",
              "      <th>All</th>\n",
              "      <td>3889</td>\n",
              "      <td>4377</td>\n",
              "      <td>8266</td>\n",
              "    </tr>\n",
              "  </tbody>\n",
              "</table>\n",
              "</div>\n",
              "      <button class=\"colab-df-convert\" onclick=\"convertToInteractive('df-3d8fa830-0ff9-477f-9101-8a5dbb5a6203')\"\n",
              "              title=\"Convert this dataframe to an interactive table.\"\n",
              "              style=\"display:none;\">\n",
              "        \n",
              "  <svg xmlns=\"http://www.w3.org/2000/svg\" height=\"24px\"viewBox=\"0 0 24 24\"\n",
              "       width=\"24px\">\n",
              "    <path d=\"M0 0h24v24H0V0z\" fill=\"none\"/>\n",
              "    <path d=\"M18.56 5.44l.94 2.06.94-2.06 2.06-.94-2.06-.94-.94-2.06-.94 2.06-2.06.94zm-11 1L8.5 8.5l.94-2.06 2.06-.94-2.06-.94L8.5 2.5l-.94 2.06-2.06.94zm10 10l.94 2.06.94-2.06 2.06-.94-2.06-.94-.94-2.06-.94 2.06-2.06.94z\"/><path d=\"M17.41 7.96l-1.37-1.37c-.4-.4-.92-.59-1.43-.59-.52 0-1.04.2-1.43.59L10.3 9.45l-7.72 7.72c-.78.78-.78 2.05 0 2.83L4 21.41c.39.39.9.59 1.41.59.51 0 1.02-.2 1.41-.59l7.78-7.78 2.81-2.81c.8-.78.8-2.07 0-2.86zM5.41 20L4 18.59l7.72-7.72 1.47 1.35L5.41 20z\"/>\n",
              "  </svg>\n",
              "      </button>\n",
              "      \n",
              "  <style>\n",
              "    .colab-df-container {\n",
              "      display:flex;\n",
              "      flex-wrap:wrap;\n",
              "      gap: 12px;\n",
              "    }\n",
              "\n",
              "    .colab-df-convert {\n",
              "      background-color: #E8F0FE;\n",
              "      border: none;\n",
              "      border-radius: 50%;\n",
              "      cursor: pointer;\n",
              "      display: none;\n",
              "      fill: #1967D2;\n",
              "      height: 32px;\n",
              "      padding: 0 0 0 0;\n",
              "      width: 32px;\n",
              "    }\n",
              "\n",
              "    .colab-df-convert:hover {\n",
              "      background-color: #E2EBFA;\n",
              "      box-shadow: 0px 1px 2px rgba(60, 64, 67, 0.3), 0px 1px 3px 1px rgba(60, 64, 67, 0.15);\n",
              "      fill: #174EA6;\n",
              "    }\n",
              "\n",
              "    [theme=dark] .colab-df-convert {\n",
              "      background-color: #3B4455;\n",
              "      fill: #D2E3FC;\n",
              "    }\n",
              "\n",
              "    [theme=dark] .colab-df-convert:hover {\n",
              "      background-color: #434B5C;\n",
              "      box-shadow: 0px 1px 3px 1px rgba(0, 0, 0, 0.15);\n",
              "      filter: drop-shadow(0px 1px 2px rgba(0, 0, 0, 0.3));\n",
              "      fill: #FFFFFF;\n",
              "    }\n",
              "  </style>\n",
              "\n",
              "      <script>\n",
              "        const buttonEl =\n",
              "          document.querySelector('#df-3d8fa830-0ff9-477f-9101-8a5dbb5a6203 button.colab-df-convert');\n",
              "        buttonEl.style.display =\n",
              "          google.colab.kernel.accessAllowed ? 'block' : 'none';\n",
              "\n",
              "        async function convertToInteractive(key) {\n",
              "          const element = document.querySelector('#df-3d8fa830-0ff9-477f-9101-8a5dbb5a6203');\n",
              "          const dataTable =\n",
              "            await google.colab.kernel.invokeFunction('convertToInteractive',\n",
              "                                                     [key], {});\n",
              "          if (!dataTable) return;\n",
              "\n",
              "          const docLinkHtml = 'Like what you see? Visit the ' +\n",
              "            '<a target=\"_blank\" href=https://colab.research.google.com/notebooks/data_table.ipynb>data table notebook</a>'\n",
              "            + ' to learn more about interactive tables.';\n",
              "          element.innerHTML = '';\n",
              "          dataTable['output_type'] = 'display_data';\n",
              "          await google.colab.output.renderOutput(dataTable, element);\n",
              "          const docLink = document.createElement('div');\n",
              "          docLink.innerHTML = docLinkHtml;\n",
              "          element.appendChild(docLink);\n",
              "        }\n",
              "      </script>\n",
              "    </div>\n",
              "  </div>\n",
              "  "
            ]
          },
          "metadata": {},
          "execution_count": 62
        }
      ],
      "source": [
        "pred_dt_3=clf_dt.predict(scaled_train)\n",
        "confusion_matrix(y_train_res,pred_dt_3)\n",
        "pd.crosstab(y_train_res, pred_dt_3, rownames=['True'], colnames=['Predicted'], margins=True)"
      ]
    },
    {
      "cell_type": "code",
      "execution_count": 63,
      "metadata": {
        "colab": {
          "base_uri": "https://localhost:8080/",
          "height": 175
        },
        "id": "n-jlkZlLfVKK",
        "outputId": "a961a84b-ad5b-458e-f230-a22b7ea10432"
      },
      "outputs": [
        {
          "output_type": "execute_result",
          "data": {
            "text/plain": [
              "Predicted    0    1   All\n",
              "True                     \n",
              "0          811  230  1041\n",
              "1          141  227   368\n",
              "All        952  457  1409"
            ],
            "text/html": [
              "\n",
              "  <div id=\"df-4c42acf3-4fa5-4e5b-903e-51c193e01b54\">\n",
              "    <div class=\"colab-df-container\">\n",
              "      <div>\n",
              "<style scoped>\n",
              "    .dataframe tbody tr th:only-of-type {\n",
              "        vertical-align: middle;\n",
              "    }\n",
              "\n",
              "    .dataframe tbody tr th {\n",
              "        vertical-align: top;\n",
              "    }\n",
              "\n",
              "    .dataframe thead th {\n",
              "        text-align: right;\n",
              "    }\n",
              "</style>\n",
              "<table border=\"1\" class=\"dataframe\">\n",
              "  <thead>\n",
              "    <tr style=\"text-align: right;\">\n",
              "      <th>Predicted</th>\n",
              "      <th>0</th>\n",
              "      <th>1</th>\n",
              "      <th>All</th>\n",
              "    </tr>\n",
              "    <tr>\n",
              "      <th>True</th>\n",
              "      <th></th>\n",
              "      <th></th>\n",
              "      <th></th>\n",
              "    </tr>\n",
              "  </thead>\n",
              "  <tbody>\n",
              "    <tr>\n",
              "      <th>0</th>\n",
              "      <td>811</td>\n",
              "      <td>230</td>\n",
              "      <td>1041</td>\n",
              "    </tr>\n",
              "    <tr>\n",
              "      <th>1</th>\n",
              "      <td>141</td>\n",
              "      <td>227</td>\n",
              "      <td>368</td>\n",
              "    </tr>\n",
              "    <tr>\n",
              "      <th>All</th>\n",
              "      <td>952</td>\n",
              "      <td>457</td>\n",
              "      <td>1409</td>\n",
              "    </tr>\n",
              "  </tbody>\n",
              "</table>\n",
              "</div>\n",
              "      <button class=\"colab-df-convert\" onclick=\"convertToInteractive('df-4c42acf3-4fa5-4e5b-903e-51c193e01b54')\"\n",
              "              title=\"Convert this dataframe to an interactive table.\"\n",
              "              style=\"display:none;\">\n",
              "        \n",
              "  <svg xmlns=\"http://www.w3.org/2000/svg\" height=\"24px\"viewBox=\"0 0 24 24\"\n",
              "       width=\"24px\">\n",
              "    <path d=\"M0 0h24v24H0V0z\" fill=\"none\"/>\n",
              "    <path d=\"M18.56 5.44l.94 2.06.94-2.06 2.06-.94-2.06-.94-.94-2.06-.94 2.06-2.06.94zm-11 1L8.5 8.5l.94-2.06 2.06-.94-2.06-.94L8.5 2.5l-.94 2.06-2.06.94zm10 10l.94 2.06.94-2.06 2.06-.94-2.06-.94-.94-2.06-.94 2.06-2.06.94z\"/><path d=\"M17.41 7.96l-1.37-1.37c-.4-.4-.92-.59-1.43-.59-.52 0-1.04.2-1.43.59L10.3 9.45l-7.72 7.72c-.78.78-.78 2.05 0 2.83L4 21.41c.39.39.9.59 1.41.59.51 0 1.02-.2 1.41-.59l7.78-7.78 2.81-2.81c.8-.78.8-2.07 0-2.86zM5.41 20L4 18.59l7.72-7.72 1.47 1.35L5.41 20z\"/>\n",
              "  </svg>\n",
              "      </button>\n",
              "      \n",
              "  <style>\n",
              "    .colab-df-container {\n",
              "      display:flex;\n",
              "      flex-wrap:wrap;\n",
              "      gap: 12px;\n",
              "    }\n",
              "\n",
              "    .colab-df-convert {\n",
              "      background-color: #E8F0FE;\n",
              "      border: none;\n",
              "      border-radius: 50%;\n",
              "      cursor: pointer;\n",
              "      display: none;\n",
              "      fill: #1967D2;\n",
              "      height: 32px;\n",
              "      padding: 0 0 0 0;\n",
              "      width: 32px;\n",
              "    }\n",
              "\n",
              "    .colab-df-convert:hover {\n",
              "      background-color: #E2EBFA;\n",
              "      box-shadow: 0px 1px 2px rgba(60, 64, 67, 0.3), 0px 1px 3px 1px rgba(60, 64, 67, 0.15);\n",
              "      fill: #174EA6;\n",
              "    }\n",
              "\n",
              "    [theme=dark] .colab-df-convert {\n",
              "      background-color: #3B4455;\n",
              "      fill: #D2E3FC;\n",
              "    }\n",
              "\n",
              "    [theme=dark] .colab-df-convert:hover {\n",
              "      background-color: #434B5C;\n",
              "      box-shadow: 0px 1px 3px 1px rgba(0, 0, 0, 0.15);\n",
              "      filter: drop-shadow(0px 1px 2px rgba(0, 0, 0, 0.3));\n",
              "      fill: #FFFFFF;\n",
              "    }\n",
              "  </style>\n",
              "\n",
              "      <script>\n",
              "        const buttonEl =\n",
              "          document.querySelector('#df-4c42acf3-4fa5-4e5b-903e-51c193e01b54 button.colab-df-convert');\n",
              "        buttonEl.style.display =\n",
              "          google.colab.kernel.accessAllowed ? 'block' : 'none';\n",
              "\n",
              "        async function convertToInteractive(key) {\n",
              "          const element = document.querySelector('#df-4c42acf3-4fa5-4e5b-903e-51c193e01b54');\n",
              "          const dataTable =\n",
              "            await google.colab.kernel.invokeFunction('convertToInteractive',\n",
              "                                                     [key], {});\n",
              "          if (!dataTable) return;\n",
              "\n",
              "          const docLinkHtml = 'Like what you see? Visit the ' +\n",
              "            '<a target=\"_blank\" href=https://colab.research.google.com/notebooks/data_table.ipynb>data table notebook</a>'\n",
              "            + ' to learn more about interactive tables.';\n",
              "          element.innerHTML = '';\n",
              "          dataTable['output_type'] = 'display_data';\n",
              "          await google.colab.output.renderOutput(dataTable, element);\n",
              "          const docLink = document.createElement('div');\n",
              "          docLink.innerHTML = docLinkHtml;\n",
              "          element.appendChild(docLink);\n",
              "        }\n",
              "      </script>\n",
              "    </div>\n",
              "  </div>\n",
              "  "
            ]
          },
          "metadata": {},
          "execution_count": 63
        }
      ],
      "source": [
        "pred_dt_4=clf_dt.predict(scaled_test)\n",
        "confusion_matrix(y_test,pred_dt_4)\n",
        "pd.crosstab(y_test, pred_dt_4, rownames=['True'], colnames=['Predicted'], margins=True)"
      ]
    },
    {
      "cell_type": "markdown",
      "metadata": {
        "id": "aj2W43vDfYif"
      },
      "source": [
        "Here our model is making way too many mistakes in training set but in test set, we just have 374 points at depth = 4 which is better than our previous overfitted model. We can do rigorous hyper-parameter tuning and get good results !!"
      ]
    },
    {
      "cell_type": "markdown",
      "metadata": {
        "id": "jL8Ur2qhfbcb"
      },
      "source": [
        "Model 2 : Random Forest"
      ]
    },
    {
      "cell_type": "code",
      "execution_count": 64,
      "metadata": {
        "id": "9VsyC0DGfht6"
      },
      "outputs": [],
      "source": [
        "from sklearn.ensemble import RandomForestClassifier\n",
        "forest = RandomForestClassifier(random_state = 9)\n",
        "modelF = forest.fit(scaled_train, y_train_res)\n",
        "pred = modelF.predict(scaled_test)"
      ]
    },
    {
      "cell_type": "code",
      "execution_count": 65,
      "metadata": {
        "colab": {
          "base_uri": "https://localhost:8080/",
          "height": 175
        },
        "id": "Hf2K-z-EfthY",
        "outputId": "ccb45e19-906e-4d2e-95e6-85b00477e381"
      },
      "outputs": [
        {
          "output_type": "execute_result",
          "data": {
            "text/plain": [
              "Predicted     0    1   All\n",
              "True                      \n",
              "0           901  140  1041\n",
              "1           182  186   368\n",
              "All        1083  326  1409"
            ],
            "text/html": [
              "\n",
              "  <div id=\"df-fdde7ef5-264f-447e-8875-b55565ad3082\">\n",
              "    <div class=\"colab-df-container\">\n",
              "      <div>\n",
              "<style scoped>\n",
              "    .dataframe tbody tr th:only-of-type {\n",
              "        vertical-align: middle;\n",
              "    }\n",
              "\n",
              "    .dataframe tbody tr th {\n",
              "        vertical-align: top;\n",
              "    }\n",
              "\n",
              "    .dataframe thead th {\n",
              "        text-align: right;\n",
              "    }\n",
              "</style>\n",
              "<table border=\"1\" class=\"dataframe\">\n",
              "  <thead>\n",
              "    <tr style=\"text-align: right;\">\n",
              "      <th>Predicted</th>\n",
              "      <th>0</th>\n",
              "      <th>1</th>\n",
              "      <th>All</th>\n",
              "    </tr>\n",
              "    <tr>\n",
              "      <th>True</th>\n",
              "      <th></th>\n",
              "      <th></th>\n",
              "      <th></th>\n",
              "    </tr>\n",
              "  </thead>\n",
              "  <tbody>\n",
              "    <tr>\n",
              "      <th>0</th>\n",
              "      <td>901</td>\n",
              "      <td>140</td>\n",
              "      <td>1041</td>\n",
              "    </tr>\n",
              "    <tr>\n",
              "      <th>1</th>\n",
              "      <td>182</td>\n",
              "      <td>186</td>\n",
              "      <td>368</td>\n",
              "    </tr>\n",
              "    <tr>\n",
              "      <th>All</th>\n",
              "      <td>1083</td>\n",
              "      <td>326</td>\n",
              "      <td>1409</td>\n",
              "    </tr>\n",
              "  </tbody>\n",
              "</table>\n",
              "</div>\n",
              "      <button class=\"colab-df-convert\" onclick=\"convertToInteractive('df-fdde7ef5-264f-447e-8875-b55565ad3082')\"\n",
              "              title=\"Convert this dataframe to an interactive table.\"\n",
              "              style=\"display:none;\">\n",
              "        \n",
              "  <svg xmlns=\"http://www.w3.org/2000/svg\" height=\"24px\"viewBox=\"0 0 24 24\"\n",
              "       width=\"24px\">\n",
              "    <path d=\"M0 0h24v24H0V0z\" fill=\"none\"/>\n",
              "    <path d=\"M18.56 5.44l.94 2.06.94-2.06 2.06-.94-2.06-.94-.94-2.06-.94 2.06-2.06.94zm-11 1L8.5 8.5l.94-2.06 2.06-.94-2.06-.94L8.5 2.5l-.94 2.06-2.06.94zm10 10l.94 2.06.94-2.06 2.06-.94-2.06-.94-.94-2.06-.94 2.06-2.06.94z\"/><path d=\"M17.41 7.96l-1.37-1.37c-.4-.4-.92-.59-1.43-.59-.52 0-1.04.2-1.43.59L10.3 9.45l-7.72 7.72c-.78.78-.78 2.05 0 2.83L4 21.41c.39.39.9.59 1.41.59.51 0 1.02-.2 1.41-.59l7.78-7.78 2.81-2.81c.8-.78.8-2.07 0-2.86zM5.41 20L4 18.59l7.72-7.72 1.47 1.35L5.41 20z\"/>\n",
              "  </svg>\n",
              "      </button>\n",
              "      \n",
              "  <style>\n",
              "    .colab-df-container {\n",
              "      display:flex;\n",
              "      flex-wrap:wrap;\n",
              "      gap: 12px;\n",
              "    }\n",
              "\n",
              "    .colab-df-convert {\n",
              "      background-color: #E8F0FE;\n",
              "      border: none;\n",
              "      border-radius: 50%;\n",
              "      cursor: pointer;\n",
              "      display: none;\n",
              "      fill: #1967D2;\n",
              "      height: 32px;\n",
              "      padding: 0 0 0 0;\n",
              "      width: 32px;\n",
              "    }\n",
              "\n",
              "    .colab-df-convert:hover {\n",
              "      background-color: #E2EBFA;\n",
              "      box-shadow: 0px 1px 2px rgba(60, 64, 67, 0.3), 0px 1px 3px 1px rgba(60, 64, 67, 0.15);\n",
              "      fill: #174EA6;\n",
              "    }\n",
              "\n",
              "    [theme=dark] .colab-df-convert {\n",
              "      background-color: #3B4455;\n",
              "      fill: #D2E3FC;\n",
              "    }\n",
              "\n",
              "    [theme=dark] .colab-df-convert:hover {\n",
              "      background-color: #434B5C;\n",
              "      box-shadow: 0px 1px 3px 1px rgba(0, 0, 0, 0.15);\n",
              "      filter: drop-shadow(0px 1px 2px rgba(0, 0, 0, 0.3));\n",
              "      fill: #FFFFFF;\n",
              "    }\n",
              "  </style>\n",
              "\n",
              "      <script>\n",
              "        const buttonEl =\n",
              "          document.querySelector('#df-fdde7ef5-264f-447e-8875-b55565ad3082 button.colab-df-convert');\n",
              "        buttonEl.style.display =\n",
              "          google.colab.kernel.accessAllowed ? 'block' : 'none';\n",
              "\n",
              "        async function convertToInteractive(key) {\n",
              "          const element = document.querySelector('#df-fdde7ef5-264f-447e-8875-b55565ad3082');\n",
              "          const dataTable =\n",
              "            await google.colab.kernel.invokeFunction('convertToInteractive',\n",
              "                                                     [key], {});\n",
              "          if (!dataTable) return;\n",
              "\n",
              "          const docLinkHtml = 'Like what you see? Visit the ' +\n",
              "            '<a target=\"_blank\" href=https://colab.research.google.com/notebooks/data_table.ipynb>data table notebook</a>'\n",
              "            + ' to learn more about interactive tables.';\n",
              "          element.innerHTML = '';\n",
              "          dataTable['output_type'] = 'display_data';\n",
              "          await google.colab.output.renderOutput(dataTable, element);\n",
              "          const docLink = document.createElement('div');\n",
              "          docLink.innerHTML = docLinkHtml;\n",
              "          element.appendChild(docLink);\n",
              "        }\n",
              "      </script>\n",
              "    </div>\n",
              "  </div>\n",
              "  "
            ]
          },
          "metadata": {},
          "execution_count": 65
        }
      ],
      "source": [
        "confusion_matrix(y_test,pred)\n",
        "pd.crosstab(y_test, pred, rownames=['True'], colnames=['Predicted'], margins=True)"
      ]
    },
    {
      "cell_type": "code",
      "execution_count": 66,
      "metadata": {
        "colab": {
          "base_uri": "https://localhost:8080/",
          "height": 175
        },
        "id": "WXER0nMKkls4",
        "outputId": "cb781cae-733c-4dc8-bca4-70ff0bf665d7"
      },
      "outputs": [
        {
          "output_type": "execute_result",
          "data": {
            "text/plain": [
              "Predicted    0    1   All\n",
              "True                     \n",
              "0          793  248  1041\n",
              "1          104  264   368\n",
              "All        897  512  1409"
            ],
            "text/html": [
              "\n",
              "  <div id=\"df-3a90390a-41e0-41ec-b22f-04423eb64383\">\n",
              "    <div class=\"colab-df-container\">\n",
              "      <div>\n",
              "<style scoped>\n",
              "    .dataframe tbody tr th:only-of-type {\n",
              "        vertical-align: middle;\n",
              "    }\n",
              "\n",
              "    .dataframe tbody tr th {\n",
              "        vertical-align: top;\n",
              "    }\n",
              "\n",
              "    .dataframe thead th {\n",
              "        text-align: right;\n",
              "    }\n",
              "</style>\n",
              "<table border=\"1\" class=\"dataframe\">\n",
              "  <thead>\n",
              "    <tr style=\"text-align: right;\">\n",
              "      <th>Predicted</th>\n",
              "      <th>0</th>\n",
              "      <th>1</th>\n",
              "      <th>All</th>\n",
              "    </tr>\n",
              "    <tr>\n",
              "      <th>True</th>\n",
              "      <th></th>\n",
              "      <th></th>\n",
              "      <th></th>\n",
              "    </tr>\n",
              "  </thead>\n",
              "  <tbody>\n",
              "    <tr>\n",
              "      <th>0</th>\n",
              "      <td>793</td>\n",
              "      <td>248</td>\n",
              "      <td>1041</td>\n",
              "    </tr>\n",
              "    <tr>\n",
              "      <th>1</th>\n",
              "      <td>104</td>\n",
              "      <td>264</td>\n",
              "      <td>368</td>\n",
              "    </tr>\n",
              "    <tr>\n",
              "      <th>All</th>\n",
              "      <td>897</td>\n",
              "      <td>512</td>\n",
              "      <td>1409</td>\n",
              "    </tr>\n",
              "  </tbody>\n",
              "</table>\n",
              "</div>\n",
              "      <button class=\"colab-df-convert\" onclick=\"convertToInteractive('df-3a90390a-41e0-41ec-b22f-04423eb64383')\"\n",
              "              title=\"Convert this dataframe to an interactive table.\"\n",
              "              style=\"display:none;\">\n",
              "        \n",
              "  <svg xmlns=\"http://www.w3.org/2000/svg\" height=\"24px\"viewBox=\"0 0 24 24\"\n",
              "       width=\"24px\">\n",
              "    <path d=\"M0 0h24v24H0V0z\" fill=\"none\"/>\n",
              "    <path d=\"M18.56 5.44l.94 2.06.94-2.06 2.06-.94-2.06-.94-.94-2.06-.94 2.06-2.06.94zm-11 1L8.5 8.5l.94-2.06 2.06-.94-2.06-.94L8.5 2.5l-.94 2.06-2.06.94zm10 10l.94 2.06.94-2.06 2.06-.94-2.06-.94-.94-2.06-.94 2.06-2.06.94z\"/><path d=\"M17.41 7.96l-1.37-1.37c-.4-.4-.92-.59-1.43-.59-.52 0-1.04.2-1.43.59L10.3 9.45l-7.72 7.72c-.78.78-.78 2.05 0 2.83L4 21.41c.39.39.9.59 1.41.59.51 0 1.02-.2 1.41-.59l7.78-7.78 2.81-2.81c.8-.78.8-2.07 0-2.86zM5.41 20L4 18.59l7.72-7.72 1.47 1.35L5.41 20z\"/>\n",
              "  </svg>\n",
              "      </button>\n",
              "      \n",
              "  <style>\n",
              "    .colab-df-container {\n",
              "      display:flex;\n",
              "      flex-wrap:wrap;\n",
              "      gap: 12px;\n",
              "    }\n",
              "\n",
              "    .colab-df-convert {\n",
              "      background-color: #E8F0FE;\n",
              "      border: none;\n",
              "      border-radius: 50%;\n",
              "      cursor: pointer;\n",
              "      display: none;\n",
              "      fill: #1967D2;\n",
              "      height: 32px;\n",
              "      padding: 0 0 0 0;\n",
              "      width: 32px;\n",
              "    }\n",
              "\n",
              "    .colab-df-convert:hover {\n",
              "      background-color: #E2EBFA;\n",
              "      box-shadow: 0px 1px 2px rgba(60, 64, 67, 0.3), 0px 1px 3px 1px rgba(60, 64, 67, 0.15);\n",
              "      fill: #174EA6;\n",
              "    }\n",
              "\n",
              "    [theme=dark] .colab-df-convert {\n",
              "      background-color: #3B4455;\n",
              "      fill: #D2E3FC;\n",
              "    }\n",
              "\n",
              "    [theme=dark] .colab-df-convert:hover {\n",
              "      background-color: #434B5C;\n",
              "      box-shadow: 0px 1px 3px 1px rgba(0, 0, 0, 0.15);\n",
              "      filter: drop-shadow(0px 1px 2px rgba(0, 0, 0, 0.3));\n",
              "      fill: #FFFFFF;\n",
              "    }\n",
              "  </style>\n",
              "\n",
              "      <script>\n",
              "        const buttonEl =\n",
              "          document.querySelector('#df-3a90390a-41e0-41ec-b22f-04423eb64383 button.colab-df-convert');\n",
              "        buttonEl.style.display =\n",
              "          google.colab.kernel.accessAllowed ? 'block' : 'none';\n",
              "\n",
              "        async function convertToInteractive(key) {\n",
              "          const element = document.querySelector('#df-3a90390a-41e0-41ec-b22f-04423eb64383');\n",
              "          const dataTable =\n",
              "            await google.colab.kernel.invokeFunction('convertToInteractive',\n",
              "                                                     [key], {});\n",
              "          if (!dataTable) return;\n",
              "\n",
              "          const docLinkHtml = 'Like what you see? Visit the ' +\n",
              "            '<a target=\"_blank\" href=https://colab.research.google.com/notebooks/data_table.ipynb>data table notebook</a>'\n",
              "            + ' to learn more about interactive tables.';\n",
              "          element.innerHTML = '';\n",
              "          dataTable['output_type'] = 'display_data';\n",
              "          await google.colab.output.renderOutput(dataTable, element);\n",
              "          const docLink = document.createElement('div');\n",
              "          docLink.innerHTML = docLinkHtml;\n",
              "          element.appendChild(docLink);\n",
              "        }\n",
              "      </script>\n",
              "    </div>\n",
              "  </div>\n",
              "  "
            ]
          },
          "metadata": {},
          "execution_count": 66
        }
      ],
      "source": [
        "forest2 = RandomForestClassifier(n_estimators=1000, oob_score = True, n_jobs = -1,random_state =9,\n",
        "                                max_features = \"auto\", max_leaf_nodes = 7)\n",
        "modelF2 = forest2.fit(scaled_train, y_train_res)\n",
        "pred2 = modelF2.predict(scaled_test)\n",
        "confusion_matrix(y_test,pred2)\n",
        "pd.crosstab(y_test, pred2, rownames=['True'], colnames=['Predicted'], margins=True)\n",
        "\n",
        "# As we increased number of estimators and max_leaf_nodes, we are starting to get better results.\n",
        "# Total mis-classified points is 517 which is best till now."
      ]
    },
    {
      "cell_type": "code",
      "execution_count": 67,
      "metadata": {
        "colab": {
          "base_uri": "https://localhost:8080/",
          "height": 175
        },
        "id": "u564sHONkxHz",
        "outputId": "40937d43-fa8c-4d96-e909-1130dc21c16a"
      },
      "outputs": [
        {
          "output_type": "execute_result",
          "data": {
            "text/plain": [
              "Predicted    0    1   All\n",
              "True                     \n",
              "0          810  231  1041\n",
              "1          107  261   368\n",
              "All        917  492  1409"
            ],
            "text/html": [
              "\n",
              "  <div id=\"df-d6e98c06-2bec-4f7f-89fd-29e651a731fb\">\n",
              "    <div class=\"colab-df-container\">\n",
              "      <div>\n",
              "<style scoped>\n",
              "    .dataframe tbody tr th:only-of-type {\n",
              "        vertical-align: middle;\n",
              "    }\n",
              "\n",
              "    .dataframe tbody tr th {\n",
              "        vertical-align: top;\n",
              "    }\n",
              "\n",
              "    .dataframe thead th {\n",
              "        text-align: right;\n",
              "    }\n",
              "</style>\n",
              "<table border=\"1\" class=\"dataframe\">\n",
              "  <thead>\n",
              "    <tr style=\"text-align: right;\">\n",
              "      <th>Predicted</th>\n",
              "      <th>0</th>\n",
              "      <th>1</th>\n",
              "      <th>All</th>\n",
              "    </tr>\n",
              "    <tr>\n",
              "      <th>True</th>\n",
              "      <th></th>\n",
              "      <th></th>\n",
              "      <th></th>\n",
              "    </tr>\n",
              "  </thead>\n",
              "  <tbody>\n",
              "    <tr>\n",
              "      <th>0</th>\n",
              "      <td>810</td>\n",
              "      <td>231</td>\n",
              "      <td>1041</td>\n",
              "    </tr>\n",
              "    <tr>\n",
              "      <th>1</th>\n",
              "      <td>107</td>\n",
              "      <td>261</td>\n",
              "      <td>368</td>\n",
              "    </tr>\n",
              "    <tr>\n",
              "      <th>All</th>\n",
              "      <td>917</td>\n",
              "      <td>492</td>\n",
              "      <td>1409</td>\n",
              "    </tr>\n",
              "  </tbody>\n",
              "</table>\n",
              "</div>\n",
              "      <button class=\"colab-df-convert\" onclick=\"convertToInteractive('df-d6e98c06-2bec-4f7f-89fd-29e651a731fb')\"\n",
              "              title=\"Convert this dataframe to an interactive table.\"\n",
              "              style=\"display:none;\">\n",
              "        \n",
              "  <svg xmlns=\"http://www.w3.org/2000/svg\" height=\"24px\"viewBox=\"0 0 24 24\"\n",
              "       width=\"24px\">\n",
              "    <path d=\"M0 0h24v24H0V0z\" fill=\"none\"/>\n",
              "    <path d=\"M18.56 5.44l.94 2.06.94-2.06 2.06-.94-2.06-.94-.94-2.06-.94 2.06-2.06.94zm-11 1L8.5 8.5l.94-2.06 2.06-.94-2.06-.94L8.5 2.5l-.94 2.06-2.06.94zm10 10l.94 2.06.94-2.06 2.06-.94-2.06-.94-.94-2.06-.94 2.06-2.06.94z\"/><path d=\"M17.41 7.96l-1.37-1.37c-.4-.4-.92-.59-1.43-.59-.52 0-1.04.2-1.43.59L10.3 9.45l-7.72 7.72c-.78.78-.78 2.05 0 2.83L4 21.41c.39.39.9.59 1.41.59.51 0 1.02-.2 1.41-.59l7.78-7.78 2.81-2.81c.8-.78.8-2.07 0-2.86zM5.41 20L4 18.59l7.72-7.72 1.47 1.35L5.41 20z\"/>\n",
              "  </svg>\n",
              "      </button>\n",
              "      \n",
              "  <style>\n",
              "    .colab-df-container {\n",
              "      display:flex;\n",
              "      flex-wrap:wrap;\n",
              "      gap: 12px;\n",
              "    }\n",
              "\n",
              "    .colab-df-convert {\n",
              "      background-color: #E8F0FE;\n",
              "      border: none;\n",
              "      border-radius: 50%;\n",
              "      cursor: pointer;\n",
              "      display: none;\n",
              "      fill: #1967D2;\n",
              "      height: 32px;\n",
              "      padding: 0 0 0 0;\n",
              "      width: 32px;\n",
              "    }\n",
              "\n",
              "    .colab-df-convert:hover {\n",
              "      background-color: #E2EBFA;\n",
              "      box-shadow: 0px 1px 2px rgba(60, 64, 67, 0.3), 0px 1px 3px 1px rgba(60, 64, 67, 0.15);\n",
              "      fill: #174EA6;\n",
              "    }\n",
              "\n",
              "    [theme=dark] .colab-df-convert {\n",
              "      background-color: #3B4455;\n",
              "      fill: #D2E3FC;\n",
              "    }\n",
              "\n",
              "    [theme=dark] .colab-df-convert:hover {\n",
              "      background-color: #434B5C;\n",
              "      box-shadow: 0px 1px 3px 1px rgba(0, 0, 0, 0.15);\n",
              "      filter: drop-shadow(0px 1px 2px rgba(0, 0, 0, 0.3));\n",
              "      fill: #FFFFFF;\n",
              "    }\n",
              "  </style>\n",
              "\n",
              "      <script>\n",
              "        const buttonEl =\n",
              "          document.querySelector('#df-d6e98c06-2bec-4f7f-89fd-29e651a731fb button.colab-df-convert');\n",
              "        buttonEl.style.display =\n",
              "          google.colab.kernel.accessAllowed ? 'block' : 'none';\n",
              "\n",
              "        async function convertToInteractive(key) {\n",
              "          const element = document.querySelector('#df-d6e98c06-2bec-4f7f-89fd-29e651a731fb');\n",
              "          const dataTable =\n",
              "            await google.colab.kernel.invokeFunction('convertToInteractive',\n",
              "                                                     [key], {});\n",
              "          if (!dataTable) return;\n",
              "\n",
              "          const docLinkHtml = 'Like what you see? Visit the ' +\n",
              "            '<a target=\"_blank\" href=https://colab.research.google.com/notebooks/data_table.ipynb>data table notebook</a>'\n",
              "            + ' to learn more about interactive tables.';\n",
              "          element.innerHTML = '';\n",
              "          dataTable['output_type'] = 'display_data';\n",
              "          await google.colab.output.renderOutput(dataTable, element);\n",
              "          const docLink = document.createElement('div');\n",
              "          docLink.innerHTML = docLinkHtml;\n",
              "          element.appendChild(docLink);\n",
              "        }\n",
              "      </script>\n",
              "    </div>\n",
              "  </div>\n",
              "  "
            ]
          },
          "metadata": {},
          "execution_count": 67
        }
      ],
      "source": [
        "forest3 = RandomForestClassifier(n_estimators=1200, oob_score = True, n_jobs = -1,random_state =9,\n",
        "                                max_features = \"auto\", max_leaf_nodes = 10)\n",
        "modelF3 = forest3.fit(scaled_train, y_train_res)\n",
        "pred3 = modelF3.predict(scaled_test)\n",
        "confusion_matrix(y_test,pred3)\n",
        "pd.crosstab(y_test, pred3, rownames=['True'], colnames=['Predicted'], margins=True)\n",
        "\n",
        "# we are getting 338 miss-classified points "
      ]
    },
    {
      "cell_type": "code",
      "execution_count": 68,
      "metadata": {
        "colab": {
          "base_uri": "https://localhost:8080/",
          "height": 175
        },
        "id": "n-XxASNvk_F2",
        "outputId": "1ce21f1a-aea7-4568-e7e3-18e9e6915d7a"
      },
      "outputs": [
        {
          "output_type": "execute_result",
          "data": {
            "text/plain": [
              "Predicted    0    1   All\n",
              "True                     \n",
              "0          790  251  1041\n",
              "1          104  264   368\n",
              "All        894  515  1409"
            ],
            "text/html": [
              "\n",
              "  <div id=\"df-a7d3400e-090f-478c-814a-1acec66a913c\">\n",
              "    <div class=\"colab-df-container\">\n",
              "      <div>\n",
              "<style scoped>\n",
              "    .dataframe tbody tr th:only-of-type {\n",
              "        vertical-align: middle;\n",
              "    }\n",
              "\n",
              "    .dataframe tbody tr th {\n",
              "        vertical-align: top;\n",
              "    }\n",
              "\n",
              "    .dataframe thead th {\n",
              "        text-align: right;\n",
              "    }\n",
              "</style>\n",
              "<table border=\"1\" class=\"dataframe\">\n",
              "  <thead>\n",
              "    <tr style=\"text-align: right;\">\n",
              "      <th>Predicted</th>\n",
              "      <th>0</th>\n",
              "      <th>1</th>\n",
              "      <th>All</th>\n",
              "    </tr>\n",
              "    <tr>\n",
              "      <th>True</th>\n",
              "      <th></th>\n",
              "      <th></th>\n",
              "      <th></th>\n",
              "    </tr>\n",
              "  </thead>\n",
              "  <tbody>\n",
              "    <tr>\n",
              "      <th>0</th>\n",
              "      <td>790</td>\n",
              "      <td>251</td>\n",
              "      <td>1041</td>\n",
              "    </tr>\n",
              "    <tr>\n",
              "      <th>1</th>\n",
              "      <td>104</td>\n",
              "      <td>264</td>\n",
              "      <td>368</td>\n",
              "    </tr>\n",
              "    <tr>\n",
              "      <th>All</th>\n",
              "      <td>894</td>\n",
              "      <td>515</td>\n",
              "      <td>1409</td>\n",
              "    </tr>\n",
              "  </tbody>\n",
              "</table>\n",
              "</div>\n",
              "      <button class=\"colab-df-convert\" onclick=\"convertToInteractive('df-a7d3400e-090f-478c-814a-1acec66a913c')\"\n",
              "              title=\"Convert this dataframe to an interactive table.\"\n",
              "              style=\"display:none;\">\n",
              "        \n",
              "  <svg xmlns=\"http://www.w3.org/2000/svg\" height=\"24px\"viewBox=\"0 0 24 24\"\n",
              "       width=\"24px\">\n",
              "    <path d=\"M0 0h24v24H0V0z\" fill=\"none\"/>\n",
              "    <path d=\"M18.56 5.44l.94 2.06.94-2.06 2.06-.94-2.06-.94-.94-2.06-.94 2.06-2.06.94zm-11 1L8.5 8.5l.94-2.06 2.06-.94-2.06-.94L8.5 2.5l-.94 2.06-2.06.94zm10 10l.94 2.06.94-2.06 2.06-.94-2.06-.94-.94-2.06-.94 2.06-2.06.94z\"/><path d=\"M17.41 7.96l-1.37-1.37c-.4-.4-.92-.59-1.43-.59-.52 0-1.04.2-1.43.59L10.3 9.45l-7.72 7.72c-.78.78-.78 2.05 0 2.83L4 21.41c.39.39.9.59 1.41.59.51 0 1.02-.2 1.41-.59l7.78-7.78 2.81-2.81c.8-.78.8-2.07 0-2.86zM5.41 20L4 18.59l7.72-7.72 1.47 1.35L5.41 20z\"/>\n",
              "  </svg>\n",
              "      </button>\n",
              "      \n",
              "  <style>\n",
              "    .colab-df-container {\n",
              "      display:flex;\n",
              "      flex-wrap:wrap;\n",
              "      gap: 12px;\n",
              "    }\n",
              "\n",
              "    .colab-df-convert {\n",
              "      background-color: #E8F0FE;\n",
              "      border: none;\n",
              "      border-radius: 50%;\n",
              "      cursor: pointer;\n",
              "      display: none;\n",
              "      fill: #1967D2;\n",
              "      height: 32px;\n",
              "      padding: 0 0 0 0;\n",
              "      width: 32px;\n",
              "    }\n",
              "\n",
              "    .colab-df-convert:hover {\n",
              "      background-color: #E2EBFA;\n",
              "      box-shadow: 0px 1px 2px rgba(60, 64, 67, 0.3), 0px 1px 3px 1px rgba(60, 64, 67, 0.15);\n",
              "      fill: #174EA6;\n",
              "    }\n",
              "\n",
              "    [theme=dark] .colab-df-convert {\n",
              "      background-color: #3B4455;\n",
              "      fill: #D2E3FC;\n",
              "    }\n",
              "\n",
              "    [theme=dark] .colab-df-convert:hover {\n",
              "      background-color: #434B5C;\n",
              "      box-shadow: 0px 1px 3px 1px rgba(0, 0, 0, 0.15);\n",
              "      filter: drop-shadow(0px 1px 2px rgba(0, 0, 0, 0.3));\n",
              "      fill: #FFFFFF;\n",
              "    }\n",
              "  </style>\n",
              "\n",
              "      <script>\n",
              "        const buttonEl =\n",
              "          document.querySelector('#df-a7d3400e-090f-478c-814a-1acec66a913c button.colab-df-convert');\n",
              "        buttonEl.style.display =\n",
              "          google.colab.kernel.accessAllowed ? 'block' : 'none';\n",
              "\n",
              "        async function convertToInteractive(key) {\n",
              "          const element = document.querySelector('#df-a7d3400e-090f-478c-814a-1acec66a913c');\n",
              "          const dataTable =\n",
              "            await google.colab.kernel.invokeFunction('convertToInteractive',\n",
              "                                                     [key], {});\n",
              "          if (!dataTable) return;\n",
              "\n",
              "          const docLinkHtml = 'Like what you see? Visit the ' +\n",
              "            '<a target=\"_blank\" href=https://colab.research.google.com/notebooks/data_table.ipynb>data table notebook</a>'\n",
              "            + ' to learn more about interactive tables.';\n",
              "          element.innerHTML = '';\n",
              "          dataTable['output_type'] = 'display_data';\n",
              "          await google.colab.output.renderOutput(dataTable, element);\n",
              "          const docLink = document.createElement('div');\n",
              "          docLink.innerHTML = docLinkHtml;\n",
              "          element.appendChild(docLink);\n",
              "        }\n",
              "      </script>\n",
              "    </div>\n",
              "  </div>\n",
              "  "
            ]
          },
          "metadata": {},
          "execution_count": 68
        }
      ],
      "source": [
        "forest4 = RandomForestClassifier(n_estimators=1000, oob_score = True, n_jobs = -1,random_state =9,\n",
        "                                max_features = \"log2\", max_leaf_nodes = 7)\n",
        "modelF4 = forest4.fit(scaled_train, y_train_res)\n",
        "pred4 = modelF4.predict(scaled_test)\n",
        "confusion_matrix(y_test,pred4)\n",
        "pd.crosstab(y_test, pred4, rownames=['True'], colnames=['Predicted'], margins=True)\n",
        "\n",
        "# we are getting 513 miss-classified points no. of churners are getting missed."
      ]
    },
    {
      "cell_type": "code",
      "execution_count": 69,
      "metadata": {
        "colab": {
          "base_uri": "https://localhost:8080/",
          "height": 175
        },
        "id": "gRc_M8xtlLLd",
        "outputId": "9520b0d7-faaf-4031-9045-633260b17dea"
      },
      "outputs": [
        {
          "output_type": "execute_result",
          "data": {
            "text/plain": [
              "Predicted    0    1   All\n",
              "True                     \n",
              "0          797  244  1041\n",
              "1          105  263   368\n",
              "All        902  507  1409"
            ],
            "text/html": [
              "\n",
              "  <div id=\"df-5f987201-8c3d-45ae-8c74-27aed73b4c6c\">\n",
              "    <div class=\"colab-df-container\">\n",
              "      <div>\n",
              "<style scoped>\n",
              "    .dataframe tbody tr th:only-of-type {\n",
              "        vertical-align: middle;\n",
              "    }\n",
              "\n",
              "    .dataframe tbody tr th {\n",
              "        vertical-align: top;\n",
              "    }\n",
              "\n",
              "    .dataframe thead th {\n",
              "        text-align: right;\n",
              "    }\n",
              "</style>\n",
              "<table border=\"1\" class=\"dataframe\">\n",
              "  <thead>\n",
              "    <tr style=\"text-align: right;\">\n",
              "      <th>Predicted</th>\n",
              "      <th>0</th>\n",
              "      <th>1</th>\n",
              "      <th>All</th>\n",
              "    </tr>\n",
              "    <tr>\n",
              "      <th>True</th>\n",
              "      <th></th>\n",
              "      <th></th>\n",
              "      <th></th>\n",
              "    </tr>\n",
              "  </thead>\n",
              "  <tbody>\n",
              "    <tr>\n",
              "      <th>0</th>\n",
              "      <td>797</td>\n",
              "      <td>244</td>\n",
              "      <td>1041</td>\n",
              "    </tr>\n",
              "    <tr>\n",
              "      <th>1</th>\n",
              "      <td>105</td>\n",
              "      <td>263</td>\n",
              "      <td>368</td>\n",
              "    </tr>\n",
              "    <tr>\n",
              "      <th>All</th>\n",
              "      <td>902</td>\n",
              "      <td>507</td>\n",
              "      <td>1409</td>\n",
              "    </tr>\n",
              "  </tbody>\n",
              "</table>\n",
              "</div>\n",
              "      <button class=\"colab-df-convert\" onclick=\"convertToInteractive('df-5f987201-8c3d-45ae-8c74-27aed73b4c6c')\"\n",
              "              title=\"Convert this dataframe to an interactive table.\"\n",
              "              style=\"display:none;\">\n",
              "        \n",
              "  <svg xmlns=\"http://www.w3.org/2000/svg\" height=\"24px\"viewBox=\"0 0 24 24\"\n",
              "       width=\"24px\">\n",
              "    <path d=\"M0 0h24v24H0V0z\" fill=\"none\"/>\n",
              "    <path d=\"M18.56 5.44l.94 2.06.94-2.06 2.06-.94-2.06-.94-.94-2.06-.94 2.06-2.06.94zm-11 1L8.5 8.5l.94-2.06 2.06-.94-2.06-.94L8.5 2.5l-.94 2.06-2.06.94zm10 10l.94 2.06.94-2.06 2.06-.94-2.06-.94-.94-2.06-.94 2.06-2.06.94z\"/><path d=\"M17.41 7.96l-1.37-1.37c-.4-.4-.92-.59-1.43-.59-.52 0-1.04.2-1.43.59L10.3 9.45l-7.72 7.72c-.78.78-.78 2.05 0 2.83L4 21.41c.39.39.9.59 1.41.59.51 0 1.02-.2 1.41-.59l7.78-7.78 2.81-2.81c.8-.78.8-2.07 0-2.86zM5.41 20L4 18.59l7.72-7.72 1.47 1.35L5.41 20z\"/>\n",
              "  </svg>\n",
              "      </button>\n",
              "      \n",
              "  <style>\n",
              "    .colab-df-container {\n",
              "      display:flex;\n",
              "      flex-wrap:wrap;\n",
              "      gap: 12px;\n",
              "    }\n",
              "\n",
              "    .colab-df-convert {\n",
              "      background-color: #E8F0FE;\n",
              "      border: none;\n",
              "      border-radius: 50%;\n",
              "      cursor: pointer;\n",
              "      display: none;\n",
              "      fill: #1967D2;\n",
              "      height: 32px;\n",
              "      padding: 0 0 0 0;\n",
              "      width: 32px;\n",
              "    }\n",
              "\n",
              "    .colab-df-convert:hover {\n",
              "      background-color: #E2EBFA;\n",
              "      box-shadow: 0px 1px 2px rgba(60, 64, 67, 0.3), 0px 1px 3px 1px rgba(60, 64, 67, 0.15);\n",
              "      fill: #174EA6;\n",
              "    }\n",
              "\n",
              "    [theme=dark] .colab-df-convert {\n",
              "      background-color: #3B4455;\n",
              "      fill: #D2E3FC;\n",
              "    }\n",
              "\n",
              "    [theme=dark] .colab-df-convert:hover {\n",
              "      background-color: #434B5C;\n",
              "      box-shadow: 0px 1px 3px 1px rgba(0, 0, 0, 0.15);\n",
              "      filter: drop-shadow(0px 1px 2px rgba(0, 0, 0, 0.3));\n",
              "      fill: #FFFFFF;\n",
              "    }\n",
              "  </style>\n",
              "\n",
              "      <script>\n",
              "        const buttonEl =\n",
              "          document.querySelector('#df-5f987201-8c3d-45ae-8c74-27aed73b4c6c button.colab-df-convert');\n",
              "        buttonEl.style.display =\n",
              "          google.colab.kernel.accessAllowed ? 'block' : 'none';\n",
              "\n",
              "        async function convertToInteractive(key) {\n",
              "          const element = document.querySelector('#df-5f987201-8c3d-45ae-8c74-27aed73b4c6c');\n",
              "          const dataTable =\n",
              "            await google.colab.kernel.invokeFunction('convertToInteractive',\n",
              "                                                     [key], {});\n",
              "          if (!dataTable) return;\n",
              "\n",
              "          const docLinkHtml = 'Like what you see? Visit the ' +\n",
              "            '<a target=\"_blank\" href=https://colab.research.google.com/notebooks/data_table.ipynb>data table notebook</a>'\n",
              "            + ' to learn more about interactive tables.';\n",
              "          element.innerHTML = '';\n",
              "          dataTable['output_type'] = 'display_data';\n",
              "          await google.colab.output.renderOutput(dataTable, element);\n",
              "          const docLink = document.createElement('div');\n",
              "          docLink.innerHTML = docLinkHtml;\n",
              "          element.appendChild(docLink);\n",
              "        }\n",
              "      </script>\n",
              "    </div>\n",
              "  </div>\n",
              "  "
            ]
          },
          "metadata": {},
          "execution_count": 69
        }
      ],
      "source": [
        "forest5 = RandomForestClassifier(n_estimators=700, oob_score = True, n_jobs = -1,random_state = 9,\n",
        "                                max_features = \"auto\", max_leaf_nodes = 7)\n",
        "modelF5 = forest5.fit(scaled_train, y_train_res)\n",
        "pred5 = modelF5.predict(scaled_test)\n",
        "confusion_matrix(y_test,pred5)\n",
        "pd.crosstab(y_test, pred5, rownames=['True'], colnames=['Predicted'], margins=True)"
      ]
    },
    {
      "cell_type": "markdown",
      "metadata": {
        "id": "bce3LQPIlSGY"
      },
      "source": [
        "There's a major problem that we are facing here. Number of features that we are considering here are too many and even some non-important features are also contributing to the model. Before moving forward, we'll be carrying feature importance and only keep top 30 predictors in our data."
      ]
    },
    {
      "cell_type": "markdown",
      "metadata": {
        "id": "nelqhWjmlV-x"
      },
      "source": [
        "Feature Importance Using Scikit-Learn"
      ]
    },
    {
      "cell_type": "code",
      "execution_count": 70,
      "metadata": {
        "colab": {
          "base_uri": "https://localhost:8080/"
        },
        "id": "8XyybIgDlWrX",
        "outputId": "b188055d-5f4d-4ce6-a884-12473fd79198"
      },
      "outputs": [
        {
          "output_type": "stream",
          "name": "stdout",
          "text": [
            "Feature ranking:\n",
            "1. feature 0 (0.118739) and feature name : tenure\n",
            "2. feature 37 (0.105676) and feature name : Contract_Month-to-month\n",
            "3. feature 39 (0.105565) and feature name : Contract_Two year\n",
            "4. feature 40 (0.068541) and feature name : PaperlessBilling_No\n",
            "5. feature 21 (0.062949) and feature name : OnlineSecurity_Yes\n",
            "6. feature 30 (0.061237) and feature name : TechSupport_Yes\n",
            "7. feature 38 (0.055749) and feature name : Contract_One year\n",
            "8. feature 10 (0.030617) and feature name : Dependents_Yes\n",
            "9. feature 8 (0.028519) and feature name : Partner_Yes\n",
            "10. feature 35 (0.025923) and feature name : StreamingMovies_No internet service\n",
            "11. feature 2 (0.025585) and feature name : TotalCharges\n",
            "12. feature 17 (0.025177) and feature name : InternetService_Fiber optic\n",
            "13. feature 24 (0.022529) and feature name : OnlineBackup_Yes\n",
            "14. feature 23 (0.021841) and feature name : OnlineBackup_No internet service\n",
            "15. feature 20 (0.021207) and feature name : OnlineSecurity_No internet service\n",
            "16. feature 32 (0.021050) and feature name : StreamingTV_No internet service\n",
            "17. feature 28 (0.020801) and feature name : TechSupport_No\n",
            "18. feature 18 (0.020301) and feature name : InternetService_No\n",
            "19. feature 29 (0.020170) and feature name : TechSupport_No internet service\n",
            "20. feature 19 (0.018884) and feature name : OnlineSecurity_No\n",
            "21. feature 26 (0.018561) and feature name : DeviceProtection_No internet service\n",
            "22. feature 43 (0.017374) and feature name : PaymentMethod_Credit card (automatic)\n",
            "23. feature 16 (0.017228) and feature name : InternetService_DSL\n",
            "24. feature 1 (0.009969) and feature name : MonthlyCharges\n",
            "25. feature 5 (0.009919) and feature name : SeniorCitizen_0\n",
            "26. feature 42 (0.009290) and feature name : PaymentMethod_Bank transfer (automatic)\n",
            "27. feature 27 (0.006880) and feature name : DeviceProtection_Yes\n",
            "28. feature 41 (0.006617) and feature name : PaperlessBilling_Yes\n",
            "29. feature 7 (0.005292) and feature name : Partner_No\n",
            "30. feature 9 (0.003284) and feature name : Dependents_No\n",
            "31. feature 22 (0.003182) and feature name : OnlineBackup_No\n",
            "32. feature 45 (0.003098) and feature name : PaymentMethod_Mailed check\n",
            "33. feature 13 (0.001587) and feature name : MultipleLines_No\n",
            "34. feature 6 (0.001355) and feature name : SeniorCitizen_1\n",
            "35. feature 31 (0.000918) and feature name : StreamingTV_No\n",
            "36. feature 44 (0.000818) and feature name : PaymentMethod_Electronic check\n",
            "37. feature 4 (0.000817) and feature name : gender_Male\n",
            "38. feature 25 (0.000786) and feature name : DeviceProtection_No\n",
            "39. feature 3 (0.000500) and feature name : gender_Female\n",
            "40. feature 33 (0.000495) and feature name : StreamingTV_Yes\n",
            "41. feature 34 (0.000413) and feature name : StreamingMovies_No\n",
            "42. feature 11 (0.000157) and feature name : PhoneService_No\n",
            "43. feature 36 (0.000147) and feature name : StreamingMovies_Yes\n",
            "44. feature 15 (0.000139) and feature name : MultipleLines_Yes\n",
            "45. feature 14 (0.000111) and feature name : MultipleLines_No phone service\n",
            "46. feature 12 (0.000000) and feature name : PhoneService_Yes\n"
          ]
        }
      ],
      "source": [
        "importances = modelF5.feature_importances_\n",
        "std = np.std([tree.feature_importances_ for tree in modelF5.estimators_],\n",
        "             axis=0)\n",
        "indices = np.argsort(importances)[::-1]\n",
        "features = X_train_res.columns\n",
        "# Print the feature ranking\n",
        "print(\"Feature ranking:\")\n",
        "\n",
        "for f in range(X_train_res.shape[1]):\n",
        "    print(\"%d. feature %d (%f) and feature name : %s\" % (f+1 , indices[f], importances[indices[f]], features[indices[f]]))"
      ]
    },
    {
      "cell_type": "code",
      "execution_count": 71,
      "metadata": {
        "colab": {
          "base_uri": "https://localhost:8080/",
          "height": 587
        },
        "id": "E-ccczmlldDv",
        "outputId": "9adf9cae-0a59-475f-db8a-58297cf6a5d6"
      },
      "outputs": [
        {
          "output_type": "display_data",
          "data": {
            "text/plain": [
              "<Figure size 1080x720 with 1 Axes>"
            ],
            "image/png": "[encoded data removed]"
          },
          "metadata": {
            "needs_background": "light"
          }
        }
      ],
      "source": [
        "# Plot the impurity-based feature importances of the forest\n",
        "plt.figure(figsize=(15,10))\n",
        "plt.title(\"Feature importances\")\n",
        "plt.bar(range(X_train_res.shape[1]), importances[indices],\n",
        "        color=\"r\", yerr=std[indices], align=\"center\")\n",
        "plt.xticks(range(X_train_res.shape[1]), indices)\n",
        "plt.xlim([-1, X_train_res.shape[1]])\n",
        "plt.show()"
      ]
    },
    {
      "cell_type": "code",
      "execution_count": 72,
      "metadata": {
        "colab": {
          "base_uri": "https://localhost:8080/",
          "height": 175
        },
        "id": "DIjV3xCXli_e",
        "outputId": "724ba5df-8d99-4bbc-adf0-33e886f547b9"
      },
      "outputs": [
        {
          "output_type": "execute_result",
          "data": {
            "text/plain": [
              "Predicted    0    1   All\n",
              "True                     \n",
              "0          771  270  1041\n",
              "1           92  276   368\n",
              "All        863  546  1409"
            ],
            "text/html": [
              "\n",
              "  <div id=\"df-a93a02e0-f51c-4cd5-95b8-ca8b9e05428e\">\n",
              "    <div class=\"colab-df-container\">\n",
              "      <div>\n",
              "<style scoped>\n",
              "    .dataframe tbody tr th:only-of-type {\n",
              "        vertical-align: middle;\n",
              "    }\n",
              "\n",
              "    .dataframe tbody tr th {\n",
              "        vertical-align: top;\n",
              "    }\n",
              "\n",
              "    .dataframe thead th {\n",
              "        text-align: right;\n",
              "    }\n",
              "</style>\n",
              "<table border=\"1\" class=\"dataframe\">\n",
              "  <thead>\n",
              "    <tr style=\"text-align: right;\">\n",
              "      <th>Predicted</th>\n",
              "      <th>0</th>\n",
              "      <th>1</th>\n",
              "      <th>All</th>\n",
              "    </tr>\n",
              "    <tr>\n",
              "      <th>True</th>\n",
              "      <th></th>\n",
              "      <th></th>\n",
              "      <th></th>\n",
              "    </tr>\n",
              "  </thead>\n",
              "  <tbody>\n",
              "    <tr>\n",
              "      <th>0</th>\n",
              "      <td>771</td>\n",
              "      <td>270</td>\n",
              "      <td>1041</td>\n",
              "    </tr>\n",
              "    <tr>\n",
              "      <th>1</th>\n",
              "      <td>92</td>\n",
              "      <td>276</td>\n",
              "      <td>368</td>\n",
              "    </tr>\n",
              "    <tr>\n",
              "      <th>All</th>\n",
              "      <td>863</td>\n",
              "      <td>546</td>\n",
              "      <td>1409</td>\n",
              "    </tr>\n",
              "  </tbody>\n",
              "</table>\n",
              "</div>\n",
              "      <button class=\"colab-df-convert\" onclick=\"convertToInteractive('df-a93a02e0-f51c-4cd5-95b8-ca8b9e05428e')\"\n",
              "              title=\"Convert this dataframe to an interactive table.\"\n",
              "              style=\"display:none;\">\n",
              "        \n",
              "  <svg xmlns=\"http://www.w3.org/2000/svg\" height=\"24px\"viewBox=\"0 0 24 24\"\n",
              "       width=\"24px\">\n",
              "    <path d=\"M0 0h24v24H0V0z\" fill=\"none\"/>\n",
              "    <path d=\"M18.56 5.44l.94 2.06.94-2.06 2.06-.94-2.06-.94-.94-2.06-.94 2.06-2.06.94zm-11 1L8.5 8.5l.94-2.06 2.06-.94-2.06-.94L8.5 2.5l-.94 2.06-2.06.94zm10 10l.94 2.06.94-2.06 2.06-.94-2.06-.94-.94-2.06-.94 2.06-2.06.94z\"/><path d=\"M17.41 7.96l-1.37-1.37c-.4-.4-.92-.59-1.43-.59-.52 0-1.04.2-1.43.59L10.3 9.45l-7.72 7.72c-.78.78-.78 2.05 0 2.83L4 21.41c.39.39.9.59 1.41.59.51 0 1.02-.2 1.41-.59l7.78-7.78 2.81-2.81c.8-.78.8-2.07 0-2.86zM5.41 20L4 18.59l7.72-7.72 1.47 1.35L5.41 20z\"/>\n",
              "  </svg>\n",
              "      </button>\n",
              "      \n",
              "  <style>\n",
              "    .colab-df-container {\n",
              "      display:flex;\n",
              "      flex-wrap:wrap;\n",
              "      gap: 12px;\n",
              "    }\n",
              "\n",
              "    .colab-df-convert {\n",
              "      background-color: #E8F0FE;\n",
              "      border: none;\n",
              "      border-radius: 50%;\n",
              "      cursor: pointer;\n",
              "      display: none;\n",
              "      fill: #1967D2;\n",
              "      height: 32px;\n",
              "      padding: 0 0 0 0;\n",
              "      width: 32px;\n",
              "    }\n",
              "\n",
              "    .colab-df-convert:hover {\n",
              "      background-color: #E2EBFA;\n",
              "      box-shadow: 0px 1px 2px rgba(60, 64, 67, 0.3), 0px 1px 3px 1px rgba(60, 64, 67, 0.15);\n",
              "      fill: #174EA6;\n",
              "    }\n",
              "\n",
              "    [theme=dark] .colab-df-convert {\n",
              "      background-color: #3B4455;\n",
              "      fill: #D2E3FC;\n",
              "    }\n",
              "\n",
              "    [theme=dark] .colab-df-convert:hover {\n",
              "      background-color: #434B5C;\n",
              "      box-shadow: 0px 1px 3px 1px rgba(0, 0, 0, 0.15);\n",
              "      filter: drop-shadow(0px 1px 2px rgba(0, 0, 0, 0.3));\n",
              "      fill: #FFFFFF;\n",
              "    }\n",
              "  </style>\n",
              "\n",
              "      <script>\n",
              "        const buttonEl =\n",
              "          document.querySelector('#df-a93a02e0-f51c-4cd5-95b8-ca8b9e05428e button.colab-df-convert');\n",
              "        buttonEl.style.display =\n",
              "          google.colab.kernel.accessAllowed ? 'block' : 'none';\n",
              "\n",
              "        async function convertToInteractive(key) {\n",
              "          const element = document.querySelector('#df-a93a02e0-f51c-4cd5-95b8-ca8b9e05428e');\n",
              "          const dataTable =\n",
              "            await google.colab.kernel.invokeFunction('convertToInteractive',\n",
              "                                                     [key], {});\n",
              "          if (!dataTable) return;\n",
              "\n",
              "          const docLinkHtml = 'Like what you see? Visit the ' +\n",
              "            '<a target=\"_blank\" href=https://colab.research.google.com/notebooks/data_table.ipynb>data table notebook</a>'\n",
              "            + ' to learn more about interactive tables.';\n",
              "          element.innerHTML = '';\n",
              "          dataTable['output_type'] = 'display_data';\n",
              "          await google.colab.output.renderOutput(dataTable, element);\n",
              "          const docLink = document.createElement('div');\n",
              "          docLink.innerHTML = docLinkHtml;\n",
              "          element.appendChild(docLink);\n",
              "        }\n",
              "      </script>\n",
              "    </div>\n",
              "  </div>\n",
              "  "
            ]
          },
          "metadata": {},
          "execution_count": 72
        }
      ],
      "source": [
        "# Subsetting X_train_res\n",
        "top_30 = indices[:30]\n",
        "fe_train = X_train_res.iloc[:, top_30]\n",
        "fe_train.shape\n",
        "\n",
        "# Similarly for test data\n",
        "fe_test = X_test.iloc[:, top_30]\n",
        "fe_test.shape\n",
        "\n",
        "# Scaling new data now\n",
        "scaled_train_fe = StandardScaler().fit_transform(fe_train)\n",
        "scaled_test_fe = StandardScaler().fit_transform(fe_test)\n",
        "\n",
        "forest6 = RandomForestClassifier(n_estimators=500, oob_score = True, n_jobs = -1,random_state = 9,\n",
        "                                max_features = \"auto\", max_leaf_nodes = 6)\n",
        "\n",
        "modelF6 = forest6.fit(scaled_train_fe, y_train_res)\n",
        "pred6 = modelF6.predict(scaled_test_fe)\n",
        "confusion_matrix(y_test,pred6)\n",
        "pd.crosstab(y_test, pred6, rownames=['True'], colnames=['Predicted'], margins=True)\n",
        "\n",
        "# After this we are getting 360 mis-classified points"
      ]
    },
    {
      "cell_type": "markdown",
      "metadata": {
        "id": "KwAck5csgA9J"
      },
      "source": [
        "Model 3: Logistic Regression"
      ]
    },
    {
      "cell_type": "code",
      "execution_count": 73,
      "metadata": {
        "colab": {
          "base_uri": "https://localhost:8080/"
        },
        "id": "bzrucz2uf94y",
        "outputId": "0e916627-7c67-4ac6-81eb-0dc99843fc73"
      },
      "outputs": [
        {
          "output_type": "stream",
          "name": "stdout",
          "text": [
            "Fitting 5 folds for each of 1 candidates, totalling 5 fits\n"
          ]
        },
        {
          "output_type": "execute_result",
          "data": {
            "text/plain": [
              "GridSearchCV(cv=5, estimator=LogisticRegression(max_iter=500, random_state=9),\n",
              "             n_jobs=3, param_grid={'C': array([0.001])}, verbose=5)"
            ]
          },
          "metadata": {},
          "execution_count": 73
        }
      ],
      "source": [
        "from sklearn.model_selection import GridSearchCV\n",
        "from sklearn.linear_model import LogisticRegression\n",
        "\n",
        "parameters = {\n",
        "    'C': np.linspace(0.001, 0.1, 1, 10)\n",
        "             }\n",
        "lr = LogisticRegression(random_state=9, max_iter=500)\n",
        "clf = GridSearchCV(lr, parameters, cv=5, verbose=5, n_jobs=3)\n",
        "clf.fit(scaled_train, y_train_res.ravel())"
      ]
    },
    {
      "cell_type": "code",
      "execution_count": 74,
      "metadata": {
        "colab": {
          "base_uri": "https://localhost:8080/"
        },
        "id": "Ohyz0WazgIF9",
        "outputId": "d7e6a4b5-7897-4142-c0c8-e74796a183bb"
      },
      "outputs": [
        {
          "output_type": "stream",
          "name": "stderr",
          "text": [
            "[Parallel(n_jobs=1)]: Using backend SequentialBackend with 1 concurrent workers.\n",
            "[Parallel(n_jobs=1)]: Done   1 out of   1 | elapsed:    0.1s remaining:    0.0s\n",
            "[Parallel(n_jobs=1)]: Done   1 out of   1 | elapsed:    0.1s finished\n"
          ]
        },
        {
          "output_type": "execute_result",
          "data": {
            "text/plain": [
              "LogisticRegression(C=0.001, max_iter=500, random_state=9, verbose=5)"
            ]
          },
          "metadata": {},
          "execution_count": 74
        }
      ],
      "source": [
        "clf.best_params_\n",
        "lr1 = LogisticRegression(C=0.001,penalty='l2', verbose=5,random_state=9, max_iter=500)\n",
        "lr1.fit(scaled_train, y_train_res.ravel())\n",
        "# We are using Ridge Regression for this use case"
      ]
    },
    {
      "cell_type": "code",
      "execution_count": 75,
      "metadata": {
        "colab": {
          "base_uri": "https://localhost:8080/",
          "height": 175
        },
        "id": "I-U5rS6pgPtL",
        "outputId": "5c85a998-dadc-4d54-fbaa-121c17b69293"
      },
      "outputs": [
        {
          "output_type": "execute_result",
          "data": {
            "text/plain": [
              "Predicted    0    1   All\n",
              "True                     \n",
              "0          786  255  1041\n",
              "1           98  270   368\n",
              "All        884  525  1409"
            ],
            "text/html": [
              "\n",
              "  <div id=\"df-afc4b651-d266-41e2-b905-48cfb8e13902\">\n",
              "    <div class=\"colab-df-container\">\n",
              "      <div>\n",
              "<style scoped>\n",
              "    .dataframe tbody tr th:only-of-type {\n",
              "        vertical-align: middle;\n",
              "    }\n",
              "\n",
              "    .dataframe tbody tr th {\n",
              "        vertical-align: top;\n",
              "    }\n",
              "\n",
              "    .dataframe thead th {\n",
              "        text-align: right;\n",
              "    }\n",
              "</style>\n",
              "<table border=\"1\" class=\"dataframe\">\n",
              "  <thead>\n",
              "    <tr style=\"text-align: right;\">\n",
              "      <th>Predicted</th>\n",
              "      <th>0</th>\n",
              "      <th>1</th>\n",
              "      <th>All</th>\n",
              "    </tr>\n",
              "    <tr>\n",
              "      <th>True</th>\n",
              "      <th></th>\n",
              "      <th></th>\n",
              "      <th></th>\n",
              "    </tr>\n",
              "  </thead>\n",
              "  <tbody>\n",
              "    <tr>\n",
              "      <th>0</th>\n",
              "      <td>786</td>\n",
              "      <td>255</td>\n",
              "      <td>1041</td>\n",
              "    </tr>\n",
              "    <tr>\n",
              "      <th>1</th>\n",
              "      <td>98</td>\n",
              "      <td>270</td>\n",
              "      <td>368</td>\n",
              "    </tr>\n",
              "    <tr>\n",
              "      <th>All</th>\n",
              "      <td>884</td>\n",
              "      <td>525</td>\n",
              "      <td>1409</td>\n",
              "    </tr>\n",
              "  </tbody>\n",
              "</table>\n",
              "</div>\n",
              "      <button class=\"colab-df-convert\" onclick=\"convertToInteractive('df-afc4b651-d266-41e2-b905-48cfb8e13902')\"\n",
              "              title=\"Convert this dataframe to an interactive table.\"\n",
              "              style=\"display:none;\">\n",
              "        \n",
              "  <svg xmlns=\"http://www.w3.org/2000/svg\" height=\"24px\"viewBox=\"0 0 24 24\"\n",
              "       width=\"24px\">\n",
              "    <path d=\"M0 0h24v24H0V0z\" fill=\"none\"/>\n",
              "    <path d=\"M18.56 5.44l.94 2.06.94-2.06 2.06-.94-2.06-.94-.94-2.06-.94 2.06-2.06.94zm-11 1L8.5 8.5l.94-2.06 2.06-.94-2.06-.94L8.5 2.5l-.94 2.06-2.06.94zm10 10l.94 2.06.94-2.06 2.06-.94-2.06-.94-.94-2.06-.94 2.06-2.06.94z\"/><path d=\"M17.41 7.96l-1.37-1.37c-.4-.4-.92-.59-1.43-.59-.52 0-1.04.2-1.43.59L10.3 9.45l-7.72 7.72c-.78.78-.78 2.05 0 2.83L4 21.41c.39.39.9.59 1.41.59.51 0 1.02-.2 1.41-.59l7.78-7.78 2.81-2.81c.8-.78.8-2.07 0-2.86zM5.41 20L4 18.59l7.72-7.72 1.47 1.35L5.41 20z\"/>\n",
              "  </svg>\n",
              "      </button>\n",
              "      \n",
              "  <style>\n",
              "    .colab-df-container {\n",
              "      display:flex;\n",
              "      flex-wrap:wrap;\n",
              "      gap: 12px;\n",
              "    }\n",
              "\n",
              "    .colab-df-convert {\n",
              "      background-color: #E8F0FE;\n",
              "      border: none;\n",
              "      border-radius: 50%;\n",
              "      cursor: pointer;\n",
              "      display: none;\n",
              "      fill: #1967D2;\n",
              "      height: 32px;\n",
              "      padding: 0 0 0 0;\n",
              "      width: 32px;\n",
              "    }\n",
              "\n",
              "    .colab-df-convert:hover {\n",
              "      background-color: #E2EBFA;\n",
              "      box-shadow: 0px 1px 2px rgba(60, 64, 67, 0.3), 0px 1px 3px 1px rgba(60, 64, 67, 0.15);\n",
              "      fill: #174EA6;\n",
              "    }\n",
              "\n",
              "    [theme=dark] .colab-df-convert {\n",
              "      background-color: #3B4455;\n",
              "      fill: #D2E3FC;\n",
              "    }\n",
              "\n",
              "    [theme=dark] .colab-df-convert:hover {\n",
              "      background-color: #434B5C;\n",
              "      box-shadow: 0px 1px 3px 1px rgba(0, 0, 0, 0.15);\n",
              "      filter: drop-shadow(0px 1px 2px rgba(0, 0, 0, 0.3));\n",
              "      fill: #FFFFFF;\n",
              "    }\n",
              "  </style>\n",
              "\n",
              "      <script>\n",
              "        const buttonEl =\n",
              "          document.querySelector('#df-afc4b651-d266-41e2-b905-48cfb8e13902 button.colab-df-convert');\n",
              "        buttonEl.style.display =\n",
              "          google.colab.kernel.accessAllowed ? 'block' : 'none';\n",
              "\n",
              "        async function convertToInteractive(key) {\n",
              "          const element = document.querySelector('#df-afc4b651-d266-41e2-b905-48cfb8e13902');\n",
              "          const dataTable =\n",
              "            await google.colab.kernel.invokeFunction('convertToInteractive',\n",
              "                                                     [key], {});\n",
              "          if (!dataTable) return;\n",
              "\n",
              "          const docLinkHtml = 'Like what you see? Visit the ' +\n",
              "            '<a target=\"_blank\" href=https://colab.research.google.com/notebooks/data_table.ipynb>data table notebook</a>'\n",
              "            + ' to learn more about interactive tables.';\n",
              "          element.innerHTML = '';\n",
              "          dataTable['output_type'] = 'display_data';\n",
              "          await google.colab.output.renderOutput(dataTable, element);\n",
              "          const docLink = document.createElement('div');\n",
              "          docLink.innerHTML = docLinkHtml;\n",
              "          element.appendChild(docLink);\n",
              "        }\n",
              "      </script>\n",
              "    </div>\n",
              "  </div>\n",
              "  "
            ]
          },
          "metadata": {},
          "execution_count": 75
        }
      ],
      "source": [
        "pred=lr1.predict(scaled_test)\n",
        "confusion_matrix(y_test,pred)\n",
        "pd.crosstab(y_test, pred, rownames=['True'], colnames=['Predicted'], margins=True)\n"
      ]
    },
    {
      "cell_type": "code",
      "execution_count": 76,
      "metadata": {
        "colab": {
          "base_uri": "https://localhost:8080/",
          "height": 175
        },
        "id": "n9LM029CgXfO",
        "outputId": "8fae0657-20fe-4e50-a36b-62bebf6b6091"
      },
      "outputs": [
        {
          "output_type": "execute_result",
          "data": {
            "text/plain": [
              "Predicted    0    1   All\n",
              "True                     \n",
              "0          786  255  1041\n",
              "1           98  270   368\n",
              "All        884  525  1409"
            ],
            "text/html": [
              "\n",
              "  <div id=\"df-958b6236-2fbd-4377-87e9-35f49399413c\">\n",
              "    <div class=\"colab-df-container\">\n",
              "      <div>\n",
              "<style scoped>\n",
              "    .dataframe tbody tr th:only-of-type {\n",
              "        vertical-align: middle;\n",
              "    }\n",
              "\n",
              "    .dataframe tbody tr th {\n",
              "        vertical-align: top;\n",
              "    }\n",
              "\n",
              "    .dataframe thead th {\n",
              "        text-align: right;\n",
              "    }\n",
              "</style>\n",
              "<table border=\"1\" class=\"dataframe\">\n",
              "  <thead>\n",
              "    <tr style=\"text-align: right;\">\n",
              "      <th>Predicted</th>\n",
              "      <th>0</th>\n",
              "      <th>1</th>\n",
              "      <th>All</th>\n",
              "    </tr>\n",
              "    <tr>\n",
              "      <th>True</th>\n",
              "      <th></th>\n",
              "      <th></th>\n",
              "      <th></th>\n",
              "    </tr>\n",
              "  </thead>\n",
              "  <tbody>\n",
              "    <tr>\n",
              "      <th>0</th>\n",
              "      <td>786</td>\n",
              "      <td>255</td>\n",
              "      <td>1041</td>\n",
              "    </tr>\n",
              "    <tr>\n",
              "      <th>1</th>\n",
              "      <td>98</td>\n",
              "      <td>270</td>\n",
              "      <td>368</td>\n",
              "    </tr>\n",
              "    <tr>\n",
              "      <th>All</th>\n",
              "      <td>884</td>\n",
              "      <td>525</td>\n",
              "      <td>1409</td>\n",
              "    </tr>\n",
              "  </tbody>\n",
              "</table>\n",
              "</div>\n",
              "      <button class=\"colab-df-convert\" onclick=\"convertToInteractive('df-958b6236-2fbd-4377-87e9-35f49399413c')\"\n",
              "              title=\"Convert this dataframe to an interactive table.\"\n",
              "              style=\"display:none;\">\n",
              "        \n",
              "  <svg xmlns=\"http://www.w3.org/2000/svg\" height=\"24px\"viewBox=\"0 0 24 24\"\n",
              "       width=\"24px\">\n",
              "    <path d=\"M0 0h24v24H0V0z\" fill=\"none\"/>\n",
              "    <path d=\"M18.56 5.44l.94 2.06.94-2.06 2.06-.94-2.06-.94-.94-2.06-.94 2.06-2.06.94zm-11 1L8.5 8.5l.94-2.06 2.06-.94-2.06-.94L8.5 2.5l-.94 2.06-2.06.94zm10 10l.94 2.06.94-2.06 2.06-.94-2.06-.94-.94-2.06-.94 2.06-2.06.94z\"/><path d=\"M17.41 7.96l-1.37-1.37c-.4-.4-.92-.59-1.43-.59-.52 0-1.04.2-1.43.59L10.3 9.45l-7.72 7.72c-.78.78-.78 2.05 0 2.83L4 21.41c.39.39.9.59 1.41.59.51 0 1.02-.2 1.41-.59l7.78-7.78 2.81-2.81c.8-.78.8-2.07 0-2.86zM5.41 20L4 18.59l7.72-7.72 1.47 1.35L5.41 20z\"/>\n",
              "  </svg>\n",
              "      </button>\n",
              "      \n",
              "  <style>\n",
              "    .colab-df-container {\n",
              "      display:flex;\n",
              "      flex-wrap:wrap;\n",
              "      gap: 12px;\n",
              "    }\n",
              "\n",
              "    .colab-df-convert {\n",
              "      background-color: #E8F0FE;\n",
              "      border: none;\n",
              "      border-radius: 50%;\n",
              "      cursor: pointer;\n",
              "      display: none;\n",
              "      fill: #1967D2;\n",
              "      height: 32px;\n",
              "      padding: 0 0 0 0;\n",
              "      width: 32px;\n",
              "    }\n",
              "\n",
              "    .colab-df-convert:hover {\n",
              "      background-color: #E2EBFA;\n",
              "      box-shadow: 0px 1px 2px rgba(60, 64, 67, 0.3), 0px 1px 3px 1px rgba(60, 64, 67, 0.15);\n",
              "      fill: #174EA6;\n",
              "    }\n",
              "\n",
              "    [theme=dark] .colab-df-convert {\n",
              "      background-color: #3B4455;\n",
              "      fill: #D2E3FC;\n",
              "    }\n",
              "\n",
              "    [theme=dark] .colab-df-convert:hover {\n",
              "      background-color: #434B5C;\n",
              "      box-shadow: 0px 1px 3px 1px rgba(0, 0, 0, 0.15);\n",
              "      filter: drop-shadow(0px 1px 2px rgba(0, 0, 0, 0.3));\n",
              "      fill: #FFFFFF;\n",
              "    }\n",
              "  </style>\n",
              "\n",
              "      <script>\n",
              "        const buttonEl =\n",
              "          document.querySelector('#df-958b6236-2fbd-4377-87e9-35f49399413c button.colab-df-convert');\n",
              "        buttonEl.style.display =\n",
              "          google.colab.kernel.accessAllowed ? 'block' : 'none';\n",
              "\n",
              "        async function convertToInteractive(key) {\n",
              "          const element = document.querySelector('#df-958b6236-2fbd-4377-87e9-35f49399413c');\n",
              "          const dataTable =\n",
              "            await google.colab.kernel.invokeFunction('convertToInteractive',\n",
              "                                                     [key], {});\n",
              "          if (!dataTable) return;\n",
              "\n",
              "          const docLinkHtml = 'Like what you see? Visit the ' +\n",
              "            '<a target=\"_blank\" href=https://colab.research.google.com/notebooks/data_table.ipynb>data table notebook</a>'\n",
              "            + ' to learn more about interactive tables.';\n",
              "          element.innerHTML = '';\n",
              "          dataTable['output_type'] = 'display_data';\n",
              "          await google.colab.output.renderOutput(dataTable, element);\n",
              "          const docLink = document.createElement('div');\n",
              "          docLink.innerHTML = docLinkHtml;\n",
              "          element.appendChild(docLink);\n",
              "        }\n",
              "      </script>\n",
              "    </div>\n",
              "  </div>\n",
              "  "
            ]
          },
          "metadata": {},
          "execution_count": 76
        }
      ],
      "source": [
        "pred=lr1.predict(scaled_test)\n",
        "confusion_matrix(y_test,pred)\n",
        "pd.crosstab(y_test, pred, rownames=['True'], colnames=['Predicted'], margins=True)\n"
      ]
    },
    {
      "cell_type": "code",
      "execution_count": 77,
      "metadata": {
        "colab": {
          "base_uri": "https://localhost:8080/",
          "height": 175
        },
        "id": "Ofaw740jgb9p",
        "outputId": "ef453f8b-0696-4db5-8d26-14fa004a1acc"
      },
      "outputs": [
        {
          "output_type": "execute_result",
          "data": {
            "text/plain": [
              "Predicted     0    1   All\n",
              "True                      \n",
              "0           915  126  1041\n",
              "1           160  208   368\n",
              "All        1075  334  1409"
            ],
            "text/html": [
              "\n",
              "  <div id=\"df-d31adb10-87ad-427f-ace9-3c322470bd9c\">\n",
              "    <div class=\"colab-df-container\">\n",
              "      <div>\n",
              "<style scoped>\n",
              "    .dataframe tbody tr th:only-of-type {\n",
              "        vertical-align: middle;\n",
              "    }\n",
              "\n",
              "    .dataframe tbody tr th {\n",
              "        vertical-align: top;\n",
              "    }\n",
              "\n",
              "    .dataframe thead th {\n",
              "        text-align: right;\n",
              "    }\n",
              "</style>\n",
              "<table border=\"1\" class=\"dataframe\">\n",
              "  <thead>\n",
              "    <tr style=\"text-align: right;\">\n",
              "      <th>Predicted</th>\n",
              "      <th>0</th>\n",
              "      <th>1</th>\n",
              "      <th>All</th>\n",
              "    </tr>\n",
              "    <tr>\n",
              "      <th>True</th>\n",
              "      <th></th>\n",
              "      <th></th>\n",
              "      <th></th>\n",
              "    </tr>\n",
              "  </thead>\n",
              "  <tbody>\n",
              "    <tr>\n",
              "      <th>0</th>\n",
              "      <td>915</td>\n",
              "      <td>126</td>\n",
              "      <td>1041</td>\n",
              "    </tr>\n",
              "    <tr>\n",
              "      <th>1</th>\n",
              "      <td>160</td>\n",
              "      <td>208</td>\n",
              "      <td>368</td>\n",
              "    </tr>\n",
              "    <tr>\n",
              "      <th>All</th>\n",
              "      <td>1075</td>\n",
              "      <td>334</td>\n",
              "      <td>1409</td>\n",
              "    </tr>\n",
              "  </tbody>\n",
              "</table>\n",
              "</div>\n",
              "      <button class=\"colab-df-convert\" onclick=\"convertToInteractive('df-d31adb10-87ad-427f-ace9-3c322470bd9c')\"\n",
              "              title=\"Convert this dataframe to an interactive table.\"\n",
              "              style=\"display:none;\">\n",
              "        \n",
              "  <svg xmlns=\"http://www.w3.org/2000/svg\" height=\"24px\"viewBox=\"0 0 24 24\"\n",
              "       width=\"24px\">\n",
              "    <path d=\"M0 0h24v24H0V0z\" fill=\"none\"/>\n",
              "    <path d=\"M18.56 5.44l.94 2.06.94-2.06 2.06-.94-2.06-.94-.94-2.06-.94 2.06-2.06.94zm-11 1L8.5 8.5l.94-2.06 2.06-.94-2.06-.94L8.5 2.5l-.94 2.06-2.06.94zm10 10l.94 2.06.94-2.06 2.06-.94-2.06-.94-.94-2.06-.94 2.06-2.06.94z\"/><path d=\"M17.41 7.96l-1.37-1.37c-.4-.4-.92-.59-1.43-.59-.52 0-1.04.2-1.43.59L10.3 9.45l-7.72 7.72c-.78.78-.78 2.05 0 2.83L4 21.41c.39.39.9.59 1.41.59.51 0 1.02-.2 1.41-.59l7.78-7.78 2.81-2.81c.8-.78.8-2.07 0-2.86zM5.41 20L4 18.59l7.72-7.72 1.47 1.35L5.41 20z\"/>\n",
              "  </svg>\n",
              "      </button>\n",
              "      \n",
              "  <style>\n",
              "    .colab-df-container {\n",
              "      display:flex;\n",
              "      flex-wrap:wrap;\n",
              "      gap: 12px;\n",
              "    }\n",
              "\n",
              "    .colab-df-convert {\n",
              "      background-color: #E8F0FE;\n",
              "      border: none;\n",
              "      border-radius: 50%;\n",
              "      cursor: pointer;\n",
              "      display: none;\n",
              "      fill: #1967D2;\n",
              "      height: 32px;\n",
              "      padding: 0 0 0 0;\n",
              "      width: 32px;\n",
              "    }\n",
              "\n",
              "    .colab-df-convert:hover {\n",
              "      background-color: #E2EBFA;\n",
              "      box-shadow: 0px 1px 2px rgba(60, 64, 67, 0.3), 0px 1px 3px 1px rgba(60, 64, 67, 0.15);\n",
              "      fill: #174EA6;\n",
              "    }\n",
              "\n",
              "    [theme=dark] .colab-df-convert {\n",
              "      background-color: #3B4455;\n",
              "      fill: #D2E3FC;\n",
              "    }\n",
              "\n",
              "    [theme=dark] .colab-df-convert:hover {\n",
              "      background-color: #434B5C;\n",
              "      box-shadow: 0px 1px 3px 1px rgba(0, 0, 0, 0.15);\n",
              "      filter: drop-shadow(0px 1px 2px rgba(0, 0, 0, 0.3));\n",
              "      fill: #FFFFFF;\n",
              "    }\n",
              "  </style>\n",
              "\n",
              "      <script>\n",
              "        const buttonEl =\n",
              "          document.querySelector('#df-d31adb10-87ad-427f-ace9-3c322470bd9c button.colab-df-convert');\n",
              "        buttonEl.style.display =\n",
              "          google.colab.kernel.accessAllowed ? 'block' : 'none';\n",
              "\n",
              "        async function convertToInteractive(key) {\n",
              "          const element = document.querySelector('#df-d31adb10-87ad-427f-ace9-3c322470bd9c');\n",
              "          const dataTable =\n",
              "            await google.colab.kernel.invokeFunction('convertToInteractive',\n",
              "                                                     [key], {});\n",
              "          if (!dataTable) return;\n",
              "\n",
              "          const docLinkHtml = 'Like what you see? Visit the ' +\n",
              "            '<a target=\"_blank\" href=https://colab.research.google.com/notebooks/data_table.ipynb>data table notebook</a>'\n",
              "            + ' to learn more about interactive tables.';\n",
              "          element.innerHTML = '';\n",
              "          dataTable['output_type'] = 'display_data';\n",
              "          await google.colab.output.renderOutput(dataTable, element);\n",
              "          const docLink = document.createElement('div');\n",
              "          docLink.innerHTML = docLinkHtml;\n",
              "          element.appendChild(docLink);\n",
              "        }\n",
              "      </script>\n",
              "    </div>\n",
              "  </div>\n",
              "  "
            ]
          },
          "metadata": {},
          "execution_count": 77
        }
      ],
      "source": [
        "lr1 = LogisticRegression(max_iter=500)\n",
        "lr1.fit(scaled_train, y_train_res)\n",
        "pred=lr1.predict(scaled_test)\n",
        "confusion_matrix(y_test,pred)\n",
        "pd.crosstab(y_test, pred, rownames=['True'], colnames=['Predicted'], margins=True)"
      ]
    },
    {
      "cell_type": "code",
      "execution_count": 78,
      "metadata": {
        "colab": {
          "base_uri": "https://localhost:8080/",
          "height": 175
        },
        "id": "o8_5q-oEgifA",
        "outputId": "0b34f9a1-0a35-4967-fb05-907b074dcb02"
      },
      "outputs": [
        {
          "output_type": "execute_result",
          "data": {
            "text/plain": [
              "Predicted    0    1   All\n",
              "True                     \n",
              "0          786  255  1041\n",
              "1           98  270   368\n",
              "All        884  525  1409"
            ],
            "text/html": [
              "\n",
              "  <div id=\"df-1a24e1ec-1bca-41b9-97ab-995257072683\">\n",
              "    <div class=\"colab-df-container\">\n",
              "      <div>\n",
              "<style scoped>\n",
              "    .dataframe tbody tr th:only-of-type {\n",
              "        vertical-align: middle;\n",
              "    }\n",
              "\n",
              "    .dataframe tbody tr th {\n",
              "        vertical-align: top;\n",
              "    }\n",
              "\n",
              "    .dataframe thead th {\n",
              "        text-align: right;\n",
              "    }\n",
              "</style>\n",
              "<table border=\"1\" class=\"dataframe\">\n",
              "  <thead>\n",
              "    <tr style=\"text-align: right;\">\n",
              "      <th>Predicted</th>\n",
              "      <th>0</th>\n",
              "      <th>1</th>\n",
              "      <th>All</th>\n",
              "    </tr>\n",
              "    <tr>\n",
              "      <th>True</th>\n",
              "      <th></th>\n",
              "      <th></th>\n",
              "      <th></th>\n",
              "    </tr>\n",
              "  </thead>\n",
              "  <tbody>\n",
              "    <tr>\n",
              "      <th>0</th>\n",
              "      <td>786</td>\n",
              "      <td>255</td>\n",
              "      <td>1041</td>\n",
              "    </tr>\n",
              "    <tr>\n",
              "      <th>1</th>\n",
              "      <td>98</td>\n",
              "      <td>270</td>\n",
              "      <td>368</td>\n",
              "    </tr>\n",
              "    <tr>\n",
              "      <th>All</th>\n",
              "      <td>884</td>\n",
              "      <td>525</td>\n",
              "      <td>1409</td>\n",
              "    </tr>\n",
              "  </tbody>\n",
              "</table>\n",
              "</div>\n",
              "      <button class=\"colab-df-convert\" onclick=\"convertToInteractive('df-1a24e1ec-1bca-41b9-97ab-995257072683')\"\n",
              "              title=\"Convert this dataframe to an interactive table.\"\n",
              "              style=\"display:none;\">\n",
              "        \n",
              "  <svg xmlns=\"http://www.w3.org/2000/svg\" height=\"24px\"viewBox=\"0 0 24 24\"\n",
              "       width=\"24px\">\n",
              "    <path d=\"M0 0h24v24H0V0z\" fill=\"none\"/>\n",
              "    <path d=\"M18.56 5.44l.94 2.06.94-2.06 2.06-.94-2.06-.94-.94-2.06-.94 2.06-2.06.94zm-11 1L8.5 8.5l.94-2.06 2.06-.94-2.06-.94L8.5 2.5l-.94 2.06-2.06.94zm10 10l.94 2.06.94-2.06 2.06-.94-2.06-.94-.94-2.06-.94 2.06-2.06.94z\"/><path d=\"M17.41 7.96l-1.37-1.37c-.4-.4-.92-.59-1.43-.59-.52 0-1.04.2-1.43.59L10.3 9.45l-7.72 7.72c-.78.78-.78 2.05 0 2.83L4 21.41c.39.39.9.59 1.41.59.51 0 1.02-.2 1.41-.59l7.78-7.78 2.81-2.81c.8-.78.8-2.07 0-2.86zM5.41 20L4 18.59l7.72-7.72 1.47 1.35L5.41 20z\"/>\n",
              "  </svg>\n",
              "      </button>\n",
              "      \n",
              "  <style>\n",
              "    .colab-df-container {\n",
              "      display:flex;\n",
              "      flex-wrap:wrap;\n",
              "      gap: 12px;\n",
              "    }\n",
              "\n",
              "    .colab-df-convert {\n",
              "      background-color: #E8F0FE;\n",
              "      border: none;\n",
              "      border-radius: 50%;\n",
              "      cursor: pointer;\n",
              "      display: none;\n",
              "      fill: #1967D2;\n",
              "      height: 32px;\n",
              "      padding: 0 0 0 0;\n",
              "      width: 32px;\n",
              "    }\n",
              "\n",
              "    .colab-df-convert:hover {\n",
              "      background-color: #E2EBFA;\n",
              "      box-shadow: 0px 1px 2px rgba(60, 64, 67, 0.3), 0px 1px 3px 1px rgba(60, 64, 67, 0.15);\n",
              "      fill: #174EA6;\n",
              "    }\n",
              "\n",
              "    [theme=dark] .colab-df-convert {\n",
              "      background-color: #3B4455;\n",
              "      fill: #D2E3FC;\n",
              "    }\n",
              "\n",
              "    [theme=dark] .colab-df-convert:hover {\n",
              "      background-color: #434B5C;\n",
              "      box-shadow: 0px 1px 3px 1px rgba(0, 0, 0, 0.15);\n",
              "      filter: drop-shadow(0px 1px 2px rgba(0, 0, 0, 0.3));\n",
              "      fill: #FFFFFF;\n",
              "    }\n",
              "  </style>\n",
              "\n",
              "      <script>\n",
              "        const buttonEl =\n",
              "          document.querySelector('#df-1a24e1ec-1bca-41b9-97ab-995257072683 button.colab-df-convert');\n",
              "        buttonEl.style.display =\n",
              "          google.colab.kernel.accessAllowed ? 'block' : 'none';\n",
              "\n",
              "        async function convertToInteractive(key) {\n",
              "          const element = document.querySelector('#df-1a24e1ec-1bca-41b9-97ab-995257072683');\n",
              "          const dataTable =\n",
              "            await google.colab.kernel.invokeFunction('convertToInteractive',\n",
              "                                                     [key], {});\n",
              "          if (!dataTable) return;\n",
              "\n",
              "          const docLinkHtml = 'Like what you see? Visit the ' +\n",
              "            '<a target=\"_blank\" href=https://colab.research.google.com/notebooks/data_table.ipynb>data table notebook</a>'\n",
              "            + ' to learn more about interactive tables.';\n",
              "          element.innerHTML = '';\n",
              "          dataTable['output_type'] = 'display_data';\n",
              "          await google.colab.output.renderOutput(dataTable, element);\n",
              "          const docLink = document.createElement('div');\n",
              "          docLink.innerHTML = docLinkHtml;\n",
              "          element.appendChild(docLink);\n",
              "        }\n",
              "      </script>\n",
              "    </div>\n",
              "  </div>\n",
              "  "
            ]
          },
          "metadata": {},
          "execution_count": 78
        }
      ],
      "source": [
        "lr1 = LogisticRegression(C=0.001,penalty='l2', random_state=9, max_iter=500)\n",
        "lr1.fit(scaled_train, y_train_res.ravel())\n",
        "# We are using Ridge Regression for this use case\n",
        "\n",
        "pred=lr1.predict(scaled_test)\n",
        "confusion_matrix(y_test,pred)\n",
        "pd.crosstab(y_test, pred, rownames=['True'], colnames=['Predicted'], margins=True)\n",
        "\n",
        "# For lower values of c, we are able to balance between predicting churners and non-churners"
      ]
    },
    {
      "cell_type": "code",
      "execution_count": 79,
      "metadata": {
        "colab": {
          "base_uri": "https://localhost:8080/"
        },
        "id": "AYZo-ddIgpOl",
        "outputId": "a3900ab8-1e53-48dd-ad40-a41ec50fab62"
      },
      "outputs": [
        {
          "output_type": "execute_result",
          "data": {
            "text/plain": [
              "LogisticRegression(C=0.0005, max_iter=500, random_state=9)"
            ]
          },
          "metadata": {},
          "execution_count": 79
        }
      ],
      "source": [
        "lr1 = LogisticRegression(C=0.0005,penalty='l2', random_state=9, max_iter=500)\n",
        "lr1.fit(scaled_train, y_train_res.ravel())\n",
        "# We are using Ridge Regression for this use case"
      ]
    },
    {
      "cell_type": "code",
      "execution_count": 80,
      "metadata": {
        "colab": {
          "base_uri": "https://localhost:8080/",
          "height": 175
        },
        "id": "mK2TZCixgsBW",
        "outputId": "25386223-7ff9-481a-8c54-2bd50875ebc4"
      },
      "outputs": [
        {
          "output_type": "execute_result",
          "data": {
            "text/plain": [
              "Predicted    0    1   All\n",
              "True                     \n",
              "0          768  273  1041\n",
              "1           91  277   368\n",
              "All        859  550  1409"
            ],
            "text/html": [
              "\n",
              "  <div id=\"df-d289b5c7-8340-41ed-96de-1c990a02c324\">\n",
              "    <div class=\"colab-df-container\">\n",
              "      <div>\n",
              "<style scoped>\n",
              "    .dataframe tbody tr th:only-of-type {\n",
              "        vertical-align: middle;\n",
              "    }\n",
              "\n",
              "    .dataframe tbody tr th {\n",
              "        vertical-align: top;\n",
              "    }\n",
              "\n",
              "    .dataframe thead th {\n",
              "        text-align: right;\n",
              "    }\n",
              "</style>\n",
              "<table border=\"1\" class=\"dataframe\">\n",
              "  <thead>\n",
              "    <tr style=\"text-align: right;\">\n",
              "      <th>Predicted</th>\n",
              "      <th>0</th>\n",
              "      <th>1</th>\n",
              "      <th>All</th>\n",
              "    </tr>\n",
              "    <tr>\n",
              "      <th>True</th>\n",
              "      <th></th>\n",
              "      <th></th>\n",
              "      <th></th>\n",
              "    </tr>\n",
              "  </thead>\n",
              "  <tbody>\n",
              "    <tr>\n",
              "      <th>0</th>\n",
              "      <td>768</td>\n",
              "      <td>273</td>\n",
              "      <td>1041</td>\n",
              "    </tr>\n",
              "    <tr>\n",
              "      <th>1</th>\n",
              "      <td>91</td>\n",
              "      <td>277</td>\n",
              "      <td>368</td>\n",
              "    </tr>\n",
              "    <tr>\n",
              "      <th>All</th>\n",
              "      <td>859</td>\n",
              "      <td>550</td>\n",
              "      <td>1409</td>\n",
              "    </tr>\n",
              "  </tbody>\n",
              "</table>\n",
              "</div>\n",
              "      <button class=\"colab-df-convert\" onclick=\"convertToInteractive('df-d289b5c7-8340-41ed-96de-1c990a02c324')\"\n",
              "              title=\"Convert this dataframe to an interactive table.\"\n",
              "              style=\"display:none;\">\n",
              "        \n",
              "  <svg xmlns=\"http://www.w3.org/2000/svg\" height=\"24px\"viewBox=\"0 0 24 24\"\n",
              "       width=\"24px\">\n",
              "    <path d=\"M0 0h24v24H0V0z\" fill=\"none\"/>\n",
              "    <path d=\"M18.56 5.44l.94 2.06.94-2.06 2.06-.94-2.06-.94-.94-2.06-.94 2.06-2.06.94zm-11 1L8.5 8.5l.94-2.06 2.06-.94-2.06-.94L8.5 2.5l-.94 2.06-2.06.94zm10 10l.94 2.06.94-2.06 2.06-.94-2.06-.94-.94-2.06-.94 2.06-2.06.94z\"/><path d=\"M17.41 7.96l-1.37-1.37c-.4-.4-.92-.59-1.43-.59-.52 0-1.04.2-1.43.59L10.3 9.45l-7.72 7.72c-.78.78-.78 2.05 0 2.83L4 21.41c.39.39.9.59 1.41.59.51 0 1.02-.2 1.41-.59l7.78-7.78 2.81-2.81c.8-.78.8-2.07 0-2.86zM5.41 20L4 18.59l7.72-7.72 1.47 1.35L5.41 20z\"/>\n",
              "  </svg>\n",
              "      </button>\n",
              "      \n",
              "  <style>\n",
              "    .colab-df-container {\n",
              "      display:flex;\n",
              "      flex-wrap:wrap;\n",
              "      gap: 12px;\n",
              "    }\n",
              "\n",
              "    .colab-df-convert {\n",
              "      background-color: #E8F0FE;\n",
              "      border: none;\n",
              "      border-radius: 50%;\n",
              "      cursor: pointer;\n",
              "      display: none;\n",
              "      fill: #1967D2;\n",
              "      height: 32px;\n",
              "      padding: 0 0 0 0;\n",
              "      width: 32px;\n",
              "    }\n",
              "\n",
              "    .colab-df-convert:hover {\n",
              "      background-color: #E2EBFA;\n",
              "      box-shadow: 0px 1px 2px rgba(60, 64, 67, 0.3), 0px 1px 3px 1px rgba(60, 64, 67, 0.15);\n",
              "      fill: #174EA6;\n",
              "    }\n",
              "\n",
              "    [theme=dark] .colab-df-convert {\n",
              "      background-color: #3B4455;\n",
              "      fill: #D2E3FC;\n",
              "    }\n",
              "\n",
              "    [theme=dark] .colab-df-convert:hover {\n",
              "      background-color: #434B5C;\n",
              "      box-shadow: 0px 1px 3px 1px rgba(0, 0, 0, 0.15);\n",
              "      filter: drop-shadow(0px 1px 2px rgba(0, 0, 0, 0.3));\n",
              "      fill: #FFFFFF;\n",
              "    }\n",
              "  </style>\n",
              "\n",
              "      <script>\n",
              "        const buttonEl =\n",
              "          document.querySelector('#df-d289b5c7-8340-41ed-96de-1c990a02c324 button.colab-df-convert');\n",
              "        buttonEl.style.display =\n",
              "          google.colab.kernel.accessAllowed ? 'block' : 'none';\n",
              "\n",
              "        async function convertToInteractive(key) {\n",
              "          const element = document.querySelector('#df-d289b5c7-8340-41ed-96de-1c990a02c324');\n",
              "          const dataTable =\n",
              "            await google.colab.kernel.invokeFunction('convertToInteractive',\n",
              "                                                     [key], {});\n",
              "          if (!dataTable) return;\n",
              "\n",
              "          const docLinkHtml = 'Like what you see? Visit the ' +\n",
              "            '<a target=\"_blank\" href=https://colab.research.google.com/notebooks/data_table.ipynb>data table notebook</a>'\n",
              "            + ' to learn more about interactive tables.';\n",
              "          element.innerHTML = '';\n",
              "          dataTable['output_type'] = 'display_data';\n",
              "          await google.colab.output.renderOutput(dataTable, element);\n",
              "          const docLink = document.createElement('div');\n",
              "          docLink.innerHTML = docLinkHtml;\n",
              "          element.appendChild(docLink);\n",
              "        }\n",
              "      </script>\n",
              "    </div>\n",
              "  </div>\n",
              "  "
            ]
          },
          "metadata": {},
          "execution_count": 80
        }
      ],
      "source": [
        "pred=lr1.predict(scaled_test)\n",
        "confusion_matrix(y_test,pred)\n",
        "pd.crosstab(y_test, pred, rownames=['True'], colnames=['Predicted'], margins=True)\n",
        "\n",
        "# For lower values of c, we are able to balance between predicting churners and non-churners"
      ]
    },
    {
      "cell_type": "code",
      "execution_count": 81,
      "metadata": {
        "colab": {
          "base_uri": "https://localhost:8080/"
        },
        "id": "eaq3JatPgvkS",
        "outputId": "02fc37df-4338-4d55-98c1-d094b6f439ad"
      },
      "outputs": [
        {
          "output_type": "execute_result",
          "data": {
            "text/plain": [
              "LogisticRegression(C=0.0001, max_iter=500, random_state=9)"
            ]
          },
          "metadata": {},
          "execution_count": 81
        }
      ],
      "source": [
        "lr1 = LogisticRegression(C=0.0001,penalty='l2', random_state=9, max_iter=500)\n",
        "lr1.fit(scaled_train, y_train_res.ravel())\n",
        "# We are using Ridge Regression for this use case"
      ]
    },
    {
      "cell_type": "code",
      "execution_count": 82,
      "metadata": {
        "colab": {
          "base_uri": "https://localhost:8080/",
          "height": 175
        },
        "id": "90FxyvJFgySC",
        "outputId": "8ff0eb1e-430e-435c-eaa5-c72e2dcdef8c"
      },
      "outputs": [
        {
          "output_type": "execute_result",
          "data": {
            "text/plain": [
              "Predicted    0    1   All\n",
              "True                     \n",
              "0          727  314  1041\n",
              "1           80  288   368\n",
              "All        807  602  1409"
            ],
            "text/html": [
              "\n",
              "  <div id=\"df-3e5fc897-db09-4746-b987-a7a8b001f092\">\n",
              "    <div class=\"colab-df-container\">\n",
              "      <div>\n",
              "<style scoped>\n",
              "    .dataframe tbody tr th:only-of-type {\n",
              "        vertical-align: middle;\n",
              "    }\n",
              "\n",
              "    .dataframe tbody tr th {\n",
              "        vertical-align: top;\n",
              "    }\n",
              "\n",
              "    .dataframe thead th {\n",
              "        text-align: right;\n",
              "    }\n",
              "</style>\n",
              "<table border=\"1\" class=\"dataframe\">\n",
              "  <thead>\n",
              "    <tr style=\"text-align: right;\">\n",
              "      <th>Predicted</th>\n",
              "      <th>0</th>\n",
              "      <th>1</th>\n",
              "      <th>All</th>\n",
              "    </tr>\n",
              "    <tr>\n",
              "      <th>True</th>\n",
              "      <th></th>\n",
              "      <th></th>\n",
              "      <th></th>\n",
              "    </tr>\n",
              "  </thead>\n",
              "  <tbody>\n",
              "    <tr>\n",
              "      <th>0</th>\n",
              "      <td>727</td>\n",
              "      <td>314</td>\n",
              "      <td>1041</td>\n",
              "    </tr>\n",
              "    <tr>\n",
              "      <th>1</th>\n",
              "      <td>80</td>\n",
              "      <td>288</td>\n",
              "      <td>368</td>\n",
              "    </tr>\n",
              "    <tr>\n",
              "      <th>All</th>\n",
              "      <td>807</td>\n",
              "      <td>602</td>\n",
              "      <td>1409</td>\n",
              "    </tr>\n",
              "  </tbody>\n",
              "</table>\n",
              "</div>\n",
              "      <button class=\"colab-df-convert\" onclick=\"convertToInteractive('df-3e5fc897-db09-4746-b987-a7a8b001f092')\"\n",
              "              title=\"Convert this dataframe to an interactive table.\"\n",
              "              style=\"display:none;\">\n",
              "        \n",
              "  <svg xmlns=\"http://www.w3.org/2000/svg\" height=\"24px\"viewBox=\"0 0 24 24\"\n",
              "       width=\"24px\">\n",
              "    <path d=\"M0 0h24v24H0V0z\" fill=\"none\"/>\n",
              "    <path d=\"M18.56 5.44l.94 2.06.94-2.06 2.06-.94-2.06-.94-.94-2.06-.94 2.06-2.06.94zm-11 1L8.5 8.5l.94-2.06 2.06-.94-2.06-.94L8.5 2.5l-.94 2.06-2.06.94zm10 10l.94 2.06.94-2.06 2.06-.94-2.06-.94-.94-2.06-.94 2.06-2.06.94z\"/><path d=\"M17.41 7.96l-1.37-1.37c-.4-.4-.92-.59-1.43-.59-.52 0-1.04.2-1.43.59L10.3 9.45l-7.72 7.72c-.78.78-.78 2.05 0 2.83L4 21.41c.39.39.9.59 1.41.59.51 0 1.02-.2 1.41-.59l7.78-7.78 2.81-2.81c.8-.78.8-2.07 0-2.86zM5.41 20L4 18.59l7.72-7.72 1.47 1.35L5.41 20z\"/>\n",
              "  </svg>\n",
              "      </button>\n",
              "      \n",
              "  <style>\n",
              "    .colab-df-container {\n",
              "      display:flex;\n",
              "      flex-wrap:wrap;\n",
              "      gap: 12px;\n",
              "    }\n",
              "\n",
              "    .colab-df-convert {\n",
              "      background-color: #E8F0FE;\n",
              "      border: none;\n",
              "      border-radius: 50%;\n",
              "      cursor: pointer;\n",
              "      display: none;\n",
              "      fill: #1967D2;\n",
              "      height: 32px;\n",
              "      padding: 0 0 0 0;\n",
              "      width: 32px;\n",
              "    }\n",
              "\n",
              "    .colab-df-convert:hover {\n",
              "      background-color: #E2EBFA;\n",
              "      box-shadow: 0px 1px 2px rgba(60, 64, 67, 0.3), 0px 1px 3px 1px rgba(60, 64, 67, 0.15);\n",
              "      fill: #174EA6;\n",
              "    }\n",
              "\n",
              "    [theme=dark] .colab-df-convert {\n",
              "      background-color: #3B4455;\n",
              "      fill: #D2E3FC;\n",
              "    }\n",
              "\n",
              "    [theme=dark] .colab-df-convert:hover {\n",
              "      background-color: #434B5C;\n",
              "      box-shadow: 0px 1px 3px 1px rgba(0, 0, 0, 0.15);\n",
              "      filter: drop-shadow(0px 1px 2px rgba(0, 0, 0, 0.3));\n",
              "      fill: #FFFFFF;\n",
              "    }\n",
              "  </style>\n",
              "\n",
              "      <script>\n",
              "        const buttonEl =\n",
              "          document.querySelector('#df-3e5fc897-db09-4746-b987-a7a8b001f092 button.colab-df-convert');\n",
              "        buttonEl.style.display =\n",
              "          google.colab.kernel.accessAllowed ? 'block' : 'none';\n",
              "\n",
              "        async function convertToInteractive(key) {\n",
              "          const element = document.querySelector('#df-3e5fc897-db09-4746-b987-a7a8b001f092');\n",
              "          const dataTable =\n",
              "            await google.colab.kernel.invokeFunction('convertToInteractive',\n",
              "                                                     [key], {});\n",
              "          if (!dataTable) return;\n",
              "\n",
              "          const docLinkHtml = 'Like what you see? Visit the ' +\n",
              "            '<a target=\"_blank\" href=https://colab.research.google.com/notebooks/data_table.ipynb>data table notebook</a>'\n",
              "            + ' to learn more about interactive tables.';\n",
              "          element.innerHTML = '';\n",
              "          dataTable['output_type'] = 'display_data';\n",
              "          await google.colab.output.renderOutput(dataTable, element);\n",
              "          const docLink = document.createElement('div');\n",
              "          docLink.innerHTML = docLinkHtml;\n",
              "          element.appendChild(docLink);\n",
              "        }\n",
              "      </script>\n",
              "    </div>\n",
              "  </div>\n",
              "  "
            ]
          },
          "metadata": {},
          "execution_count": 82
        }
      ],
      "source": [
        "pred=lr1.predict(scaled_test)\n",
        "confusion_matrix(y_test,pred)\n",
        "pd.crosstab(y_test, pred, rownames=['True'], colnames=['Predicted'], margins=True)\n",
        "\n",
        "# For lower values of c, we are able to balance between predicting churners and non-churners"
      ]
    },
    {
      "cell_type": "markdown",
      "metadata": {
        "id": "jeYKBAokg3X_"
      },
      "source": [
        "For Basic LR model with 500 iterations we are getting best accuracy but model is not able to classify churners well and is not appropriate.\n",
        "\n",
        "One thing to observe here is that low value of c is able to predict churners better !"
      ]
    },
    {
      "cell_type": "markdown",
      "source": [
        "Model: Adaboost"
      ],
      "metadata": {
        "id": "f1J1labCGWFW"
      }
    },
    {
      "cell_type": "code",
      "execution_count": 83,
      "metadata": {
        "colab": {
          "base_uri": "https://localhost:8080/",
          "height": 175
        },
        "id": "qJb6wNtYg2NK",
        "outputId": "fe1f0da0-778a-4aa0-98ad-4e93aba6128f"
      },
      "outputs": [
        {
          "output_type": "execute_result",
          "data": {
            "text/plain": [
              "Predicted     0    1   All\n",
              "True                      \n",
              "0           872  169  1041\n",
              "1           142  226   368\n",
              "All        1014  395  1409"
            ],
            "text/html": [
              "\n",
              "  <div id=\"df-4e9d31a2-fd84-4fbe-bcf6-c813c6314c44\">\n",
              "    <div class=\"colab-df-container\">\n",
              "      <div>\n",
              "<style scoped>\n",
              "    .dataframe tbody tr th:only-of-type {\n",
              "        vertical-align: middle;\n",
              "    }\n",
              "\n",
              "    .dataframe tbody tr th {\n",
              "        vertical-align: top;\n",
              "    }\n",
              "\n",
              "    .dataframe thead th {\n",
              "        text-align: right;\n",
              "    }\n",
              "</style>\n",
              "<table border=\"1\" class=\"dataframe\">\n",
              "  <thead>\n",
              "    <tr style=\"text-align: right;\">\n",
              "      <th>Predicted</th>\n",
              "      <th>0</th>\n",
              "      <th>1</th>\n",
              "      <th>All</th>\n",
              "    </tr>\n",
              "    <tr>\n",
              "      <th>True</th>\n",
              "      <th></th>\n",
              "      <th></th>\n",
              "      <th></th>\n",
              "    </tr>\n",
              "  </thead>\n",
              "  <tbody>\n",
              "    <tr>\n",
              "      <th>0</th>\n",
              "      <td>872</td>\n",
              "      <td>169</td>\n",
              "      <td>1041</td>\n",
              "    </tr>\n",
              "    <tr>\n",
              "      <th>1</th>\n",
              "      <td>142</td>\n",
              "      <td>226</td>\n",
              "      <td>368</td>\n",
              "    </tr>\n",
              "    <tr>\n",
              "      <th>All</th>\n",
              "      <td>1014</td>\n",
              "      <td>395</td>\n",
              "      <td>1409</td>\n",
              "    </tr>\n",
              "  </tbody>\n",
              "</table>\n",
              "</div>\n",
              "      <button class=\"colab-df-convert\" onclick=\"convertToInteractive('df-4e9d31a2-fd84-4fbe-bcf6-c813c6314c44')\"\n",
              "              title=\"Convert this dataframe to an interactive table.\"\n",
              "              style=\"display:none;\">\n",
              "        \n",
              "  <svg xmlns=\"http://www.w3.org/2000/svg\" height=\"24px\"viewBox=\"0 0 24 24\"\n",
              "       width=\"24px\">\n",
              "    <path d=\"M0 0h24v24H0V0z\" fill=\"none\"/>\n",
              "    <path d=\"M18.56 5.44l.94 2.06.94-2.06 2.06-.94-2.06-.94-.94-2.06-.94 2.06-2.06.94zm-11 1L8.5 8.5l.94-2.06 2.06-.94-2.06-.94L8.5 2.5l-.94 2.06-2.06.94zm10 10l.94 2.06.94-2.06 2.06-.94-2.06-.94-.94-2.06-.94 2.06-2.06.94z\"/><path d=\"M17.41 7.96l-1.37-1.37c-.4-.4-.92-.59-1.43-.59-.52 0-1.04.2-1.43.59L10.3 9.45l-7.72 7.72c-.78.78-.78 2.05 0 2.83L4 21.41c.39.39.9.59 1.41.59.51 0 1.02-.2 1.41-.59l7.78-7.78 2.81-2.81c.8-.78.8-2.07 0-2.86zM5.41 20L4 18.59l7.72-7.72 1.47 1.35L5.41 20z\"/>\n",
              "  </svg>\n",
              "      </button>\n",
              "      \n",
              "  <style>\n",
              "    .colab-df-container {\n",
              "      display:flex;\n",
              "      flex-wrap:wrap;\n",
              "      gap: 12px;\n",
              "    }\n",
              "\n",
              "    .colab-df-convert {\n",
              "      background-color: #E8F0FE;\n",
              "      border: none;\n",
              "      border-radius: 50%;\n",
              "      cursor: pointer;\n",
              "      display: none;\n",
              "      fill: #1967D2;\n",
              "      height: 32px;\n",
              "      padding: 0 0 0 0;\n",
              "      width: 32px;\n",
              "    }\n",
              "\n",
              "    .colab-df-convert:hover {\n",
              "      background-color: #E2EBFA;\n",
              "      box-shadow: 0px 1px 2px rgba(60, 64, 67, 0.3), 0px 1px 3px 1px rgba(60, 64, 67, 0.15);\n",
              "      fill: #174EA6;\n",
              "    }\n",
              "\n",
              "    [theme=dark] .colab-df-convert {\n",
              "      background-color: #3B4455;\n",
              "      fill: #D2E3FC;\n",
              "    }\n",
              "\n",
              "    [theme=dark] .colab-df-convert:hover {\n",
              "      background-color: #434B5C;\n",
              "      box-shadow: 0px 1px 3px 1px rgba(0, 0, 0, 0.15);\n",
              "      filter: drop-shadow(0px 1px 2px rgba(0, 0, 0, 0.3));\n",
              "      fill: #FFFFFF;\n",
              "    }\n",
              "  </style>\n",
              "\n",
              "      <script>\n",
              "        const buttonEl =\n",
              "          document.querySelector('#df-4e9d31a2-fd84-4fbe-bcf6-c813c6314c44 button.colab-df-convert');\n",
              "        buttonEl.style.display =\n",
              "          google.colab.kernel.accessAllowed ? 'block' : 'none';\n",
              "\n",
              "        async function convertToInteractive(key) {\n",
              "          const element = document.querySelector('#df-4e9d31a2-fd84-4fbe-bcf6-c813c6314c44');\n",
              "          const dataTable =\n",
              "            await google.colab.kernel.invokeFunction('convertToInteractive',\n",
              "                                                     [key], {});\n",
              "          if (!dataTable) return;\n",
              "\n",
              "          const docLinkHtml = 'Like what you see? Visit the ' +\n",
              "            '<a target=\"_blank\" href=https://colab.research.google.com/notebooks/data_table.ipynb>data table notebook</a>'\n",
              "            + ' to learn more about interactive tables.';\n",
              "          element.innerHTML = '';\n",
              "          dataTable['output_type'] = 'display_data';\n",
              "          await google.colab.output.renderOutput(dataTable, element);\n",
              "          const docLink = document.createElement('div');\n",
              "          docLink.innerHTML = docLinkHtml;\n",
              "          element.appendChild(docLink);\n",
              "        }\n",
              "      </script>\n",
              "    </div>\n",
              "  </div>\n",
              "  "
            ]
          },
          "metadata": {},
          "execution_count": 83
        }
      ],
      "source": [
        "from sklearn.ensemble import AdaBoostClassifier\n",
        "\n",
        "ada_clf = AdaBoostClassifier(random_state=9)\n",
        "ada_clf.fit(scaled_train, y_train_res)\n",
        "\n",
        "pred = ada_clf.predict(scaled_test)\n",
        "confusion_matrix(y_test,pred)\n",
        "pd.crosstab(y_test, pred, rownames=['True'], colnames=['Predicted'], margins=True)\n",
        "\n",
        "# With no hyper-parameter tuning base AdaBoostClassifier performing equal to our best model"
      ]
    },
    {
      "cell_type": "code",
      "execution_count": 84,
      "metadata": {
        "colab": {
          "base_uri": "https://localhost:8080/",
          "height": 175
        },
        "id": "C_EK4duYhHpj",
        "outputId": "b0f50427-528a-4a41-f082-355d92769bcd"
      },
      "outputs": [
        {
          "output_type": "execute_result",
          "data": {
            "text/plain": [
              "Predicted     0    1   All\n",
              "True                      \n",
              "0           883  158  1041\n",
              "1           143  225   368\n",
              "All        1026  383  1409"
            ],
            "text/html": [
              "\n",
              "  <div id=\"df-9733846b-fff5-4fdd-8977-3fde5a49cb59\">\n",
              "    <div class=\"colab-df-container\">\n",
              "      <div>\n",
              "<style scoped>\n",
              "    .dataframe tbody tr th:only-of-type {\n",
              "        vertical-align: middle;\n",
              "    }\n",
              "\n",
              "    .dataframe tbody tr th {\n",
              "        vertical-align: top;\n",
              "    }\n",
              "\n",
              "    .dataframe thead th {\n",
              "        text-align: right;\n",
              "    }\n",
              "</style>\n",
              "<table border=\"1\" class=\"dataframe\">\n",
              "  <thead>\n",
              "    <tr style=\"text-align: right;\">\n",
              "      <th>Predicted</th>\n",
              "      <th>0</th>\n",
              "      <th>1</th>\n",
              "      <th>All</th>\n",
              "    </tr>\n",
              "    <tr>\n",
              "      <th>True</th>\n",
              "      <th></th>\n",
              "      <th></th>\n",
              "      <th></th>\n",
              "    </tr>\n",
              "  </thead>\n",
              "  <tbody>\n",
              "    <tr>\n",
              "      <th>0</th>\n",
              "      <td>883</td>\n",
              "      <td>158</td>\n",
              "      <td>1041</td>\n",
              "    </tr>\n",
              "    <tr>\n",
              "      <th>1</th>\n",
              "      <td>143</td>\n",
              "      <td>225</td>\n",
              "      <td>368</td>\n",
              "    </tr>\n",
              "    <tr>\n",
              "      <th>All</th>\n",
              "      <td>1026</td>\n",
              "      <td>383</td>\n",
              "      <td>1409</td>\n",
              "    </tr>\n",
              "  </tbody>\n",
              "</table>\n",
              "</div>\n",
              "      <button class=\"colab-df-convert\" onclick=\"convertToInteractive('df-9733846b-fff5-4fdd-8977-3fde5a49cb59')\"\n",
              "              title=\"Convert this dataframe to an interactive table.\"\n",
              "              style=\"display:none;\">\n",
              "        \n",
              "  <svg xmlns=\"http://www.w3.org/2000/svg\" height=\"24px\"viewBox=\"0 0 24 24\"\n",
              "       width=\"24px\">\n",
              "    <path d=\"M0 0h24v24H0V0z\" fill=\"none\"/>\n",
              "    <path d=\"M18.56 5.44l.94 2.06.94-2.06 2.06-.94-2.06-.94-.94-2.06-.94 2.06-2.06.94zm-11 1L8.5 8.5l.94-2.06 2.06-.94-2.06-.94L8.5 2.5l-.94 2.06-2.06.94zm10 10l.94 2.06.94-2.06 2.06-.94-2.06-.94-.94-2.06-.94 2.06-2.06.94z\"/><path d=\"M17.41 7.96l-1.37-1.37c-.4-.4-.92-.59-1.43-.59-.52 0-1.04.2-1.43.59L10.3 9.45l-7.72 7.72c-.78.78-.78 2.05 0 2.83L4 21.41c.39.39.9.59 1.41.59.51 0 1.02-.2 1.41-.59l7.78-7.78 2.81-2.81c.8-.78.8-2.07 0-2.86zM5.41 20L4 18.59l7.72-7.72 1.47 1.35L5.41 20z\"/>\n",
              "  </svg>\n",
              "      </button>\n",
              "      \n",
              "  <style>\n",
              "    .colab-df-container {\n",
              "      display:flex;\n",
              "      flex-wrap:wrap;\n",
              "      gap: 12px;\n",
              "    }\n",
              "\n",
              "    .colab-df-convert {\n",
              "      background-color: #E8F0FE;\n",
              "      border: none;\n",
              "      border-radius: 50%;\n",
              "      cursor: pointer;\n",
              "      display: none;\n",
              "      fill: #1967D2;\n",
              "      height: 32px;\n",
              "      padding: 0 0 0 0;\n",
              "      width: 32px;\n",
              "    }\n",
              "\n",
              "    .colab-df-convert:hover {\n",
              "      background-color: #E2EBFA;\n",
              "      box-shadow: 0px 1px 2px rgba(60, 64, 67, 0.3), 0px 1px 3px 1px rgba(60, 64, 67, 0.15);\n",
              "      fill: #174EA6;\n",
              "    }\n",
              "\n",
              "    [theme=dark] .colab-df-convert {\n",
              "      background-color: #3B4455;\n",
              "      fill: #D2E3FC;\n",
              "    }\n",
              "\n",
              "    [theme=dark] .colab-df-convert:hover {\n",
              "      background-color: #434B5C;\n",
              "      box-shadow: 0px 1px 3px 1px rgba(0, 0, 0, 0.15);\n",
              "      filter: drop-shadow(0px 1px 2px rgba(0, 0, 0, 0.3));\n",
              "      fill: #FFFFFF;\n",
              "    }\n",
              "  </style>\n",
              "\n",
              "      <script>\n",
              "        const buttonEl =\n",
              "          document.querySelector('#df-9733846b-fff5-4fdd-8977-3fde5a49cb59 button.colab-df-convert');\n",
              "        buttonEl.style.display =\n",
              "          google.colab.kernel.accessAllowed ? 'block' : 'none';\n",
              "\n",
              "        async function convertToInteractive(key) {\n",
              "          const element = document.querySelector('#df-9733846b-fff5-4fdd-8977-3fde5a49cb59');\n",
              "          const dataTable =\n",
              "            await google.colab.kernel.invokeFunction('convertToInteractive',\n",
              "                                                     [key], {});\n",
              "          if (!dataTable) return;\n",
              "\n",
              "          const docLinkHtml = 'Like what you see? Visit the ' +\n",
              "            '<a target=\"_blank\" href=https://colab.research.google.com/notebooks/data_table.ipynb>data table notebook</a>'\n",
              "            + ' to learn more about interactive tables.';\n",
              "          element.innerHTML = '';\n",
              "          dataTable['output_type'] = 'display_data';\n",
              "          await google.colab.output.renderOutput(dataTable, element);\n",
              "          const docLink = document.createElement('div');\n",
              "          docLink.innerHTML = docLinkHtml;\n",
              "          element.appendChild(docLink);\n",
              "        }\n",
              "      </script>\n",
              "    </div>\n",
              "  </div>\n",
              "  "
            ]
          },
          "metadata": {},
          "execution_count": 84
        }
      ],
      "source": [
        "ada_clf_1 = AdaBoostClassifier(n_estimators=200, learning_rate=0.5, random_state=9, algorithm='SAMME.R')\n",
        "ada_clf_1.fit(scaled_train, y_train_res)\n",
        "\n",
        "pred1 = ada_clf_1.predict(scaled_test)\n",
        "confusion_matrix(y_test,pred1)\n",
        "pd.crosstab(y_test, pred1, rownames=['True'], colnames=['Predicted'], margins=True)"
      ]
    },
    {
      "cell_type": "markdown",
      "metadata": {
        "id": "dP_6luQFi9O8"
      },
      "source": [
        "1. Logistic regression model, which is overall slightly better performer in terms of predicting churners\n",
        " but it's miss-classification rate is too high. \n",
        "2. Random Forest Model whose miss-classification rate for predicting churners is 3rd lowest and also overall mis-classification rate is also low.\n",
        "3. Ada Boost Model whose miss-classification rate for predicting churners is 2nd lowest and also overall mis-classification rate is also lowest.\n",
        "Till this point, we have AdaBoostClassifier as best\n",
        "model with miss-classification of 351 points in total.\n",
        "\n",
        "We proceed with adaboost model for our model deployment\n"
      ]
    },
    {
      "cell_type": "code",
      "execution_count": 85,
      "metadata": {
        "id": "dHUr1SWmmr0s"
      },
      "outputs": [],
      "source": [
        "import pickle\n",
        "# Lets dump our Adaboost model\n",
        "pickle.dump(ada_clf_1, open('adaboost.pkl','wb'))"
      ]
    }
  ],
  "metadata": {
    "colab": {
      "collapsed_sections": [],
      "name": "Data_exploration.ipynb",
      "provenance": []
    },
    "kernelspec": {
      "display_name": "Python 3",
      "name": "python3"
    },
    "language_info": {
      "name": "python"
    }
  },
  "nbformat": 4,
  "nbformat_minor": 0
}